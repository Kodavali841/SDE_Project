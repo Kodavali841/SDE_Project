{
  "nbformat": 4,
  "nbformat_minor": 0,
  "metadata": {
    "kernelspec": {
      "display_name": "Python 3",
      "language": "python",
      "name": "python3"
    },
    "language_info": {
      "codemirror_mode": {
        "name": "ipython",
        "version": 3
      },
      "file_extension": ".py",
      "mimetype": "text/x-python",
      "name": "python",
      "nbconvert_exporter": "python",
      "pygments_lexer": "ipython3",
      "version": "3.7.4"
    },
    "toc": {
      "base_numbering": 1,
      "nav_menu": {},
      "number_sections": true,
      "sideBar": true,
      "skip_h1_title": false,
      "title_cell": "Table of Contents",
      "title_sidebar": "Contents",
      "toc_cell": false,
      "toc_position": {},
      "toc_section_display": true,
      "toc_window_display": false
    },
    "colab": {
      "name": "Findings.ipynb",
      "provenance": [],
      "collapsed_sections": [
        "B43z8t9wcNoL",
        "WPigHvshcNuI",
        "h_hM90-VcNw3"
      ]
    }
  },
  "cells": [
    {
      "cell_type": "markdown",
      "metadata": {
        "id": "view-in-github"
      },
      "source": [
        "<a href=\"https://colab.research.google.com/github/dimi-fn/Google-Playstore-Apps/blob/master/Google_playstore.ipynb\" target=\"_parent\"><img src=\"https://colab.research.google.com/assets/colab-badge.svg\" alt=\"Open In Colab\"/></a>"
      ]
    },
    {
      "cell_type": "code",
      "metadata": {
        "id": "OoH1VXsjcNlm"
      },
      "source": [
        "import pandas as pd\n",
        "import numpy as np\n",
        "import seaborn as sns\n",
        "import matplotlib.pyplot as plt"
      ],
      "execution_count": 3,
      "outputs": []
    },
    {
      "cell_type": "code",
      "metadata": {
        "id": "WFioYw7OcNl9"
      },
      "source": [
        "app = pd.read_csv('/content/Google-Playstore-32K.csv') "
      ],
      "execution_count": 4,
      "outputs": []
    },
    {
      "cell_type": "code",
      "metadata": {
        "id": "9APotmTVcNmN",
        "colab": {
          "base_uri": "https://localhost:8080/",
          "height": 406
        },
        "outputId": "19639ca7-1f6b-48f3-d7c3-082b6ef68fd8"
      },
      "source": [
        "app.head()"
      ],
      "execution_count": 5,
      "outputs": [
        {
          "output_type": "execute_result",
          "data": {
            "text/plain": [
              "                                            App Name          Category  \\\n",
              "0                           DoorDash - Food Delivery    FOOD_AND_DRINK   \n",
              "1  TripAdvisor Hotels Flights Restaurants Attract...  TRAVEL_AND_LOCAL   \n",
              "2                                             Peapod          SHOPPING   \n",
              "3                    foodpanda - Local Food Delivery    FOOD_AND_DRINK   \n",
              "4                          My CookBook Pro (Ad Free)    FOOD_AND_DRINK   \n",
              "\n",
              "        Rating    Reviews      Installs                Size  Price  \\\n",
              "0  4.548561573   305034.0    5,000,000+  Varies with device      0   \n",
              "1  4.400671482  1207922.0  100,000,000+  Varies with device      0   \n",
              "2  3.656329393     1967.0      100,000+                1.4M      0   \n",
              "3  4.107232571   389154.0   10,000,000+                 16M      0   \n",
              "4  4.647752285     2291.0       10,000+  Varies with device  $5.99   \n",
              "\n",
              "  Content Rating        Last Updated     Minimum Version      Latest Version  \n",
              "0       Everyone      March 29, 2019  Varies with device  Varies with device  \n",
              "1       Everyone      March 29, 2019  Varies with device  Varies with device  \n",
              "2       Everyone  September 20, 2018          5.0 and up               2.2.0  \n",
              "3       Everyone      March 22, 2019          4.2 and up              4.18.2  \n",
              "4       Everyone       April 1, 2019  Varies with device  Varies with device  "
            ],
            "text/html": [
              "\n",
              "  <div id=\"df-442974bd-9732-4b06-93ec-165d1bb1bc93\">\n",
              "    <div class=\"colab-df-container\">\n",
              "      <div>\n",
              "<style scoped>\n",
              "    .dataframe tbody tr th:only-of-type {\n",
              "        vertical-align: middle;\n",
              "    }\n",
              "\n",
              "    .dataframe tbody tr th {\n",
              "        vertical-align: top;\n",
              "    }\n",
              "\n",
              "    .dataframe thead th {\n",
              "        text-align: right;\n",
              "    }\n",
              "</style>\n",
              "<table border=\"1\" class=\"dataframe\">\n",
              "  <thead>\n",
              "    <tr style=\"text-align: right;\">\n",
              "      <th></th>\n",
              "      <th>App Name</th>\n",
              "      <th>Category</th>\n",
              "      <th>Rating</th>\n",
              "      <th>Reviews</th>\n",
              "      <th>Installs</th>\n",
              "      <th>Size</th>\n",
              "      <th>Price</th>\n",
              "      <th>Content Rating</th>\n",
              "      <th>Last Updated</th>\n",
              "      <th>Minimum Version</th>\n",
              "      <th>Latest Version</th>\n",
              "    </tr>\n",
              "  </thead>\n",
              "  <tbody>\n",
              "    <tr>\n",
              "      <th>0</th>\n",
              "      <td>DoorDash - Food Delivery</td>\n",
              "      <td>FOOD_AND_DRINK</td>\n",
              "      <td>4.548561573</td>\n",
              "      <td>305034.0</td>\n",
              "      <td>5,000,000+</td>\n",
              "      <td>Varies with device</td>\n",
              "      <td>0</td>\n",
              "      <td>Everyone</td>\n",
              "      <td>March 29, 2019</td>\n",
              "      <td>Varies with device</td>\n",
              "      <td>Varies with device</td>\n",
              "    </tr>\n",
              "    <tr>\n",
              "      <th>1</th>\n",
              "      <td>TripAdvisor Hotels Flights Restaurants Attract...</td>\n",
              "      <td>TRAVEL_AND_LOCAL</td>\n",
              "      <td>4.400671482</td>\n",
              "      <td>1207922.0</td>\n",
              "      <td>100,000,000+</td>\n",
              "      <td>Varies with device</td>\n",
              "      <td>0</td>\n",
              "      <td>Everyone</td>\n",
              "      <td>March 29, 2019</td>\n",
              "      <td>Varies with device</td>\n",
              "      <td>Varies with device</td>\n",
              "    </tr>\n",
              "    <tr>\n",
              "      <th>2</th>\n",
              "      <td>Peapod</td>\n",
              "      <td>SHOPPING</td>\n",
              "      <td>3.656329393</td>\n",
              "      <td>1967.0</td>\n",
              "      <td>100,000+</td>\n",
              "      <td>1.4M</td>\n",
              "      <td>0</td>\n",
              "      <td>Everyone</td>\n",
              "      <td>September 20, 2018</td>\n",
              "      <td>5.0 and up</td>\n",
              "      <td>2.2.0</td>\n",
              "    </tr>\n",
              "    <tr>\n",
              "      <th>3</th>\n",
              "      <td>foodpanda - Local Food Delivery</td>\n",
              "      <td>FOOD_AND_DRINK</td>\n",
              "      <td>4.107232571</td>\n",
              "      <td>389154.0</td>\n",
              "      <td>10,000,000+</td>\n",
              "      <td>16M</td>\n",
              "      <td>0</td>\n",
              "      <td>Everyone</td>\n",
              "      <td>March 22, 2019</td>\n",
              "      <td>4.2 and up</td>\n",
              "      <td>4.18.2</td>\n",
              "    </tr>\n",
              "    <tr>\n",
              "      <th>4</th>\n",
              "      <td>My CookBook Pro (Ad Free)</td>\n",
              "      <td>FOOD_AND_DRINK</td>\n",
              "      <td>4.647752285</td>\n",
              "      <td>2291.0</td>\n",
              "      <td>10,000+</td>\n",
              "      <td>Varies with device</td>\n",
              "      <td>$5.99</td>\n",
              "      <td>Everyone</td>\n",
              "      <td>April 1, 2019</td>\n",
              "      <td>Varies with device</td>\n",
              "      <td>Varies with device</td>\n",
              "    </tr>\n",
              "  </tbody>\n",
              "</table>\n",
              "</div>\n",
              "      <button class=\"colab-df-convert\" onclick=\"convertToInteractive('df-442974bd-9732-4b06-93ec-165d1bb1bc93')\"\n",
              "              title=\"Convert this dataframe to an interactive table.\"\n",
              "              style=\"display:none;\">\n",
              "        \n",
              "  <svg xmlns=\"http://www.w3.org/2000/svg\" height=\"24px\"viewBox=\"0 0 24 24\"\n",
              "       width=\"24px\">\n",
              "    <path d=\"M0 0h24v24H0V0z\" fill=\"none\"/>\n",
              "    <path d=\"M18.56 5.44l.94 2.06.94-2.06 2.06-.94-2.06-.94-.94-2.06-.94 2.06-2.06.94zm-11 1L8.5 8.5l.94-2.06 2.06-.94-2.06-.94L8.5 2.5l-.94 2.06-2.06.94zm10 10l.94 2.06.94-2.06 2.06-.94-2.06-.94-.94-2.06-.94 2.06-2.06.94z\"/><path d=\"M17.41 7.96l-1.37-1.37c-.4-.4-.92-.59-1.43-.59-.52 0-1.04.2-1.43.59L10.3 9.45l-7.72 7.72c-.78.78-.78 2.05 0 2.83L4 21.41c.39.39.9.59 1.41.59.51 0 1.02-.2 1.41-.59l7.78-7.78 2.81-2.81c.8-.78.8-2.07 0-2.86zM5.41 20L4 18.59l7.72-7.72 1.47 1.35L5.41 20z\"/>\n",
              "  </svg>\n",
              "      </button>\n",
              "      \n",
              "  <style>\n",
              "    .colab-df-container {\n",
              "      display:flex;\n",
              "      flex-wrap:wrap;\n",
              "      gap: 12px;\n",
              "    }\n",
              "\n",
              "    .colab-df-convert {\n",
              "      background-color: #E8F0FE;\n",
              "      border: none;\n",
              "      border-radius: 50%;\n",
              "      cursor: pointer;\n",
              "      display: none;\n",
              "      fill: #1967D2;\n",
              "      height: 32px;\n",
              "      padding: 0 0 0 0;\n",
              "      width: 32px;\n",
              "    }\n",
              "\n",
              "    .colab-df-convert:hover {\n",
              "      background-color: #E2EBFA;\n",
              "      box-shadow: 0px 1px 2px rgba(60, 64, 67, 0.3), 0px 1px 3px 1px rgba(60, 64, 67, 0.15);\n",
              "      fill: #174EA6;\n",
              "    }\n",
              "\n",
              "    [theme=dark] .colab-df-convert {\n",
              "      background-color: #3B4455;\n",
              "      fill: #D2E3FC;\n",
              "    }\n",
              "\n",
              "    [theme=dark] .colab-df-convert:hover {\n",
              "      background-color: #434B5C;\n",
              "      box-shadow: 0px 1px 3px 1px rgba(0, 0, 0, 0.15);\n",
              "      filter: drop-shadow(0px 1px 2px rgba(0, 0, 0, 0.3));\n",
              "      fill: #FFFFFF;\n",
              "    }\n",
              "  </style>\n",
              "\n",
              "      <script>\n",
              "        const buttonEl =\n",
              "          document.querySelector('#df-442974bd-9732-4b06-93ec-165d1bb1bc93 button.colab-df-convert');\n",
              "        buttonEl.style.display =\n",
              "          google.colab.kernel.accessAllowed ? 'block' : 'none';\n",
              "\n",
              "        async function convertToInteractive(key) {\n",
              "          const element = document.querySelector('#df-442974bd-9732-4b06-93ec-165d1bb1bc93');\n",
              "          const dataTable =\n",
              "            await google.colab.kernel.invokeFunction('convertToInteractive',\n",
              "                                                     [key], {});\n",
              "          if (!dataTable) return;\n",
              "\n",
              "          const docLinkHtml = 'Like what you see? Visit the ' +\n",
              "            '<a target=\"_blank\" href=https://colab.research.google.com/notebooks/data_table.ipynb>data table notebook</a>'\n",
              "            + ' to learn more about interactive tables.';\n",
              "          element.innerHTML = '';\n",
              "          dataTable['output_type'] = 'display_data';\n",
              "          await google.colab.output.renderOutput(dataTable, element);\n",
              "          const docLink = document.createElement('div');\n",
              "          docLink.innerHTML = docLinkHtml;\n",
              "          element.appendChild(docLink);\n",
              "        }\n",
              "      </script>\n",
              "    </div>\n",
              "  </div>\n",
              "  "
            ]
          },
          "metadata": {},
          "execution_count": 5
        }
      ]
    },
    {
      "cell_type": "code",
      "metadata": {
        "id": "E02DdjQjcNma",
        "colab": {
          "base_uri": "https://localhost:8080/"
        },
        "outputId": "f841618a-eafd-4f61-e9a1-0f72e713b5b2"
      },
      "source": [
        "app.shape"
      ],
      "execution_count": 6,
      "outputs": [
        {
          "output_type": "execute_result",
          "data": {
            "text/plain": [
              "(32000, 11)"
            ]
          },
          "metadata": {},
          "execution_count": 6
        }
      ]
    },
    {
      "cell_type": "code",
      "metadata": {
        "id": "HA20SY8OcNmv",
        "colab": {
          "base_uri": "https://localhost:8080/"
        },
        "outputId": "ad5664c3-e22a-4152-c363-8d937e143d1c"
      },
      "source": [
        "# Number of app categories\n",
        "app[\"Category\"].nunique()"
      ],
      "execution_count": 7,
      "outputs": [
        {
          "output_type": "execute_result",
          "data": {
            "text/plain": [
              "52"
            ]
          },
          "metadata": {},
          "execution_count": 7
        }
      ]
    },
    {
      "cell_type": "code",
      "metadata": {
        "id": "XVmwIoE4cNm1",
        "colab": {
          "base_uri": "https://localhost:8080/"
        },
        "outputId": "fb9b8430-c095-4402-85c0-1f680ff91c1e"
      },
      "source": [
        "# The app categories\n",
        "app.Category.unique()"
      ],
      "execution_count": 8,
      "outputs": [
        {
          "output_type": "execute_result",
          "data": {
            "text/plain": [
              "array(['FOOD_AND_DRINK', 'TRAVEL_AND_LOCAL', 'SHOPPING', 'LIFESTYLE',\n",
              "       'GAME_ACTION', 'GAME_CASUAL', 'GAME_ROLE_PLAYING', 'GAME_PUZZLE',\n",
              "       'GAME_RACING', 'GAME_ADVENTURE', 'GAME_ARCADE', 'GAME_STRATEGY',\n",
              "       'GAME_SPORTS', 'GAME_SIMULATION', 'GAME_MUSIC', 'MUSIC_AND_AUDIO',\n",
              "       'FINANCE', 'EVENTS', 'ENTERTAINMENT', 'EDUCATION',\n",
              "       'GAME_EDUCATIONAL', 'BOOKS_AND_REFERENCE', 'NEWS_AND_MAGAZINES',\n",
              "       'PHOTOGRAPHY', 'VIDEO_PLAYERS', 'GAME_WORD', 'ART_AND_DESIGN',\n",
              "       'GAME_TRIVIA', 'GAME_BOARD', 'BUSINESS', 'PRODUCTIVITY',\n",
              "       'COMMUNICATION', 'HEALTH_AND_FITNESS', 'HOUSE_AND_HOME', 'SOCIAL',\n",
              "       'BEAUTY', 'GAME_CASINO', 'MAPS_AND_NAVIGATION', 'PERSONALIZATION',\n",
              "       'GAME_CARD', 'TOOLS', 'SPORTS', 'AUTO_AND_VEHICLES',\n",
              "       'LIBRARIES_AND_DEMO', 'COMICS', 'PARENTING', 'DATING', 'WEATHER',\n",
              "       'MEDICAL', ' Podcasts', ')', ' Channel 2 News'], dtype=object)"
            ]
          },
          "metadata": {},
          "execution_count": 8
        }
      ]
    },
    {
      "cell_type": "code",
      "metadata": {
        "id": "y3Xqj1jvcNm7",
        "colab": {
          "base_uri": "https://localhost:8080/"
        },
        "outputId": "62988c13-b8bd-4061-8d26-02e4dc12841d"
      },
      "source": [
        "# Viewing the number of classes (gradation) of the number of installations\n",
        "app[\"Installs\"].nunique()"
      ],
      "execution_count": 9,
      "outputs": [
        {
          "output_type": "execute_result",
          "data": {
            "text/plain": [
              "24"
            ]
          },
          "metadata": {},
          "execution_count": 9
        }
      ]
    },
    {
      "cell_type": "code",
      "metadata": {
        "id": "NljuZ3SZcNnA",
        "colab": {
          "base_uri": "https://localhost:8080/"
        },
        "outputId": "3f53240e-38fb-4ec8-c5dd-aeb295f8445d"
      },
      "source": [
        "app.Installs.unique()"
      ],
      "execution_count": 10,
      "outputs": [
        {
          "output_type": "execute_result",
          "data": {
            "text/plain": [
              "array(['5,000,000+', '100,000,000+', '100,000+', '10,000,000+', '10,000+',\n",
              "       '1,000,000+', '50,000,000+', '500,000+', '50,000+', '5,000+',\n",
              "       '1,000+', '500,000,000+', '1,000,000,000+', '5,000,000,000+',\n",
              "       '100+', '500+', '50+', '5+', '10+', '1+', 'EDUCATION', '6',\n",
              "       '11976', '0+'], dtype=object)"
            ]
          },
          "metadata": {},
          "execution_count": 10
        }
      ]
    },
    {
      "cell_type": "code",
      "metadata": {
        "id": "28KOeszWcNnG",
        "colab": {
          "base_uri": "https://localhost:8080/"
        },
        "outputId": "969b6180-5bcf-4a11-c226-c551cf85fe81"
      },
      "source": [
        "# There are a lot of app sizes\n",
        "app[\"Size\"].nunique()"
      ],
      "execution_count": 11,
      "outputs": [
        {
          "output_type": "execute_result",
          "data": {
            "text/plain": [
              "579"
            ]
          },
          "metadata": {},
          "execution_count": 11
        }
      ]
    },
    {
      "cell_type": "code",
      "metadata": {
        "id": "lvudevvTcNnL",
        "colab": {
          "base_uri": "https://localhost:8080/"
        },
        "outputId": "7873bb6f-a70a-4d17-a2d7-a6141278c729"
      },
      "source": [
        "# Viewing the content rating; who is permitted to download these apps\n",
        "app[\"Content Rating\"].unique()"
      ],
      "execution_count": 12,
      "outputs": [
        {
          "output_type": "execute_result",
          "data": {
            "text/plain": [
              "array(['Everyone', 'Teen', 'Everyone 10+', 'Mature 17+',\n",
              "       'Adults only 18+', '100,000+', 'Unrated', '$0.99', '0'],\n",
              "      dtype=object)"
            ]
          },
          "metadata": {},
          "execution_count": 12
        }
      ]
    },
    {
      "cell_type": "code",
      "metadata": {
        "id": "Cvfx6vSGcNnU",
        "colab": {
          "base_uri": "https://localhost:8080/"
        },
        "outputId": "84232fcc-4cd8-456f-974d-bce6e4a2d5f4"
      },
      "source": [
        "# the number of categories of the age content rating\n",
        "len(app[\"Content Rating\"].unique())"
      ],
      "execution_count": 13,
      "outputs": [
        {
          "output_type": "execute_result",
          "data": {
            "text/plain": [
              "9"
            ]
          },
          "metadata": {},
          "execution_count": 13
        }
      ]
    },
    {
      "cell_type": "code",
      "metadata": {
        "id": "gLnpt3WucNnc",
        "colab": {
          "base_uri": "https://localhost:8080/"
        },
        "outputId": "e50fd646-e8fe-49bd-c753-feda8c18dfb7"
      },
      "source": [
        "app.isnull().sum()"
      ],
      "execution_count": 14,
      "outputs": [
        {
          "output_type": "execute_result",
          "data": {
            "text/plain": [
              "App Name           0\n",
              "Category           0\n",
              "Rating             0\n",
              "Reviews            1\n",
              "Installs           0\n",
              "Size               0\n",
              "Price              0\n",
              "Content Rating     0\n",
              "Last Updated       0\n",
              "Minimum Version    0\n",
              "Latest Version     1\n",
              "dtype: int64"
            ]
          },
          "metadata": {},
          "execution_count": 14
        }
      ]
    },
    {
      "cell_type": "code",
      "metadata": {
        "id": "HrUVGyAycNnh",
        "colab": {
          "base_uri": "https://localhost:8080/"
        },
        "outputId": "84d51cc3-fb4f-4c9f-c1ac-cb7d4c2eef9c"
      },
      "source": [
        "# There are totally 11 empty data entries which will be dropped\n",
        "len(app.isnull().sum())"
      ],
      "execution_count": 15,
      "outputs": [
        {
          "output_type": "execute_result",
          "data": {
            "text/plain": [
              "11"
            ]
          },
          "metadata": {},
          "execution_count": 15
        }
      ]
    },
    {
      "cell_type": "code",
      "metadata": {
        "id": "a0X_YNCUcNnm"
      },
      "source": [
        "# Dropping the entries where there are missing values\n",
        "app=app.dropna()"
      ],
      "execution_count": 16,
      "outputs": []
    },
    {
      "cell_type": "code",
      "metadata": {
        "id": "uqfcZu5PcNnt",
        "colab": {
          "base_uri": "https://localhost:8080/"
        },
        "outputId": "c714d82e-2a9c-42fb-adc8-671f76d95589"
      },
      "source": [
        "app.isnull().any()\n",
        "# False for every category means that there are no longer missing values"
      ],
      "execution_count": 17,
      "outputs": [
        {
          "output_type": "execute_result",
          "data": {
            "text/plain": [
              "App Name           False\n",
              "Category           False\n",
              "Rating             False\n",
              "Reviews            False\n",
              "Installs           False\n",
              "Size               False\n",
              "Price              False\n",
              "Content Rating     False\n",
              "Last Updated       False\n",
              "Minimum Version    False\n",
              "Latest Version     False\n",
              "dtype: bool"
            ]
          },
          "metadata": {},
          "execution_count": 17
        }
      ]
    },
    {
      "cell_type": "code",
      "metadata": {
        "id": "bpQlTWeCcNn1",
        "colab": {
          "base_uri": "https://localhost:8080/"
        },
        "outputId": "e2992096-30e9-4fc8-c92e-5e79ee9c9d36"
      },
      "source": [
        "# Ensuring there are no missing values in any column, in any data of every column\n",
        "app.isnull().any().any()"
      ],
      "execution_count": 18,
      "outputs": [
        {
          "output_type": "execute_result",
          "data": {
            "text/plain": [
              "False"
            ]
          },
          "metadata": {},
          "execution_count": 18
        }
      ]
    },
    {
      "cell_type": "markdown",
      "metadata": {
        "id": "B43z8t9wcNoL"
      },
      "source": [
        "# Cleaning of the Data - Exploring and Managing the Data"
      ]
    },
    {
      "cell_type": "code",
      "metadata": {
        "id": "kD2YJZdgcNoM",
        "colab": {
          "base_uri": "https://localhost:8080/",
          "height": 0
        },
        "outputId": "ad226403-6405-4c53-d436-4d181baba7b4"
      },
      "source": [
        "# Start of cleaning\n",
        "# There were given some commands to locate any invalid data\n",
        "# I noticed that are some misplacing, e.g. here, \"4\" should move to \"Rating\", and \"GAME_STRATEGY\" should move to \"Category\"\n",
        "\n",
        "# Wherever the data are misplaced but valid, the data will be kept and edited (correcting the entry positions)\n",
        "# Wherever the data are misplaced and invalid too (with lot's of mistakes), the data will be removed\n",
        "\n",
        "app[app[\"Rating\"]== \"GAME_STRATEGY\"]"
      ],
      "execution_count": 19,
      "outputs": [
        {
          "output_type": "execute_result",
          "data": {
            "text/plain": [
              "                     App Name Category         Rating  Reviews Installs  Size  \\\n",
              "13504  Never have I ever 18+         )  GAME_STRATEGY      4.0        6  100+   \n",
              "\n",
              "      Price Content Rating Last Updated    Minimum Version Latest Version  \n",
              "13504  2.4M          $0.99   Mature 17+  December 30, 2018   4.0.3 and up  "
            ],
            "text/html": [
              "\n",
              "  <div id=\"df-1cdad33c-029b-430a-abf5-4486509c50a7\">\n",
              "    <div class=\"colab-df-container\">\n",
              "      <div>\n",
              "<style scoped>\n",
              "    .dataframe tbody tr th:only-of-type {\n",
              "        vertical-align: middle;\n",
              "    }\n",
              "\n",
              "    .dataframe tbody tr th {\n",
              "        vertical-align: top;\n",
              "    }\n",
              "\n",
              "    .dataframe thead th {\n",
              "        text-align: right;\n",
              "    }\n",
              "</style>\n",
              "<table border=\"1\" class=\"dataframe\">\n",
              "  <thead>\n",
              "    <tr style=\"text-align: right;\">\n",
              "      <th></th>\n",
              "      <th>App Name</th>\n",
              "      <th>Category</th>\n",
              "      <th>Rating</th>\n",
              "      <th>Reviews</th>\n",
              "      <th>Installs</th>\n",
              "      <th>Size</th>\n",
              "      <th>Price</th>\n",
              "      <th>Content Rating</th>\n",
              "      <th>Last Updated</th>\n",
              "      <th>Minimum Version</th>\n",
              "      <th>Latest Version</th>\n",
              "    </tr>\n",
              "  </thead>\n",
              "  <tbody>\n",
              "    <tr>\n",
              "      <th>13504</th>\n",
              "      <td>Never have I ever 18+</td>\n",
              "      <td>)</td>\n",
              "      <td>GAME_STRATEGY</td>\n",
              "      <td>4.0</td>\n",
              "      <td>6</td>\n",
              "      <td>100+</td>\n",
              "      <td>2.4M</td>\n",
              "      <td>$0.99</td>\n",
              "      <td>Mature 17+</td>\n",
              "      <td>December 30, 2018</td>\n",
              "      <td>4.0.3 and up</td>\n",
              "    </tr>\n",
              "  </tbody>\n",
              "</table>\n",
              "</div>\n",
              "      <button class=\"colab-df-convert\" onclick=\"convertToInteractive('df-1cdad33c-029b-430a-abf5-4486509c50a7')\"\n",
              "              title=\"Convert this dataframe to an interactive table.\"\n",
              "              style=\"display:none;\">\n",
              "        \n",
              "  <svg xmlns=\"http://www.w3.org/2000/svg\" height=\"24px\"viewBox=\"0 0 24 24\"\n",
              "       width=\"24px\">\n",
              "    <path d=\"M0 0h24v24H0V0z\" fill=\"none\"/>\n",
              "    <path d=\"M18.56 5.44l.94 2.06.94-2.06 2.06-.94-2.06-.94-.94-2.06-.94 2.06-2.06.94zm-11 1L8.5 8.5l.94-2.06 2.06-.94-2.06-.94L8.5 2.5l-.94 2.06-2.06.94zm10 10l.94 2.06.94-2.06 2.06-.94-2.06-.94-.94-2.06-.94 2.06-2.06.94z\"/><path d=\"M17.41 7.96l-1.37-1.37c-.4-.4-.92-.59-1.43-.59-.52 0-1.04.2-1.43.59L10.3 9.45l-7.72 7.72c-.78.78-.78 2.05 0 2.83L4 21.41c.39.39.9.59 1.41.59.51 0 1.02-.2 1.41-.59l7.78-7.78 2.81-2.81c.8-.78.8-2.07 0-2.86zM5.41 20L4 18.59l7.72-7.72 1.47 1.35L5.41 20z\"/>\n",
              "  </svg>\n",
              "      </button>\n",
              "      \n",
              "  <style>\n",
              "    .colab-df-container {\n",
              "      display:flex;\n",
              "      flex-wrap:wrap;\n",
              "      gap: 12px;\n",
              "    }\n",
              "\n",
              "    .colab-df-convert {\n",
              "      background-color: #E8F0FE;\n",
              "      border: none;\n",
              "      border-radius: 50%;\n",
              "      cursor: pointer;\n",
              "      display: none;\n",
              "      fill: #1967D2;\n",
              "      height: 32px;\n",
              "      padding: 0 0 0 0;\n",
              "      width: 32px;\n",
              "    }\n",
              "\n",
              "    .colab-df-convert:hover {\n",
              "      background-color: #E2EBFA;\n",
              "      box-shadow: 0px 1px 2px rgba(60, 64, 67, 0.3), 0px 1px 3px 1px rgba(60, 64, 67, 0.15);\n",
              "      fill: #174EA6;\n",
              "    }\n",
              "\n",
              "    [theme=dark] .colab-df-convert {\n",
              "      background-color: #3B4455;\n",
              "      fill: #D2E3FC;\n",
              "    }\n",
              "\n",
              "    [theme=dark] .colab-df-convert:hover {\n",
              "      background-color: #434B5C;\n",
              "      box-shadow: 0px 1px 3px 1px rgba(0, 0, 0, 0.15);\n",
              "      filter: drop-shadow(0px 1px 2px rgba(0, 0, 0, 0.3));\n",
              "      fill: #FFFFFF;\n",
              "    }\n",
              "  </style>\n",
              "\n",
              "      <script>\n",
              "        const buttonEl =\n",
              "          document.querySelector('#df-1cdad33c-029b-430a-abf5-4486509c50a7 button.colab-df-convert');\n",
              "        buttonEl.style.display =\n",
              "          google.colab.kernel.accessAllowed ? 'block' : 'none';\n",
              "\n",
              "        async function convertToInteractive(key) {\n",
              "          const element = document.querySelector('#df-1cdad33c-029b-430a-abf5-4486509c50a7');\n",
              "          const dataTable =\n",
              "            await google.colab.kernel.invokeFunction('convertToInteractive',\n",
              "                                                     [key], {});\n",
              "          if (!dataTable) return;\n",
              "\n",
              "          const docLinkHtml = 'Like what you see? Visit the ' +\n",
              "            '<a target=\"_blank\" href=https://colab.research.google.com/notebooks/data_table.ipynb>data table notebook</a>'\n",
              "            + ' to learn more about interactive tables.';\n",
              "          element.innerHTML = '';\n",
              "          dataTable['output_type'] = 'display_data';\n",
              "          await google.colab.output.renderOutput(dataTable, element);\n",
              "          const docLink = document.createElement('div');\n",
              "          docLink.innerHTML = docLinkHtml;\n",
              "          element.appendChild(docLink);\n",
              "        }\n",
              "      </script>\n",
              "    </div>\n",
              "  </div>\n",
              "  "
            ]
          },
          "metadata": {},
          "execution_count": 19
        }
      ]
    },
    {
      "cell_type": "code",
      "metadata": {
        "id": "qo2w_7utcNoQ"
      },
      "source": [
        "# dropping the invalid entry\n",
        "\n",
        "app.drop(index=13504, inplace=True)  "
      ],
      "execution_count": 20,
      "outputs": []
    },
    {
      "cell_type": "code",
      "metadata": {
        "id": "K1jtvbd2cNoU",
        "colab": {
          "base_uri": "https://localhost:8080/",
          "height": 0
        },
        "outputId": "23a1e85b-4895-4bdc-afa3-7c2e790ad516"
      },
      "source": [
        "# Now the column \"Rating\" is fixed\n",
        "\n",
        "app[app[\"Rating\"]== \"GAME_STRATEGY\"]"
      ],
      "execution_count": 21,
      "outputs": [
        {
          "output_type": "execute_result",
          "data": {
            "text/plain": [
              "Empty DataFrame\n",
              "Columns: [App Name, Category, Rating, Reviews, Installs, Size, Price, Content Rating, Last Updated, Minimum Version, Latest Version]\n",
              "Index: []"
            ],
            "text/html": [
              "\n",
              "  <div id=\"df-24743ab4-7c97-4dbf-90e6-65d971d03dda\">\n",
              "    <div class=\"colab-df-container\">\n",
              "      <div>\n",
              "<style scoped>\n",
              "    .dataframe tbody tr th:only-of-type {\n",
              "        vertical-align: middle;\n",
              "    }\n",
              "\n",
              "    .dataframe tbody tr th {\n",
              "        vertical-align: top;\n",
              "    }\n",
              "\n",
              "    .dataframe thead th {\n",
              "        text-align: right;\n",
              "    }\n",
              "</style>\n",
              "<table border=\"1\" class=\"dataframe\">\n",
              "  <thead>\n",
              "    <tr style=\"text-align: right;\">\n",
              "      <th></th>\n",
              "      <th>App Name</th>\n",
              "      <th>Category</th>\n",
              "      <th>Rating</th>\n",
              "      <th>Reviews</th>\n",
              "      <th>Installs</th>\n",
              "      <th>Size</th>\n",
              "      <th>Price</th>\n",
              "      <th>Content Rating</th>\n",
              "      <th>Last Updated</th>\n",
              "      <th>Minimum Version</th>\n",
              "      <th>Latest Version</th>\n",
              "    </tr>\n",
              "  </thead>\n",
              "  <tbody>\n",
              "  </tbody>\n",
              "</table>\n",
              "</div>\n",
              "      <button class=\"colab-df-convert\" onclick=\"convertToInteractive('df-24743ab4-7c97-4dbf-90e6-65d971d03dda')\"\n",
              "              title=\"Convert this dataframe to an interactive table.\"\n",
              "              style=\"display:none;\">\n",
              "        \n",
              "  <svg xmlns=\"http://www.w3.org/2000/svg\" height=\"24px\"viewBox=\"0 0 24 24\"\n",
              "       width=\"24px\">\n",
              "    <path d=\"M0 0h24v24H0V0z\" fill=\"none\"/>\n",
              "    <path d=\"M18.56 5.44l.94 2.06.94-2.06 2.06-.94-2.06-.94-.94-2.06-.94 2.06-2.06.94zm-11 1L8.5 8.5l.94-2.06 2.06-.94-2.06-.94L8.5 2.5l-.94 2.06-2.06.94zm10 10l.94 2.06.94-2.06 2.06-.94-2.06-.94-.94-2.06-.94 2.06-2.06.94z\"/><path d=\"M17.41 7.96l-1.37-1.37c-.4-.4-.92-.59-1.43-.59-.52 0-1.04.2-1.43.59L10.3 9.45l-7.72 7.72c-.78.78-.78 2.05 0 2.83L4 21.41c.39.39.9.59 1.41.59.51 0 1.02-.2 1.41-.59l7.78-7.78 2.81-2.81c.8-.78.8-2.07 0-2.86zM5.41 20L4 18.59l7.72-7.72 1.47 1.35L5.41 20z\"/>\n",
              "  </svg>\n",
              "      </button>\n",
              "      \n",
              "  <style>\n",
              "    .colab-df-container {\n",
              "      display:flex;\n",
              "      flex-wrap:wrap;\n",
              "      gap: 12px;\n",
              "    }\n",
              "\n",
              "    .colab-df-convert {\n",
              "      background-color: #E8F0FE;\n",
              "      border: none;\n",
              "      border-radius: 50%;\n",
              "      cursor: pointer;\n",
              "      display: none;\n",
              "      fill: #1967D2;\n",
              "      height: 32px;\n",
              "      padding: 0 0 0 0;\n",
              "      width: 32px;\n",
              "    }\n",
              "\n",
              "    .colab-df-convert:hover {\n",
              "      background-color: #E2EBFA;\n",
              "      box-shadow: 0px 1px 2px rgba(60, 64, 67, 0.3), 0px 1px 3px 1px rgba(60, 64, 67, 0.15);\n",
              "      fill: #174EA6;\n",
              "    }\n",
              "\n",
              "    [theme=dark] .colab-df-convert {\n",
              "      background-color: #3B4455;\n",
              "      fill: #D2E3FC;\n",
              "    }\n",
              "\n",
              "    [theme=dark] .colab-df-convert:hover {\n",
              "      background-color: #434B5C;\n",
              "      box-shadow: 0px 1px 3px 1px rgba(0, 0, 0, 0.15);\n",
              "      filter: drop-shadow(0px 1px 2px rgba(0, 0, 0, 0.3));\n",
              "      fill: #FFFFFF;\n",
              "    }\n",
              "  </style>\n",
              "\n",
              "      <script>\n",
              "        const buttonEl =\n",
              "          document.querySelector('#df-24743ab4-7c97-4dbf-90e6-65d971d03dda button.colab-df-convert');\n",
              "        buttonEl.style.display =\n",
              "          google.colab.kernel.accessAllowed ? 'block' : 'none';\n",
              "\n",
              "        async function convertToInteractive(key) {\n",
              "          const element = document.querySelector('#df-24743ab4-7c97-4dbf-90e6-65d971d03dda');\n",
              "          const dataTable =\n",
              "            await google.colab.kernel.invokeFunction('convertToInteractive',\n",
              "                                                     [key], {});\n",
              "          if (!dataTable) return;\n",
              "\n",
              "          const docLinkHtml = 'Like what you see? Visit the ' +\n",
              "            '<a target=\"_blank\" href=https://colab.research.google.com/notebooks/data_table.ipynb>data table notebook</a>'\n",
              "            + ' to learn more about interactive tables.';\n",
              "          element.innerHTML = '';\n",
              "          dataTable['output_type'] = 'display_data';\n",
              "          await google.colab.output.renderOutput(dataTable, element);\n",
              "          const docLink = document.createElement('div');\n",
              "          docLink.innerHTML = docLinkHtml;\n",
              "          element.appendChild(docLink);\n",
              "        }\n",
              "      </script>\n",
              "    </div>\n",
              "  </div>\n",
              "  "
            ]
          },
          "metadata": {},
          "execution_count": 21
        }
      ]
    },
    {
      "cell_type": "code",
      "metadata": {
        "id": "VLViuuJ1cNod",
        "colab": {
          "base_uri": "https://localhost:8080/",
          "height": 0
        },
        "outputId": "688a8805-c67b-4288-d8e1-94e0ca3fc34d"
      },
      "source": [
        "# Noticing the same pattern. Wrong entry data in the columns\n",
        "\n",
        "app[app[\"Rating\"]== \"NEWS_AND_MAGAZINES\"]"
      ],
      "execution_count": 22,
      "outputs": [
        {
          "output_type": "execute_result",
          "data": {
            "text/plain": [
              "          App Name         Category              Rating   Reviews Installs  \\\n",
              "23457  Israel News   Channel 2 News  NEWS_AND_MAGAZINES  3.857799    11976   \n",
              "\n",
              "             Size               Price Content Rating  Last Updated  \\\n",
              "23457  1,000,000+  Varies with device              0  Everyone 10+   \n",
              "\n",
              "      Minimum Version      Latest Version  \n",
              "23457  March 16, 2019  Varies with device  "
            ],
            "text/html": [
              "\n",
              "  <div id=\"df-f8c7bba5-d547-475f-85e9-629f42fbc6b5\">\n",
              "    <div class=\"colab-df-container\">\n",
              "      <div>\n",
              "<style scoped>\n",
              "    .dataframe tbody tr th:only-of-type {\n",
              "        vertical-align: middle;\n",
              "    }\n",
              "\n",
              "    .dataframe tbody tr th {\n",
              "        vertical-align: top;\n",
              "    }\n",
              "\n",
              "    .dataframe thead th {\n",
              "        text-align: right;\n",
              "    }\n",
              "</style>\n",
              "<table border=\"1\" class=\"dataframe\">\n",
              "  <thead>\n",
              "    <tr style=\"text-align: right;\">\n",
              "      <th></th>\n",
              "      <th>App Name</th>\n",
              "      <th>Category</th>\n",
              "      <th>Rating</th>\n",
              "      <th>Reviews</th>\n",
              "      <th>Installs</th>\n",
              "      <th>Size</th>\n",
              "      <th>Price</th>\n",
              "      <th>Content Rating</th>\n",
              "      <th>Last Updated</th>\n",
              "      <th>Minimum Version</th>\n",
              "      <th>Latest Version</th>\n",
              "    </tr>\n",
              "  </thead>\n",
              "  <tbody>\n",
              "    <tr>\n",
              "      <th>23457</th>\n",
              "      <td>Israel News</td>\n",
              "      <td>Channel 2 News</td>\n",
              "      <td>NEWS_AND_MAGAZINES</td>\n",
              "      <td>3.857799</td>\n",
              "      <td>11976</td>\n",
              "      <td>1,000,000+</td>\n",
              "      <td>Varies with device</td>\n",
              "      <td>0</td>\n",
              "      <td>Everyone 10+</td>\n",
              "      <td>March 16, 2019</td>\n",
              "      <td>Varies with device</td>\n",
              "    </tr>\n",
              "  </tbody>\n",
              "</table>\n",
              "</div>\n",
              "      <button class=\"colab-df-convert\" onclick=\"convertToInteractive('df-f8c7bba5-d547-475f-85e9-629f42fbc6b5')\"\n",
              "              title=\"Convert this dataframe to an interactive table.\"\n",
              "              style=\"display:none;\">\n",
              "        \n",
              "  <svg xmlns=\"http://www.w3.org/2000/svg\" height=\"24px\"viewBox=\"0 0 24 24\"\n",
              "       width=\"24px\">\n",
              "    <path d=\"M0 0h24v24H0V0z\" fill=\"none\"/>\n",
              "    <path d=\"M18.56 5.44l.94 2.06.94-2.06 2.06-.94-2.06-.94-.94-2.06-.94 2.06-2.06.94zm-11 1L8.5 8.5l.94-2.06 2.06-.94-2.06-.94L8.5 2.5l-.94 2.06-2.06.94zm10 10l.94 2.06.94-2.06 2.06-.94-2.06-.94-.94-2.06-.94 2.06-2.06.94z\"/><path d=\"M17.41 7.96l-1.37-1.37c-.4-.4-.92-.59-1.43-.59-.52 0-1.04.2-1.43.59L10.3 9.45l-7.72 7.72c-.78.78-.78 2.05 0 2.83L4 21.41c.39.39.9.59 1.41.59.51 0 1.02-.2 1.41-.59l7.78-7.78 2.81-2.81c.8-.78.8-2.07 0-2.86zM5.41 20L4 18.59l7.72-7.72 1.47 1.35L5.41 20z\"/>\n",
              "  </svg>\n",
              "      </button>\n",
              "      \n",
              "  <style>\n",
              "    .colab-df-container {\n",
              "      display:flex;\n",
              "      flex-wrap:wrap;\n",
              "      gap: 12px;\n",
              "    }\n",
              "\n",
              "    .colab-df-convert {\n",
              "      background-color: #E8F0FE;\n",
              "      border: none;\n",
              "      border-radius: 50%;\n",
              "      cursor: pointer;\n",
              "      display: none;\n",
              "      fill: #1967D2;\n",
              "      height: 32px;\n",
              "      padding: 0 0 0 0;\n",
              "      width: 32px;\n",
              "    }\n",
              "\n",
              "    .colab-df-convert:hover {\n",
              "      background-color: #E2EBFA;\n",
              "      box-shadow: 0px 1px 2px rgba(60, 64, 67, 0.3), 0px 1px 3px 1px rgba(60, 64, 67, 0.15);\n",
              "      fill: #174EA6;\n",
              "    }\n",
              "\n",
              "    [theme=dark] .colab-df-convert {\n",
              "      background-color: #3B4455;\n",
              "      fill: #D2E3FC;\n",
              "    }\n",
              "\n",
              "    [theme=dark] .colab-df-convert:hover {\n",
              "      background-color: #434B5C;\n",
              "      box-shadow: 0px 1px 3px 1px rgba(0, 0, 0, 0.15);\n",
              "      filter: drop-shadow(0px 1px 2px rgba(0, 0, 0, 0.3));\n",
              "      fill: #FFFFFF;\n",
              "    }\n",
              "  </style>\n",
              "\n",
              "      <script>\n",
              "        const buttonEl =\n",
              "          document.querySelector('#df-f8c7bba5-d547-475f-85e9-629f42fbc6b5 button.colab-df-convert');\n",
              "        buttonEl.style.display =\n",
              "          google.colab.kernel.accessAllowed ? 'block' : 'none';\n",
              "\n",
              "        async function convertToInteractive(key) {\n",
              "          const element = document.querySelector('#df-f8c7bba5-d547-475f-85e9-629f42fbc6b5');\n",
              "          const dataTable =\n",
              "            await google.colab.kernel.invokeFunction('convertToInteractive',\n",
              "                                                     [key], {});\n",
              "          if (!dataTable) return;\n",
              "\n",
              "          const docLinkHtml = 'Like what you see? Visit the ' +\n",
              "            '<a target=\"_blank\" href=https://colab.research.google.com/notebooks/data_table.ipynb>data table notebook</a>'\n",
              "            + ' to learn more about interactive tables.';\n",
              "          element.innerHTML = '';\n",
              "          dataTable['output_type'] = 'display_data';\n",
              "          await google.colab.output.renderOutput(dataTable, element);\n",
              "          const docLink = document.createElement('div');\n",
              "          docLink.innerHTML = docLinkHtml;\n",
              "          element.appendChild(docLink);\n",
              "        }\n",
              "      </script>\n",
              "    </div>\n",
              "  </div>\n",
              "  "
            ]
          },
          "metadata": {},
          "execution_count": 22
        }
      ]
    },
    {
      "cell_type": "code",
      "metadata": {
        "id": "9j1cjSyCcNoh"
      },
      "source": [
        "# Here the data are misplaced but valid\n",
        "\n",
        "# I am manually fixing the misplacing data values\n",
        "\n",
        "app.loc[23457, [\"Category\", \"Rating\", \"Reviews\", \"Installs\", \"Size\", \"Price\", \"Content Rating\", \"Last Updated\", \"Minimum Version\", \"Latest Version\"]] = \"NEWS_AND_MAGAZINES\", \"3.857798815\", \"11976\", \"1,000,000+\", \"Varies with device\", \"0\", \"Everyone 10+\", \"March 16, 2019\", \"Varies with device\", \"NaN\" "
      ],
      "execution_count": 23,
      "outputs": []
    },
    {
      "cell_type": "code",
      "metadata": {
        "id": "8w6PDIYucNol",
        "colab": {
          "base_uri": "https://localhost:8080/"
        },
        "outputId": "a422205a-f055-493d-9c21-0aa98119848b"
      },
      "source": [
        "app.loc[23457]"
      ],
      "execution_count": 24,
      "outputs": [
        {
          "output_type": "execute_result",
          "data": {
            "text/plain": [
              "App Name                  Israel News\n",
              "Category           NEWS_AND_MAGAZINES\n",
              "Rating                    3.857798815\n",
              "Reviews                         11976\n",
              "Installs                   1,000,000+\n",
              "Size               Varies with device\n",
              "Price                               0\n",
              "Content Rating           Everyone 10+\n",
              "Last Updated           March 16, 2019\n",
              "Minimum Version    Varies with device\n",
              "Latest Version                    NaN\n",
              "Name: 23457, dtype: object"
            ]
          },
          "metadata": {},
          "execution_count": 24
        }
      ]
    },
    {
      "cell_type": "code",
      "metadata": {
        "id": "HT-eKomfcNoq"
      },
      "source": [
        "app.loc[48438, [\"Category\", \"Rating\", \"Reviews\", \"Installs\", \"Size\", \"Price\", \"Content Rating\", \"Last Updated\", \"Minimum Version\", \"Latest Version\"]] = \"NEWS_AND_MAGAZINES\", \"4.775640965\", \"156\", \"10,000+\", \"6.9M\", \"0\", \"Teen\", \"March 30, 2019\",\"4.1 and up\", \"NaN\" "
      ],
      "execution_count": 25,
      "outputs": []
    },
    {
      "cell_type": "code",
      "metadata": {
        "id": "hNHaWLj_cNov",
        "colab": {
          "base_uri": "https://localhost:8080/"
        },
        "outputId": "f8221727-87c9-4773-cd57-ce7550d608f2"
      },
      "source": [
        "app.loc[48438]"
      ],
      "execution_count": 26,
      "outputs": [
        {
          "output_type": "execute_result",
          "data": {
            "text/plain": [
              "App Name                          NaN\n",
              "Category           NEWS_AND_MAGAZINES\n",
              "Rating                    4.775640965\n",
              "Reviews                           156\n",
              "Installs                      10,000+\n",
              "Size                             6.9M\n",
              "Price                               0\n",
              "Content Rating                   Teen\n",
              "Last Updated           March 30, 2019\n",
              "Minimum Version            4.1 and up\n",
              "Latest Version                    NaN\n",
              "Name: 48438, dtype: object"
            ]
          },
          "metadata": {},
          "execution_count": 26
        }
      ]
    },
    {
      "cell_type": "code",
      "metadata": {
        "id": "YRDP1Hr3cNo5",
        "colab": {
          "base_uri": "https://localhost:8080/",
          "height": 0
        },
        "outputId": "0d516b20-7006-400f-a039-e60c65cc756f"
      },
      "source": [
        "# Here is an example of misplaced data with a lot of mistakes. It does not seem important to be fixed, it will be dropped\n",
        "\n",
        "app[app[\"Rating\"]== \"ENTERTAINMENT\"]"
      ],
      "execution_count": 27,
      "outputs": [
        {
          "output_type": "execute_result",
          "data": {
            "text/plain": [
              "Empty DataFrame\n",
              "Columns: [App Name, Category, Rating, Reviews, Installs, Size, Price, Content Rating, Last Updated, Minimum Version, Latest Version]\n",
              "Index: []"
            ],
            "text/html": [
              "\n",
              "  <div id=\"df-574202e7-d733-4f6a-a43c-a36e64798f03\">\n",
              "    <div class=\"colab-df-container\">\n",
              "      <div>\n",
              "<style scoped>\n",
              "    .dataframe tbody tr th:only-of-type {\n",
              "        vertical-align: middle;\n",
              "    }\n",
              "\n",
              "    .dataframe tbody tr th {\n",
              "        vertical-align: top;\n",
              "    }\n",
              "\n",
              "    .dataframe thead th {\n",
              "        text-align: right;\n",
              "    }\n",
              "</style>\n",
              "<table border=\"1\" class=\"dataframe\">\n",
              "  <thead>\n",
              "    <tr style=\"text-align: right;\">\n",
              "      <th></th>\n",
              "      <th>App Name</th>\n",
              "      <th>Category</th>\n",
              "      <th>Rating</th>\n",
              "      <th>Reviews</th>\n",
              "      <th>Installs</th>\n",
              "      <th>Size</th>\n",
              "      <th>Price</th>\n",
              "      <th>Content Rating</th>\n",
              "      <th>Last Updated</th>\n",
              "      <th>Minimum Version</th>\n",
              "      <th>Latest Version</th>\n",
              "    </tr>\n",
              "  </thead>\n",
              "  <tbody>\n",
              "  </tbody>\n",
              "</table>\n",
              "</div>\n",
              "      <button class=\"colab-df-convert\" onclick=\"convertToInteractive('df-574202e7-d733-4f6a-a43c-a36e64798f03')\"\n",
              "              title=\"Convert this dataframe to an interactive table.\"\n",
              "              style=\"display:none;\">\n",
              "        \n",
              "  <svg xmlns=\"http://www.w3.org/2000/svg\" height=\"24px\"viewBox=\"0 0 24 24\"\n",
              "       width=\"24px\">\n",
              "    <path d=\"M0 0h24v24H0V0z\" fill=\"none\"/>\n",
              "    <path d=\"M18.56 5.44l.94 2.06.94-2.06 2.06-.94-2.06-.94-.94-2.06-.94 2.06-2.06.94zm-11 1L8.5 8.5l.94-2.06 2.06-.94-2.06-.94L8.5 2.5l-.94 2.06-2.06.94zm10 10l.94 2.06.94-2.06 2.06-.94-2.06-.94-.94-2.06-.94 2.06-2.06.94z\"/><path d=\"M17.41 7.96l-1.37-1.37c-.4-.4-.92-.59-1.43-.59-.52 0-1.04.2-1.43.59L10.3 9.45l-7.72 7.72c-.78.78-.78 2.05 0 2.83L4 21.41c.39.39.9.59 1.41.59.51 0 1.02-.2 1.41-.59l7.78-7.78 2.81-2.81c.8-.78.8-2.07 0-2.86zM5.41 20L4 18.59l7.72-7.72 1.47 1.35L5.41 20z\"/>\n",
              "  </svg>\n",
              "      </button>\n",
              "      \n",
              "  <style>\n",
              "    .colab-df-container {\n",
              "      display:flex;\n",
              "      flex-wrap:wrap;\n",
              "      gap: 12px;\n",
              "    }\n",
              "\n",
              "    .colab-df-convert {\n",
              "      background-color: #E8F0FE;\n",
              "      border: none;\n",
              "      border-radius: 50%;\n",
              "      cursor: pointer;\n",
              "      display: none;\n",
              "      fill: #1967D2;\n",
              "      height: 32px;\n",
              "      padding: 0 0 0 0;\n",
              "      width: 32px;\n",
              "    }\n",
              "\n",
              "    .colab-df-convert:hover {\n",
              "      background-color: #E2EBFA;\n",
              "      box-shadow: 0px 1px 2px rgba(60, 64, 67, 0.3), 0px 1px 3px 1px rgba(60, 64, 67, 0.15);\n",
              "      fill: #174EA6;\n",
              "    }\n",
              "\n",
              "    [theme=dark] .colab-df-convert {\n",
              "      background-color: #3B4455;\n",
              "      fill: #D2E3FC;\n",
              "    }\n",
              "\n",
              "    [theme=dark] .colab-df-convert:hover {\n",
              "      background-color: #434B5C;\n",
              "      box-shadow: 0px 1px 3px 1px rgba(0, 0, 0, 0.15);\n",
              "      filter: drop-shadow(0px 1px 2px rgba(0, 0, 0, 0.3));\n",
              "      fill: #FFFFFF;\n",
              "    }\n",
              "  </style>\n",
              "\n",
              "      <script>\n",
              "        const buttonEl =\n",
              "          document.querySelector('#df-574202e7-d733-4f6a-a43c-a36e64798f03 button.colab-df-convert');\n",
              "        buttonEl.style.display =\n",
              "          google.colab.kernel.accessAllowed ? 'block' : 'none';\n",
              "\n",
              "        async function convertToInteractive(key) {\n",
              "          const element = document.querySelector('#df-574202e7-d733-4f6a-a43c-a36e64798f03');\n",
              "          const dataTable =\n",
              "            await google.colab.kernel.invokeFunction('convertToInteractive',\n",
              "                                                     [key], {});\n",
              "          if (!dataTable) return;\n",
              "\n",
              "          const docLinkHtml = 'Like what you see? Visit the ' +\n",
              "            '<a target=\"_blank\" href=https://colab.research.google.com/notebooks/data_table.ipynb>data table notebook</a>'\n",
              "            + ' to learn more about interactive tables.';\n",
              "          element.innerHTML = '';\n",
              "          dataTable['output_type'] = 'display_data';\n",
              "          await google.colab.output.renderOutput(dataTable, element);\n",
              "          const docLink = document.createElement('div');\n",
              "          docLink.innerHTML = docLinkHtml;\n",
              "          element.appendChild(docLink);\n",
              "        }\n",
              "      </script>\n",
              "    </div>\n",
              "  </div>\n",
              "  "
            ]
          },
          "metadata": {},
          "execution_count": 27
        }
      ]
    },
    {
      "cell_type": "code",
      "metadata": {
        "id": "0ILhP7zfcNpB",
        "colab": {
          "base_uri": "https://localhost:8080/",
          "height": 0
        },
        "outputId": "e3cc6284-994c-4baa-92a2-9c70fcd56f76"
      },
      "source": [
        "# Ensuring that there are no longer wrong entries in the column \"Rating\"\n",
        "\n",
        "app[app[\"Rating\"]== \"ENTERTAINMENT\"]"
      ],
      "execution_count": 28,
      "outputs": [
        {
          "output_type": "execute_result",
          "data": {
            "text/plain": [
              "Empty DataFrame\n",
              "Columns: [App Name, Category, Rating, Reviews, Installs, Size, Price, Content Rating, Last Updated, Minimum Version, Latest Version]\n",
              "Index: []"
            ],
            "text/html": [
              "\n",
              "  <div id=\"df-d7b99099-01a5-4cd9-8a4d-b35864330009\">\n",
              "    <div class=\"colab-df-container\">\n",
              "      <div>\n",
              "<style scoped>\n",
              "    .dataframe tbody tr th:only-of-type {\n",
              "        vertical-align: middle;\n",
              "    }\n",
              "\n",
              "    .dataframe tbody tr th {\n",
              "        vertical-align: top;\n",
              "    }\n",
              "\n",
              "    .dataframe thead th {\n",
              "        text-align: right;\n",
              "    }\n",
              "</style>\n",
              "<table border=\"1\" class=\"dataframe\">\n",
              "  <thead>\n",
              "    <tr style=\"text-align: right;\">\n",
              "      <th></th>\n",
              "      <th>App Name</th>\n",
              "      <th>Category</th>\n",
              "      <th>Rating</th>\n",
              "      <th>Reviews</th>\n",
              "      <th>Installs</th>\n",
              "      <th>Size</th>\n",
              "      <th>Price</th>\n",
              "      <th>Content Rating</th>\n",
              "      <th>Last Updated</th>\n",
              "      <th>Minimum Version</th>\n",
              "      <th>Latest Version</th>\n",
              "    </tr>\n",
              "  </thead>\n",
              "  <tbody>\n",
              "  </tbody>\n",
              "</table>\n",
              "</div>\n",
              "      <button class=\"colab-df-convert\" onclick=\"convertToInteractive('df-d7b99099-01a5-4cd9-8a4d-b35864330009')\"\n",
              "              title=\"Convert this dataframe to an interactive table.\"\n",
              "              style=\"display:none;\">\n",
              "        \n",
              "  <svg xmlns=\"http://www.w3.org/2000/svg\" height=\"24px\"viewBox=\"0 0 24 24\"\n",
              "       width=\"24px\">\n",
              "    <path d=\"M0 0h24v24H0V0z\" fill=\"none\"/>\n",
              "    <path d=\"M18.56 5.44l.94 2.06.94-2.06 2.06-.94-2.06-.94-.94-2.06-.94 2.06-2.06.94zm-11 1L8.5 8.5l.94-2.06 2.06-.94-2.06-.94L8.5 2.5l-.94 2.06-2.06.94zm10 10l.94 2.06.94-2.06 2.06-.94-2.06-.94-.94-2.06-.94 2.06-2.06.94z\"/><path d=\"M17.41 7.96l-1.37-1.37c-.4-.4-.92-.59-1.43-.59-.52 0-1.04.2-1.43.59L10.3 9.45l-7.72 7.72c-.78.78-.78 2.05 0 2.83L4 21.41c.39.39.9.59 1.41.59.51 0 1.02-.2 1.41-.59l7.78-7.78 2.81-2.81c.8-.78.8-2.07 0-2.86zM5.41 20L4 18.59l7.72-7.72 1.47 1.35L5.41 20z\"/>\n",
              "  </svg>\n",
              "      </button>\n",
              "      \n",
              "  <style>\n",
              "    .colab-df-container {\n",
              "      display:flex;\n",
              "      flex-wrap:wrap;\n",
              "      gap: 12px;\n",
              "    }\n",
              "\n",
              "    .colab-df-convert {\n",
              "      background-color: #E8F0FE;\n",
              "      border: none;\n",
              "      border-radius: 50%;\n",
              "      cursor: pointer;\n",
              "      display: none;\n",
              "      fill: #1967D2;\n",
              "      height: 32px;\n",
              "      padding: 0 0 0 0;\n",
              "      width: 32px;\n",
              "    }\n",
              "\n",
              "    .colab-df-convert:hover {\n",
              "      background-color: #E2EBFA;\n",
              "      box-shadow: 0px 1px 2px rgba(60, 64, 67, 0.3), 0px 1px 3px 1px rgba(60, 64, 67, 0.15);\n",
              "      fill: #174EA6;\n",
              "    }\n",
              "\n",
              "    [theme=dark] .colab-df-convert {\n",
              "      background-color: #3B4455;\n",
              "      fill: #D2E3FC;\n",
              "    }\n",
              "\n",
              "    [theme=dark] .colab-df-convert:hover {\n",
              "      background-color: #434B5C;\n",
              "      box-shadow: 0px 1px 3px 1px rgba(0, 0, 0, 0.15);\n",
              "      filter: drop-shadow(0px 1px 2px rgba(0, 0, 0, 0.3));\n",
              "      fill: #FFFFFF;\n",
              "    }\n",
              "  </style>\n",
              "\n",
              "      <script>\n",
              "        const buttonEl =\n",
              "          document.querySelector('#df-d7b99099-01a5-4cd9-8a4d-b35864330009 button.colab-df-convert');\n",
              "        buttonEl.style.display =\n",
              "          google.colab.kernel.accessAllowed ? 'block' : 'none';\n",
              "\n",
              "        async function convertToInteractive(key) {\n",
              "          const element = document.querySelector('#df-d7b99099-01a5-4cd9-8a4d-b35864330009');\n",
              "          const dataTable =\n",
              "            await google.colab.kernel.invokeFunction('convertToInteractive',\n",
              "                                                     [key], {});\n",
              "          if (!dataTable) return;\n",
              "\n",
              "          const docLinkHtml = 'Like what you see? Visit the ' +\n",
              "            '<a target=\"_blank\" href=https://colab.research.google.com/notebooks/data_table.ipynb>data table notebook</a>'\n",
              "            + ' to learn more about interactive tables.';\n",
              "          element.innerHTML = '';\n",
              "          dataTable['output_type'] = 'display_data';\n",
              "          await google.colab.output.renderOutput(dataTable, element);\n",
              "          const docLink = document.createElement('div');\n",
              "          docLink.innerHTML = docLinkHtml;\n",
              "          element.appendChild(docLink);\n",
              "        }\n",
              "      </script>\n",
              "    </div>\n",
              "  </div>\n",
              "  "
            ]
          },
          "metadata": {},
          "execution_count": 28
        }
      ]
    },
    {
      "cell_type": "code",
      "metadata": {
        "id": "j2C77A68cNpO",
        "colab": {
          "base_uri": "https://localhost:8080/",
          "height": 0
        },
        "outputId": "7ba74551-7e03-4157-a340-90abc713e3f6"
      },
      "source": [
        "app[app[\"Rating\"]== \"EDUCATION\"]"
      ],
      "execution_count": 29,
      "outputs": [
        {
          "output_type": "execute_result",
          "data": {
            "text/plain": [
              "Empty DataFrame\n",
              "Columns: [App Name, Category, Rating, Reviews, Installs, Size, Price, Content Rating, Last Updated, Minimum Version, Latest Version]\n",
              "Index: []"
            ],
            "text/html": [
              "\n",
              "  <div id=\"df-588ca561-70f0-4b47-90e6-589fa9575d6f\">\n",
              "    <div class=\"colab-df-container\">\n",
              "      <div>\n",
              "<style scoped>\n",
              "    .dataframe tbody tr th:only-of-type {\n",
              "        vertical-align: middle;\n",
              "    }\n",
              "\n",
              "    .dataframe tbody tr th {\n",
              "        vertical-align: top;\n",
              "    }\n",
              "\n",
              "    .dataframe thead th {\n",
              "        text-align: right;\n",
              "    }\n",
              "</style>\n",
              "<table border=\"1\" class=\"dataframe\">\n",
              "  <thead>\n",
              "    <tr style=\"text-align: right;\">\n",
              "      <th></th>\n",
              "      <th>App Name</th>\n",
              "      <th>Category</th>\n",
              "      <th>Rating</th>\n",
              "      <th>Reviews</th>\n",
              "      <th>Installs</th>\n",
              "      <th>Size</th>\n",
              "      <th>Price</th>\n",
              "      <th>Content Rating</th>\n",
              "      <th>Last Updated</th>\n",
              "      <th>Minimum Version</th>\n",
              "      <th>Latest Version</th>\n",
              "    </tr>\n",
              "  </thead>\n",
              "  <tbody>\n",
              "  </tbody>\n",
              "</table>\n",
              "</div>\n",
              "      <button class=\"colab-df-convert\" onclick=\"convertToInteractive('df-588ca561-70f0-4b47-90e6-589fa9575d6f')\"\n",
              "              title=\"Convert this dataframe to an interactive table.\"\n",
              "              style=\"display:none;\">\n",
              "        \n",
              "  <svg xmlns=\"http://www.w3.org/2000/svg\" height=\"24px\"viewBox=\"0 0 24 24\"\n",
              "       width=\"24px\">\n",
              "    <path d=\"M0 0h24v24H0V0z\" fill=\"none\"/>\n",
              "    <path d=\"M18.56 5.44l.94 2.06.94-2.06 2.06-.94-2.06-.94-.94-2.06-.94 2.06-2.06.94zm-11 1L8.5 8.5l.94-2.06 2.06-.94-2.06-.94L8.5 2.5l-.94 2.06-2.06.94zm10 10l.94 2.06.94-2.06 2.06-.94-2.06-.94-.94-2.06-.94 2.06-2.06.94z\"/><path d=\"M17.41 7.96l-1.37-1.37c-.4-.4-.92-.59-1.43-.59-.52 0-1.04.2-1.43.59L10.3 9.45l-7.72 7.72c-.78.78-.78 2.05 0 2.83L4 21.41c.39.39.9.59 1.41.59.51 0 1.02-.2 1.41-.59l7.78-7.78 2.81-2.81c.8-.78.8-2.07 0-2.86zM5.41 20L4 18.59l7.72-7.72 1.47 1.35L5.41 20z\"/>\n",
              "  </svg>\n",
              "      </button>\n",
              "      \n",
              "  <style>\n",
              "    .colab-df-container {\n",
              "      display:flex;\n",
              "      flex-wrap:wrap;\n",
              "      gap: 12px;\n",
              "    }\n",
              "\n",
              "    .colab-df-convert {\n",
              "      background-color: #E8F0FE;\n",
              "      border: none;\n",
              "      border-radius: 50%;\n",
              "      cursor: pointer;\n",
              "      display: none;\n",
              "      fill: #1967D2;\n",
              "      height: 32px;\n",
              "      padding: 0 0 0 0;\n",
              "      width: 32px;\n",
              "    }\n",
              "\n",
              "    .colab-df-convert:hover {\n",
              "      background-color: #E2EBFA;\n",
              "      box-shadow: 0px 1px 2px rgba(60, 64, 67, 0.3), 0px 1px 3px 1px rgba(60, 64, 67, 0.15);\n",
              "      fill: #174EA6;\n",
              "    }\n",
              "\n",
              "    [theme=dark] .colab-df-convert {\n",
              "      background-color: #3B4455;\n",
              "      fill: #D2E3FC;\n",
              "    }\n",
              "\n",
              "    [theme=dark] .colab-df-convert:hover {\n",
              "      background-color: #434B5C;\n",
              "      box-shadow: 0px 1px 3px 1px rgba(0, 0, 0, 0.15);\n",
              "      filter: drop-shadow(0px 1px 2px rgba(0, 0, 0, 0.3));\n",
              "      fill: #FFFFFF;\n",
              "    }\n",
              "  </style>\n",
              "\n",
              "      <script>\n",
              "        const buttonEl =\n",
              "          document.querySelector('#df-588ca561-70f0-4b47-90e6-589fa9575d6f button.colab-df-convert');\n",
              "        buttonEl.style.display =\n",
              "          google.colab.kernel.accessAllowed ? 'block' : 'none';\n",
              "\n",
              "        async function convertToInteractive(key) {\n",
              "          const element = document.querySelector('#df-588ca561-70f0-4b47-90e6-589fa9575d6f');\n",
              "          const dataTable =\n",
              "            await google.colab.kernel.invokeFunction('convertToInteractive',\n",
              "                                                     [key], {});\n",
              "          if (!dataTable) return;\n",
              "\n",
              "          const docLinkHtml = 'Like what you see? Visit the ' +\n",
              "            '<a target=\"_blank\" href=https://colab.research.google.com/notebooks/data_table.ipynb>data table notebook</a>'\n",
              "            + ' to learn more about interactive tables.';\n",
              "          element.innerHTML = '';\n",
              "          dataTable['output_type'] = 'display_data';\n",
              "          await google.colab.output.renderOutput(dataTable, element);\n",
              "          const docLink = document.createElement('div');\n",
              "          docLink.innerHTML = docLinkHtml;\n",
              "          element.appendChild(docLink);\n",
              "        }\n",
              "      </script>\n",
              "    </div>\n",
              "  </div>\n",
              "  "
            ]
          },
          "metadata": {},
          "execution_count": 29
        }
      ]
    },
    {
      "cell_type": "code",
      "metadata": {
        "id": "W0De3fNFcNpS",
        "colab": {
          "base_uri": "https://localhost:8080/",
          "height": 0
        },
        "outputId": "162c4cd0-62d0-4736-82b9-a8d2804f8a3f"
      },
      "source": [
        "# Dropping these data entries which do not seem important and they have a lot of mistakes\n",
        "app[app[\"Rating\"]== \"EDUCATION\"]"
      ],
      "execution_count": 30,
      "outputs": [
        {
          "output_type": "execute_result",
          "data": {
            "text/plain": [
              "Empty DataFrame\n",
              "Columns: [App Name, Category, Rating, Reviews, Installs, Size, Price, Content Rating, Last Updated, Minimum Version, Latest Version]\n",
              "Index: []"
            ],
            "text/html": [
              "\n",
              "  <div id=\"df-b274b6b4-a32e-457d-b63d-1bd8a2264cf7\">\n",
              "    <div class=\"colab-df-container\">\n",
              "      <div>\n",
              "<style scoped>\n",
              "    .dataframe tbody tr th:only-of-type {\n",
              "        vertical-align: middle;\n",
              "    }\n",
              "\n",
              "    .dataframe tbody tr th {\n",
              "        vertical-align: top;\n",
              "    }\n",
              "\n",
              "    .dataframe thead th {\n",
              "        text-align: right;\n",
              "    }\n",
              "</style>\n",
              "<table border=\"1\" class=\"dataframe\">\n",
              "  <thead>\n",
              "    <tr style=\"text-align: right;\">\n",
              "      <th></th>\n",
              "      <th>App Name</th>\n",
              "      <th>Category</th>\n",
              "      <th>Rating</th>\n",
              "      <th>Reviews</th>\n",
              "      <th>Installs</th>\n",
              "      <th>Size</th>\n",
              "      <th>Price</th>\n",
              "      <th>Content Rating</th>\n",
              "      <th>Last Updated</th>\n",
              "      <th>Minimum Version</th>\n",
              "      <th>Latest Version</th>\n",
              "    </tr>\n",
              "  </thead>\n",
              "  <tbody>\n",
              "  </tbody>\n",
              "</table>\n",
              "</div>\n",
              "      <button class=\"colab-df-convert\" onclick=\"convertToInteractive('df-b274b6b4-a32e-457d-b63d-1bd8a2264cf7')\"\n",
              "              title=\"Convert this dataframe to an interactive table.\"\n",
              "              style=\"display:none;\">\n",
              "        \n",
              "  <svg xmlns=\"http://www.w3.org/2000/svg\" height=\"24px\"viewBox=\"0 0 24 24\"\n",
              "       width=\"24px\">\n",
              "    <path d=\"M0 0h24v24H0V0z\" fill=\"none\"/>\n",
              "    <path d=\"M18.56 5.44l.94 2.06.94-2.06 2.06-.94-2.06-.94-.94-2.06-.94 2.06-2.06.94zm-11 1L8.5 8.5l.94-2.06 2.06-.94-2.06-.94L8.5 2.5l-.94 2.06-2.06.94zm10 10l.94 2.06.94-2.06 2.06-.94-2.06-.94-.94-2.06-.94 2.06-2.06.94z\"/><path d=\"M17.41 7.96l-1.37-1.37c-.4-.4-.92-.59-1.43-.59-.52 0-1.04.2-1.43.59L10.3 9.45l-7.72 7.72c-.78.78-.78 2.05 0 2.83L4 21.41c.39.39.9.59 1.41.59.51 0 1.02-.2 1.41-.59l7.78-7.78 2.81-2.81c.8-.78.8-2.07 0-2.86zM5.41 20L4 18.59l7.72-7.72 1.47 1.35L5.41 20z\"/>\n",
              "  </svg>\n",
              "      </button>\n",
              "      \n",
              "  <style>\n",
              "    .colab-df-container {\n",
              "      display:flex;\n",
              "      flex-wrap:wrap;\n",
              "      gap: 12px;\n",
              "    }\n",
              "\n",
              "    .colab-df-convert {\n",
              "      background-color: #E8F0FE;\n",
              "      border: none;\n",
              "      border-radius: 50%;\n",
              "      cursor: pointer;\n",
              "      display: none;\n",
              "      fill: #1967D2;\n",
              "      height: 32px;\n",
              "      padding: 0 0 0 0;\n",
              "      width: 32px;\n",
              "    }\n",
              "\n",
              "    .colab-df-convert:hover {\n",
              "      background-color: #E2EBFA;\n",
              "      box-shadow: 0px 1px 2px rgba(60, 64, 67, 0.3), 0px 1px 3px 1px rgba(60, 64, 67, 0.15);\n",
              "      fill: #174EA6;\n",
              "    }\n",
              "\n",
              "    [theme=dark] .colab-df-convert {\n",
              "      background-color: #3B4455;\n",
              "      fill: #D2E3FC;\n",
              "    }\n",
              "\n",
              "    [theme=dark] .colab-df-convert:hover {\n",
              "      background-color: #434B5C;\n",
              "      box-shadow: 0px 1px 3px 1px rgba(0, 0, 0, 0.15);\n",
              "      filter: drop-shadow(0px 1px 2px rgba(0, 0, 0, 0.3));\n",
              "      fill: #FFFFFF;\n",
              "    }\n",
              "  </style>\n",
              "\n",
              "      <script>\n",
              "        const buttonEl =\n",
              "          document.querySelector('#df-b274b6b4-a32e-457d-b63d-1bd8a2264cf7 button.colab-df-convert');\n",
              "        buttonEl.style.display =\n",
              "          google.colab.kernel.accessAllowed ? 'block' : 'none';\n",
              "\n",
              "        async function convertToInteractive(key) {\n",
              "          const element = document.querySelector('#df-b274b6b4-a32e-457d-b63d-1bd8a2264cf7');\n",
              "          const dataTable =\n",
              "            await google.colab.kernel.invokeFunction('convertToInteractive',\n",
              "                                                     [key], {});\n",
              "          if (!dataTable) return;\n",
              "\n",
              "          const docLinkHtml = 'Like what you see? Visit the ' +\n",
              "            '<a target=\"_blank\" href=https://colab.research.google.com/notebooks/data_table.ipynb>data table notebook</a>'\n",
              "            + ' to learn more about interactive tables.';\n",
              "          element.innerHTML = '';\n",
              "          dataTable['output_type'] = 'display_data';\n",
              "          await google.colab.output.renderOutput(dataTable, element);\n",
              "          const docLink = document.createElement('div');\n",
              "          docLink.innerHTML = docLinkHtml;\n",
              "          element.appendChild(docLink);\n",
              "        }\n",
              "      </script>\n",
              "    </div>\n",
              "  </div>\n",
              "  "
            ]
          },
          "metadata": {},
          "execution_count": 30
        }
      ]
    },
    {
      "cell_type": "code",
      "metadata": {
        "id": "t7KQjhf1cNpe",
        "colab": {
          "base_uri": "https://localhost:8080/",
          "height": 0
        },
        "outputId": "ca13fe80-19c3-4190-fb9c-9bf6876fa49e"
      },
      "source": [
        "# In this line respecting the column \"Rating\" there are misplaced but valid data\n",
        "\n",
        "# Data will be fixed manually, putting them in the correct position\n",
        "\n",
        "app[app[\"Rating\"]== \"SOCIAL\"]"
      ],
      "execution_count": 31,
      "outputs": [
        {
          "output_type": "execute_result",
          "data": {
            "text/plain": [
              "Empty DataFrame\n",
              "Columns: [App Name, Category, Rating, Reviews, Installs, Size, Price, Content Rating, Last Updated, Minimum Version, Latest Version]\n",
              "Index: []"
            ],
            "text/html": [
              "\n",
              "  <div id=\"df-fd54473b-45fc-4859-a5dd-7f7aa07f7725\">\n",
              "    <div class=\"colab-df-container\">\n",
              "      <div>\n",
              "<style scoped>\n",
              "    .dataframe tbody tr th:only-of-type {\n",
              "        vertical-align: middle;\n",
              "    }\n",
              "\n",
              "    .dataframe tbody tr th {\n",
              "        vertical-align: top;\n",
              "    }\n",
              "\n",
              "    .dataframe thead th {\n",
              "        text-align: right;\n",
              "    }\n",
              "</style>\n",
              "<table border=\"1\" class=\"dataframe\">\n",
              "  <thead>\n",
              "    <tr style=\"text-align: right;\">\n",
              "      <th></th>\n",
              "      <th>App Name</th>\n",
              "      <th>Category</th>\n",
              "      <th>Rating</th>\n",
              "      <th>Reviews</th>\n",
              "      <th>Installs</th>\n",
              "      <th>Size</th>\n",
              "      <th>Price</th>\n",
              "      <th>Content Rating</th>\n",
              "      <th>Last Updated</th>\n",
              "      <th>Minimum Version</th>\n",
              "      <th>Latest Version</th>\n",
              "    </tr>\n",
              "  </thead>\n",
              "  <tbody>\n",
              "  </tbody>\n",
              "</table>\n",
              "</div>\n",
              "      <button class=\"colab-df-convert\" onclick=\"convertToInteractive('df-fd54473b-45fc-4859-a5dd-7f7aa07f7725')\"\n",
              "              title=\"Convert this dataframe to an interactive table.\"\n",
              "              style=\"display:none;\">\n",
              "        \n",
              "  <svg xmlns=\"http://www.w3.org/2000/svg\" height=\"24px\"viewBox=\"0 0 24 24\"\n",
              "       width=\"24px\">\n",
              "    <path d=\"M0 0h24v24H0V0z\" fill=\"none\"/>\n",
              "    <path d=\"M18.56 5.44l.94 2.06.94-2.06 2.06-.94-2.06-.94-.94-2.06-.94 2.06-2.06.94zm-11 1L8.5 8.5l.94-2.06 2.06-.94-2.06-.94L8.5 2.5l-.94 2.06-2.06.94zm10 10l.94 2.06.94-2.06 2.06-.94-2.06-.94-.94-2.06-.94 2.06-2.06.94z\"/><path d=\"M17.41 7.96l-1.37-1.37c-.4-.4-.92-.59-1.43-.59-.52 0-1.04.2-1.43.59L10.3 9.45l-7.72 7.72c-.78.78-.78 2.05 0 2.83L4 21.41c.39.39.9.59 1.41.59.51 0 1.02-.2 1.41-.59l7.78-7.78 2.81-2.81c.8-.78.8-2.07 0-2.86zM5.41 20L4 18.59l7.72-7.72 1.47 1.35L5.41 20z\"/>\n",
              "  </svg>\n",
              "      </button>\n",
              "      \n",
              "  <style>\n",
              "    .colab-df-container {\n",
              "      display:flex;\n",
              "      flex-wrap:wrap;\n",
              "      gap: 12px;\n",
              "    }\n",
              "\n",
              "    .colab-df-convert {\n",
              "      background-color: #E8F0FE;\n",
              "      border: none;\n",
              "      border-radius: 50%;\n",
              "      cursor: pointer;\n",
              "      display: none;\n",
              "      fill: #1967D2;\n",
              "      height: 32px;\n",
              "      padding: 0 0 0 0;\n",
              "      width: 32px;\n",
              "    }\n",
              "\n",
              "    .colab-df-convert:hover {\n",
              "      background-color: #E2EBFA;\n",
              "      box-shadow: 0px 1px 2px rgba(60, 64, 67, 0.3), 0px 1px 3px 1px rgba(60, 64, 67, 0.15);\n",
              "      fill: #174EA6;\n",
              "    }\n",
              "\n",
              "    [theme=dark] .colab-df-convert {\n",
              "      background-color: #3B4455;\n",
              "      fill: #D2E3FC;\n",
              "    }\n",
              "\n",
              "    [theme=dark] .colab-df-convert:hover {\n",
              "      background-color: #434B5C;\n",
              "      box-shadow: 0px 1px 3px 1px rgba(0, 0, 0, 0.15);\n",
              "      filter: drop-shadow(0px 1px 2px rgba(0, 0, 0, 0.3));\n",
              "      fill: #FFFFFF;\n",
              "    }\n",
              "  </style>\n",
              "\n",
              "      <script>\n",
              "        const buttonEl =\n",
              "          document.querySelector('#df-fd54473b-45fc-4859-a5dd-7f7aa07f7725 button.colab-df-convert');\n",
              "        buttonEl.style.display =\n",
              "          google.colab.kernel.accessAllowed ? 'block' : 'none';\n",
              "\n",
              "        async function convertToInteractive(key) {\n",
              "          const element = document.querySelector('#df-fd54473b-45fc-4859-a5dd-7f7aa07f7725');\n",
              "          const dataTable =\n",
              "            await google.colab.kernel.invokeFunction('convertToInteractive',\n",
              "                                                     [key], {});\n",
              "          if (!dataTable) return;\n",
              "\n",
              "          const docLinkHtml = 'Like what you see? Visit the ' +\n",
              "            '<a target=\"_blank\" href=https://colab.research.google.com/notebooks/data_table.ipynb>data table notebook</a>'\n",
              "            + ' to learn more about interactive tables.';\n",
              "          element.innerHTML = '';\n",
              "          dataTable['output_type'] = 'display_data';\n",
              "          await google.colab.output.renderOutput(dataTable, element);\n",
              "          const docLink = document.createElement('div');\n",
              "          docLink.innerHTML = docLinkHtml;\n",
              "          element.appendChild(docLink);\n",
              "        }\n",
              "      </script>\n",
              "    </div>\n",
              "  </div>\n",
              "  "
            ]
          },
          "metadata": {},
          "execution_count": 31
        }
      ]
    },
    {
      "cell_type": "code",
      "metadata": {
        "id": "RYS3TzXfcNpj"
      },
      "source": [
        "# Fixing the data entry positions manually\n",
        "\n",
        "app.loc[165230, [\"Category\", \"Rating\", \"Reviews\", \"Installs\", \"Size\", \"Price\", \"Content Rating\", \"Last Updated\", \"Minimum Version\", \"Latest Version\"]] = \"SOCIAL\", \"4.098591328\", \"71\", \"5,000+\", \"7.7M\", \"0\", \"Everyone\", \"March 30, 2019\",\"4.1 and up\", \"NaN\" "
      ],
      "execution_count": 32,
      "outputs": []
    },
    {
      "cell_type": "code",
      "metadata": {
        "id": "Hj269oKvcNpo",
        "colab": {
          "base_uri": "https://localhost:8080/",
          "height": 0
        },
        "outputId": "aed16a72-43c8-4264-ecd3-b2016ea6436c"
      },
      "source": [
        "app[app[\"Rating\"]== \"SOCIAL\"]"
      ],
      "execution_count": 33,
      "outputs": [
        {
          "output_type": "execute_result",
          "data": {
            "text/plain": [
              "Empty DataFrame\n",
              "Columns: [App Name, Category, Rating, Reviews, Installs, Size, Price, Content Rating, Last Updated, Minimum Version, Latest Version]\n",
              "Index: []"
            ],
            "text/html": [
              "\n",
              "  <div id=\"df-813a9a6f-1af0-4126-a913-1315a4e07839\">\n",
              "    <div class=\"colab-df-container\">\n",
              "      <div>\n",
              "<style scoped>\n",
              "    .dataframe tbody tr th:only-of-type {\n",
              "        vertical-align: middle;\n",
              "    }\n",
              "\n",
              "    .dataframe tbody tr th {\n",
              "        vertical-align: top;\n",
              "    }\n",
              "\n",
              "    .dataframe thead th {\n",
              "        text-align: right;\n",
              "    }\n",
              "</style>\n",
              "<table border=\"1\" class=\"dataframe\">\n",
              "  <thead>\n",
              "    <tr style=\"text-align: right;\">\n",
              "      <th></th>\n",
              "      <th>App Name</th>\n",
              "      <th>Category</th>\n",
              "      <th>Rating</th>\n",
              "      <th>Reviews</th>\n",
              "      <th>Installs</th>\n",
              "      <th>Size</th>\n",
              "      <th>Price</th>\n",
              "      <th>Content Rating</th>\n",
              "      <th>Last Updated</th>\n",
              "      <th>Minimum Version</th>\n",
              "      <th>Latest Version</th>\n",
              "    </tr>\n",
              "  </thead>\n",
              "  <tbody>\n",
              "  </tbody>\n",
              "</table>\n",
              "</div>\n",
              "      <button class=\"colab-df-convert\" onclick=\"convertToInteractive('df-813a9a6f-1af0-4126-a913-1315a4e07839')\"\n",
              "              title=\"Convert this dataframe to an interactive table.\"\n",
              "              style=\"display:none;\">\n",
              "        \n",
              "  <svg xmlns=\"http://www.w3.org/2000/svg\" height=\"24px\"viewBox=\"0 0 24 24\"\n",
              "       width=\"24px\">\n",
              "    <path d=\"M0 0h24v24H0V0z\" fill=\"none\"/>\n",
              "    <path d=\"M18.56 5.44l.94 2.06.94-2.06 2.06-.94-2.06-.94-.94-2.06-.94 2.06-2.06.94zm-11 1L8.5 8.5l.94-2.06 2.06-.94-2.06-.94L8.5 2.5l-.94 2.06-2.06.94zm10 10l.94 2.06.94-2.06 2.06-.94-2.06-.94-.94-2.06-.94 2.06-2.06.94z\"/><path d=\"M17.41 7.96l-1.37-1.37c-.4-.4-.92-.59-1.43-.59-.52 0-1.04.2-1.43.59L10.3 9.45l-7.72 7.72c-.78.78-.78 2.05 0 2.83L4 21.41c.39.39.9.59 1.41.59.51 0 1.02-.2 1.41-.59l7.78-7.78 2.81-2.81c.8-.78.8-2.07 0-2.86zM5.41 20L4 18.59l7.72-7.72 1.47 1.35L5.41 20z\"/>\n",
              "  </svg>\n",
              "      </button>\n",
              "      \n",
              "  <style>\n",
              "    .colab-df-container {\n",
              "      display:flex;\n",
              "      flex-wrap:wrap;\n",
              "      gap: 12px;\n",
              "    }\n",
              "\n",
              "    .colab-df-convert {\n",
              "      background-color: #E8F0FE;\n",
              "      border: none;\n",
              "      border-radius: 50%;\n",
              "      cursor: pointer;\n",
              "      display: none;\n",
              "      fill: #1967D2;\n",
              "      height: 32px;\n",
              "      padding: 0 0 0 0;\n",
              "      width: 32px;\n",
              "    }\n",
              "\n",
              "    .colab-df-convert:hover {\n",
              "      background-color: #E2EBFA;\n",
              "      box-shadow: 0px 1px 2px rgba(60, 64, 67, 0.3), 0px 1px 3px 1px rgba(60, 64, 67, 0.15);\n",
              "      fill: #174EA6;\n",
              "    }\n",
              "\n",
              "    [theme=dark] .colab-df-convert {\n",
              "      background-color: #3B4455;\n",
              "      fill: #D2E3FC;\n",
              "    }\n",
              "\n",
              "    [theme=dark] .colab-df-convert:hover {\n",
              "      background-color: #434B5C;\n",
              "      box-shadow: 0px 1px 3px 1px rgba(0, 0, 0, 0.15);\n",
              "      filter: drop-shadow(0px 1px 2px rgba(0, 0, 0, 0.3));\n",
              "      fill: #FFFFFF;\n",
              "    }\n",
              "  </style>\n",
              "\n",
              "      <script>\n",
              "        const buttonEl =\n",
              "          document.querySelector('#df-813a9a6f-1af0-4126-a913-1315a4e07839 button.colab-df-convert');\n",
              "        buttonEl.style.display =\n",
              "          google.colab.kernel.accessAllowed ? 'block' : 'none';\n",
              "\n",
              "        async function convertToInteractive(key) {\n",
              "          const element = document.querySelector('#df-813a9a6f-1af0-4126-a913-1315a4e07839');\n",
              "          const dataTable =\n",
              "            await google.colab.kernel.invokeFunction('convertToInteractive',\n",
              "                                                     [key], {});\n",
              "          if (!dataTable) return;\n",
              "\n",
              "          const docLinkHtml = 'Like what you see? Visit the ' +\n",
              "            '<a target=\"_blank\" href=https://colab.research.google.com/notebooks/data_table.ipynb>data table notebook</a>'\n",
              "            + ' to learn more about interactive tables.';\n",
              "          element.innerHTML = '';\n",
              "          dataTable['output_type'] = 'display_data';\n",
              "          await google.colab.output.renderOutput(dataTable, element);\n",
              "          const docLink = document.createElement('div');\n",
              "          docLink.innerHTML = docLinkHtml;\n",
              "          element.appendChild(docLink);\n",
              "        }\n",
              "      </script>\n",
              "    </div>\n",
              "  </div>\n",
              "  "
            ]
          },
          "metadata": {},
          "execution_count": 33
        }
      ]
    },
    {
      "cell_type": "code",
      "metadata": {
        "id": "S2M9QVCbcNpx",
        "colab": {
          "base_uri": "https://localhost:8080/",
          "height": 0
        },
        "outputId": "1b427b5a-061d-4be6-a309-ddcea17d9dfc"
      },
      "source": [
        "app[app[\"Rating\"]== \"PRODUCTIVITY\"]"
      ],
      "execution_count": 34,
      "outputs": [
        {
          "output_type": "execute_result",
          "data": {
            "text/plain": [
              "Empty DataFrame\n",
              "Columns: [App Name, Category, Rating, Reviews, Installs, Size, Price, Content Rating, Last Updated, Minimum Version, Latest Version]\n",
              "Index: []"
            ],
            "text/html": [
              "\n",
              "  <div id=\"df-e28b215d-e5d2-4882-a065-ec364bf7df10\">\n",
              "    <div class=\"colab-df-container\">\n",
              "      <div>\n",
              "<style scoped>\n",
              "    .dataframe tbody tr th:only-of-type {\n",
              "        vertical-align: middle;\n",
              "    }\n",
              "\n",
              "    .dataframe tbody tr th {\n",
              "        vertical-align: top;\n",
              "    }\n",
              "\n",
              "    .dataframe thead th {\n",
              "        text-align: right;\n",
              "    }\n",
              "</style>\n",
              "<table border=\"1\" class=\"dataframe\">\n",
              "  <thead>\n",
              "    <tr style=\"text-align: right;\">\n",
              "      <th></th>\n",
              "      <th>App Name</th>\n",
              "      <th>Category</th>\n",
              "      <th>Rating</th>\n",
              "      <th>Reviews</th>\n",
              "      <th>Installs</th>\n",
              "      <th>Size</th>\n",
              "      <th>Price</th>\n",
              "      <th>Content Rating</th>\n",
              "      <th>Last Updated</th>\n",
              "      <th>Minimum Version</th>\n",
              "      <th>Latest Version</th>\n",
              "    </tr>\n",
              "  </thead>\n",
              "  <tbody>\n",
              "  </tbody>\n",
              "</table>\n",
              "</div>\n",
              "      <button class=\"colab-df-convert\" onclick=\"convertToInteractive('df-e28b215d-e5d2-4882-a065-ec364bf7df10')\"\n",
              "              title=\"Convert this dataframe to an interactive table.\"\n",
              "              style=\"display:none;\">\n",
              "        \n",
              "  <svg xmlns=\"http://www.w3.org/2000/svg\" height=\"24px\"viewBox=\"0 0 24 24\"\n",
              "       width=\"24px\">\n",
              "    <path d=\"M0 0h24v24H0V0z\" fill=\"none\"/>\n",
              "    <path d=\"M18.56 5.44l.94 2.06.94-2.06 2.06-.94-2.06-.94-.94-2.06-.94 2.06-2.06.94zm-11 1L8.5 8.5l.94-2.06 2.06-.94-2.06-.94L8.5 2.5l-.94 2.06-2.06.94zm10 10l.94 2.06.94-2.06 2.06-.94-2.06-.94-.94-2.06-.94 2.06-2.06.94z\"/><path d=\"M17.41 7.96l-1.37-1.37c-.4-.4-.92-.59-1.43-.59-.52 0-1.04.2-1.43.59L10.3 9.45l-7.72 7.72c-.78.78-.78 2.05 0 2.83L4 21.41c.39.39.9.59 1.41.59.51 0 1.02-.2 1.41-.59l7.78-7.78 2.81-2.81c.8-.78.8-2.07 0-2.86zM5.41 20L4 18.59l7.72-7.72 1.47 1.35L5.41 20z\"/>\n",
              "  </svg>\n",
              "      </button>\n",
              "      \n",
              "  <style>\n",
              "    .colab-df-container {\n",
              "      display:flex;\n",
              "      flex-wrap:wrap;\n",
              "      gap: 12px;\n",
              "    }\n",
              "\n",
              "    .colab-df-convert {\n",
              "      background-color: #E8F0FE;\n",
              "      border: none;\n",
              "      border-radius: 50%;\n",
              "      cursor: pointer;\n",
              "      display: none;\n",
              "      fill: #1967D2;\n",
              "      height: 32px;\n",
              "      padding: 0 0 0 0;\n",
              "      width: 32px;\n",
              "    }\n",
              "\n",
              "    .colab-df-convert:hover {\n",
              "      background-color: #E2EBFA;\n",
              "      box-shadow: 0px 1px 2px rgba(60, 64, 67, 0.3), 0px 1px 3px 1px rgba(60, 64, 67, 0.15);\n",
              "      fill: #174EA6;\n",
              "    }\n",
              "\n",
              "    [theme=dark] .colab-df-convert {\n",
              "      background-color: #3B4455;\n",
              "      fill: #D2E3FC;\n",
              "    }\n",
              "\n",
              "    [theme=dark] .colab-df-convert:hover {\n",
              "      background-color: #434B5C;\n",
              "      box-shadow: 0px 1px 3px 1px rgba(0, 0, 0, 0.15);\n",
              "      filter: drop-shadow(0px 1px 2px rgba(0, 0, 0, 0.3));\n",
              "      fill: #FFFFFF;\n",
              "    }\n",
              "  </style>\n",
              "\n",
              "      <script>\n",
              "        const buttonEl =\n",
              "          document.querySelector('#df-e28b215d-e5d2-4882-a065-ec364bf7df10 button.colab-df-convert');\n",
              "        buttonEl.style.display =\n",
              "          google.colab.kernel.accessAllowed ? 'block' : 'none';\n",
              "\n",
              "        async function convertToInteractive(key) {\n",
              "          const element = document.querySelector('#df-e28b215d-e5d2-4882-a065-ec364bf7df10');\n",
              "          const dataTable =\n",
              "            await google.colab.kernel.invokeFunction('convertToInteractive',\n",
              "                                                     [key], {});\n",
              "          if (!dataTable) return;\n",
              "\n",
              "          const docLinkHtml = 'Like what you see? Visit the ' +\n",
              "            '<a target=\"_blank\" href=https://colab.research.google.com/notebooks/data_table.ipynb>data table notebook</a>'\n",
              "            + ' to learn more about interactive tables.';\n",
              "          element.innerHTML = '';\n",
              "          dataTable['output_type'] = 'display_data';\n",
              "          await google.colab.output.renderOutput(dataTable, element);\n",
              "          const docLink = document.createElement('div');\n",
              "          docLink.innerHTML = docLinkHtml;\n",
              "          element.appendChild(docLink);\n",
              "        }\n",
              "      </script>\n",
              "    </div>\n",
              "  </div>\n",
              "  "
            ]
          },
          "metadata": {},
          "execution_count": 34
        }
      ]
    },
    {
      "cell_type": "code",
      "metadata": {
        "id": "0HY8VF_0cNp0",
        "colab": {
          "base_uri": "https://localhost:8080/",
          "height": 0
        },
        "outputId": "5f2bc2ce-2676-4a9b-d11b-d0a181e06dd8"
      },
      "source": [
        "# Fixing the data entry positions manually for the index position 168914\n",
        "\n",
        "app.loc[168914, [\"Category\", \"Rating\", \"Reviews\", \"Installs\", \"Size\", \"Price\", \"Content Rating\", \"Last Updated\", \"Minimum Version\", \"Latest Version\"]] = \"PRODUCTIVITY\", \"4.389830589\", \"59\", \"10,000+\", \"16M\", \"0\", \"Everyone\", \"December 21, 2018\",\"4.1 and up\", \"NaN\"\n",
        "app[app[\"Rating\"]== \"PRODUCTIVITY\"] # Ensuring that column \"Rating\" is fixed from this kind of data entry"
      ],
      "execution_count": 35,
      "outputs": [
        {
          "output_type": "execute_result",
          "data": {
            "text/plain": [
              "Empty DataFrame\n",
              "Columns: [App Name, Category, Rating, Reviews, Installs, Size, Price, Content Rating, Last Updated, Minimum Version, Latest Version]\n",
              "Index: []"
            ],
            "text/html": [
              "\n",
              "  <div id=\"df-163ea206-deb6-4233-a8f7-30cc1abc170e\">\n",
              "    <div class=\"colab-df-container\">\n",
              "      <div>\n",
              "<style scoped>\n",
              "    .dataframe tbody tr th:only-of-type {\n",
              "        vertical-align: middle;\n",
              "    }\n",
              "\n",
              "    .dataframe tbody tr th {\n",
              "        vertical-align: top;\n",
              "    }\n",
              "\n",
              "    .dataframe thead th {\n",
              "        text-align: right;\n",
              "    }\n",
              "</style>\n",
              "<table border=\"1\" class=\"dataframe\">\n",
              "  <thead>\n",
              "    <tr style=\"text-align: right;\">\n",
              "      <th></th>\n",
              "      <th>App Name</th>\n",
              "      <th>Category</th>\n",
              "      <th>Rating</th>\n",
              "      <th>Reviews</th>\n",
              "      <th>Installs</th>\n",
              "      <th>Size</th>\n",
              "      <th>Price</th>\n",
              "      <th>Content Rating</th>\n",
              "      <th>Last Updated</th>\n",
              "      <th>Minimum Version</th>\n",
              "      <th>Latest Version</th>\n",
              "    </tr>\n",
              "  </thead>\n",
              "  <tbody>\n",
              "  </tbody>\n",
              "</table>\n",
              "</div>\n",
              "      <button class=\"colab-df-convert\" onclick=\"convertToInteractive('df-163ea206-deb6-4233-a8f7-30cc1abc170e')\"\n",
              "              title=\"Convert this dataframe to an interactive table.\"\n",
              "              style=\"display:none;\">\n",
              "        \n",
              "  <svg xmlns=\"http://www.w3.org/2000/svg\" height=\"24px\"viewBox=\"0 0 24 24\"\n",
              "       width=\"24px\">\n",
              "    <path d=\"M0 0h24v24H0V0z\" fill=\"none\"/>\n",
              "    <path d=\"M18.56 5.44l.94 2.06.94-2.06 2.06-.94-2.06-.94-.94-2.06-.94 2.06-2.06.94zm-11 1L8.5 8.5l.94-2.06 2.06-.94-2.06-.94L8.5 2.5l-.94 2.06-2.06.94zm10 10l.94 2.06.94-2.06 2.06-.94-2.06-.94-.94-2.06-.94 2.06-2.06.94z\"/><path d=\"M17.41 7.96l-1.37-1.37c-.4-.4-.92-.59-1.43-.59-.52 0-1.04.2-1.43.59L10.3 9.45l-7.72 7.72c-.78.78-.78 2.05 0 2.83L4 21.41c.39.39.9.59 1.41.59.51 0 1.02-.2 1.41-.59l7.78-7.78 2.81-2.81c.8-.78.8-2.07 0-2.86zM5.41 20L4 18.59l7.72-7.72 1.47 1.35L5.41 20z\"/>\n",
              "  </svg>\n",
              "      </button>\n",
              "      \n",
              "  <style>\n",
              "    .colab-df-container {\n",
              "      display:flex;\n",
              "      flex-wrap:wrap;\n",
              "      gap: 12px;\n",
              "    }\n",
              "\n",
              "    .colab-df-convert {\n",
              "      background-color: #E8F0FE;\n",
              "      border: none;\n",
              "      border-radius: 50%;\n",
              "      cursor: pointer;\n",
              "      display: none;\n",
              "      fill: #1967D2;\n",
              "      height: 32px;\n",
              "      padding: 0 0 0 0;\n",
              "      width: 32px;\n",
              "    }\n",
              "\n",
              "    .colab-df-convert:hover {\n",
              "      background-color: #E2EBFA;\n",
              "      box-shadow: 0px 1px 2px rgba(60, 64, 67, 0.3), 0px 1px 3px 1px rgba(60, 64, 67, 0.15);\n",
              "      fill: #174EA6;\n",
              "    }\n",
              "\n",
              "    [theme=dark] .colab-df-convert {\n",
              "      background-color: #3B4455;\n",
              "      fill: #D2E3FC;\n",
              "    }\n",
              "\n",
              "    [theme=dark] .colab-df-convert:hover {\n",
              "      background-color: #434B5C;\n",
              "      box-shadow: 0px 1px 3px 1px rgba(0, 0, 0, 0.15);\n",
              "      filter: drop-shadow(0px 1px 2px rgba(0, 0, 0, 0.3));\n",
              "      fill: #FFFFFF;\n",
              "    }\n",
              "  </style>\n",
              "\n",
              "      <script>\n",
              "        const buttonEl =\n",
              "          document.querySelector('#df-163ea206-deb6-4233-a8f7-30cc1abc170e button.colab-df-convert');\n",
              "        buttonEl.style.display =\n",
              "          google.colab.kernel.accessAllowed ? 'block' : 'none';\n",
              "\n",
              "        async function convertToInteractive(key) {\n",
              "          const element = document.querySelector('#df-163ea206-deb6-4233-a8f7-30cc1abc170e');\n",
              "          const dataTable =\n",
              "            await google.colab.kernel.invokeFunction('convertToInteractive',\n",
              "                                                     [key], {});\n",
              "          if (!dataTable) return;\n",
              "\n",
              "          const docLinkHtml = 'Like what you see? Visit the ' +\n",
              "            '<a target=\"_blank\" href=https://colab.research.google.com/notebooks/data_table.ipynb>data table notebook</a>'\n",
              "            + ' to learn more about interactive tables.';\n",
              "          element.innerHTML = '';\n",
              "          dataTable['output_type'] = 'display_data';\n",
              "          await google.colab.output.renderOutput(dataTable, element);\n",
              "          const docLink = document.createElement('div');\n",
              "          docLink.innerHTML = docLinkHtml;\n",
              "          element.appendChild(docLink);\n",
              "        }\n",
              "      </script>\n",
              "    </div>\n",
              "  </div>\n",
              "  "
            ]
          },
          "metadata": {},
          "execution_count": 35
        }
      ]
    },
    {
      "cell_type": "code",
      "metadata": {
        "id": "u_oyrSP4cNqG",
        "colab": {
          "base_uri": "https://localhost:8080/",
          "height": 0
        },
        "outputId": "6de3d111-deac-4690-85fe-c509ea3ae5d4"
      },
      "source": [
        "app[app[\"Rating\"]== \"MUSIC_AND_AUDIO\"]"
      ],
      "execution_count": 36,
      "outputs": [
        {
          "output_type": "execute_result",
          "data": {
            "text/plain": [
              "Empty DataFrame\n",
              "Columns: [App Name, Category, Rating, Reviews, Installs, Size, Price, Content Rating, Last Updated, Minimum Version, Latest Version]\n",
              "Index: []"
            ],
            "text/html": [
              "\n",
              "  <div id=\"df-f11b5883-32f4-4ed2-98d0-29a33c059171\">\n",
              "    <div class=\"colab-df-container\">\n",
              "      <div>\n",
              "<style scoped>\n",
              "    .dataframe tbody tr th:only-of-type {\n",
              "        vertical-align: middle;\n",
              "    }\n",
              "\n",
              "    .dataframe tbody tr th {\n",
              "        vertical-align: top;\n",
              "    }\n",
              "\n",
              "    .dataframe thead th {\n",
              "        text-align: right;\n",
              "    }\n",
              "</style>\n",
              "<table border=\"1\" class=\"dataframe\">\n",
              "  <thead>\n",
              "    <tr style=\"text-align: right;\">\n",
              "      <th></th>\n",
              "      <th>App Name</th>\n",
              "      <th>Category</th>\n",
              "      <th>Rating</th>\n",
              "      <th>Reviews</th>\n",
              "      <th>Installs</th>\n",
              "      <th>Size</th>\n",
              "      <th>Price</th>\n",
              "      <th>Content Rating</th>\n",
              "      <th>Last Updated</th>\n",
              "      <th>Minimum Version</th>\n",
              "      <th>Latest Version</th>\n",
              "    </tr>\n",
              "  </thead>\n",
              "  <tbody>\n",
              "  </tbody>\n",
              "</table>\n",
              "</div>\n",
              "      <button class=\"colab-df-convert\" onclick=\"convertToInteractive('df-f11b5883-32f4-4ed2-98d0-29a33c059171')\"\n",
              "              title=\"Convert this dataframe to an interactive table.\"\n",
              "              style=\"display:none;\">\n",
              "        \n",
              "  <svg xmlns=\"http://www.w3.org/2000/svg\" height=\"24px\"viewBox=\"0 0 24 24\"\n",
              "       width=\"24px\">\n",
              "    <path d=\"M0 0h24v24H0V0z\" fill=\"none\"/>\n",
              "    <path d=\"M18.56 5.44l.94 2.06.94-2.06 2.06-.94-2.06-.94-.94-2.06-.94 2.06-2.06.94zm-11 1L8.5 8.5l.94-2.06 2.06-.94-2.06-.94L8.5 2.5l-.94 2.06-2.06.94zm10 10l.94 2.06.94-2.06 2.06-.94-2.06-.94-.94-2.06-.94 2.06-2.06.94z\"/><path d=\"M17.41 7.96l-1.37-1.37c-.4-.4-.92-.59-1.43-.59-.52 0-1.04.2-1.43.59L10.3 9.45l-7.72 7.72c-.78.78-.78 2.05 0 2.83L4 21.41c.39.39.9.59 1.41.59.51 0 1.02-.2 1.41-.59l7.78-7.78 2.81-2.81c.8-.78.8-2.07 0-2.86zM5.41 20L4 18.59l7.72-7.72 1.47 1.35L5.41 20z\"/>\n",
              "  </svg>\n",
              "      </button>\n",
              "      \n",
              "  <style>\n",
              "    .colab-df-container {\n",
              "      display:flex;\n",
              "      flex-wrap:wrap;\n",
              "      gap: 12px;\n",
              "    }\n",
              "\n",
              "    .colab-df-convert {\n",
              "      background-color: #E8F0FE;\n",
              "      border: none;\n",
              "      border-radius: 50%;\n",
              "      cursor: pointer;\n",
              "      display: none;\n",
              "      fill: #1967D2;\n",
              "      height: 32px;\n",
              "      padding: 0 0 0 0;\n",
              "      width: 32px;\n",
              "    }\n",
              "\n",
              "    .colab-df-convert:hover {\n",
              "      background-color: #E2EBFA;\n",
              "      box-shadow: 0px 1px 2px rgba(60, 64, 67, 0.3), 0px 1px 3px 1px rgba(60, 64, 67, 0.15);\n",
              "      fill: #174EA6;\n",
              "    }\n",
              "\n",
              "    [theme=dark] .colab-df-convert {\n",
              "      background-color: #3B4455;\n",
              "      fill: #D2E3FC;\n",
              "    }\n",
              "\n",
              "    [theme=dark] .colab-df-convert:hover {\n",
              "      background-color: #434B5C;\n",
              "      box-shadow: 0px 1px 3px 1px rgba(0, 0, 0, 0.15);\n",
              "      filter: drop-shadow(0px 1px 2px rgba(0, 0, 0, 0.3));\n",
              "      fill: #FFFFFF;\n",
              "    }\n",
              "  </style>\n",
              "\n",
              "      <script>\n",
              "        const buttonEl =\n",
              "          document.querySelector('#df-f11b5883-32f4-4ed2-98d0-29a33c059171 button.colab-df-convert');\n",
              "        buttonEl.style.display =\n",
              "          google.colab.kernel.accessAllowed ? 'block' : 'none';\n",
              "\n",
              "        async function convertToInteractive(key) {\n",
              "          const element = document.querySelector('#df-f11b5883-32f4-4ed2-98d0-29a33c059171');\n",
              "          const dataTable =\n",
              "            await google.colab.kernel.invokeFunction('convertToInteractive',\n",
              "                                                     [key], {});\n",
              "          if (!dataTable) return;\n",
              "\n",
              "          const docLinkHtml = 'Like what you see? Visit the ' +\n",
              "            '<a target=\"_blank\" href=https://colab.research.google.com/notebooks/data_table.ipynb>data table notebook</a>'\n",
              "            + ' to learn more about interactive tables.';\n",
              "          element.innerHTML = '';\n",
              "          dataTable['output_type'] = 'display_data';\n",
              "          await google.colab.output.renderOutput(dataTable, element);\n",
              "          const docLink = document.createElement('div');\n",
              "          docLink.innerHTML = docLinkHtml;\n",
              "          element.appendChild(docLink);\n",
              "        }\n",
              "      </script>\n",
              "    </div>\n",
              "  </div>\n",
              "  "
            ]
          },
          "metadata": {},
          "execution_count": 36
        }
      ]
    },
    {
      "cell_type": "code",
      "metadata": {
        "id": "T-ATjiURcNqJ",
        "colab": {
          "base_uri": "https://localhost:8080/",
          "height": 0
        },
        "outputId": "7bcad738-ec7d-4959-b4f2-f7111ac9c654"
      },
      "source": [
        "# Same logic here. Misplaced but valid data. They will be edited manually\n",
        "\n",
        "app.loc[177165, [\"Category\", \"Rating\", \"Reviews\", \"Installs\", \"Size\", \"Price\", \"Content Rating\", \"Last Updated\", \"Minimum Version\", \"Latest Version\"]] = \"MUSIC_AND_AUDIO\", \"4.538461685\", \"13\", \"1,000+\", \"Varies with device\", \"0\", \"Teen\", \"October 24, 2018\",\"Varies with device\", \"NaN\"\n",
        "app.loc[193869, [\"Category\", \"Rating\", \"Reviews\", \"Installs\", \"Size\", \"Price\", \"Content Rating\", \"Last Updated\", \"Minimum Version\", \"Latest Version\"]] = \"MUSIC_AND_AUDIO\", \"4.632093906\", \"511\", \"10,000+\", \"2.5M\", \"0\", \"Everyone\", \"September 25, 2018\",\"2.3 and up\", \"NaN\"\n",
        "app.loc[257773, [\"Category\", \"Rating\", \"Reviews\", \"Installs\", \"Size\", \"Price\", \"Content Rating\", \"Last Updated\", \"Minimum Version\", \"Latest Version\"]] = \"MUSIC_AND_AUDIO\", \"4.400000095\", \"10\", \"1,000+\", \"3.5M\", \"0\", \"Everyone\", \"November 7, 2018\",\"4.0 and up\", \"NaN\"\n",
        "app[app[\"Rating\"]== \"PRODUCTIVITY\"]"
      ],
      "execution_count": 37,
      "outputs": [
        {
          "output_type": "execute_result",
          "data": {
            "text/plain": [
              "Empty DataFrame\n",
              "Columns: [App Name, Category, Rating, Reviews, Installs, Size, Price, Content Rating, Last Updated, Minimum Version, Latest Version]\n",
              "Index: []"
            ],
            "text/html": [
              "\n",
              "  <div id=\"df-28aa3a7f-a818-489b-995b-100cbc4a815b\">\n",
              "    <div class=\"colab-df-container\">\n",
              "      <div>\n",
              "<style scoped>\n",
              "    .dataframe tbody tr th:only-of-type {\n",
              "        vertical-align: middle;\n",
              "    }\n",
              "\n",
              "    .dataframe tbody tr th {\n",
              "        vertical-align: top;\n",
              "    }\n",
              "\n",
              "    .dataframe thead th {\n",
              "        text-align: right;\n",
              "    }\n",
              "</style>\n",
              "<table border=\"1\" class=\"dataframe\">\n",
              "  <thead>\n",
              "    <tr style=\"text-align: right;\">\n",
              "      <th></th>\n",
              "      <th>App Name</th>\n",
              "      <th>Category</th>\n",
              "      <th>Rating</th>\n",
              "      <th>Reviews</th>\n",
              "      <th>Installs</th>\n",
              "      <th>Size</th>\n",
              "      <th>Price</th>\n",
              "      <th>Content Rating</th>\n",
              "      <th>Last Updated</th>\n",
              "      <th>Minimum Version</th>\n",
              "      <th>Latest Version</th>\n",
              "    </tr>\n",
              "  </thead>\n",
              "  <tbody>\n",
              "  </tbody>\n",
              "</table>\n",
              "</div>\n",
              "      <button class=\"colab-df-convert\" onclick=\"convertToInteractive('df-28aa3a7f-a818-489b-995b-100cbc4a815b')\"\n",
              "              title=\"Convert this dataframe to an interactive table.\"\n",
              "              style=\"display:none;\">\n",
              "        \n",
              "  <svg xmlns=\"http://www.w3.org/2000/svg\" height=\"24px\"viewBox=\"0 0 24 24\"\n",
              "       width=\"24px\">\n",
              "    <path d=\"M0 0h24v24H0V0z\" fill=\"none\"/>\n",
              "    <path d=\"M18.56 5.44l.94 2.06.94-2.06 2.06-.94-2.06-.94-.94-2.06-.94 2.06-2.06.94zm-11 1L8.5 8.5l.94-2.06 2.06-.94-2.06-.94L8.5 2.5l-.94 2.06-2.06.94zm10 10l.94 2.06.94-2.06 2.06-.94-2.06-.94-.94-2.06-.94 2.06-2.06.94z\"/><path d=\"M17.41 7.96l-1.37-1.37c-.4-.4-.92-.59-1.43-.59-.52 0-1.04.2-1.43.59L10.3 9.45l-7.72 7.72c-.78.78-.78 2.05 0 2.83L4 21.41c.39.39.9.59 1.41.59.51 0 1.02-.2 1.41-.59l7.78-7.78 2.81-2.81c.8-.78.8-2.07 0-2.86zM5.41 20L4 18.59l7.72-7.72 1.47 1.35L5.41 20z\"/>\n",
              "  </svg>\n",
              "      </button>\n",
              "      \n",
              "  <style>\n",
              "    .colab-df-container {\n",
              "      display:flex;\n",
              "      flex-wrap:wrap;\n",
              "      gap: 12px;\n",
              "    }\n",
              "\n",
              "    .colab-df-convert {\n",
              "      background-color: #E8F0FE;\n",
              "      border: none;\n",
              "      border-radius: 50%;\n",
              "      cursor: pointer;\n",
              "      display: none;\n",
              "      fill: #1967D2;\n",
              "      height: 32px;\n",
              "      padding: 0 0 0 0;\n",
              "      width: 32px;\n",
              "    }\n",
              "\n",
              "    .colab-df-convert:hover {\n",
              "      background-color: #E2EBFA;\n",
              "      box-shadow: 0px 1px 2px rgba(60, 64, 67, 0.3), 0px 1px 3px 1px rgba(60, 64, 67, 0.15);\n",
              "      fill: #174EA6;\n",
              "    }\n",
              "\n",
              "    [theme=dark] .colab-df-convert {\n",
              "      background-color: #3B4455;\n",
              "      fill: #D2E3FC;\n",
              "    }\n",
              "\n",
              "    [theme=dark] .colab-df-convert:hover {\n",
              "      background-color: #434B5C;\n",
              "      box-shadow: 0px 1px 3px 1px rgba(0, 0, 0, 0.15);\n",
              "      filter: drop-shadow(0px 1px 2px rgba(0, 0, 0, 0.3));\n",
              "      fill: #FFFFFF;\n",
              "    }\n",
              "  </style>\n",
              "\n",
              "      <script>\n",
              "        const buttonEl =\n",
              "          document.querySelector('#df-28aa3a7f-a818-489b-995b-100cbc4a815b button.colab-df-convert');\n",
              "        buttonEl.style.display =\n",
              "          google.colab.kernel.accessAllowed ? 'block' : 'none';\n",
              "\n",
              "        async function convertToInteractive(key) {\n",
              "          const element = document.querySelector('#df-28aa3a7f-a818-489b-995b-100cbc4a815b');\n",
              "          const dataTable =\n",
              "            await google.colab.kernel.invokeFunction('convertToInteractive',\n",
              "                                                     [key], {});\n",
              "          if (!dataTable) return;\n",
              "\n",
              "          const docLinkHtml = 'Like what you see? Visit the ' +\n",
              "            '<a target=\"_blank\" href=https://colab.research.google.com/notebooks/data_table.ipynb>data table notebook</a>'\n",
              "            + ' to learn more about interactive tables.';\n",
              "          element.innerHTML = '';\n",
              "          dataTable['output_type'] = 'display_data';\n",
              "          await google.colab.output.renderOutput(dataTable, element);\n",
              "          const docLink = document.createElement('div');\n",
              "          docLink.innerHTML = docLinkHtml;\n",
              "          element.appendChild(docLink);\n",
              "        }\n",
              "      </script>\n",
              "    </div>\n",
              "  </div>\n",
              "  "
            ]
          },
          "metadata": {},
          "execution_count": 37
        }
      ]
    },
    {
      "cell_type": "code",
      "metadata": {
        "id": "8MmKdnf-cNqR",
        "colab": {
          "base_uri": "https://localhost:8080/",
          "height": 0
        },
        "outputId": "2ca3569f-4ae9-495c-baaa-b0cd9af58096"
      },
      "source": [
        "app[app[\"Rating\"]== \"TRAVEL_AND_LOCAL\"]"
      ],
      "execution_count": 38,
      "outputs": [
        {
          "output_type": "execute_result",
          "data": {
            "text/plain": [
              "Empty DataFrame\n",
              "Columns: [App Name, Category, Rating, Reviews, Installs, Size, Price, Content Rating, Last Updated, Minimum Version, Latest Version]\n",
              "Index: []"
            ],
            "text/html": [
              "\n",
              "  <div id=\"df-ae7ea9b2-2a4d-443e-a2b8-247658cc8089\">\n",
              "    <div class=\"colab-df-container\">\n",
              "      <div>\n",
              "<style scoped>\n",
              "    .dataframe tbody tr th:only-of-type {\n",
              "        vertical-align: middle;\n",
              "    }\n",
              "\n",
              "    .dataframe tbody tr th {\n",
              "        vertical-align: top;\n",
              "    }\n",
              "\n",
              "    .dataframe thead th {\n",
              "        text-align: right;\n",
              "    }\n",
              "</style>\n",
              "<table border=\"1\" class=\"dataframe\">\n",
              "  <thead>\n",
              "    <tr style=\"text-align: right;\">\n",
              "      <th></th>\n",
              "      <th>App Name</th>\n",
              "      <th>Category</th>\n",
              "      <th>Rating</th>\n",
              "      <th>Reviews</th>\n",
              "      <th>Installs</th>\n",
              "      <th>Size</th>\n",
              "      <th>Price</th>\n",
              "      <th>Content Rating</th>\n",
              "      <th>Last Updated</th>\n",
              "      <th>Minimum Version</th>\n",
              "      <th>Latest Version</th>\n",
              "    </tr>\n",
              "  </thead>\n",
              "  <tbody>\n",
              "  </tbody>\n",
              "</table>\n",
              "</div>\n",
              "      <button class=\"colab-df-convert\" onclick=\"convertToInteractive('df-ae7ea9b2-2a4d-443e-a2b8-247658cc8089')\"\n",
              "              title=\"Convert this dataframe to an interactive table.\"\n",
              "              style=\"display:none;\">\n",
              "        \n",
              "  <svg xmlns=\"http://www.w3.org/2000/svg\" height=\"24px\"viewBox=\"0 0 24 24\"\n",
              "       width=\"24px\">\n",
              "    <path d=\"M0 0h24v24H0V0z\" fill=\"none\"/>\n",
              "    <path d=\"M18.56 5.44l.94 2.06.94-2.06 2.06-.94-2.06-.94-.94-2.06-.94 2.06-2.06.94zm-11 1L8.5 8.5l.94-2.06 2.06-.94-2.06-.94L8.5 2.5l-.94 2.06-2.06.94zm10 10l.94 2.06.94-2.06 2.06-.94-2.06-.94-.94-2.06-.94 2.06-2.06.94z\"/><path d=\"M17.41 7.96l-1.37-1.37c-.4-.4-.92-.59-1.43-.59-.52 0-1.04.2-1.43.59L10.3 9.45l-7.72 7.72c-.78.78-.78 2.05 0 2.83L4 21.41c.39.39.9.59 1.41.59.51 0 1.02-.2 1.41-.59l7.78-7.78 2.81-2.81c.8-.78.8-2.07 0-2.86zM5.41 20L4 18.59l7.72-7.72 1.47 1.35L5.41 20z\"/>\n",
              "  </svg>\n",
              "      </button>\n",
              "      \n",
              "  <style>\n",
              "    .colab-df-container {\n",
              "      display:flex;\n",
              "      flex-wrap:wrap;\n",
              "      gap: 12px;\n",
              "    }\n",
              "\n",
              "    .colab-df-convert {\n",
              "      background-color: #E8F0FE;\n",
              "      border: none;\n",
              "      border-radius: 50%;\n",
              "      cursor: pointer;\n",
              "      display: none;\n",
              "      fill: #1967D2;\n",
              "      height: 32px;\n",
              "      padding: 0 0 0 0;\n",
              "      width: 32px;\n",
              "    }\n",
              "\n",
              "    .colab-df-convert:hover {\n",
              "      background-color: #E2EBFA;\n",
              "      box-shadow: 0px 1px 2px rgba(60, 64, 67, 0.3), 0px 1px 3px 1px rgba(60, 64, 67, 0.15);\n",
              "      fill: #174EA6;\n",
              "    }\n",
              "\n",
              "    [theme=dark] .colab-df-convert {\n",
              "      background-color: #3B4455;\n",
              "      fill: #D2E3FC;\n",
              "    }\n",
              "\n",
              "    [theme=dark] .colab-df-convert:hover {\n",
              "      background-color: #434B5C;\n",
              "      box-shadow: 0px 1px 3px 1px rgba(0, 0, 0, 0.15);\n",
              "      filter: drop-shadow(0px 1px 2px rgba(0, 0, 0, 0.3));\n",
              "      fill: #FFFFFF;\n",
              "    }\n",
              "  </style>\n",
              "\n",
              "      <script>\n",
              "        const buttonEl =\n",
              "          document.querySelector('#df-ae7ea9b2-2a4d-443e-a2b8-247658cc8089 button.colab-df-convert');\n",
              "        buttonEl.style.display =\n",
              "          google.colab.kernel.accessAllowed ? 'block' : 'none';\n",
              "\n",
              "        async function convertToInteractive(key) {\n",
              "          const element = document.querySelector('#df-ae7ea9b2-2a4d-443e-a2b8-247658cc8089');\n",
              "          const dataTable =\n",
              "            await google.colab.kernel.invokeFunction('convertToInteractive',\n",
              "                                                     [key], {});\n",
              "          if (!dataTable) return;\n",
              "\n",
              "          const docLinkHtml = 'Like what you see? Visit the ' +\n",
              "            '<a target=\"_blank\" href=https://colab.research.google.com/notebooks/data_table.ipynb>data table notebook</a>'\n",
              "            + ' to learn more about interactive tables.';\n",
              "          element.innerHTML = '';\n",
              "          dataTable['output_type'] = 'display_data';\n",
              "          await google.colab.output.renderOutput(dataTable, element);\n",
              "          const docLink = document.createElement('div');\n",
              "          docLink.innerHTML = docLinkHtml;\n",
              "          element.appendChild(docLink);\n",
              "        }\n",
              "      </script>\n",
              "    </div>\n",
              "  </div>\n",
              "  "
            ]
          },
          "metadata": {},
          "execution_count": 38
        }
      ]
    },
    {
      "cell_type": "code",
      "metadata": {
        "id": "HZKoJYzjcNqV",
        "colab": {
          "base_uri": "https://localhost:8080/",
          "height": 0
        },
        "outputId": "f1df987e-744d-444d-e6cf-266bf5be7b27"
      },
      "source": [
        "# Fixing the entries in index position 190759 manually (misplaced but substantial values)\n",
        "\n",
        "app.loc[190759, [\"Category\", \"Rating\", \"Reviews\", \"Installs\", \"Size\", \"Price\", \"Content Rating\", \"Last Updated\", \"Minimum Version\", \"Latest Version\"]] = \"TRAVEL_AND_LOCAL\", \"5\", \"6\", \"1,000+\", \"27M\", \"0\", \"Everyone\", \"October 16, 2017\", \"4.0 and up\", \"NaN\"\n",
        "\n",
        "app[app[\"Rating\"]== \"TRAVEL_AND_LOCAL\"]"
      ],
      "execution_count": 39,
      "outputs": [
        {
          "output_type": "execute_result",
          "data": {
            "text/plain": [
              "Empty DataFrame\n",
              "Columns: [App Name, Category, Rating, Reviews, Installs, Size, Price, Content Rating, Last Updated, Minimum Version, Latest Version]\n",
              "Index: []"
            ],
            "text/html": [
              "\n",
              "  <div id=\"df-7e02da7c-f131-470b-bae1-d29d309843c5\">\n",
              "    <div class=\"colab-df-container\">\n",
              "      <div>\n",
              "<style scoped>\n",
              "    .dataframe tbody tr th:only-of-type {\n",
              "        vertical-align: middle;\n",
              "    }\n",
              "\n",
              "    .dataframe tbody tr th {\n",
              "        vertical-align: top;\n",
              "    }\n",
              "\n",
              "    .dataframe thead th {\n",
              "        text-align: right;\n",
              "    }\n",
              "</style>\n",
              "<table border=\"1\" class=\"dataframe\">\n",
              "  <thead>\n",
              "    <tr style=\"text-align: right;\">\n",
              "      <th></th>\n",
              "      <th>App Name</th>\n",
              "      <th>Category</th>\n",
              "      <th>Rating</th>\n",
              "      <th>Reviews</th>\n",
              "      <th>Installs</th>\n",
              "      <th>Size</th>\n",
              "      <th>Price</th>\n",
              "      <th>Content Rating</th>\n",
              "      <th>Last Updated</th>\n",
              "      <th>Minimum Version</th>\n",
              "      <th>Latest Version</th>\n",
              "    </tr>\n",
              "  </thead>\n",
              "  <tbody>\n",
              "  </tbody>\n",
              "</table>\n",
              "</div>\n",
              "      <button class=\"colab-df-convert\" onclick=\"convertToInteractive('df-7e02da7c-f131-470b-bae1-d29d309843c5')\"\n",
              "              title=\"Convert this dataframe to an interactive table.\"\n",
              "              style=\"display:none;\">\n",
              "        \n",
              "  <svg xmlns=\"http://www.w3.org/2000/svg\" height=\"24px\"viewBox=\"0 0 24 24\"\n",
              "       width=\"24px\">\n",
              "    <path d=\"M0 0h24v24H0V0z\" fill=\"none\"/>\n",
              "    <path d=\"M18.56 5.44l.94 2.06.94-2.06 2.06-.94-2.06-.94-.94-2.06-.94 2.06-2.06.94zm-11 1L8.5 8.5l.94-2.06 2.06-.94-2.06-.94L8.5 2.5l-.94 2.06-2.06.94zm10 10l.94 2.06.94-2.06 2.06-.94-2.06-.94-.94-2.06-.94 2.06-2.06.94z\"/><path d=\"M17.41 7.96l-1.37-1.37c-.4-.4-.92-.59-1.43-.59-.52 0-1.04.2-1.43.59L10.3 9.45l-7.72 7.72c-.78.78-.78 2.05 0 2.83L4 21.41c.39.39.9.59 1.41.59.51 0 1.02-.2 1.41-.59l7.78-7.78 2.81-2.81c.8-.78.8-2.07 0-2.86zM5.41 20L4 18.59l7.72-7.72 1.47 1.35L5.41 20z\"/>\n",
              "  </svg>\n",
              "      </button>\n",
              "      \n",
              "  <style>\n",
              "    .colab-df-container {\n",
              "      display:flex;\n",
              "      flex-wrap:wrap;\n",
              "      gap: 12px;\n",
              "    }\n",
              "\n",
              "    .colab-df-convert {\n",
              "      background-color: #E8F0FE;\n",
              "      border: none;\n",
              "      border-radius: 50%;\n",
              "      cursor: pointer;\n",
              "      display: none;\n",
              "      fill: #1967D2;\n",
              "      height: 32px;\n",
              "      padding: 0 0 0 0;\n",
              "      width: 32px;\n",
              "    }\n",
              "\n",
              "    .colab-df-convert:hover {\n",
              "      background-color: #E2EBFA;\n",
              "      box-shadow: 0px 1px 2px rgba(60, 64, 67, 0.3), 0px 1px 3px 1px rgba(60, 64, 67, 0.15);\n",
              "      fill: #174EA6;\n",
              "    }\n",
              "\n",
              "    [theme=dark] .colab-df-convert {\n",
              "      background-color: #3B4455;\n",
              "      fill: #D2E3FC;\n",
              "    }\n",
              "\n",
              "    [theme=dark] .colab-df-convert:hover {\n",
              "      background-color: #434B5C;\n",
              "      box-shadow: 0px 1px 3px 1px rgba(0, 0, 0, 0.15);\n",
              "      filter: drop-shadow(0px 1px 2px rgba(0, 0, 0, 0.3));\n",
              "      fill: #FFFFFF;\n",
              "    }\n",
              "  </style>\n",
              "\n",
              "      <script>\n",
              "        const buttonEl =\n",
              "          document.querySelector('#df-7e02da7c-f131-470b-bae1-d29d309843c5 button.colab-df-convert');\n",
              "        buttonEl.style.display =\n",
              "          google.colab.kernel.accessAllowed ? 'block' : 'none';\n",
              "\n",
              "        async function convertToInteractive(key) {\n",
              "          const element = document.querySelector('#df-7e02da7c-f131-470b-bae1-d29d309843c5');\n",
              "          const dataTable =\n",
              "            await google.colab.kernel.invokeFunction('convertToInteractive',\n",
              "                                                     [key], {});\n",
              "          if (!dataTable) return;\n",
              "\n",
              "          const docLinkHtml = 'Like what you see? Visit the ' +\n",
              "            '<a target=\"_blank\" href=https://colab.research.google.com/notebooks/data_table.ipynb>data table notebook</a>'\n",
              "            + ' to learn more about interactive tables.';\n",
              "          element.innerHTML = '';\n",
              "          dataTable['output_type'] = 'display_data';\n",
              "          await google.colab.output.renderOutput(dataTable, element);\n",
              "          const docLink = document.createElement('div');\n",
              "          docLink.innerHTML = docLinkHtml;\n",
              "          element.appendChild(docLink);\n",
              "        }\n",
              "      </script>\n",
              "    </div>\n",
              "  </div>\n",
              "  "
            ]
          },
          "metadata": {},
          "execution_count": 39
        }
      ]
    },
    {
      "cell_type": "code",
      "metadata": {
        "id": "77u6B-s5cNqf",
        "colab": {
          "base_uri": "https://localhost:8080/",
          "height": 0
        },
        "outputId": "27809d22-c4b8-4328-84fb-445b48d01df3"
      },
      "source": [
        "app[app[\"Rating\"]== \"LIFESTYLE\"]"
      ],
      "execution_count": 40,
      "outputs": [
        {
          "output_type": "execute_result",
          "data": {
            "text/plain": [
              "Empty DataFrame\n",
              "Columns: [App Name, Category, Rating, Reviews, Installs, Size, Price, Content Rating, Last Updated, Minimum Version, Latest Version]\n",
              "Index: []"
            ],
            "text/html": [
              "\n",
              "  <div id=\"df-c768cfd8-f0e8-4214-ad46-57a0d032b526\">\n",
              "    <div class=\"colab-df-container\">\n",
              "      <div>\n",
              "<style scoped>\n",
              "    .dataframe tbody tr th:only-of-type {\n",
              "        vertical-align: middle;\n",
              "    }\n",
              "\n",
              "    .dataframe tbody tr th {\n",
              "        vertical-align: top;\n",
              "    }\n",
              "\n",
              "    .dataframe thead th {\n",
              "        text-align: right;\n",
              "    }\n",
              "</style>\n",
              "<table border=\"1\" class=\"dataframe\">\n",
              "  <thead>\n",
              "    <tr style=\"text-align: right;\">\n",
              "      <th></th>\n",
              "      <th>App Name</th>\n",
              "      <th>Category</th>\n",
              "      <th>Rating</th>\n",
              "      <th>Reviews</th>\n",
              "      <th>Installs</th>\n",
              "      <th>Size</th>\n",
              "      <th>Price</th>\n",
              "      <th>Content Rating</th>\n",
              "      <th>Last Updated</th>\n",
              "      <th>Minimum Version</th>\n",
              "      <th>Latest Version</th>\n",
              "    </tr>\n",
              "  </thead>\n",
              "  <tbody>\n",
              "  </tbody>\n",
              "</table>\n",
              "</div>\n",
              "      <button class=\"colab-df-convert\" onclick=\"convertToInteractive('df-c768cfd8-f0e8-4214-ad46-57a0d032b526')\"\n",
              "              title=\"Convert this dataframe to an interactive table.\"\n",
              "              style=\"display:none;\">\n",
              "        \n",
              "  <svg xmlns=\"http://www.w3.org/2000/svg\" height=\"24px\"viewBox=\"0 0 24 24\"\n",
              "       width=\"24px\">\n",
              "    <path d=\"M0 0h24v24H0V0z\" fill=\"none\"/>\n",
              "    <path d=\"M18.56 5.44l.94 2.06.94-2.06 2.06-.94-2.06-.94-.94-2.06-.94 2.06-2.06.94zm-11 1L8.5 8.5l.94-2.06 2.06-.94-2.06-.94L8.5 2.5l-.94 2.06-2.06.94zm10 10l.94 2.06.94-2.06 2.06-.94-2.06-.94-.94-2.06-.94 2.06-2.06.94z\"/><path d=\"M17.41 7.96l-1.37-1.37c-.4-.4-.92-.59-1.43-.59-.52 0-1.04.2-1.43.59L10.3 9.45l-7.72 7.72c-.78.78-.78 2.05 0 2.83L4 21.41c.39.39.9.59 1.41.59.51 0 1.02-.2 1.41-.59l7.78-7.78 2.81-2.81c.8-.78.8-2.07 0-2.86zM5.41 20L4 18.59l7.72-7.72 1.47 1.35L5.41 20z\"/>\n",
              "  </svg>\n",
              "      </button>\n",
              "      \n",
              "  <style>\n",
              "    .colab-df-container {\n",
              "      display:flex;\n",
              "      flex-wrap:wrap;\n",
              "      gap: 12px;\n",
              "    }\n",
              "\n",
              "    .colab-df-convert {\n",
              "      background-color: #E8F0FE;\n",
              "      border: none;\n",
              "      border-radius: 50%;\n",
              "      cursor: pointer;\n",
              "      display: none;\n",
              "      fill: #1967D2;\n",
              "      height: 32px;\n",
              "      padding: 0 0 0 0;\n",
              "      width: 32px;\n",
              "    }\n",
              "\n",
              "    .colab-df-convert:hover {\n",
              "      background-color: #E2EBFA;\n",
              "      box-shadow: 0px 1px 2px rgba(60, 64, 67, 0.3), 0px 1px 3px 1px rgba(60, 64, 67, 0.15);\n",
              "      fill: #174EA6;\n",
              "    }\n",
              "\n",
              "    [theme=dark] .colab-df-convert {\n",
              "      background-color: #3B4455;\n",
              "      fill: #D2E3FC;\n",
              "    }\n",
              "\n",
              "    [theme=dark] .colab-df-convert:hover {\n",
              "      background-color: #434B5C;\n",
              "      box-shadow: 0px 1px 3px 1px rgba(0, 0, 0, 0.15);\n",
              "      filter: drop-shadow(0px 1px 2px rgba(0, 0, 0, 0.3));\n",
              "      fill: #FFFFFF;\n",
              "    }\n",
              "  </style>\n",
              "\n",
              "      <script>\n",
              "        const buttonEl =\n",
              "          document.querySelector('#df-c768cfd8-f0e8-4214-ad46-57a0d032b526 button.colab-df-convert');\n",
              "        buttonEl.style.display =\n",
              "          google.colab.kernel.accessAllowed ? 'block' : 'none';\n",
              "\n",
              "        async function convertToInteractive(key) {\n",
              "          const element = document.querySelector('#df-c768cfd8-f0e8-4214-ad46-57a0d032b526');\n",
              "          const dataTable =\n",
              "            await google.colab.kernel.invokeFunction('convertToInteractive',\n",
              "                                                     [key], {});\n",
              "          if (!dataTable) return;\n",
              "\n",
              "          const docLinkHtml = 'Like what you see? Visit the ' +\n",
              "            '<a target=\"_blank\" href=https://colab.research.google.com/notebooks/data_table.ipynb>data table notebook</a>'\n",
              "            + ' to learn more about interactive tables.';\n",
              "          element.innerHTML = '';\n",
              "          dataTable['output_type'] = 'display_data';\n",
              "          await google.colab.output.renderOutput(dataTable, element);\n",
              "          const docLink = document.createElement('div');\n",
              "          docLink.innerHTML = docLinkHtml;\n",
              "          element.appendChild(docLink);\n",
              "        }\n",
              "      </script>\n",
              "    </div>\n",
              "  </div>\n",
              "  "
            ]
          },
          "metadata": {},
          "execution_count": 40
        }
      ]
    },
    {
      "cell_type": "code",
      "metadata": {
        "id": "q1esWb7VcNqj",
        "colab": {
          "base_uri": "https://localhost:8080/",
          "height": 0
        },
        "outputId": "ca98da8e-18a7-4c38-f33f-a00bec9680e3"
      },
      "source": [
        "# same logic as previously\n",
        "\n",
        "app.loc[194165, [\"Category\", \"Rating\", \"Reviews\", \"Installs\", \"Size\", \"Price\", \"Content Rating\", \"Last Updated\", \"Minimum Version\", \"Latest Version\"]] = \"LIFESTYLE\", \"4.388349533\", \"927\", \"100,000+\", \"3.7M\", \"0\", \"Everyone\", \"May 23, 2018\", \"4.0 and up\", \"NaN\"\n",
        "app[app[\"Rating\"]== \"LIFESTYLE\"]"
      ],
      "execution_count": 41,
      "outputs": [
        {
          "output_type": "execute_result",
          "data": {
            "text/plain": [
              "Empty DataFrame\n",
              "Columns: [App Name, Category, Rating, Reviews, Installs, Size, Price, Content Rating, Last Updated, Minimum Version, Latest Version]\n",
              "Index: []"
            ],
            "text/html": [
              "\n",
              "  <div id=\"df-e9f2c124-6882-4825-bb94-7348f52b4325\">\n",
              "    <div class=\"colab-df-container\">\n",
              "      <div>\n",
              "<style scoped>\n",
              "    .dataframe tbody tr th:only-of-type {\n",
              "        vertical-align: middle;\n",
              "    }\n",
              "\n",
              "    .dataframe tbody tr th {\n",
              "        vertical-align: top;\n",
              "    }\n",
              "\n",
              "    .dataframe thead th {\n",
              "        text-align: right;\n",
              "    }\n",
              "</style>\n",
              "<table border=\"1\" class=\"dataframe\">\n",
              "  <thead>\n",
              "    <tr style=\"text-align: right;\">\n",
              "      <th></th>\n",
              "      <th>App Name</th>\n",
              "      <th>Category</th>\n",
              "      <th>Rating</th>\n",
              "      <th>Reviews</th>\n",
              "      <th>Installs</th>\n",
              "      <th>Size</th>\n",
              "      <th>Price</th>\n",
              "      <th>Content Rating</th>\n",
              "      <th>Last Updated</th>\n",
              "      <th>Minimum Version</th>\n",
              "      <th>Latest Version</th>\n",
              "    </tr>\n",
              "  </thead>\n",
              "  <tbody>\n",
              "  </tbody>\n",
              "</table>\n",
              "</div>\n",
              "      <button class=\"colab-df-convert\" onclick=\"convertToInteractive('df-e9f2c124-6882-4825-bb94-7348f52b4325')\"\n",
              "              title=\"Convert this dataframe to an interactive table.\"\n",
              "              style=\"display:none;\">\n",
              "        \n",
              "  <svg xmlns=\"http://www.w3.org/2000/svg\" height=\"24px\"viewBox=\"0 0 24 24\"\n",
              "       width=\"24px\">\n",
              "    <path d=\"M0 0h24v24H0V0z\" fill=\"none\"/>\n",
              "    <path d=\"M18.56 5.44l.94 2.06.94-2.06 2.06-.94-2.06-.94-.94-2.06-.94 2.06-2.06.94zm-11 1L8.5 8.5l.94-2.06 2.06-.94-2.06-.94L8.5 2.5l-.94 2.06-2.06.94zm10 10l.94 2.06.94-2.06 2.06-.94-2.06-.94-.94-2.06-.94 2.06-2.06.94z\"/><path d=\"M17.41 7.96l-1.37-1.37c-.4-.4-.92-.59-1.43-.59-.52 0-1.04.2-1.43.59L10.3 9.45l-7.72 7.72c-.78.78-.78 2.05 0 2.83L4 21.41c.39.39.9.59 1.41.59.51 0 1.02-.2 1.41-.59l7.78-7.78 2.81-2.81c.8-.78.8-2.07 0-2.86zM5.41 20L4 18.59l7.72-7.72 1.47 1.35L5.41 20z\"/>\n",
              "  </svg>\n",
              "      </button>\n",
              "      \n",
              "  <style>\n",
              "    .colab-df-container {\n",
              "      display:flex;\n",
              "      flex-wrap:wrap;\n",
              "      gap: 12px;\n",
              "    }\n",
              "\n",
              "    .colab-df-convert {\n",
              "      background-color: #E8F0FE;\n",
              "      border: none;\n",
              "      border-radius: 50%;\n",
              "      cursor: pointer;\n",
              "      display: none;\n",
              "      fill: #1967D2;\n",
              "      height: 32px;\n",
              "      padding: 0 0 0 0;\n",
              "      width: 32px;\n",
              "    }\n",
              "\n",
              "    .colab-df-convert:hover {\n",
              "      background-color: #E2EBFA;\n",
              "      box-shadow: 0px 1px 2px rgba(60, 64, 67, 0.3), 0px 1px 3px 1px rgba(60, 64, 67, 0.15);\n",
              "      fill: #174EA6;\n",
              "    }\n",
              "\n",
              "    [theme=dark] .colab-df-convert {\n",
              "      background-color: #3B4455;\n",
              "      fill: #D2E3FC;\n",
              "    }\n",
              "\n",
              "    [theme=dark] .colab-df-convert:hover {\n",
              "      background-color: #434B5C;\n",
              "      box-shadow: 0px 1px 3px 1px rgba(0, 0, 0, 0.15);\n",
              "      filter: drop-shadow(0px 1px 2px rgba(0, 0, 0, 0.3));\n",
              "      fill: #FFFFFF;\n",
              "    }\n",
              "  </style>\n",
              "\n",
              "      <script>\n",
              "        const buttonEl =\n",
              "          document.querySelector('#df-e9f2c124-6882-4825-bb94-7348f52b4325 button.colab-df-convert');\n",
              "        buttonEl.style.display =\n",
              "          google.colab.kernel.accessAllowed ? 'block' : 'none';\n",
              "\n",
              "        async function convertToInteractive(key) {\n",
              "          const element = document.querySelector('#df-e9f2c124-6882-4825-bb94-7348f52b4325');\n",
              "          const dataTable =\n",
              "            await google.colab.kernel.invokeFunction('convertToInteractive',\n",
              "                                                     [key], {});\n",
              "          if (!dataTable) return;\n",
              "\n",
              "          const docLinkHtml = 'Like what you see? Visit the ' +\n",
              "            '<a target=\"_blank\" href=https://colab.research.google.com/notebooks/data_table.ipynb>data table notebook</a>'\n",
              "            + ' to learn more about interactive tables.';\n",
              "          element.innerHTML = '';\n",
              "          dataTable['output_type'] = 'display_data';\n",
              "          await google.colab.output.renderOutput(dataTable, element);\n",
              "          const docLink = document.createElement('div');\n",
              "          docLink.innerHTML = docLinkHtml;\n",
              "          element.appendChild(docLink);\n",
              "        }\n",
              "      </script>\n",
              "    </div>\n",
              "  </div>\n",
              "  "
            ]
          },
          "metadata": {},
          "execution_count": 41
        }
      ]
    },
    {
      "cell_type": "code",
      "metadata": {
        "id": "_TlOxf0PcNqs",
        "colab": {
          "base_uri": "https://localhost:8080/",
          "height": 0
        },
        "outputId": "5e5db96e-0c7b-4925-cfa5-5e22b49974be"
      },
      "source": [
        "app[app[\"Rating\"]== \" Economics\"]"
      ],
      "execution_count": 42,
      "outputs": [
        {
          "output_type": "execute_result",
          "data": {
            "text/plain": [
              "Empty DataFrame\n",
              "Columns: [App Name, Category, Rating, Reviews, Installs, Size, Price, Content Rating, Last Updated, Minimum Version, Latest Version]\n",
              "Index: []"
            ],
            "text/html": [
              "\n",
              "  <div id=\"df-c0263870-5a07-496d-b7a3-7ba6cc38eb22\">\n",
              "    <div class=\"colab-df-container\">\n",
              "      <div>\n",
              "<style scoped>\n",
              "    .dataframe tbody tr th:only-of-type {\n",
              "        vertical-align: middle;\n",
              "    }\n",
              "\n",
              "    .dataframe tbody tr th {\n",
              "        vertical-align: top;\n",
              "    }\n",
              "\n",
              "    .dataframe thead th {\n",
              "        text-align: right;\n",
              "    }\n",
              "</style>\n",
              "<table border=\"1\" class=\"dataframe\">\n",
              "  <thead>\n",
              "    <tr style=\"text-align: right;\">\n",
              "      <th></th>\n",
              "      <th>App Name</th>\n",
              "      <th>Category</th>\n",
              "      <th>Rating</th>\n",
              "      <th>Reviews</th>\n",
              "      <th>Installs</th>\n",
              "      <th>Size</th>\n",
              "      <th>Price</th>\n",
              "      <th>Content Rating</th>\n",
              "      <th>Last Updated</th>\n",
              "      <th>Minimum Version</th>\n",
              "      <th>Latest Version</th>\n",
              "    </tr>\n",
              "  </thead>\n",
              "  <tbody>\n",
              "  </tbody>\n",
              "</table>\n",
              "</div>\n",
              "      <button class=\"colab-df-convert\" onclick=\"convertToInteractive('df-c0263870-5a07-496d-b7a3-7ba6cc38eb22')\"\n",
              "              title=\"Convert this dataframe to an interactive table.\"\n",
              "              style=\"display:none;\">\n",
              "        \n",
              "  <svg xmlns=\"http://www.w3.org/2000/svg\" height=\"24px\"viewBox=\"0 0 24 24\"\n",
              "       width=\"24px\">\n",
              "    <path d=\"M0 0h24v24H0V0z\" fill=\"none\"/>\n",
              "    <path d=\"M18.56 5.44l.94 2.06.94-2.06 2.06-.94-2.06-.94-.94-2.06-.94 2.06-2.06.94zm-11 1L8.5 8.5l.94-2.06 2.06-.94-2.06-.94L8.5 2.5l-.94 2.06-2.06.94zm10 10l.94 2.06.94-2.06 2.06-.94-2.06-.94-.94-2.06-.94 2.06-2.06.94z\"/><path d=\"M17.41 7.96l-1.37-1.37c-.4-.4-.92-.59-1.43-.59-.52 0-1.04.2-1.43.59L10.3 9.45l-7.72 7.72c-.78.78-.78 2.05 0 2.83L4 21.41c.39.39.9.59 1.41.59.51 0 1.02-.2 1.41-.59l7.78-7.78 2.81-2.81c.8-.78.8-2.07 0-2.86zM5.41 20L4 18.59l7.72-7.72 1.47 1.35L5.41 20z\"/>\n",
              "  </svg>\n",
              "      </button>\n",
              "      \n",
              "  <style>\n",
              "    .colab-df-container {\n",
              "      display:flex;\n",
              "      flex-wrap:wrap;\n",
              "      gap: 12px;\n",
              "    }\n",
              "\n",
              "    .colab-df-convert {\n",
              "      background-color: #E8F0FE;\n",
              "      border: none;\n",
              "      border-radius: 50%;\n",
              "      cursor: pointer;\n",
              "      display: none;\n",
              "      fill: #1967D2;\n",
              "      height: 32px;\n",
              "      padding: 0 0 0 0;\n",
              "      width: 32px;\n",
              "    }\n",
              "\n",
              "    .colab-df-convert:hover {\n",
              "      background-color: #E2EBFA;\n",
              "      box-shadow: 0px 1px 2px rgba(60, 64, 67, 0.3), 0px 1px 3px 1px rgba(60, 64, 67, 0.15);\n",
              "      fill: #174EA6;\n",
              "    }\n",
              "\n",
              "    [theme=dark] .colab-df-convert {\n",
              "      background-color: #3B4455;\n",
              "      fill: #D2E3FC;\n",
              "    }\n",
              "\n",
              "    [theme=dark] .colab-df-convert:hover {\n",
              "      background-color: #434B5C;\n",
              "      box-shadow: 0px 1px 3px 1px rgba(0, 0, 0, 0.15);\n",
              "      filter: drop-shadow(0px 1px 2px rgba(0, 0, 0, 0.3));\n",
              "      fill: #FFFFFF;\n",
              "    }\n",
              "  </style>\n",
              "\n",
              "      <script>\n",
              "        const buttonEl =\n",
              "          document.querySelector('#df-c0263870-5a07-496d-b7a3-7ba6cc38eb22 button.colab-df-convert');\n",
              "        buttonEl.style.display =\n",
              "          google.colab.kernel.accessAllowed ? 'block' : 'none';\n",
              "\n",
              "        async function convertToInteractive(key) {\n",
              "          const element = document.querySelector('#df-c0263870-5a07-496d-b7a3-7ba6cc38eb22');\n",
              "          const dataTable =\n",
              "            await google.colab.kernel.invokeFunction('convertToInteractive',\n",
              "                                                     [key], {});\n",
              "          if (!dataTable) return;\n",
              "\n",
              "          const docLinkHtml = 'Like what you see? Visit the ' +\n",
              "            '<a target=\"_blank\" href=https://colab.research.google.com/notebooks/data_table.ipynb>data table notebook</a>'\n",
              "            + ' to learn more about interactive tables.';\n",
              "          element.innerHTML = '';\n",
              "          dataTable['output_type'] = 'display_data';\n",
              "          await google.colab.output.renderOutput(dataTable, element);\n",
              "          const docLink = document.createElement('div');\n",
              "          docLink.innerHTML = docLinkHtml;\n",
              "          element.appendChild(docLink);\n",
              "        }\n",
              "      </script>\n",
              "    </div>\n",
              "  </div>\n",
              "  "
            ]
          },
          "metadata": {},
          "execution_count": 42
        }
      ]
    },
    {
      "cell_type": "code",
      "metadata": {
        "id": "qeYiFn50cNqu",
        "colab": {
          "base_uri": "https://localhost:8080/",
          "height": 0
        },
        "outputId": "6bde843f-51bb-44e1-8983-c4d1ad1f8bf4"
      },
      "source": [
        "# Applying the same logic. Correting the misplaced (but valid) data\n",
        "\n",
        "app.loc[232811, [\"Category\", \"Rating\", \"Reviews\", \"Installs\", \"Size\", \"Price\", \"Content Rating\", \"Last Updated\", \"Minimum Version\", \"Latest Version\"]] = \" Economics\", \"4.823529243\", \"17\", \"1,000+\", \"17M\", \"0\", \"Everyone\", \"October 22, 2018\", \"NaN\", \"NaN\"\n",
        "app[app[\"Rating\"]== \" Economics\"]"
      ],
      "execution_count": 43,
      "outputs": [
        {
          "output_type": "execute_result",
          "data": {
            "text/plain": [
              "Empty DataFrame\n",
              "Columns: [App Name, Category, Rating, Reviews, Installs, Size, Price, Content Rating, Last Updated, Minimum Version, Latest Version]\n",
              "Index: []"
            ],
            "text/html": [
              "\n",
              "  <div id=\"df-639c6515-765f-4a5c-acc1-71b532f9671c\">\n",
              "    <div class=\"colab-df-container\">\n",
              "      <div>\n",
              "<style scoped>\n",
              "    .dataframe tbody tr th:only-of-type {\n",
              "        vertical-align: middle;\n",
              "    }\n",
              "\n",
              "    .dataframe tbody tr th {\n",
              "        vertical-align: top;\n",
              "    }\n",
              "\n",
              "    .dataframe thead th {\n",
              "        text-align: right;\n",
              "    }\n",
              "</style>\n",
              "<table border=\"1\" class=\"dataframe\">\n",
              "  <thead>\n",
              "    <tr style=\"text-align: right;\">\n",
              "      <th></th>\n",
              "      <th>App Name</th>\n",
              "      <th>Category</th>\n",
              "      <th>Rating</th>\n",
              "      <th>Reviews</th>\n",
              "      <th>Installs</th>\n",
              "      <th>Size</th>\n",
              "      <th>Price</th>\n",
              "      <th>Content Rating</th>\n",
              "      <th>Last Updated</th>\n",
              "      <th>Minimum Version</th>\n",
              "      <th>Latest Version</th>\n",
              "    </tr>\n",
              "  </thead>\n",
              "  <tbody>\n",
              "  </tbody>\n",
              "</table>\n",
              "</div>\n",
              "      <button class=\"colab-df-convert\" onclick=\"convertToInteractive('df-639c6515-765f-4a5c-acc1-71b532f9671c')\"\n",
              "              title=\"Convert this dataframe to an interactive table.\"\n",
              "              style=\"display:none;\">\n",
              "        \n",
              "  <svg xmlns=\"http://www.w3.org/2000/svg\" height=\"24px\"viewBox=\"0 0 24 24\"\n",
              "       width=\"24px\">\n",
              "    <path d=\"M0 0h24v24H0V0z\" fill=\"none\"/>\n",
              "    <path d=\"M18.56 5.44l.94 2.06.94-2.06 2.06-.94-2.06-.94-.94-2.06-.94 2.06-2.06.94zm-11 1L8.5 8.5l.94-2.06 2.06-.94-2.06-.94L8.5 2.5l-.94 2.06-2.06.94zm10 10l.94 2.06.94-2.06 2.06-.94-2.06-.94-.94-2.06-.94 2.06-2.06.94z\"/><path d=\"M17.41 7.96l-1.37-1.37c-.4-.4-.92-.59-1.43-.59-.52 0-1.04.2-1.43.59L10.3 9.45l-7.72 7.72c-.78.78-.78 2.05 0 2.83L4 21.41c.39.39.9.59 1.41.59.51 0 1.02-.2 1.41-.59l7.78-7.78 2.81-2.81c.8-.78.8-2.07 0-2.86zM5.41 20L4 18.59l7.72-7.72 1.47 1.35L5.41 20z\"/>\n",
              "  </svg>\n",
              "      </button>\n",
              "      \n",
              "  <style>\n",
              "    .colab-df-container {\n",
              "      display:flex;\n",
              "      flex-wrap:wrap;\n",
              "      gap: 12px;\n",
              "    }\n",
              "\n",
              "    .colab-df-convert {\n",
              "      background-color: #E8F0FE;\n",
              "      border: none;\n",
              "      border-radius: 50%;\n",
              "      cursor: pointer;\n",
              "      display: none;\n",
              "      fill: #1967D2;\n",
              "      height: 32px;\n",
              "      padding: 0 0 0 0;\n",
              "      width: 32px;\n",
              "    }\n",
              "\n",
              "    .colab-df-convert:hover {\n",
              "      background-color: #E2EBFA;\n",
              "      box-shadow: 0px 1px 2px rgba(60, 64, 67, 0.3), 0px 1px 3px 1px rgba(60, 64, 67, 0.15);\n",
              "      fill: #174EA6;\n",
              "    }\n",
              "\n",
              "    [theme=dark] .colab-df-convert {\n",
              "      background-color: #3B4455;\n",
              "      fill: #D2E3FC;\n",
              "    }\n",
              "\n",
              "    [theme=dark] .colab-df-convert:hover {\n",
              "      background-color: #434B5C;\n",
              "      box-shadow: 0px 1px 3px 1px rgba(0, 0, 0, 0.15);\n",
              "      filter: drop-shadow(0px 1px 2px rgba(0, 0, 0, 0.3));\n",
              "      fill: #FFFFFF;\n",
              "    }\n",
              "  </style>\n",
              "\n",
              "      <script>\n",
              "        const buttonEl =\n",
              "          document.querySelector('#df-639c6515-765f-4a5c-acc1-71b532f9671c button.colab-df-convert');\n",
              "        buttonEl.style.display =\n",
              "          google.colab.kernel.accessAllowed ? 'block' : 'none';\n",
              "\n",
              "        async function convertToInteractive(key) {\n",
              "          const element = document.querySelector('#df-639c6515-765f-4a5c-acc1-71b532f9671c');\n",
              "          const dataTable =\n",
              "            await google.colab.kernel.invokeFunction('convertToInteractive',\n",
              "                                                     [key], {});\n",
              "          if (!dataTable) return;\n",
              "\n",
              "          const docLinkHtml = 'Like what you see? Visit the ' +\n",
              "            '<a target=\"_blank\" href=https://colab.research.google.com/notebooks/data_table.ipynb>data table notebook</a>'\n",
              "            + ' to learn more about interactive tables.';\n",
              "          element.innerHTML = '';\n",
              "          dataTable['output_type'] = 'display_data';\n",
              "          await google.colab.output.renderOutput(dataTable, element);\n",
              "          const docLink = document.createElement('div');\n",
              "          docLink.innerHTML = docLinkHtml;\n",
              "          element.appendChild(docLink);\n",
              "        }\n",
              "      </script>\n",
              "    </div>\n",
              "  </div>\n",
              "  "
            ]
          },
          "metadata": {},
          "execution_count": 43
        }
      ]
    },
    {
      "cell_type": "code",
      "metadata": {
        "id": "9utOPNIScNqw",
        "colab": {
          "base_uri": "https://localhost:8080/",
          "height": 0
        },
        "outputId": "c6a78bdd-99f9-4f61-d520-37a0fea99f23"
      },
      "source": [
        "# Here we had an entry in column \"Rating\" which was 7. But we want \"Rating<=5\". \n",
        "# It was fixed so now there is no longer rating with numbers more than \"5\"\n",
        "\n",
        "app[app[\"Rating\"]==7.000000]"
      ],
      "execution_count": 44,
      "outputs": [
        {
          "output_type": "execute_result",
          "data": {
            "text/plain": [
              "Empty DataFrame\n",
              "Columns: [App Name, Category, Rating, Reviews, Installs, Size, Price, Content Rating, Last Updated, Minimum Version, Latest Version]\n",
              "Index: []"
            ],
            "text/html": [
              "\n",
              "  <div id=\"df-94b79f6a-8633-4210-8d01-89a50346a273\">\n",
              "    <div class=\"colab-df-container\">\n",
              "      <div>\n",
              "<style scoped>\n",
              "    .dataframe tbody tr th:only-of-type {\n",
              "        vertical-align: middle;\n",
              "    }\n",
              "\n",
              "    .dataframe tbody tr th {\n",
              "        vertical-align: top;\n",
              "    }\n",
              "\n",
              "    .dataframe thead th {\n",
              "        text-align: right;\n",
              "    }\n",
              "</style>\n",
              "<table border=\"1\" class=\"dataframe\">\n",
              "  <thead>\n",
              "    <tr style=\"text-align: right;\">\n",
              "      <th></th>\n",
              "      <th>App Name</th>\n",
              "      <th>Category</th>\n",
              "      <th>Rating</th>\n",
              "      <th>Reviews</th>\n",
              "      <th>Installs</th>\n",
              "      <th>Size</th>\n",
              "      <th>Price</th>\n",
              "      <th>Content Rating</th>\n",
              "      <th>Last Updated</th>\n",
              "      <th>Minimum Version</th>\n",
              "      <th>Latest Version</th>\n",
              "    </tr>\n",
              "  </thead>\n",
              "  <tbody>\n",
              "  </tbody>\n",
              "</table>\n",
              "</div>\n",
              "      <button class=\"colab-df-convert\" onclick=\"convertToInteractive('df-94b79f6a-8633-4210-8d01-89a50346a273')\"\n",
              "              title=\"Convert this dataframe to an interactive table.\"\n",
              "              style=\"display:none;\">\n",
              "        \n",
              "  <svg xmlns=\"http://www.w3.org/2000/svg\" height=\"24px\"viewBox=\"0 0 24 24\"\n",
              "       width=\"24px\">\n",
              "    <path d=\"M0 0h24v24H0V0z\" fill=\"none\"/>\n",
              "    <path d=\"M18.56 5.44l.94 2.06.94-2.06 2.06-.94-2.06-.94-.94-2.06-.94 2.06-2.06.94zm-11 1L8.5 8.5l.94-2.06 2.06-.94-2.06-.94L8.5 2.5l-.94 2.06-2.06.94zm10 10l.94 2.06.94-2.06 2.06-.94-2.06-.94-.94-2.06-.94 2.06-2.06.94z\"/><path d=\"M17.41 7.96l-1.37-1.37c-.4-.4-.92-.59-1.43-.59-.52 0-1.04.2-1.43.59L10.3 9.45l-7.72 7.72c-.78.78-.78 2.05 0 2.83L4 21.41c.39.39.9.59 1.41.59.51 0 1.02-.2 1.41-.59l7.78-7.78 2.81-2.81c.8-.78.8-2.07 0-2.86zM5.41 20L4 18.59l7.72-7.72 1.47 1.35L5.41 20z\"/>\n",
              "  </svg>\n",
              "      </button>\n",
              "      \n",
              "  <style>\n",
              "    .colab-df-container {\n",
              "      display:flex;\n",
              "      flex-wrap:wrap;\n",
              "      gap: 12px;\n",
              "    }\n",
              "\n",
              "    .colab-df-convert {\n",
              "      background-color: #E8F0FE;\n",
              "      border: none;\n",
              "      border-radius: 50%;\n",
              "      cursor: pointer;\n",
              "      display: none;\n",
              "      fill: #1967D2;\n",
              "      height: 32px;\n",
              "      padding: 0 0 0 0;\n",
              "      width: 32px;\n",
              "    }\n",
              "\n",
              "    .colab-df-convert:hover {\n",
              "      background-color: #E2EBFA;\n",
              "      box-shadow: 0px 1px 2px rgba(60, 64, 67, 0.3), 0px 1px 3px 1px rgba(60, 64, 67, 0.15);\n",
              "      fill: #174EA6;\n",
              "    }\n",
              "\n",
              "    [theme=dark] .colab-df-convert {\n",
              "      background-color: #3B4455;\n",
              "      fill: #D2E3FC;\n",
              "    }\n",
              "\n",
              "    [theme=dark] .colab-df-convert:hover {\n",
              "      background-color: #434B5C;\n",
              "      box-shadow: 0px 1px 3px 1px rgba(0, 0, 0, 0.15);\n",
              "      filter: drop-shadow(0px 1px 2px rgba(0, 0, 0, 0.3));\n",
              "      fill: #FFFFFF;\n",
              "    }\n",
              "  </style>\n",
              "\n",
              "      <script>\n",
              "        const buttonEl =\n",
              "          document.querySelector('#df-94b79f6a-8633-4210-8d01-89a50346a273 button.colab-df-convert');\n",
              "        buttonEl.style.display =\n",
              "          google.colab.kernel.accessAllowed ? 'block' : 'none';\n",
              "\n",
              "        async function convertToInteractive(key) {\n",
              "          const element = document.querySelector('#df-94b79f6a-8633-4210-8d01-89a50346a273');\n",
              "          const dataTable =\n",
              "            await google.colab.kernel.invokeFunction('convertToInteractive',\n",
              "                                                     [key], {});\n",
              "          if (!dataTable) return;\n",
              "\n",
              "          const docLinkHtml = 'Like what you see? Visit the ' +\n",
              "            '<a target=\"_blank\" href=https://colab.research.google.com/notebooks/data_table.ipynb>data table notebook</a>'\n",
              "            + ' to learn more about interactive tables.';\n",
              "          element.innerHTML = '';\n",
              "          dataTable['output_type'] = 'display_data';\n",
              "          await google.colab.output.renderOutput(dataTable, element);\n",
              "          const docLink = document.createElement('div');\n",
              "          docLink.innerHTML = docLinkHtml;\n",
              "          element.appendChild(docLink);\n",
              "        }\n",
              "      </script>\n",
              "    </div>\n",
              "  </div>\n",
              "  "
            ]
          },
          "metadata": {},
          "execution_count": 44
        }
      ]
    },
    {
      "cell_type": "code",
      "metadata": {
        "id": "QehYYweKcNqy",
        "colab": {
          "base_uri": "https://localhost:8080/",
          "height": 0
        },
        "outputId": "8b9c60c8-5a12-463f-84cb-c8f50d253d57"
      },
      "source": [
        "\n",
        "app[app[\"Rating\"]==7.000000]"
      ],
      "execution_count": 45,
      "outputs": [
        {
          "output_type": "execute_result",
          "data": {
            "text/plain": [
              "Empty DataFrame\n",
              "Columns: [App Name, Category, Rating, Reviews, Installs, Size, Price, Content Rating, Last Updated, Minimum Version, Latest Version]\n",
              "Index: []"
            ],
            "text/html": [
              "\n",
              "  <div id=\"df-4d3f21fb-98d7-4068-9272-675eb389d8a9\">\n",
              "    <div class=\"colab-df-container\">\n",
              "      <div>\n",
              "<style scoped>\n",
              "    .dataframe tbody tr th:only-of-type {\n",
              "        vertical-align: middle;\n",
              "    }\n",
              "\n",
              "    .dataframe tbody tr th {\n",
              "        vertical-align: top;\n",
              "    }\n",
              "\n",
              "    .dataframe thead th {\n",
              "        text-align: right;\n",
              "    }\n",
              "</style>\n",
              "<table border=\"1\" class=\"dataframe\">\n",
              "  <thead>\n",
              "    <tr style=\"text-align: right;\">\n",
              "      <th></th>\n",
              "      <th>App Name</th>\n",
              "      <th>Category</th>\n",
              "      <th>Rating</th>\n",
              "      <th>Reviews</th>\n",
              "      <th>Installs</th>\n",
              "      <th>Size</th>\n",
              "      <th>Price</th>\n",
              "      <th>Content Rating</th>\n",
              "      <th>Last Updated</th>\n",
              "      <th>Minimum Version</th>\n",
              "      <th>Latest Version</th>\n",
              "    </tr>\n",
              "  </thead>\n",
              "  <tbody>\n",
              "  </tbody>\n",
              "</table>\n",
              "</div>\n",
              "      <button class=\"colab-df-convert\" onclick=\"convertToInteractive('df-4d3f21fb-98d7-4068-9272-675eb389d8a9')\"\n",
              "              title=\"Convert this dataframe to an interactive table.\"\n",
              "              style=\"display:none;\">\n",
              "        \n",
              "  <svg xmlns=\"http://www.w3.org/2000/svg\" height=\"24px\"viewBox=\"0 0 24 24\"\n",
              "       width=\"24px\">\n",
              "    <path d=\"M0 0h24v24H0V0z\" fill=\"none\"/>\n",
              "    <path d=\"M18.56 5.44l.94 2.06.94-2.06 2.06-.94-2.06-.94-.94-2.06-.94 2.06-2.06.94zm-11 1L8.5 8.5l.94-2.06 2.06-.94-2.06-.94L8.5 2.5l-.94 2.06-2.06.94zm10 10l.94 2.06.94-2.06 2.06-.94-2.06-.94-.94-2.06-.94 2.06-2.06.94z\"/><path d=\"M17.41 7.96l-1.37-1.37c-.4-.4-.92-.59-1.43-.59-.52 0-1.04.2-1.43.59L10.3 9.45l-7.72 7.72c-.78.78-.78 2.05 0 2.83L4 21.41c.39.39.9.59 1.41.59.51 0 1.02-.2 1.41-.59l7.78-7.78 2.81-2.81c.8-.78.8-2.07 0-2.86zM5.41 20L4 18.59l7.72-7.72 1.47 1.35L5.41 20z\"/>\n",
              "  </svg>\n",
              "      </button>\n",
              "      \n",
              "  <style>\n",
              "    .colab-df-container {\n",
              "      display:flex;\n",
              "      flex-wrap:wrap;\n",
              "      gap: 12px;\n",
              "    }\n",
              "\n",
              "    .colab-df-convert {\n",
              "      background-color: #E8F0FE;\n",
              "      border: none;\n",
              "      border-radius: 50%;\n",
              "      cursor: pointer;\n",
              "      display: none;\n",
              "      fill: #1967D2;\n",
              "      height: 32px;\n",
              "      padding: 0 0 0 0;\n",
              "      width: 32px;\n",
              "    }\n",
              "\n",
              "    .colab-df-convert:hover {\n",
              "      background-color: #E2EBFA;\n",
              "      box-shadow: 0px 1px 2px rgba(60, 64, 67, 0.3), 0px 1px 3px 1px rgba(60, 64, 67, 0.15);\n",
              "      fill: #174EA6;\n",
              "    }\n",
              "\n",
              "    [theme=dark] .colab-df-convert {\n",
              "      background-color: #3B4455;\n",
              "      fill: #D2E3FC;\n",
              "    }\n",
              "\n",
              "    [theme=dark] .colab-df-convert:hover {\n",
              "      background-color: #434B5C;\n",
              "      box-shadow: 0px 1px 3px 1px rgba(0, 0, 0, 0.15);\n",
              "      filter: drop-shadow(0px 1px 2px rgba(0, 0, 0, 0.3));\n",
              "      fill: #FFFFFF;\n",
              "    }\n",
              "  </style>\n",
              "\n",
              "      <script>\n",
              "        const buttonEl =\n",
              "          document.querySelector('#df-4d3f21fb-98d7-4068-9272-675eb389d8a9 button.colab-df-convert');\n",
              "        buttonEl.style.display =\n",
              "          google.colab.kernel.accessAllowed ? 'block' : 'none';\n",
              "\n",
              "        async function convertToInteractive(key) {\n",
              "          const element = document.querySelector('#df-4d3f21fb-98d7-4068-9272-675eb389d8a9');\n",
              "          const dataTable =\n",
              "            await google.colab.kernel.invokeFunction('convertToInteractive',\n",
              "                                                     [key], {});\n",
              "          if (!dataTable) return;\n",
              "\n",
              "          const docLinkHtml = 'Like what you see? Visit the ' +\n",
              "            '<a target=\"_blank\" href=https://colab.research.google.com/notebooks/data_table.ipynb>data table notebook</a>'\n",
              "            + ' to learn more about interactive tables.';\n",
              "          element.innerHTML = '';\n",
              "          dataTable['output_type'] = 'display_data';\n",
              "          await google.colab.output.renderOutput(dataTable, element);\n",
              "          const docLink = document.createElement('div');\n",
              "          docLink.innerHTML = docLinkHtml;\n",
              "          element.appendChild(docLink);\n",
              "        }\n",
              "      </script>\n",
              "    </div>\n",
              "  </div>\n",
              "  "
            ]
          },
          "metadata": {},
          "execution_count": 45
        }
      ]
    },
    {
      "cell_type": "code",
      "metadata": {
        "id": "343BiWC5cNq0"
      },
      "source": [
        "# Converting the column \"Rating\" to float so that we can apply statistics \n",
        "\n",
        "app.Rating= app.Rating.astype(float) "
      ],
      "execution_count": 46,
      "outputs": []
    },
    {
      "cell_type": "code",
      "metadata": {
        "id": "BGOKdk0XcNq2",
        "colab": {
          "base_uri": "https://localhost:8080/",
          "height": 0
        },
        "outputId": "2073ace5-e280-4b03-c441-63767bde47b1"
      },
      "source": [
        "app.describe()"
      ],
      "execution_count": 47,
      "outputs": [
        {
          "output_type": "execute_result",
          "data": {
            "text/plain": [
              "             Rating\n",
              "count  32006.000000\n",
              "mean       4.271294\n",
              "std        0.499612\n",
              "min        1.000000\n",
              "25%        4.090909\n",
              "50%        4.375006\n",
              "75%        4.583333\n",
              "max        5.000000"
            ],
            "text/html": [
              "\n",
              "  <div id=\"df-2c627da2-089a-4250-8c82-b302e3ce7a89\">\n",
              "    <div class=\"colab-df-container\">\n",
              "      <div>\n",
              "<style scoped>\n",
              "    .dataframe tbody tr th:only-of-type {\n",
              "        vertical-align: middle;\n",
              "    }\n",
              "\n",
              "    .dataframe tbody tr th {\n",
              "        vertical-align: top;\n",
              "    }\n",
              "\n",
              "    .dataframe thead th {\n",
              "        text-align: right;\n",
              "    }\n",
              "</style>\n",
              "<table border=\"1\" class=\"dataframe\">\n",
              "  <thead>\n",
              "    <tr style=\"text-align: right;\">\n",
              "      <th></th>\n",
              "      <th>Rating</th>\n",
              "    </tr>\n",
              "  </thead>\n",
              "  <tbody>\n",
              "    <tr>\n",
              "      <th>count</th>\n",
              "      <td>32006.000000</td>\n",
              "    </tr>\n",
              "    <tr>\n",
              "      <th>mean</th>\n",
              "      <td>4.271294</td>\n",
              "    </tr>\n",
              "    <tr>\n",
              "      <th>std</th>\n",
              "      <td>0.499612</td>\n",
              "    </tr>\n",
              "    <tr>\n",
              "      <th>min</th>\n",
              "      <td>1.000000</td>\n",
              "    </tr>\n",
              "    <tr>\n",
              "      <th>25%</th>\n",
              "      <td>4.090909</td>\n",
              "    </tr>\n",
              "    <tr>\n",
              "      <th>50%</th>\n",
              "      <td>4.375006</td>\n",
              "    </tr>\n",
              "    <tr>\n",
              "      <th>75%</th>\n",
              "      <td>4.583333</td>\n",
              "    </tr>\n",
              "    <tr>\n",
              "      <th>max</th>\n",
              "      <td>5.000000</td>\n",
              "    </tr>\n",
              "  </tbody>\n",
              "</table>\n",
              "</div>\n",
              "      <button class=\"colab-df-convert\" onclick=\"convertToInteractive('df-2c627da2-089a-4250-8c82-b302e3ce7a89')\"\n",
              "              title=\"Convert this dataframe to an interactive table.\"\n",
              "              style=\"display:none;\">\n",
              "        \n",
              "  <svg xmlns=\"http://www.w3.org/2000/svg\" height=\"24px\"viewBox=\"0 0 24 24\"\n",
              "       width=\"24px\">\n",
              "    <path d=\"M0 0h24v24H0V0z\" fill=\"none\"/>\n",
              "    <path d=\"M18.56 5.44l.94 2.06.94-2.06 2.06-.94-2.06-.94-.94-2.06-.94 2.06-2.06.94zm-11 1L8.5 8.5l.94-2.06 2.06-.94-2.06-.94L8.5 2.5l-.94 2.06-2.06.94zm10 10l.94 2.06.94-2.06 2.06-.94-2.06-.94-.94-2.06-.94 2.06-2.06.94z\"/><path d=\"M17.41 7.96l-1.37-1.37c-.4-.4-.92-.59-1.43-.59-.52 0-1.04.2-1.43.59L10.3 9.45l-7.72 7.72c-.78.78-.78 2.05 0 2.83L4 21.41c.39.39.9.59 1.41.59.51 0 1.02-.2 1.41-.59l7.78-7.78 2.81-2.81c.8-.78.8-2.07 0-2.86zM5.41 20L4 18.59l7.72-7.72 1.47 1.35L5.41 20z\"/>\n",
              "  </svg>\n",
              "      </button>\n",
              "      \n",
              "  <style>\n",
              "    .colab-df-container {\n",
              "      display:flex;\n",
              "      flex-wrap:wrap;\n",
              "      gap: 12px;\n",
              "    }\n",
              "\n",
              "    .colab-df-convert {\n",
              "      background-color: #E8F0FE;\n",
              "      border: none;\n",
              "      border-radius: 50%;\n",
              "      cursor: pointer;\n",
              "      display: none;\n",
              "      fill: #1967D2;\n",
              "      height: 32px;\n",
              "      padding: 0 0 0 0;\n",
              "      width: 32px;\n",
              "    }\n",
              "\n",
              "    .colab-df-convert:hover {\n",
              "      background-color: #E2EBFA;\n",
              "      box-shadow: 0px 1px 2px rgba(60, 64, 67, 0.3), 0px 1px 3px 1px rgba(60, 64, 67, 0.15);\n",
              "      fill: #174EA6;\n",
              "    }\n",
              "\n",
              "    [theme=dark] .colab-df-convert {\n",
              "      background-color: #3B4455;\n",
              "      fill: #D2E3FC;\n",
              "    }\n",
              "\n",
              "    [theme=dark] .colab-df-convert:hover {\n",
              "      background-color: #434B5C;\n",
              "      box-shadow: 0px 1px 3px 1px rgba(0, 0, 0, 0.15);\n",
              "      filter: drop-shadow(0px 1px 2px rgba(0, 0, 0, 0.3));\n",
              "      fill: #FFFFFF;\n",
              "    }\n",
              "  </style>\n",
              "\n",
              "      <script>\n",
              "        const buttonEl =\n",
              "          document.querySelector('#df-2c627da2-089a-4250-8c82-b302e3ce7a89 button.colab-df-convert');\n",
              "        buttonEl.style.display =\n",
              "          google.colab.kernel.accessAllowed ? 'block' : 'none';\n",
              "\n",
              "        async function convertToInteractive(key) {\n",
              "          const element = document.querySelector('#df-2c627da2-089a-4250-8c82-b302e3ce7a89');\n",
              "          const dataTable =\n",
              "            await google.colab.kernel.invokeFunction('convertToInteractive',\n",
              "                                                     [key], {});\n",
              "          if (!dataTable) return;\n",
              "\n",
              "          const docLinkHtml = 'Like what you see? Visit the ' +\n",
              "            '<a target=\"_blank\" href=https://colab.research.google.com/notebooks/data_table.ipynb>data table notebook</a>'\n",
              "            + ' to learn more about interactive tables.';\n",
              "          element.innerHTML = '';\n",
              "          dataTable['output_type'] = 'display_data';\n",
              "          await google.colab.output.renderOutput(dataTable, element);\n",
              "          const docLink = document.createElement('div');\n",
              "          docLink.innerHTML = docLinkHtml;\n",
              "          element.appendChild(docLink);\n",
              "        }\n",
              "      </script>\n",
              "    </div>\n",
              "  </div>\n",
              "  "
            ]
          },
          "metadata": {},
          "execution_count": 47
        }
      ]
    },
    {
      "cell_type": "code",
      "metadata": {
        "id": "dC3uU8qlcNq4"
      },
      "source": [
        "# Converting the data in the column \"Reviews\" to float to that we can apply statistics\n",
        "\n",
        "app.Reviews= app.Reviews.astype(float) "
      ],
      "execution_count": 48,
      "outputs": []
    },
    {
      "cell_type": "code",
      "metadata": {
        "id": "RUQii6sjcNq5",
        "colab": {
          "base_uri": "https://localhost:8080/",
          "height": 0
        },
        "outputId": "32cdff01-a948-4c3e-dc31-ed097a031c9c"
      },
      "source": [
        "app.describe()"
      ],
      "execution_count": 49,
      "outputs": [
        {
          "output_type": "execute_result",
          "data": {
            "text/plain": [
              "             Rating       Reviews\n",
              "count  32006.000000  3.200600e+04\n",
              "mean       4.271294  9.846959e+04\n",
              "std        0.499612  1.173584e+06\n",
              "min        1.000000  1.000000e+00\n",
              "25%        4.090909  1.390000e+02\n",
              "50%        4.375006  1.463000e+03\n",
              "75%        4.583333  1.442900e+04\n",
              "max        5.000000  8.621429e+07"
            ],
            "text/html": [
              "\n",
              "  <div id=\"df-f46ffa0d-76fd-4d64-ab00-f0f95ac39e76\">\n",
              "    <div class=\"colab-df-container\">\n",
              "      <div>\n",
              "<style scoped>\n",
              "    .dataframe tbody tr th:only-of-type {\n",
              "        vertical-align: middle;\n",
              "    }\n",
              "\n",
              "    .dataframe tbody tr th {\n",
              "        vertical-align: top;\n",
              "    }\n",
              "\n",
              "    .dataframe thead th {\n",
              "        text-align: right;\n",
              "    }\n",
              "</style>\n",
              "<table border=\"1\" class=\"dataframe\">\n",
              "  <thead>\n",
              "    <tr style=\"text-align: right;\">\n",
              "      <th></th>\n",
              "      <th>Rating</th>\n",
              "      <th>Reviews</th>\n",
              "    </tr>\n",
              "  </thead>\n",
              "  <tbody>\n",
              "    <tr>\n",
              "      <th>count</th>\n",
              "      <td>32006.000000</td>\n",
              "      <td>3.200600e+04</td>\n",
              "    </tr>\n",
              "    <tr>\n",
              "      <th>mean</th>\n",
              "      <td>4.271294</td>\n",
              "      <td>9.846959e+04</td>\n",
              "    </tr>\n",
              "    <tr>\n",
              "      <th>std</th>\n",
              "      <td>0.499612</td>\n",
              "      <td>1.173584e+06</td>\n",
              "    </tr>\n",
              "    <tr>\n",
              "      <th>min</th>\n",
              "      <td>1.000000</td>\n",
              "      <td>1.000000e+00</td>\n",
              "    </tr>\n",
              "    <tr>\n",
              "      <th>25%</th>\n",
              "      <td>4.090909</td>\n",
              "      <td>1.390000e+02</td>\n",
              "    </tr>\n",
              "    <tr>\n",
              "      <th>50%</th>\n",
              "      <td>4.375006</td>\n",
              "      <td>1.463000e+03</td>\n",
              "    </tr>\n",
              "    <tr>\n",
              "      <th>75%</th>\n",
              "      <td>4.583333</td>\n",
              "      <td>1.442900e+04</td>\n",
              "    </tr>\n",
              "    <tr>\n",
              "      <th>max</th>\n",
              "      <td>5.000000</td>\n",
              "      <td>8.621429e+07</td>\n",
              "    </tr>\n",
              "  </tbody>\n",
              "</table>\n",
              "</div>\n",
              "      <button class=\"colab-df-convert\" onclick=\"convertToInteractive('df-f46ffa0d-76fd-4d64-ab00-f0f95ac39e76')\"\n",
              "              title=\"Convert this dataframe to an interactive table.\"\n",
              "              style=\"display:none;\">\n",
              "        \n",
              "  <svg xmlns=\"http://www.w3.org/2000/svg\" height=\"24px\"viewBox=\"0 0 24 24\"\n",
              "       width=\"24px\">\n",
              "    <path d=\"M0 0h24v24H0V0z\" fill=\"none\"/>\n",
              "    <path d=\"M18.56 5.44l.94 2.06.94-2.06 2.06-.94-2.06-.94-.94-2.06-.94 2.06-2.06.94zm-11 1L8.5 8.5l.94-2.06 2.06-.94-2.06-.94L8.5 2.5l-.94 2.06-2.06.94zm10 10l.94 2.06.94-2.06 2.06-.94-2.06-.94-.94-2.06-.94 2.06-2.06.94z\"/><path d=\"M17.41 7.96l-1.37-1.37c-.4-.4-.92-.59-1.43-.59-.52 0-1.04.2-1.43.59L10.3 9.45l-7.72 7.72c-.78.78-.78 2.05 0 2.83L4 21.41c.39.39.9.59 1.41.59.51 0 1.02-.2 1.41-.59l7.78-7.78 2.81-2.81c.8-.78.8-2.07 0-2.86zM5.41 20L4 18.59l7.72-7.72 1.47 1.35L5.41 20z\"/>\n",
              "  </svg>\n",
              "      </button>\n",
              "      \n",
              "  <style>\n",
              "    .colab-df-container {\n",
              "      display:flex;\n",
              "      flex-wrap:wrap;\n",
              "      gap: 12px;\n",
              "    }\n",
              "\n",
              "    .colab-df-convert {\n",
              "      background-color: #E8F0FE;\n",
              "      border: none;\n",
              "      border-radius: 50%;\n",
              "      cursor: pointer;\n",
              "      display: none;\n",
              "      fill: #1967D2;\n",
              "      height: 32px;\n",
              "      padding: 0 0 0 0;\n",
              "      width: 32px;\n",
              "    }\n",
              "\n",
              "    .colab-df-convert:hover {\n",
              "      background-color: #E2EBFA;\n",
              "      box-shadow: 0px 1px 2px rgba(60, 64, 67, 0.3), 0px 1px 3px 1px rgba(60, 64, 67, 0.15);\n",
              "      fill: #174EA6;\n",
              "    }\n",
              "\n",
              "    [theme=dark] .colab-df-convert {\n",
              "      background-color: #3B4455;\n",
              "      fill: #D2E3FC;\n",
              "    }\n",
              "\n",
              "    [theme=dark] .colab-df-convert:hover {\n",
              "      background-color: #434B5C;\n",
              "      box-shadow: 0px 1px 3px 1px rgba(0, 0, 0, 0.15);\n",
              "      filter: drop-shadow(0px 1px 2px rgba(0, 0, 0, 0.3));\n",
              "      fill: #FFFFFF;\n",
              "    }\n",
              "  </style>\n",
              "\n",
              "      <script>\n",
              "        const buttonEl =\n",
              "          document.querySelector('#df-f46ffa0d-76fd-4d64-ab00-f0f95ac39e76 button.colab-df-convert');\n",
              "        buttonEl.style.display =\n",
              "          google.colab.kernel.accessAllowed ? 'block' : 'none';\n",
              "\n",
              "        async function convertToInteractive(key) {\n",
              "          const element = document.querySelector('#df-f46ffa0d-76fd-4d64-ab00-f0f95ac39e76');\n",
              "          const dataTable =\n",
              "            await google.colab.kernel.invokeFunction('convertToInteractive',\n",
              "                                                     [key], {});\n",
              "          if (!dataTable) return;\n",
              "\n",
              "          const docLinkHtml = 'Like what you see? Visit the ' +\n",
              "            '<a target=\"_blank\" href=https://colab.research.google.com/notebooks/data_table.ipynb>data table notebook</a>'\n",
              "            + ' to learn more about interactive tables.';\n",
              "          element.innerHTML = '';\n",
              "          dataTable['output_type'] = 'display_data';\n",
              "          await google.colab.output.renderOutput(dataTable, element);\n",
              "          const docLink = document.createElement('div');\n",
              "          docLink.innerHTML = docLinkHtml;\n",
              "          element.appendChild(docLink);\n",
              "        }\n",
              "      </script>\n",
              "    </div>\n",
              "  </div>\n",
              "  "
            ]
          },
          "metadata": {},
          "execution_count": 49
        }
      ]
    },
    {
      "cell_type": "code",
      "metadata": {
        "id": "ozY_CxEccNq8",
        "colab": {
          "base_uri": "https://localhost:8080/"
        },
        "outputId": "66dc3158-f9b5-4fab-81a3-fac5a5d50ea7"
      },
      "source": [
        "# I want to convert the column \"Installs\" into float\n",
        "\n",
        "# I firstly have to remove the \"+\"\n",
        " \n",
        "app.Installs= app[\"Installs\"].str.replace(\"+\", \"\")"
      ],
      "execution_count": 50,
      "outputs": [
        {
          "output_type": "stream",
          "name": "stderr",
          "text": [
            "/usr/local/lib/python3.7/dist-packages/ipykernel_launcher.py:5: FutureWarning: The default value of regex will change from True to False in a future version. In addition, single character regular expressions will *not* be treated as literal strings when regex=True.\n",
            "  \"\"\"\n"
          ]
        }
      ]
    },
    {
      "cell_type": "code",
      "metadata": {
        "id": "GC2jBktUcNrC"
      },
      "source": [
        "# I had some problems converting the column into float, even when i removed \"+\"\n",
        "\n",
        "# I am removing the commas\n",
        "\n",
        "app.Installs= app[\"Installs\"].str.replace(\",\", \"\")"
      ],
      "execution_count": 51,
      "outputs": []
    },
    {
      "cell_type": "code",
      "metadata": {
        "id": "0Dk5D2MacNrF"
      },
      "source": [
        "app[\"Installs\"] = pd.to_numeric(app[\"Installs\"])"
      ],
      "execution_count": 52,
      "outputs": []
    },
    {
      "cell_type": "code",
      "metadata": {
        "id": "KQQx2HZfcNrI",
        "colab": {
          "base_uri": "https://localhost:8080/"
        },
        "outputId": "ab9f38e1-e08e-4e74-fdbe-ff0bf35d1368"
      },
      "source": [
        "# Removing \"$\" from the data entries in the column \"Price\" so that it can be converted to float\n",
        "\n",
        "app[\"Price\"]= app[\"Price\"].str.replace(\"$\", \"\")"
      ],
      "execution_count": 53,
      "outputs": [
        {
          "output_type": "stream",
          "name": "stderr",
          "text": [
            "/usr/local/lib/python3.7/dist-packages/ipykernel_launcher.py:3: FutureWarning: The default value of regex will change from True to False in a future version. In addition, single character regular expressions will *not* be treated as literal strings when regex=True.\n",
            "  This is separate from the ipykernel package so we can avoid doing imports until\n"
          ]
        }
      ]
    },
    {
      "cell_type": "code",
      "metadata": {
        "id": "ge4e7pr_cNrN"
      },
      "source": [
        "# Convert the data in \"Price\" to float\n",
        "\n",
        "\n",
        "app[\"Price\"]= app.Price.astype(float)"
      ],
      "execution_count": 54,
      "outputs": []
    },
    {
      "cell_type": "code",
      "metadata": {
        "id": "sL6xktWjcNrQ",
        "colab": {
          "base_uri": "https://localhost:8080/",
          "height": 0
        },
        "outputId": "21a24b8d-9c81-4ab2-c4ee-379114da6ce6"
      },
      "source": [
        "# the data in the column \"Prics\" successfully converted to float\n",
        "\n",
        "# In these columns i can do various statistical applications\n",
        "app.describe()"
      ],
      "execution_count": 55,
      "outputs": [
        {
          "output_type": "execute_result",
          "data": {
            "text/plain": [
              "             Rating       Reviews      Installs         Price\n",
              "count  32006.000000  3.200600e+04  3.200600e+04  32006.000000\n",
              "mean       4.271294  9.846959e+04  4.125424e+06      0.290077\n",
              "std        0.499612  1.173584e+06  5.871178e+07      3.320007\n",
              "min        1.000000  1.000000e+00  0.000000e+00      0.000000\n",
              "25%        4.090909  1.390000e+02  1.000000e+04      0.000000\n",
              "50%        4.375006  1.463000e+03  1.000000e+05      0.000000\n",
              "75%        4.583333  1.442900e+04  1.000000e+06      0.000000\n",
              "max        5.000000  8.621429e+07  5.000000e+09    399.990000"
            ],
            "text/html": [
              "\n",
              "  <div id=\"df-cea14f51-8da9-47d5-9a75-a23f803d24d9\">\n",
              "    <div class=\"colab-df-container\">\n",
              "      <div>\n",
              "<style scoped>\n",
              "    .dataframe tbody tr th:only-of-type {\n",
              "        vertical-align: middle;\n",
              "    }\n",
              "\n",
              "    .dataframe tbody tr th {\n",
              "        vertical-align: top;\n",
              "    }\n",
              "\n",
              "    .dataframe thead th {\n",
              "        text-align: right;\n",
              "    }\n",
              "</style>\n",
              "<table border=\"1\" class=\"dataframe\">\n",
              "  <thead>\n",
              "    <tr style=\"text-align: right;\">\n",
              "      <th></th>\n",
              "      <th>Rating</th>\n",
              "      <th>Reviews</th>\n",
              "      <th>Installs</th>\n",
              "      <th>Price</th>\n",
              "    </tr>\n",
              "  </thead>\n",
              "  <tbody>\n",
              "    <tr>\n",
              "      <th>count</th>\n",
              "      <td>32006.000000</td>\n",
              "      <td>3.200600e+04</td>\n",
              "      <td>3.200600e+04</td>\n",
              "      <td>32006.000000</td>\n",
              "    </tr>\n",
              "    <tr>\n",
              "      <th>mean</th>\n",
              "      <td>4.271294</td>\n",
              "      <td>9.846959e+04</td>\n",
              "      <td>4.125424e+06</td>\n",
              "      <td>0.290077</td>\n",
              "    </tr>\n",
              "    <tr>\n",
              "      <th>std</th>\n",
              "      <td>0.499612</td>\n",
              "      <td>1.173584e+06</td>\n",
              "      <td>5.871178e+07</td>\n",
              "      <td>3.320007</td>\n",
              "    </tr>\n",
              "    <tr>\n",
              "      <th>min</th>\n",
              "      <td>1.000000</td>\n",
              "      <td>1.000000e+00</td>\n",
              "      <td>0.000000e+00</td>\n",
              "      <td>0.000000</td>\n",
              "    </tr>\n",
              "    <tr>\n",
              "      <th>25%</th>\n",
              "      <td>4.090909</td>\n",
              "      <td>1.390000e+02</td>\n",
              "      <td>1.000000e+04</td>\n",
              "      <td>0.000000</td>\n",
              "    </tr>\n",
              "    <tr>\n",
              "      <th>50%</th>\n",
              "      <td>4.375006</td>\n",
              "      <td>1.463000e+03</td>\n",
              "      <td>1.000000e+05</td>\n",
              "      <td>0.000000</td>\n",
              "    </tr>\n",
              "    <tr>\n",
              "      <th>75%</th>\n",
              "      <td>4.583333</td>\n",
              "      <td>1.442900e+04</td>\n",
              "      <td>1.000000e+06</td>\n",
              "      <td>0.000000</td>\n",
              "    </tr>\n",
              "    <tr>\n",
              "      <th>max</th>\n",
              "      <td>5.000000</td>\n",
              "      <td>8.621429e+07</td>\n",
              "      <td>5.000000e+09</td>\n",
              "      <td>399.990000</td>\n",
              "    </tr>\n",
              "  </tbody>\n",
              "</table>\n",
              "</div>\n",
              "      <button class=\"colab-df-convert\" onclick=\"convertToInteractive('df-cea14f51-8da9-47d5-9a75-a23f803d24d9')\"\n",
              "              title=\"Convert this dataframe to an interactive table.\"\n",
              "              style=\"display:none;\">\n",
              "        \n",
              "  <svg xmlns=\"http://www.w3.org/2000/svg\" height=\"24px\"viewBox=\"0 0 24 24\"\n",
              "       width=\"24px\">\n",
              "    <path d=\"M0 0h24v24H0V0z\" fill=\"none\"/>\n",
              "    <path d=\"M18.56 5.44l.94 2.06.94-2.06 2.06-.94-2.06-.94-.94-2.06-.94 2.06-2.06.94zm-11 1L8.5 8.5l.94-2.06 2.06-.94-2.06-.94L8.5 2.5l-.94 2.06-2.06.94zm10 10l.94 2.06.94-2.06 2.06-.94-2.06-.94-.94-2.06-.94 2.06-2.06.94z\"/><path d=\"M17.41 7.96l-1.37-1.37c-.4-.4-.92-.59-1.43-.59-.52 0-1.04.2-1.43.59L10.3 9.45l-7.72 7.72c-.78.78-.78 2.05 0 2.83L4 21.41c.39.39.9.59 1.41.59.51 0 1.02-.2 1.41-.59l7.78-7.78 2.81-2.81c.8-.78.8-2.07 0-2.86zM5.41 20L4 18.59l7.72-7.72 1.47 1.35L5.41 20z\"/>\n",
              "  </svg>\n",
              "      </button>\n",
              "      \n",
              "  <style>\n",
              "    .colab-df-container {\n",
              "      display:flex;\n",
              "      flex-wrap:wrap;\n",
              "      gap: 12px;\n",
              "    }\n",
              "\n",
              "    .colab-df-convert {\n",
              "      background-color: #E8F0FE;\n",
              "      border: none;\n",
              "      border-radius: 50%;\n",
              "      cursor: pointer;\n",
              "      display: none;\n",
              "      fill: #1967D2;\n",
              "      height: 32px;\n",
              "      padding: 0 0 0 0;\n",
              "      width: 32px;\n",
              "    }\n",
              "\n",
              "    .colab-df-convert:hover {\n",
              "      background-color: #E2EBFA;\n",
              "      box-shadow: 0px 1px 2px rgba(60, 64, 67, 0.3), 0px 1px 3px 1px rgba(60, 64, 67, 0.15);\n",
              "      fill: #174EA6;\n",
              "    }\n",
              "\n",
              "    [theme=dark] .colab-df-convert {\n",
              "      background-color: #3B4455;\n",
              "      fill: #D2E3FC;\n",
              "    }\n",
              "\n",
              "    [theme=dark] .colab-df-convert:hover {\n",
              "      background-color: #434B5C;\n",
              "      box-shadow: 0px 1px 3px 1px rgba(0, 0, 0, 0.15);\n",
              "      filter: drop-shadow(0px 1px 2px rgba(0, 0, 0, 0.3));\n",
              "      fill: #FFFFFF;\n",
              "    }\n",
              "  </style>\n",
              "\n",
              "      <script>\n",
              "        const buttonEl =\n",
              "          document.querySelector('#df-cea14f51-8da9-47d5-9a75-a23f803d24d9 button.colab-df-convert');\n",
              "        buttonEl.style.display =\n",
              "          google.colab.kernel.accessAllowed ? 'block' : 'none';\n",
              "\n",
              "        async function convertToInteractive(key) {\n",
              "          const element = document.querySelector('#df-cea14f51-8da9-47d5-9a75-a23f803d24d9');\n",
              "          const dataTable =\n",
              "            await google.colab.kernel.invokeFunction('convertToInteractive',\n",
              "                                                     [key], {});\n",
              "          if (!dataTable) return;\n",
              "\n",
              "          const docLinkHtml = 'Like what you see? Visit the ' +\n",
              "            '<a target=\"_blank\" href=https://colab.research.google.com/notebooks/data_table.ipynb>data table notebook</a>'\n",
              "            + ' to learn more about interactive tables.';\n",
              "          element.innerHTML = '';\n",
              "          dataTable['output_type'] = 'display_data';\n",
              "          await google.colab.output.renderOutput(dataTable, element);\n",
              "          const docLink = document.createElement('div');\n",
              "          docLink.innerHTML = docLinkHtml;\n",
              "          element.appendChild(docLink);\n",
              "        }\n",
              "      </script>\n",
              "    </div>\n",
              "  </div>\n",
              "  "
            ]
          },
          "metadata": {},
          "execution_count": 55
        }
      ]
    },
    {
      "cell_type": "code",
      "metadata": {
        "id": "3k0BvM0icNrT",
        "colab": {
          "base_uri": "https://localhost:8080/"
        },
        "outputId": "cf258e2a-c6a7-429c-a416-48ab708db182"
      },
      "source": [
        "# procedure for converting the column \"Size\" to float\n",
        "# there are sizes counted in mb, kb, in numbers without measurement unit and with \"varies with device\"\n",
        "app.Size.unique()"
      ],
      "execution_count": 56,
      "outputs": [
        {
          "output_type": "execute_result",
          "data": {
            "text/plain": [
              "array(['Varies with device', '1.4M', '16M', '23M', '4.1M', '39M', '8.1M',\n",
              "       '19M', '30M', '11M', '14M', '38M', '15M', '55M', '7.8M', '17M',\n",
              "       '62M', '22M', '25M', '46M', '9.5M', '78M', '13M', '72M', '81M',\n",
              "       '44M', '24M', '99M', '37M', '63M', '45M', '20M', '34M', '79M',\n",
              "       '35M', '36M', '54M', '40M', '90M', '97M', '27M', '82M', '58M',\n",
              "       '43M', '64M', '47M', '50M', '33M', '84M', '89M', '69M', '52M',\n",
              "       '101M', '71M', '66M', '12M', '18M', '56M', '9.3M', '3.4M', '48M',\n",
              "       '31M', '51M', '49M', '21M', '4.8M', '4.7M', '26M', '32M', '2.9M',\n",
              "       '9.4M', '10M', '76M', '93M', '3.0M', '41M', '29M', '42M', '94M',\n",
              "       '75M', '4.0M', '73M', '2.4M', '7.7M', '9.7M', '6.6M', '2.7M',\n",
              "       '57M', '59M', '8.4M', '8.6M', '70M', '6.1M', '8.3M', '2.0M',\n",
              "       '7.0M', '2.5M', '28M', '6.9M', '7.1M', '5.7M', '4.4M', '686k',\n",
              "       '4.3M', '4.2M', '3.6M', '8.7M', '3.3M', '7.3M', '10.0M', '7.6M',\n",
              "       '1.7M', '98M', '4.5M', '6.5M', '65M', '6.2M', '80M', '85M', '86M',\n",
              "       '9.1M', '68M', '2.6M', '87M', '88M', '9.2M', '74M', '4.6M', '103M',\n",
              "       '96M', '5.2M', '116M', '6.3M', '91M', '111M', '83M', '53M', '431k',\n",
              "       '3.9M', '2.2M', '77M', '100M', '110M', '60M', '9.6M', '9.0M',\n",
              "       '7.9M', '6.0M', '5.6M', '3.7M', '5.0M', '67M', '92M', '102M',\n",
              "       '5.3M', '5.5M', '107M', '8.8M', '61M', '6.4M', '2.3M', '45k',\n",
              "       '3.1M', '324k', '8.9M', '95M', '6.8M', '7.5M', '3.5M', '1.8M',\n",
              "       '8.2M', '1.3M', '8.5M', '104M', '3.2M', '5.8M', '5.9M', '1.1M',\n",
              "       '5.1M', '18k', '7.2M', '3.8M', '5.4M', '6.7M', '7.4M', '9.9M',\n",
              "       '1.5M', '862k', '2.1M', '1.6M', '375k', '378k', '4.9M', '105M',\n",
              "       '720k', '713k', '96k', '557k', '126k', '8.0M', '1.2M', '237k',\n",
              "       '208k', '2.8M', '9.8M', '1.9M', '696k', '525k', '544k', '523k',\n",
              "       '779k', '1.0M', '53k', '118k', '853k', '998k', '52k', '89k', '32k',\n",
              "       '335k', '64k', '1,015k', '44k', '81k', '849k', '649k', '6.1k',\n",
              "       '29k', '860k', '172k', '990k', '447k', '627k', '317k', '270k',\n",
              "       '334k', '176k', '50k', '526k', '856k', '446k', '710k', '42k',\n",
              "       '709k', '519k', '4.7k', '360k', '492k', '925k', '699k', '611k',\n",
              "       '216k', '618k', '19k', '540k', '531k', '417k', '683k', '173k',\n",
              "       '199k', '213k', '230k', '109k', '99k', '17k', '93k', '718k',\n",
              "       '107k', '362k', '624k', '675k', '228k', '738k', '105k', '39k',\n",
              "       '108k', '898k', '41k', '60k', '76k', '28k', '261k', '49k', '38k',\n",
              "       '697k', '71k', '470k', '508k', '232k', '21k', '115k', '543k',\n",
              "       '123k', '65k', '33k', '72k', '642k', '979k', '298k', '436k',\n",
              "       '205k', '778k', '851k', '844k', '102k', '47k', '34k', '128k',\n",
              "       '138k', '295k', '108M', '784k', '534k', '457k', '528k', '342k',\n",
              "       '238k', '811k', '631k', '104k', '257k', '308k', '762k', '30k',\n",
              "       '655k', '877k', '708k', '26k', '285k', '226k', '897k', '1,024k',\n",
              "       '364k', '182k', '736k', '790k', '48k', '949k', '51k', '551k',\n",
              "       '1,006k', '917k', '371k', '672k', '27k', '793k', '658k', '663k',\n",
              "       '469k', '440k', '640k', '322k', '874k', '413k', '194k', '229k',\n",
              "       '479k', '215k', '180k', '441k', '352k', '438k', '397k', '848k',\n",
              "       '733k', '393k', '78k', '732k', '581k', '66k', '729k', '202k',\n",
              "       '465k', '77k', '255k', '334M', '35k', '803k', '541k', '722k',\n",
              "       '325k', '97k', '207k', '915k', '842k', '80k', '907k', '309k',\n",
              "       '55k', '258k', '847k', '198k', '845k', '454k', '997k', '1,007k',\n",
              "       '151k', '597k', '577k', '652k', '73k', '70k', '146k', '130k',\n",
              "       '920k', '814k', '767k', '975k', '15k', '968k', '869k', '234k',\n",
              "       '660k', '839k', '300k', '301k', '969k', '808k', '404k', '639k',\n",
              "       '566k', '236k', '186k', '903k', '344k', '1,005k', '90k', '563k',\n",
              "       '855k', '472k', '83k', '482k', '587k', '908k', '31k', '589k',\n",
              "       '1,011k', '59k', '57k', '550k', '757k', '832k', '794k', '347M',\n",
              "       '167k', '217k', '954k', '25k', '999k', '1,022k', '106M', '113M',\n",
              "       '260k', '448k', '603k', '657k', '991k', '94k', '20k', '400k',\n",
              "       '776k', '86k', '160k', '565k', '751k', '763k', '777k', '950k',\n",
              "       '608k', '383k', '625k', '251k', '919k', '480k', '630k', '904k',\n",
              "       '594k', '63k', '529k', '737k', '873k', '87k', '1,004k', '267k',\n",
              "       '263k', '222k', '840k', '373k', '210k', '395k', '233k', '84k',\n",
              "       '245k', '965k', '46k', '420k', '545k', '586k', '113k', '788k',\n",
              "       '813k', '996k', '634k', '938k', '805k', '279k', '333k', '273k',\n",
              "       '951k', '310k', '166k', '11k', '552k', '92k', '139k', '900k',\n",
              "       '58k', '473k', '43k', '1,014k', '931k', '451k', '662k', '935k',\n",
              "       '955k', '402k', '302k', '676k', '181k', '828k', '10k', '351k',\n",
              "       '386k', '68k', '174k', '752k', '85k', '1,009k', '318k', '802k',\n",
              "       '651k', '960k', '834k', '827k', '323k', '200k', '478k', '37k',\n",
              "       '690k', '391k', '911k', '591k', '976k', '150k', '498k', '7.5k',\n",
              "       '602k', '578k', '165k', '289k', '615k', '760k', '522k', '466k',\n",
              "       '254k', '327k', '246k', '644k', '235k', '613k', '24k', '153k',\n",
              "       '140k', '600k', '281k', '505k'], dtype=object)"
            ]
          },
          "metadata": {},
          "execution_count": 56
        }
      ]
    },
    {
      "cell_type": "code",
      "metadata": {
        "id": "3y0iuCZ2cNrX"
      },
      "source": [
        "# removing the \"m\" which is the mb for the size\n",
        "\n",
        "app.Size= app[\"Size\"].str.replace(\"M\", \"\")"
      ],
      "execution_count": 57,
      "outputs": []
    },
    {
      "cell_type": "code",
      "metadata": {
        "id": "BEMB5gAwcNrc"
      },
      "source": [
        "# assigning \"Varies with device\" with a number like \"-1\" so that i can seperate it later\n",
        "\n",
        "# app.Size= app[\"Size\"].str.replace(\"Varies with device\", \"-1\")"
      ],
      "execution_count": 58,
      "outputs": []
    },
    {
      "cell_type": "code",
      "metadata": {
        "id": "XJL-zTNacNrl"
      },
      "source": [
        "# Segmenting the column of the size\n",
        "\n",
        "y= app.iloc[:, 5:6]\n"
      ],
      "execution_count": 59,
      "outputs": []
    },
    {
      "cell_type": "code",
      "metadata": {
        "id": "gjp3QjUHcNro"
      },
      "source": [
        "# I tried to fix the last problems in converting the column \"Size\" to float\n",
        "# Here i am trying to remove \"k\" (kbs) and the blanks, and to convert kbs to mbs\n",
        "# It keeps giving me errors and i cannot fix it\n",
        "# i will not use the column \"Size\" for statistical applications\n",
        "\n",
        "#for x in y:\n",
        "#    x = str(x)\n",
        "#    x= x.replace(\" \", \"\")\n",
        "#    x= x.replace(\",\", \".\")\n",
        "#    if \"k\" in x:\n",
        "#        x= x.replace(\"k\", \"\")\n",
        "#        x=x.replace(\" k\", \"\")\n",
        "#        x=x.replace(\"k \", \"\")\n",
        "#        x= float(x)\n",
        "#        x= x/1024"
      ],
      "execution_count": 60,
      "outputs": []
    },
    {
      "cell_type": "code",
      "metadata": {
        "id": "ofqCtTQicNrr",
        "colab": {
          "base_uri": "https://localhost:8080/"
        },
        "outputId": "c2765206-91df-4605-8fea-17d3b843eb7d"
      },
      "source": [
        "# There are 11,728 apps whose size varies with device\n",
        "\n",
        "len(app[app[\"Size\"]== \"Varies with device\"])"
      ],
      "execution_count": 61,
      "outputs": [
        {
          "output_type": "execute_result",
          "data": {
            "text/plain": [
              "3197"
            ]
          },
          "metadata": {},
          "execution_count": 61
        }
      ]
    },
    {
      "cell_type": "code",
      "metadata": {
        "id": "K4lebuGmcNrv",
        "colab": {
          "base_uri": "https://localhost:8080/"
        },
        "outputId": "456ae8d3-8233-4d5c-c21f-8fe5f03a2161"
      },
      "source": [
        "app.Size.describe()"
      ],
      "execution_count": 62,
      "outputs": [
        {
          "output_type": "execute_result",
          "data": {
            "text/plain": [
              "count                  32006\n",
              "unique                   576\n",
              "top       Varies with device\n",
              "freq                    3197\n",
              "Name: Size, dtype: object"
            ]
          },
          "metadata": {},
          "execution_count": 62
        }
      ]
    },
    {
      "cell_type": "code",
      "metadata": {
        "id": "oLAOMY78cNry",
        "colab": {
          "base_uri": "https://localhost:8080/"
        },
        "outputId": "2c59987e-02dd-49ab-e0ef-543092c3d928"
      },
      "source": [
        "print (\"Apps whose size varies with device are {}% of the dataset\".format(11728/267040*100))"
      ],
      "execution_count": 63,
      "outputs": [
        {
          "output_type": "stream",
          "name": "stdout",
          "text": [
            "Apps whose size varies with device are 4.391851408028759% of the dataset\n"
          ]
        }
      ]
    },
    {
      "cell_type": "markdown",
      "metadata": {
        "id": "CDlQQ65ycNr8"
      },
      "source": [
        "# Statistical Analysis"
      ]
    },
    {
      "cell_type": "code",
      "metadata": {
        "id": "NRd5M0HWcNr9",
        "colab": {
          "base_uri": "https://localhost:8080/"
        },
        "outputId": "1ef588de-3907-4e8d-fe55-ed2e5169f505"
      },
      "source": [
        "#ensuring the shape of dataframe before proceeding to further statistics and visualization\n",
        "\n",
        "app.shape"
      ],
      "execution_count": 64,
      "outputs": [
        {
          "output_type": "execute_result",
          "data": {
            "text/plain": [
              "(32006, 11)"
            ]
          },
          "metadata": {},
          "execution_count": 64
        }
      ]
    },
    {
      "cell_type": "code",
      "metadata": {
        "id": "RtCMHv0rcNsB",
        "colab": {
          "base_uri": "https://localhost:8080/",
          "height": 300
        },
        "outputId": "83819c7d-c90c-4282-d212-a6b8f62e7804"
      },
      "source": [
        "# the columns, the data of which we can do statistic manipulation\n",
        "\n",
        "app.describe()"
      ],
      "execution_count": 65,
      "outputs": [
        {
          "output_type": "execute_result",
          "data": {
            "text/plain": [
              "             Rating       Reviews      Installs         Price\n",
              "count  32006.000000  3.200600e+04  3.200600e+04  32006.000000\n",
              "mean       4.271294  9.846959e+04  4.125424e+06      0.290077\n",
              "std        0.499612  1.173584e+06  5.871178e+07      3.320007\n",
              "min        1.000000  1.000000e+00  0.000000e+00      0.000000\n",
              "25%        4.090909  1.390000e+02  1.000000e+04      0.000000\n",
              "50%        4.375006  1.463000e+03  1.000000e+05      0.000000\n",
              "75%        4.583333  1.442900e+04  1.000000e+06      0.000000\n",
              "max        5.000000  8.621429e+07  5.000000e+09    399.990000"
            ],
            "text/html": [
              "\n",
              "  <div id=\"df-bec196a1-0315-45be-acb9-2da4b7fd6f6a\">\n",
              "    <div class=\"colab-df-container\">\n",
              "      <div>\n",
              "<style scoped>\n",
              "    .dataframe tbody tr th:only-of-type {\n",
              "        vertical-align: middle;\n",
              "    }\n",
              "\n",
              "    .dataframe tbody tr th {\n",
              "        vertical-align: top;\n",
              "    }\n",
              "\n",
              "    .dataframe thead th {\n",
              "        text-align: right;\n",
              "    }\n",
              "</style>\n",
              "<table border=\"1\" class=\"dataframe\">\n",
              "  <thead>\n",
              "    <tr style=\"text-align: right;\">\n",
              "      <th></th>\n",
              "      <th>Rating</th>\n",
              "      <th>Reviews</th>\n",
              "      <th>Installs</th>\n",
              "      <th>Price</th>\n",
              "    </tr>\n",
              "  </thead>\n",
              "  <tbody>\n",
              "    <tr>\n",
              "      <th>count</th>\n",
              "      <td>32006.000000</td>\n",
              "      <td>3.200600e+04</td>\n",
              "      <td>3.200600e+04</td>\n",
              "      <td>32006.000000</td>\n",
              "    </tr>\n",
              "    <tr>\n",
              "      <th>mean</th>\n",
              "      <td>4.271294</td>\n",
              "      <td>9.846959e+04</td>\n",
              "      <td>4.125424e+06</td>\n",
              "      <td>0.290077</td>\n",
              "    </tr>\n",
              "    <tr>\n",
              "      <th>std</th>\n",
              "      <td>0.499612</td>\n",
              "      <td>1.173584e+06</td>\n",
              "      <td>5.871178e+07</td>\n",
              "      <td>3.320007</td>\n",
              "    </tr>\n",
              "    <tr>\n",
              "      <th>min</th>\n",
              "      <td>1.000000</td>\n",
              "      <td>1.000000e+00</td>\n",
              "      <td>0.000000e+00</td>\n",
              "      <td>0.000000</td>\n",
              "    </tr>\n",
              "    <tr>\n",
              "      <th>25%</th>\n",
              "      <td>4.090909</td>\n",
              "      <td>1.390000e+02</td>\n",
              "      <td>1.000000e+04</td>\n",
              "      <td>0.000000</td>\n",
              "    </tr>\n",
              "    <tr>\n",
              "      <th>50%</th>\n",
              "      <td>4.375006</td>\n",
              "      <td>1.463000e+03</td>\n",
              "      <td>1.000000e+05</td>\n",
              "      <td>0.000000</td>\n",
              "    </tr>\n",
              "    <tr>\n",
              "      <th>75%</th>\n",
              "      <td>4.583333</td>\n",
              "      <td>1.442900e+04</td>\n",
              "      <td>1.000000e+06</td>\n",
              "      <td>0.000000</td>\n",
              "    </tr>\n",
              "    <tr>\n",
              "      <th>max</th>\n",
              "      <td>5.000000</td>\n",
              "      <td>8.621429e+07</td>\n",
              "      <td>5.000000e+09</td>\n",
              "      <td>399.990000</td>\n",
              "    </tr>\n",
              "  </tbody>\n",
              "</table>\n",
              "</div>\n",
              "      <button class=\"colab-df-convert\" onclick=\"convertToInteractive('df-bec196a1-0315-45be-acb9-2da4b7fd6f6a')\"\n",
              "              title=\"Convert this dataframe to an interactive table.\"\n",
              "              style=\"display:none;\">\n",
              "        \n",
              "  <svg xmlns=\"http://www.w3.org/2000/svg\" height=\"24px\"viewBox=\"0 0 24 24\"\n",
              "       width=\"24px\">\n",
              "    <path d=\"M0 0h24v24H0V0z\" fill=\"none\"/>\n",
              "    <path d=\"M18.56 5.44l.94 2.06.94-2.06 2.06-.94-2.06-.94-.94-2.06-.94 2.06-2.06.94zm-11 1L8.5 8.5l.94-2.06 2.06-.94-2.06-.94L8.5 2.5l-.94 2.06-2.06.94zm10 10l.94 2.06.94-2.06 2.06-.94-2.06-.94-.94-2.06-.94 2.06-2.06.94z\"/><path d=\"M17.41 7.96l-1.37-1.37c-.4-.4-.92-.59-1.43-.59-.52 0-1.04.2-1.43.59L10.3 9.45l-7.72 7.72c-.78.78-.78 2.05 0 2.83L4 21.41c.39.39.9.59 1.41.59.51 0 1.02-.2 1.41-.59l7.78-7.78 2.81-2.81c.8-.78.8-2.07 0-2.86zM5.41 20L4 18.59l7.72-7.72 1.47 1.35L5.41 20z\"/>\n",
              "  </svg>\n",
              "      </button>\n",
              "      \n",
              "  <style>\n",
              "    .colab-df-container {\n",
              "      display:flex;\n",
              "      flex-wrap:wrap;\n",
              "      gap: 12px;\n",
              "    }\n",
              "\n",
              "    .colab-df-convert {\n",
              "      background-color: #E8F0FE;\n",
              "      border: none;\n",
              "      border-radius: 50%;\n",
              "      cursor: pointer;\n",
              "      display: none;\n",
              "      fill: #1967D2;\n",
              "      height: 32px;\n",
              "      padding: 0 0 0 0;\n",
              "      width: 32px;\n",
              "    }\n",
              "\n",
              "    .colab-df-convert:hover {\n",
              "      background-color: #E2EBFA;\n",
              "      box-shadow: 0px 1px 2px rgba(60, 64, 67, 0.3), 0px 1px 3px 1px rgba(60, 64, 67, 0.15);\n",
              "      fill: #174EA6;\n",
              "    }\n",
              "\n",
              "    [theme=dark] .colab-df-convert {\n",
              "      background-color: #3B4455;\n",
              "      fill: #D2E3FC;\n",
              "    }\n",
              "\n",
              "    [theme=dark] .colab-df-convert:hover {\n",
              "      background-color: #434B5C;\n",
              "      box-shadow: 0px 1px 3px 1px rgba(0, 0, 0, 0.15);\n",
              "      filter: drop-shadow(0px 1px 2px rgba(0, 0, 0, 0.3));\n",
              "      fill: #FFFFFF;\n",
              "    }\n",
              "  </style>\n",
              "\n",
              "      <script>\n",
              "        const buttonEl =\n",
              "          document.querySelector('#df-bec196a1-0315-45be-acb9-2da4b7fd6f6a button.colab-df-convert');\n",
              "        buttonEl.style.display =\n",
              "          google.colab.kernel.accessAllowed ? 'block' : 'none';\n",
              "\n",
              "        async function convertToInteractive(key) {\n",
              "          const element = document.querySelector('#df-bec196a1-0315-45be-acb9-2da4b7fd6f6a');\n",
              "          const dataTable =\n",
              "            await google.colab.kernel.invokeFunction('convertToInteractive',\n",
              "                                                     [key], {});\n",
              "          if (!dataTable) return;\n",
              "\n",
              "          const docLinkHtml = 'Like what you see? Visit the ' +\n",
              "            '<a target=\"_blank\" href=https://colab.research.google.com/notebooks/data_table.ipynb>data table notebook</a>'\n",
              "            + ' to learn more about interactive tables.';\n",
              "          element.innerHTML = '';\n",
              "          dataTable['output_type'] = 'display_data';\n",
              "          await google.colab.output.renderOutput(dataTable, element);\n",
              "          const docLink = document.createElement('div');\n",
              "          docLink.innerHTML = docLinkHtml;\n",
              "          element.appendChild(docLink);\n",
              "        }\n",
              "      </script>\n",
              "    </div>\n",
              "  </div>\n",
              "  "
            ]
          },
          "metadata": {},
          "execution_count": 65
        }
      ]
    },
    {
      "cell_type": "code",
      "metadata": {
        "id": "ev_n7qybcNsH",
        "colab": {
          "base_uri": "https://localhost:8080/"
        },
        "outputId": "429159bb-c6eb-4457-d1df-533cae6c4990"
      },
      "source": [
        "app.info() # data type for each column"
      ],
      "execution_count": 66,
      "outputs": [
        {
          "output_type": "stream",
          "name": "stdout",
          "text": [
            "<class 'pandas.core.frame.DataFrame'>\n",
            "Int64Index: 32006 entries, 0 to 232811\n",
            "Data columns (total 11 columns):\n",
            " #   Column           Non-Null Count  Dtype  \n",
            "---  ------           --------------  -----  \n",
            " 0   App Name         31997 non-null  object \n",
            " 1   Category         32006 non-null  object \n",
            " 2   Rating           32006 non-null  float64\n",
            " 3   Reviews          32006 non-null  float64\n",
            " 4   Installs         32006 non-null  int64  \n",
            " 5   Size             32006 non-null  object \n",
            " 6   Price            32006 non-null  float64\n",
            " 7   Content Rating   32006 non-null  object \n",
            " 8   Last Updated     32006 non-null  object \n",
            " 9   Minimum Version  32006 non-null  object \n",
            " 10  Latest Version   32006 non-null  object \n",
            "dtypes: float64(3), int64(1), object(7)\n",
            "memory usage: 3.9+ MB\n"
          ]
        }
      ]
    },
    {
      "cell_type": "code",
      "metadata": {
        "id": "cGKRWTtscNsK",
        "colab": {
          "base_uri": "https://localhost:8080/"
        },
        "outputId": "0f92ec17-506e-41f6-ec64-5bad5cb5b5e9"
      },
      "source": [
        "#reinsuring there are no any missing values\n",
        "app.isnull().any().any()"
      ],
      "execution_count": 67,
      "outputs": [
        {
          "output_type": "execute_result",
          "data": {
            "text/plain": [
              "True"
            ]
          },
          "metadata": {},
          "execution_count": 67
        }
      ]
    },
    {
      "cell_type": "code",
      "metadata": {
        "id": "ByGpLyKncNsN"
      },
      "source": [
        "#******************************************************************************************************\n",
        "# Reviewing the unique values and the number of unique values in each column after the cleaning process"
      ],
      "execution_count": 68,
      "outputs": []
    },
    {
      "cell_type": "code",
      "metadata": {
        "id": "mEg_mU4gcNsR",
        "colab": {
          "base_uri": "https://localhost:8080/"
        },
        "outputId": "418a3a7b-545b-45b1-9e35-409a2ff1f93f"
      },
      "source": [
        "# Values in \"Category\"\n",
        "app[\"Category\"].unique()"
      ],
      "execution_count": 69,
      "outputs": [
        {
          "output_type": "execute_result",
          "data": {
            "text/plain": [
              "array(['FOOD_AND_DRINK', 'TRAVEL_AND_LOCAL', 'SHOPPING', 'LIFESTYLE',\n",
              "       'GAME_ACTION', 'GAME_CASUAL', 'GAME_ROLE_PLAYING', 'GAME_PUZZLE',\n",
              "       'GAME_RACING', 'GAME_ADVENTURE', 'GAME_ARCADE', 'GAME_STRATEGY',\n",
              "       'GAME_SPORTS', 'GAME_SIMULATION', 'GAME_MUSIC', 'MUSIC_AND_AUDIO',\n",
              "       'FINANCE', 'EVENTS', 'ENTERTAINMENT', 'EDUCATION',\n",
              "       'GAME_EDUCATIONAL', 'BOOKS_AND_REFERENCE', 'NEWS_AND_MAGAZINES',\n",
              "       'PHOTOGRAPHY', 'VIDEO_PLAYERS', 'GAME_WORD', 'ART_AND_DESIGN',\n",
              "       'GAME_TRIVIA', 'GAME_BOARD', 'BUSINESS', 'PRODUCTIVITY',\n",
              "       'COMMUNICATION', 'HEALTH_AND_FITNESS', 'HOUSE_AND_HOME', 'SOCIAL',\n",
              "       'BEAUTY', 'GAME_CASINO', 'MAPS_AND_NAVIGATION', 'PERSONALIZATION',\n",
              "       'GAME_CARD', 'TOOLS', 'SPORTS', 'AUTO_AND_VEHICLES',\n",
              "       'LIBRARIES_AND_DEMO', 'COMICS', 'PARENTING', 'DATING', 'WEATHER',\n",
              "       'MEDICAL', ' Economics'], dtype=object)"
            ]
          },
          "metadata": {},
          "execution_count": 69
        }
      ]
    },
    {
      "cell_type": "code",
      "metadata": {
        "id": "NMpypUcacNsT",
        "colab": {
          "base_uri": "https://localhost:8080/"
        },
        "outputId": "83bea0f3-9020-45f6-da71-a11fc3365cf9"
      },
      "source": [
        "# There are 51 different categories\n",
        "\n",
        "app[\"Category\"].nunique()"
      ],
      "execution_count": 70,
      "outputs": [
        {
          "output_type": "execute_result",
          "data": {
            "text/plain": [
              "50"
            ]
          },
          "metadata": {},
          "execution_count": 70
        }
      ]
    },
    {
      "cell_type": "code",
      "metadata": {
        "id": "Zk-ELt2LcNsW",
        "colab": {
          "base_uri": "https://localhost:8080/"
        },
        "outputId": "059ce0e3-50bd-4559-dd6e-9d66ad765793"
      },
      "source": [
        "# Unique values of Rating\n",
        "app[\"Rating\"].unique()"
      ],
      "execution_count": 71,
      "outputs": [
        {
          "output_type": "execute_result",
          "data": {
            "text/plain": [
              "array([4.54856157, 4.40067148, 3.65632939, ..., 4.77564097, 4.63209391,\n",
              "       4.38834953])"
            ]
          },
          "metadata": {},
          "execution_count": 71
        }
      ]
    },
    {
      "cell_type": "code",
      "metadata": {
        "id": "RbzyDrN8cNsY",
        "colab": {
          "base_uri": "https://localhost:8080/"
        },
        "outputId": "734fb8c1-6915-4700-c3ce-1e0390c547af"
      },
      "source": [
        "# There are 99,845 unique values of Rating\n",
        "\n",
        "app[\"Rating\"].nunique()"
      ],
      "execution_count": 72,
      "outputs": [
        {
          "output_type": "execute_result",
          "data": {
            "text/plain": [
              "25435"
            ]
          },
          "metadata": {},
          "execution_count": 72
        }
      ]
    },
    {
      "cell_type": "code",
      "metadata": {
        "id": "ZS1ZzrRKcNsa",
        "colab": {
          "base_uri": "https://localhost:8080/"
        },
        "outputId": "702ced4c-e575-4f10-e50b-ae4648cb0cbb"
      },
      "source": [
        "# Unique values of the column \"Reviews\"\n",
        "app[\"Reviews\"].unique()"
      ],
      "execution_count": 73,
      "outputs": [
        {
          "output_type": "execute_result",
          "data": {
            "text/plain": [
              "array([ 305034., 1207922.,    1967., ...,   11214.,   14039.,    1796.])"
            ]
          },
          "metadata": {},
          "execution_count": 73
        }
      ]
    },
    {
      "cell_type": "code",
      "metadata": {
        "id": "zfW08LRkcNsd",
        "colab": {
          "base_uri": "https://localhost:8080/"
        },
        "outputId": "2d9a24cf-e1ed-4a62-d285-e79bc24a7c59"
      },
      "source": [
        "# There are 24,531 different reviews\n",
        "\n",
        "app[\"Reviews\"].nunique()"
      ],
      "execution_count": 74,
      "outputs": [
        {
          "output_type": "execute_result",
          "data": {
            "text/plain": [
              "14533"
            ]
          },
          "metadata": {},
          "execution_count": 74
        }
      ]
    },
    {
      "cell_type": "code",
      "metadata": {
        "id": "IvVboARycNsj",
        "colab": {
          "base_uri": "https://localhost:8080/"
        },
        "outputId": "40359301-75ad-4b4b-b678-24d75d892136"
      },
      "source": [
        "# Unique values of installations\n",
        "\n",
        "app[\"Installs\"].unique()"
      ],
      "execution_count": 75,
      "outputs": [
        {
          "output_type": "execute_result",
          "data": {
            "text/plain": [
              "array([   5000000,  100000000,     100000,   10000000,      10000,\n",
              "          1000000,   50000000,     500000,      50000,       5000,\n",
              "             1000,  500000000, 1000000000, 5000000000,        100,\n",
              "              500,         50,          5,         10,          1,\n",
              "                0])"
            ]
          },
          "metadata": {},
          "execution_count": 75
        }
      ]
    },
    {
      "cell_type": "code",
      "metadata": {
        "id": "4NPNoyvQcNsn",
        "colab": {
          "base_uri": "https://localhost:8080/"
        },
        "outputId": "40a38a78-1ef0-4998-f1a5-c21a50a8a581"
      },
      "source": [
        "# There are 21 different classes of installations\n",
        "\n",
        "app[\"Installs\"].nunique()"
      ],
      "execution_count": 76,
      "outputs": [
        {
          "output_type": "execute_result",
          "data": {
            "text/plain": [
              "21"
            ]
          },
          "metadata": {},
          "execution_count": 76
        }
      ]
    },
    {
      "cell_type": "code",
      "metadata": {
        "id": "M2zeVLQQcNsq",
        "colab": {
          "base_uri": "https://localhost:8080/"
        },
        "outputId": "bf746860-9849-4029-a638-a32c6473e3ba"
      },
      "source": [
        "# Unique values in the column \"Size\"\n",
        "app[\"Size\"].unique()"
      ],
      "execution_count": 77,
      "outputs": [
        {
          "output_type": "execute_result",
          "data": {
            "text/plain": [
              "array(['Varies with device', '1.4', '16', '23', '4.1', '39', '8.1', '19',\n",
              "       '30', '11', '14', '38', '15', '55', '7.8', '17', '62', '22', '25',\n",
              "       '46', '9.5', '78', '13', '72', '81', '44', '24', '99', '37', '63',\n",
              "       '45', '20', '34', '79', '35', '36', '54', '40', '90', '97', '27',\n",
              "       '82', '58', '43', '64', '47', '50', '33', '84', '89', '69', '52',\n",
              "       '101', '71', '66', '12', '18', '56', '9.3', '3.4', '48', '31',\n",
              "       '51', '49', '21', '4.8', '4.7', '26', '32', '2.9', '9.4', '10',\n",
              "       '76', '93', '3.0', '41', '29', '42', '94', '75', '4.0', '73',\n",
              "       '2.4', '7.7', '9.7', '6.6', '2.7', '57', '59', '8.4', '8.6', '70',\n",
              "       '6.1', '8.3', '2.0', '7.0', '2.5', '28', '6.9', '7.1', '5.7',\n",
              "       '4.4', '686k', '4.3', '4.2', '3.6', '8.7', '3.3', '7.3', '10.0',\n",
              "       '7.6', '1.7', '98', '4.5', '6.5', '65', '6.2', '80', '85', '86',\n",
              "       '9.1', '68', '2.6', '87', '88', '9.2', '74', '4.6', '103', '96',\n",
              "       '5.2', '116', '6.3', '91', '111', '83', '53', '431k', '3.9', '2.2',\n",
              "       '77', '100', '110', '60', '9.6', '9.0', '7.9', '6.0', '5.6', '3.7',\n",
              "       '5.0', '67', '92', '102', '5.3', '5.5', '107', '8.8', '61', '6.4',\n",
              "       '2.3', '45k', '3.1', '324k', '8.9', '95', '6.8', '7.5', '3.5',\n",
              "       '1.8', '8.2', '1.3', '8.5', '104', '3.2', '5.8', '5.9', '1.1',\n",
              "       '5.1', '18k', '7.2', '3.8', '5.4', '6.7', '7.4', '9.9', '1.5',\n",
              "       '862k', '2.1', '1.6', '375k', '378k', '4.9', '105', '720k', '713k',\n",
              "       '96k', '557k', '126k', '8.0', '1.2', '237k', '208k', '2.8', '9.8',\n",
              "       '1.9', '696k', '525k', '544k', '523k', '779k', '1.0', '53k',\n",
              "       '118k', '853k', '998k', '52k', '89k', '32k', '335k', '64k',\n",
              "       '1,015k', '44k', '81k', '849k', '649k', '6.1k', '29k', '860k',\n",
              "       '172k', '990k', '447k', '627k', '317k', '270k', '334k', '176k',\n",
              "       '50k', '526k', '856k', '446k', '710k', '42k', '709k', '519k',\n",
              "       '4.7k', '360k', '492k', '925k', '699k', '611k', '216k', '618k',\n",
              "       '19k', '540k', '531k', '417k', '683k', '173k', '199k', '213k',\n",
              "       '230k', '109k', '99k', '17k', '93k', '718k', '107k', '362k',\n",
              "       '624k', '675k', '228k', '738k', '105k', '39k', '108k', '898k',\n",
              "       '41k', '60k', '76k', '28k', '261k', '49k', '38k', '697k', '71k',\n",
              "       '470k', '508k', '232k', '21k', '115k', '543k', '123k', '65k',\n",
              "       '33k', '72k', '642k', '979k', '298k', '436k', '205k', '778k',\n",
              "       '851k', '844k', '102k', '47k', '34k', '128k', '138k', '295k',\n",
              "       '108', '784k', '534k', '457k', '528k', '342k', '238k', '811k',\n",
              "       '631k', '104k', '257k', '308k', '762k', '30k', '655k', '877k',\n",
              "       '708k', '26k', '285k', '226k', '897k', '1,024k', '364k', '182k',\n",
              "       '736k', '790k', '48k', '949k', '51k', '551k', '1,006k', '917k',\n",
              "       '371k', '672k', '27k', '793k', '658k', '663k', '469k', '440k',\n",
              "       '640k', '322k', '874k', '413k', '194k', '229k', '479k', '215k',\n",
              "       '180k', '441k', '352k', '438k', '397k', '848k', '733k', '393k',\n",
              "       '78k', '732k', '581k', '66k', '729k', '202k', '465k', '77k',\n",
              "       '255k', '334', '35k', '803k', '541k', '722k', '325k', '97k',\n",
              "       '207k', '915k', '842k', '80k', '907k', '309k', '55k', '258k',\n",
              "       '847k', '198k', '845k', '454k', '997k', '1,007k', '151k', '597k',\n",
              "       '577k', '652k', '73k', '70k', '146k', '130k', '920k', '814k',\n",
              "       '767k', '975k', '15k', '968k', '869k', '234k', '660k', '839k',\n",
              "       '300k', '301k', '969k', '808k', '404k', '639k', '566k', '236k',\n",
              "       '186k', '903k', '344k', '1,005k', '90k', '563k', '855k', '472k',\n",
              "       '83k', '482k', '587k', '908k', '31k', '589k', '1,011k', '59k',\n",
              "       '57k', '550k', '757k', '832k', '794k', '347', '167k', '217k',\n",
              "       '954k', '25k', '999k', '1,022k', '106', '113', '260k', '448k',\n",
              "       '603k', '657k', '991k', '94k', '20k', '400k', '776k', '86k',\n",
              "       '160k', '565k', '751k', '763k', '777k', '950k', '608k', '383k',\n",
              "       '625k', '251k', '919k', '480k', '630k', '904k', '594k', '63k',\n",
              "       '529k', '737k', '873k', '87k', '1,004k', '267k', '263k', '222k',\n",
              "       '840k', '373k', '210k', '395k', '233k', '84k', '245k', '965k',\n",
              "       '46k', '420k', '545k', '586k', '113k', '788k', '813k', '996k',\n",
              "       '634k', '938k', '805k', '279k', '333k', '273k', '951k', '310k',\n",
              "       '166k', '11k', '552k', '92k', '139k', '900k', '58k', '473k', '43k',\n",
              "       '1,014k', '931k', '451k', '662k', '935k', '955k', '402k', '302k',\n",
              "       '676k', '181k', '828k', '10k', '351k', '386k', '68k', '174k',\n",
              "       '752k', '85k', '1,009k', '318k', '802k', '651k', '960k', '834k',\n",
              "       '827k', '323k', '200k', '478k', '37k', '690k', '391k', '911k',\n",
              "       '591k', '976k', '150k', '498k', '7.5k', '602k', '578k', '165k',\n",
              "       '289k', '615k', '760k', '522k', '466k', '254k', '327k', '246k',\n",
              "       '644k', '235k', '613k', '24k', '153k', '140k', '600k', '281k',\n",
              "       '505k'], dtype=object)"
            ]
          },
          "metadata": {},
          "execution_count": 77
        }
      ]
    },
    {
      "cell_type": "code",
      "metadata": {
        "id": "_yIqc6cFcNsr",
        "colab": {
          "base_uri": "https://localhost:8080/"
        },
        "outputId": "0429f5fd-f84c-4440-e05b-866542f6dd45"
      },
      "source": [
        "# There are 1,236 different sizes for the apps\n",
        "\n",
        "app[\"Size\"].nunique()"
      ],
      "execution_count": 78,
      "outputs": [
        {
          "output_type": "execute_result",
          "data": {
            "text/plain": [
              "576"
            ]
          },
          "metadata": {},
          "execution_count": 78
        }
      ]
    },
    {
      "cell_type": "code",
      "metadata": {
        "id": "9yzzQwH0cNsu",
        "colab": {
          "base_uri": "https://localhost:8080/"
        },
        "outputId": "f958e747-9e0a-43b3-d787-094d816d7e10"
      },
      "source": [
        "# There are 488 different prices \n",
        "app[\"Price\"].nunique()"
      ],
      "execution_count": 79,
      "outputs": [
        {
          "output_type": "execute_result",
          "data": {
            "text/plain": [
              "102"
            ]
          },
          "metadata": {},
          "execution_count": 79
        }
      ]
    },
    {
      "cell_type": "code",
      "metadata": {
        "id": "yLgb0zMZcNsx",
        "colab": {
          "base_uri": "https://localhost:8080/"
        },
        "outputId": "eea06a01-0932-44d1-bcfc-b2015cc77d4c"
      },
      "source": [
        "# Unique values of the column \"Content Rating\"\n",
        "app[\"Content Rating\"].unique()"
      ],
      "execution_count": 80,
      "outputs": [
        {
          "output_type": "execute_result",
          "data": {
            "text/plain": [
              "array(['Everyone', 'Teen', 'Everyone 10+', 'Mature 17+',\n",
              "       'Adults only 18+', 'Unrated'], dtype=object)"
            ]
          },
          "metadata": {},
          "execution_count": 80
        }
      ]
    },
    {
      "cell_type": "code",
      "metadata": {
        "id": "1KyYt0CPcNs0",
        "colab": {
          "base_uri": "https://localhost:8080/"
        },
        "outputId": "a659a2ac-d0be-4dc4-b129-ba4011615508"
      },
      "source": [
        "# There are 6 different content ratings\n",
        "\n",
        "len(app[\"Content Rating\"].unique())"
      ],
      "execution_count": 81,
      "outputs": [
        {
          "output_type": "execute_result",
          "data": {
            "text/plain": [
              "6"
            ]
          },
          "metadata": {},
          "execution_count": 81
        }
      ]
    },
    {
      "cell_type": "code",
      "metadata": {
        "id": "IMVmRaC-cNs7",
        "colab": {
          "base_uri": "https://localhost:8080/"
        },
        "outputId": "16433263-78a3-44b4-c81d-3c51b011debb"
      },
      "source": [
        "print(\"***************************************************\")\n",
        "\n",
        "print(\"Minimum number of ratings: %.2f\" %app[\"Rating\"].min())\n",
        "print(\"Maximum number of ratings: %.2f\" %app[\"Rating\"].max())\n",
        "\n",
        "print(\"***************************************************\")\n",
        "\n",
        "print(\"Minimum number of reviews: %.2f\" %app[\"Reviews\"].min())\n",
        "print(\"Maximum number of reviews: %.2f\" %app[\"Reviews\"].max())\n",
        "\n",
        "print(\"***************************************************\")\n",
        "\n",
        "print(\"Minimum number of installs: %.2f\" %app[\"Installs\"].min())\n",
        "print(\"Maximum number of installs: %.2f\" %app[\"Installs\"].max())\n",
        "\n",
        "print(\"***************************************************\")\n",
        "\n",
        "\n",
        "print(\"Minimum number of prices: %.2f\" %app[\"Price\"].min())\n",
        "print(\"Maximum number of prices: %.2f\" %app[\"Price\"].max())\n",
        "\n",
        "print(\"***************************************************\")\n",
        "\n"
      ],
      "execution_count": 82,
      "outputs": [
        {
          "output_type": "stream",
          "name": "stdout",
          "text": [
            "***************************************************\n",
            "Minimum number of ratings: 1.00\n",
            "Maximum number of ratings: 5.00\n",
            "***************************************************\n",
            "Minimum number of reviews: 1.00\n",
            "Maximum number of reviews: 86214292.00\n",
            "***************************************************\n",
            "Minimum number of installs: 0.00\n",
            "Maximum number of installs: 5000000000.00\n",
            "***************************************************\n",
            "Minimum number of prices: 0.00\n",
            "Maximum number of prices: 399.99\n",
            "***************************************************\n"
          ]
        }
      ]
    },
    {
      "cell_type": "code",
      "metadata": {
        "id": "jVT6iVfHcNs_",
        "colab": {
          "base_uri": "https://localhost:8080/",
          "height": 1000
        },
        "outputId": "ed367c25-e957-41d7-ac54-2adf7aa225a1"
      },
      "source": [
        "# Getting the measures of central tendency for all the installation grouped by \"Category\"\n",
        "\n",
        "app.groupby(\"Category\").Installs.agg([\"min\", \"mean\", \"median\", \"max\"])"
      ],
      "execution_count": 83,
      "outputs": [
        {
          "output_type": "execute_result",
          "data": {
            "text/plain": [
              "                      min          mean     median         max\n",
              "Category                                                      \n",
              " Economics           1000  1.000000e+03     1000.0        1000\n",
              "ART_AND_DESIGN         50  1.182970e+06    50000.0   100000000\n",
              "AUTO_AND_VEHICLES      10  8.967374e+05   100000.0    10000000\n",
              "BEAUTY                 10  6.078851e+05   100000.0    10000000\n",
              "BOOKS_AND_REFERENCE     1  8.014129e+05   100000.0   100000000\n",
              "BUSINESS                1  1.133754e+06    50000.0   100000000\n",
              "COMICS                  5  1.260967e+06   100000.0    10000000\n",
              "COMMUNICATION           1  1.918647e+07   100000.0  1000000000\n",
              "DATING                  5  1.125081e+06   100000.0    10000000\n",
              "EDUCATION               0  3.161610e+05    50000.0   100000000\n",
              "ENTERTAINMENT           1  2.148860e+06   100000.0  1000000000\n",
              "EVENTS                  5  2.594217e+05     5000.0    10000000\n",
              "FINANCE                 1  1.125244e+06   100000.0   100000000\n",
              "FOOD_AND_DRINK          1  9.974281e+05    50000.0    50000000\n",
              "GAME_ACTION             5  8.684981e+06  1000000.0   500000000\n",
              "GAME_ADVENTURE          1  2.617166e+06   100000.0   100000000\n",
              "GAME_ARCADE             1  8.918962e+06  1000000.0  1000000000\n",
              "GAME_BOARD             50  3.315623e+06   500000.0   100000000\n",
              "GAME_CARD               5  1.497516e+06   500000.0   100000000\n",
              "GAME_CASINO          1000  3.423500e+06  1000000.0    50000000\n",
              "GAME_CASUAL             5  7.453991e+06  1000000.0   500000000\n",
              "GAME_EDUCATIONAL        1  1.650405e+06   100000.0   100000000\n",
              "GAME_MUSIC            500  4.907479e+06  1000000.0   100000000\n",
              "GAME_PUZZLE             0  3.096148e+06   500000.0   100000000\n",
              "GAME_RACING            10  1.166247e+07  1000000.0   500000000\n",
              "GAME_ROLE_PLAYING      50  1.986945e+06   500000.0    50000000\n",
              "GAME_SIMULATION        10  3.917915e+06  1000000.0   100000000\n",
              "GAME_SPORTS           100  6.533557e+06  1000000.0   100000000\n",
              "GAME_STRATEGY          10  5.447457e+06  1000000.0   500000000\n",
              "GAME_TRIVIA             1  2.382142e+06   100000.0   100000000\n",
              "GAME_WORD               1  2.739996e+06   500000.0    50000000\n",
              "HEALTH_AND_FITNESS     10  2.005356e+06   100000.0   500000000\n",
              "HOUSE_AND_HOME         50  1.813082e+06   300000.0   100000000\n",
              "LIBRARIES_AND_DEMO     50  9.446508e+05    50000.0    10000000\n",
              "LIFESTYLE              10  8.875643e+05   100000.0   100000000\n",
              "MAPS_AND_NAVIGATION    50  2.183039e+06   100000.0   100000000\n",
              "MEDICAL                 5  1.587413e+05    10000.0     5000000\n",
              "MUSIC_AND_AUDIO         1  3.220929e+06   100000.0  1000000000\n",
              "NEWS_AND_MAGAZINES     10  3.914928e+06   100000.0  1000000000\n",
              "PARENTING             100  4.035954e+05    50000.0    10000000\n",
              "PERSONALIZATION        10  2.441846e+06   100000.0   100000000\n",
              "PHOTOGRAPHY             1  8.439511e+06   500000.0  1000000000\n",
              "PRODUCTIVITY           10  1.024786e+07   100000.0  1000000000\n",
              "SHOPPING               10  3.638348e+06   500000.0   100000000\n",
              "SOCIAL                 10  1.367087e+07   100000.0  1000000000\n",
              "SPORTS                 10  8.791061e+05    50000.0    50000000\n",
              "TOOLS                   1  7.488787e+06   100000.0  5000000000\n",
              "TRAVEL_AND_LOCAL        5  1.030209e+07   100000.0  5000000000\n",
              "VIDEO_PLAYERS          10  2.510623e+07   500000.0  5000000000\n",
              "WEATHER               100  2.929411e+06   100000.0   100000000"
            ],
            "text/html": [
              "\n",
              "  <div id=\"df-0b61b837-cab0-42c5-9c3f-e06e6d01153c\">\n",
              "    <div class=\"colab-df-container\">\n",
              "      <div>\n",
              "<style scoped>\n",
              "    .dataframe tbody tr th:only-of-type {\n",
              "        vertical-align: middle;\n",
              "    }\n",
              "\n",
              "    .dataframe tbody tr th {\n",
              "        vertical-align: top;\n",
              "    }\n",
              "\n",
              "    .dataframe thead th {\n",
              "        text-align: right;\n",
              "    }\n",
              "</style>\n",
              "<table border=\"1\" class=\"dataframe\">\n",
              "  <thead>\n",
              "    <tr style=\"text-align: right;\">\n",
              "      <th></th>\n",
              "      <th>min</th>\n",
              "      <th>mean</th>\n",
              "      <th>median</th>\n",
              "      <th>max</th>\n",
              "    </tr>\n",
              "    <tr>\n",
              "      <th>Category</th>\n",
              "      <th></th>\n",
              "      <th></th>\n",
              "      <th></th>\n",
              "      <th></th>\n",
              "    </tr>\n",
              "  </thead>\n",
              "  <tbody>\n",
              "    <tr>\n",
              "      <th>Economics</th>\n",
              "      <td>1000</td>\n",
              "      <td>1.000000e+03</td>\n",
              "      <td>1000.0</td>\n",
              "      <td>1000</td>\n",
              "    </tr>\n",
              "    <tr>\n",
              "      <th>ART_AND_DESIGN</th>\n",
              "      <td>50</td>\n",
              "      <td>1.182970e+06</td>\n",
              "      <td>50000.0</td>\n",
              "      <td>100000000</td>\n",
              "    </tr>\n",
              "    <tr>\n",
              "      <th>AUTO_AND_VEHICLES</th>\n",
              "      <td>10</td>\n",
              "      <td>8.967374e+05</td>\n",
              "      <td>100000.0</td>\n",
              "      <td>10000000</td>\n",
              "    </tr>\n",
              "    <tr>\n",
              "      <th>BEAUTY</th>\n",
              "      <td>10</td>\n",
              "      <td>6.078851e+05</td>\n",
              "      <td>100000.0</td>\n",
              "      <td>10000000</td>\n",
              "    </tr>\n",
              "    <tr>\n",
              "      <th>BOOKS_AND_REFERENCE</th>\n",
              "      <td>1</td>\n",
              "      <td>8.014129e+05</td>\n",
              "      <td>100000.0</td>\n",
              "      <td>100000000</td>\n",
              "    </tr>\n",
              "    <tr>\n",
              "      <th>BUSINESS</th>\n",
              "      <td>1</td>\n",
              "      <td>1.133754e+06</td>\n",
              "      <td>50000.0</td>\n",
              "      <td>100000000</td>\n",
              "    </tr>\n",
              "    <tr>\n",
              "      <th>COMICS</th>\n",
              "      <td>5</td>\n",
              "      <td>1.260967e+06</td>\n",
              "      <td>100000.0</td>\n",
              "      <td>10000000</td>\n",
              "    </tr>\n",
              "    <tr>\n",
              "      <th>COMMUNICATION</th>\n",
              "      <td>1</td>\n",
              "      <td>1.918647e+07</td>\n",
              "      <td>100000.0</td>\n",
              "      <td>1000000000</td>\n",
              "    </tr>\n",
              "    <tr>\n",
              "      <th>DATING</th>\n",
              "      <td>5</td>\n",
              "      <td>1.125081e+06</td>\n",
              "      <td>100000.0</td>\n",
              "      <td>10000000</td>\n",
              "    </tr>\n",
              "    <tr>\n",
              "      <th>EDUCATION</th>\n",
              "      <td>0</td>\n",
              "      <td>3.161610e+05</td>\n",
              "      <td>50000.0</td>\n",
              "      <td>100000000</td>\n",
              "    </tr>\n",
              "    <tr>\n",
              "      <th>ENTERTAINMENT</th>\n",
              "      <td>1</td>\n",
              "      <td>2.148860e+06</td>\n",
              "      <td>100000.0</td>\n",
              "      <td>1000000000</td>\n",
              "    </tr>\n",
              "    <tr>\n",
              "      <th>EVENTS</th>\n",
              "      <td>5</td>\n",
              "      <td>2.594217e+05</td>\n",
              "      <td>5000.0</td>\n",
              "      <td>10000000</td>\n",
              "    </tr>\n",
              "    <tr>\n",
              "      <th>FINANCE</th>\n",
              "      <td>1</td>\n",
              "      <td>1.125244e+06</td>\n",
              "      <td>100000.0</td>\n",
              "      <td>100000000</td>\n",
              "    </tr>\n",
              "    <tr>\n",
              "      <th>FOOD_AND_DRINK</th>\n",
              "      <td>1</td>\n",
              "      <td>9.974281e+05</td>\n",
              "      <td>50000.0</td>\n",
              "      <td>50000000</td>\n",
              "    </tr>\n",
              "    <tr>\n",
              "      <th>GAME_ACTION</th>\n",
              "      <td>5</td>\n",
              "      <td>8.684981e+06</td>\n",
              "      <td>1000000.0</td>\n",
              "      <td>500000000</td>\n",
              "    </tr>\n",
              "    <tr>\n",
              "      <th>GAME_ADVENTURE</th>\n",
              "      <td>1</td>\n",
              "      <td>2.617166e+06</td>\n",
              "      <td>100000.0</td>\n",
              "      <td>100000000</td>\n",
              "    </tr>\n",
              "    <tr>\n",
              "      <th>GAME_ARCADE</th>\n",
              "      <td>1</td>\n",
              "      <td>8.918962e+06</td>\n",
              "      <td>1000000.0</td>\n",
              "      <td>1000000000</td>\n",
              "    </tr>\n",
              "    <tr>\n",
              "      <th>GAME_BOARD</th>\n",
              "      <td>50</td>\n",
              "      <td>3.315623e+06</td>\n",
              "      <td>500000.0</td>\n",
              "      <td>100000000</td>\n",
              "    </tr>\n",
              "    <tr>\n",
              "      <th>GAME_CARD</th>\n",
              "      <td>5</td>\n",
              "      <td>1.497516e+06</td>\n",
              "      <td>500000.0</td>\n",
              "      <td>100000000</td>\n",
              "    </tr>\n",
              "    <tr>\n",
              "      <th>GAME_CASINO</th>\n",
              "      <td>1000</td>\n",
              "      <td>3.423500e+06</td>\n",
              "      <td>1000000.0</td>\n",
              "      <td>50000000</td>\n",
              "    </tr>\n",
              "    <tr>\n",
              "      <th>GAME_CASUAL</th>\n",
              "      <td>5</td>\n",
              "      <td>7.453991e+06</td>\n",
              "      <td>1000000.0</td>\n",
              "      <td>500000000</td>\n",
              "    </tr>\n",
              "    <tr>\n",
              "      <th>GAME_EDUCATIONAL</th>\n",
              "      <td>1</td>\n",
              "      <td>1.650405e+06</td>\n",
              "      <td>100000.0</td>\n",
              "      <td>100000000</td>\n",
              "    </tr>\n",
              "    <tr>\n",
              "      <th>GAME_MUSIC</th>\n",
              "      <td>500</td>\n",
              "      <td>4.907479e+06</td>\n",
              "      <td>1000000.0</td>\n",
              "      <td>100000000</td>\n",
              "    </tr>\n",
              "    <tr>\n",
              "      <th>GAME_PUZZLE</th>\n",
              "      <td>0</td>\n",
              "      <td>3.096148e+06</td>\n",
              "      <td>500000.0</td>\n",
              "      <td>100000000</td>\n",
              "    </tr>\n",
              "    <tr>\n",
              "      <th>GAME_RACING</th>\n",
              "      <td>10</td>\n",
              "      <td>1.166247e+07</td>\n",
              "      <td>1000000.0</td>\n",
              "      <td>500000000</td>\n",
              "    </tr>\n",
              "    <tr>\n",
              "      <th>GAME_ROLE_PLAYING</th>\n",
              "      <td>50</td>\n",
              "      <td>1.986945e+06</td>\n",
              "      <td>500000.0</td>\n",
              "      <td>50000000</td>\n",
              "    </tr>\n",
              "    <tr>\n",
              "      <th>GAME_SIMULATION</th>\n",
              "      <td>10</td>\n",
              "      <td>3.917915e+06</td>\n",
              "      <td>1000000.0</td>\n",
              "      <td>100000000</td>\n",
              "    </tr>\n",
              "    <tr>\n",
              "      <th>GAME_SPORTS</th>\n",
              "      <td>100</td>\n",
              "      <td>6.533557e+06</td>\n",
              "      <td>1000000.0</td>\n",
              "      <td>100000000</td>\n",
              "    </tr>\n",
              "    <tr>\n",
              "      <th>GAME_STRATEGY</th>\n",
              "      <td>10</td>\n",
              "      <td>5.447457e+06</td>\n",
              "      <td>1000000.0</td>\n",
              "      <td>500000000</td>\n",
              "    </tr>\n",
              "    <tr>\n",
              "      <th>GAME_TRIVIA</th>\n",
              "      <td>1</td>\n",
              "      <td>2.382142e+06</td>\n",
              "      <td>100000.0</td>\n",
              "      <td>100000000</td>\n",
              "    </tr>\n",
              "    <tr>\n",
              "      <th>GAME_WORD</th>\n",
              "      <td>1</td>\n",
              "      <td>2.739996e+06</td>\n",
              "      <td>500000.0</td>\n",
              "      <td>50000000</td>\n",
              "    </tr>\n",
              "    <tr>\n",
              "      <th>HEALTH_AND_FITNESS</th>\n",
              "      <td>10</td>\n",
              "      <td>2.005356e+06</td>\n",
              "      <td>100000.0</td>\n",
              "      <td>500000000</td>\n",
              "    </tr>\n",
              "    <tr>\n",
              "      <th>HOUSE_AND_HOME</th>\n",
              "      <td>50</td>\n",
              "      <td>1.813082e+06</td>\n",
              "      <td>300000.0</td>\n",
              "      <td>100000000</td>\n",
              "    </tr>\n",
              "    <tr>\n",
              "      <th>LIBRARIES_AND_DEMO</th>\n",
              "      <td>50</td>\n",
              "      <td>9.446508e+05</td>\n",
              "      <td>50000.0</td>\n",
              "      <td>10000000</td>\n",
              "    </tr>\n",
              "    <tr>\n",
              "      <th>LIFESTYLE</th>\n",
              "      <td>10</td>\n",
              "      <td>8.875643e+05</td>\n",
              "      <td>100000.0</td>\n",
              "      <td>100000000</td>\n",
              "    </tr>\n",
              "    <tr>\n",
              "      <th>MAPS_AND_NAVIGATION</th>\n",
              "      <td>50</td>\n",
              "      <td>2.183039e+06</td>\n",
              "      <td>100000.0</td>\n",
              "      <td>100000000</td>\n",
              "    </tr>\n",
              "    <tr>\n",
              "      <th>MEDICAL</th>\n",
              "      <td>5</td>\n",
              "      <td>1.587413e+05</td>\n",
              "      <td>10000.0</td>\n",
              "      <td>5000000</td>\n",
              "    </tr>\n",
              "    <tr>\n",
              "      <th>MUSIC_AND_AUDIO</th>\n",
              "      <td>1</td>\n",
              "      <td>3.220929e+06</td>\n",
              "      <td>100000.0</td>\n",
              "      <td>1000000000</td>\n",
              "    </tr>\n",
              "    <tr>\n",
              "      <th>NEWS_AND_MAGAZINES</th>\n",
              "      <td>10</td>\n",
              "      <td>3.914928e+06</td>\n",
              "      <td>100000.0</td>\n",
              "      <td>1000000000</td>\n",
              "    </tr>\n",
              "    <tr>\n",
              "      <th>PARENTING</th>\n",
              "      <td>100</td>\n",
              "      <td>4.035954e+05</td>\n",
              "      <td>50000.0</td>\n",
              "      <td>10000000</td>\n",
              "    </tr>\n",
              "    <tr>\n",
              "      <th>PERSONALIZATION</th>\n",
              "      <td>10</td>\n",
              "      <td>2.441846e+06</td>\n",
              "      <td>100000.0</td>\n",
              "      <td>100000000</td>\n",
              "    </tr>\n",
              "    <tr>\n",
              "      <th>PHOTOGRAPHY</th>\n",
              "      <td>1</td>\n",
              "      <td>8.439511e+06</td>\n",
              "      <td>500000.0</td>\n",
              "      <td>1000000000</td>\n",
              "    </tr>\n",
              "    <tr>\n",
              "      <th>PRODUCTIVITY</th>\n",
              "      <td>10</td>\n",
              "      <td>1.024786e+07</td>\n",
              "      <td>100000.0</td>\n",
              "      <td>1000000000</td>\n",
              "    </tr>\n",
              "    <tr>\n",
              "      <th>SHOPPING</th>\n",
              "      <td>10</td>\n",
              "      <td>3.638348e+06</td>\n",
              "      <td>500000.0</td>\n",
              "      <td>100000000</td>\n",
              "    </tr>\n",
              "    <tr>\n",
              "      <th>SOCIAL</th>\n",
              "      <td>10</td>\n",
              "      <td>1.367087e+07</td>\n",
              "      <td>100000.0</td>\n",
              "      <td>1000000000</td>\n",
              "    </tr>\n",
              "    <tr>\n",
              "      <th>SPORTS</th>\n",
              "      <td>10</td>\n",
              "      <td>8.791061e+05</td>\n",
              "      <td>50000.0</td>\n",
              "      <td>50000000</td>\n",
              "    </tr>\n",
              "    <tr>\n",
              "      <th>TOOLS</th>\n",
              "      <td>1</td>\n",
              "      <td>7.488787e+06</td>\n",
              "      <td>100000.0</td>\n",
              "      <td>5000000000</td>\n",
              "    </tr>\n",
              "    <tr>\n",
              "      <th>TRAVEL_AND_LOCAL</th>\n",
              "      <td>5</td>\n",
              "      <td>1.030209e+07</td>\n",
              "      <td>100000.0</td>\n",
              "      <td>5000000000</td>\n",
              "    </tr>\n",
              "    <tr>\n",
              "      <th>VIDEO_PLAYERS</th>\n",
              "      <td>10</td>\n",
              "      <td>2.510623e+07</td>\n",
              "      <td>500000.0</td>\n",
              "      <td>5000000000</td>\n",
              "    </tr>\n",
              "    <tr>\n",
              "      <th>WEATHER</th>\n",
              "      <td>100</td>\n",
              "      <td>2.929411e+06</td>\n",
              "      <td>100000.0</td>\n",
              "      <td>100000000</td>\n",
              "    </tr>\n",
              "  </tbody>\n",
              "</table>\n",
              "</div>\n",
              "      <button class=\"colab-df-convert\" onclick=\"convertToInteractive('df-0b61b837-cab0-42c5-9c3f-e06e6d01153c')\"\n",
              "              title=\"Convert this dataframe to an interactive table.\"\n",
              "              style=\"display:none;\">\n",
              "        \n",
              "  <svg xmlns=\"http://www.w3.org/2000/svg\" height=\"24px\"viewBox=\"0 0 24 24\"\n",
              "       width=\"24px\">\n",
              "    <path d=\"M0 0h24v24H0V0z\" fill=\"none\"/>\n",
              "    <path d=\"M18.56 5.44l.94 2.06.94-2.06 2.06-.94-2.06-.94-.94-2.06-.94 2.06-2.06.94zm-11 1L8.5 8.5l.94-2.06 2.06-.94-2.06-.94L8.5 2.5l-.94 2.06-2.06.94zm10 10l.94 2.06.94-2.06 2.06-.94-2.06-.94-.94-2.06-.94 2.06-2.06.94z\"/><path d=\"M17.41 7.96l-1.37-1.37c-.4-.4-.92-.59-1.43-.59-.52 0-1.04.2-1.43.59L10.3 9.45l-7.72 7.72c-.78.78-.78 2.05 0 2.83L4 21.41c.39.39.9.59 1.41.59.51 0 1.02-.2 1.41-.59l7.78-7.78 2.81-2.81c.8-.78.8-2.07 0-2.86zM5.41 20L4 18.59l7.72-7.72 1.47 1.35L5.41 20z\"/>\n",
              "  </svg>\n",
              "      </button>\n",
              "      \n",
              "  <style>\n",
              "    .colab-df-container {\n",
              "      display:flex;\n",
              "      flex-wrap:wrap;\n",
              "      gap: 12px;\n",
              "    }\n",
              "\n",
              "    .colab-df-convert {\n",
              "      background-color: #E8F0FE;\n",
              "      border: none;\n",
              "      border-radius: 50%;\n",
              "      cursor: pointer;\n",
              "      display: none;\n",
              "      fill: #1967D2;\n",
              "      height: 32px;\n",
              "      padding: 0 0 0 0;\n",
              "      width: 32px;\n",
              "    }\n",
              "\n",
              "    .colab-df-convert:hover {\n",
              "      background-color: #E2EBFA;\n",
              "      box-shadow: 0px 1px 2px rgba(60, 64, 67, 0.3), 0px 1px 3px 1px rgba(60, 64, 67, 0.15);\n",
              "      fill: #174EA6;\n",
              "    }\n",
              "\n",
              "    [theme=dark] .colab-df-convert {\n",
              "      background-color: #3B4455;\n",
              "      fill: #D2E3FC;\n",
              "    }\n",
              "\n",
              "    [theme=dark] .colab-df-convert:hover {\n",
              "      background-color: #434B5C;\n",
              "      box-shadow: 0px 1px 3px 1px rgba(0, 0, 0, 0.15);\n",
              "      filter: drop-shadow(0px 1px 2px rgba(0, 0, 0, 0.3));\n",
              "      fill: #FFFFFF;\n",
              "    }\n",
              "  </style>\n",
              "\n",
              "      <script>\n",
              "        const buttonEl =\n",
              "          document.querySelector('#df-0b61b837-cab0-42c5-9c3f-e06e6d01153c button.colab-df-convert');\n",
              "        buttonEl.style.display =\n",
              "          google.colab.kernel.accessAllowed ? 'block' : 'none';\n",
              "\n",
              "        async function convertToInteractive(key) {\n",
              "          const element = document.querySelector('#df-0b61b837-cab0-42c5-9c3f-e06e6d01153c');\n",
              "          const dataTable =\n",
              "            await google.colab.kernel.invokeFunction('convertToInteractive',\n",
              "                                                     [key], {});\n",
              "          if (!dataTable) return;\n",
              "\n",
              "          const docLinkHtml = 'Like what you see? Visit the ' +\n",
              "            '<a target=\"_blank\" href=https://colab.research.google.com/notebooks/data_table.ipynb>data table notebook</a>'\n",
              "            + ' to learn more about interactive tables.';\n",
              "          element.innerHTML = '';\n",
              "          dataTable['output_type'] = 'display_data';\n",
              "          await google.colab.output.renderOutput(dataTable, element);\n",
              "          const docLink = document.createElement('div');\n",
              "          docLink.innerHTML = docLinkHtml;\n",
              "          element.appendChild(docLink);\n",
              "        }\n",
              "      </script>\n",
              "    </div>\n",
              "  </div>\n",
              "  "
            ]
          },
          "metadata": {},
          "execution_count": 83
        }
      ]
    },
    {
      "cell_type": "code",
      "metadata": {
        "id": "yJjrCUCZcNtC",
        "colab": {
          "base_uri": "https://localhost:8080/",
          "height": 780
        },
        "outputId": "d2149be0-5021-4422-e823-a69ae6ed2f9d"
      },
      "source": [
        "# Sorting (descending sorting) the dataframe by number of installs\n",
        "\n",
        "app.sort_values(by=\"Installs\", ascending= False)"
      ],
      "execution_count": 84,
      "outputs": [
        {
          "output_type": "execute_result",
          "data": {
            "text/plain": [
              "                                                App Name          Category  \\\n",
              "2177                           Maps - Navigate & Explore  TRAVEL_AND_LOCAL   \n",
              "813                                              YouTube     VIDEO_PLAYERS   \n",
              "821                                               Google             TOOLS   \n",
              "6412                             Google Play Movies & TV     VIDEO_PLAYERS   \n",
              "842                         Google Chrome: Fast & Secure     COMMUNICATION   \n",
              "...                                                  ...               ...   \n",
              "25708                                         Magic Room     ENTERTAINMENT   \n",
              "3035                                       Google Camera       PHOTOGRAPHY   \n",
              "3987   APOJUC  Associa��o de Pastores e Obreiros de J...     COMMUNICATION   \n",
              "23720                                     Bubble Shooter       GAME_PUZZLE   \n",
              "24784                               DUA KE QURAN AMHARIC         EDUCATION   \n",
              "\n",
              "         Rating     Reviews    Installs                Size  Price  \\\n",
              "2177   4.342798  10083666.0  5000000000  Varies with device   0.00   \n",
              "813    4.368428  41919102.0  5000000000  Varies with device   0.00   \n",
              "821    4.408893  10870728.0  5000000000  Varies with device   0.00   \n",
              "6412   3.703356   1048972.0  1000000000  Varies with device   0.00   \n",
              "842    4.335205  13636591.0  1000000000  Varies with device   0.00   \n",
              "...         ...         ...         ...                 ...    ...   \n",
              "25708  5.000000         1.0           1                  27   0.99   \n",
              "3035   3.997701    401547.0           1  Varies with device   0.00   \n",
              "3987   5.000000         1.0           1                 8.9   0.00   \n",
              "23720  4.130435        23.0           0                  19   0.00   \n",
              "24784  4.730337        89.0           0                 7.9   0.00   \n",
              "\n",
              "      Content Rating      Last Updated     Minimum Version      Latest Version  \n",
              "2177        Everyone     April 1, 2019  Varies with device  Varies with device  \n",
              "813             Teen     April 2, 2019  Varies with device  Varies with device  \n",
              "821         Everyone     April 1, 2019  Varies with device  Varies with device  \n",
              "6412            Teen     April 1, 2019  Varies with device  Varies with device  \n",
              "842         Everyone    March 26, 2019  Varies with device  Varies with device  \n",
              "...              ...               ...                 ...                 ...  \n",
              "25708       Everyone     March 6, 2019          5.0 and up                 1.9  \n",
              "3035        Everyone    March 26, 2019  Varies with device  Varies with device  \n",
              "3987        Everyone    March 16, 2019          4.1 and up                   1  \n",
              "23720       Everyone  October 23, 2018          4.0 and up               1.0.0  \n",
              "24784       Everyone      May 10, 2018          4.4 and up                   1  \n",
              "\n",
              "[32006 rows x 11 columns]"
            ],
            "text/html": [
              "\n",
              "  <div id=\"df-153ec7be-5f06-45fe-8834-cf1a5d53e50c\">\n",
              "    <div class=\"colab-df-container\">\n",
              "      <div>\n",
              "<style scoped>\n",
              "    .dataframe tbody tr th:only-of-type {\n",
              "        vertical-align: middle;\n",
              "    }\n",
              "\n",
              "    .dataframe tbody tr th {\n",
              "        vertical-align: top;\n",
              "    }\n",
              "\n",
              "    .dataframe thead th {\n",
              "        text-align: right;\n",
              "    }\n",
              "</style>\n",
              "<table border=\"1\" class=\"dataframe\">\n",
              "  <thead>\n",
              "    <tr style=\"text-align: right;\">\n",
              "      <th></th>\n",
              "      <th>App Name</th>\n",
              "      <th>Category</th>\n",
              "      <th>Rating</th>\n",
              "      <th>Reviews</th>\n",
              "      <th>Installs</th>\n",
              "      <th>Size</th>\n",
              "      <th>Price</th>\n",
              "      <th>Content Rating</th>\n",
              "      <th>Last Updated</th>\n",
              "      <th>Minimum Version</th>\n",
              "      <th>Latest Version</th>\n",
              "    </tr>\n",
              "  </thead>\n",
              "  <tbody>\n",
              "    <tr>\n",
              "      <th>2177</th>\n",
              "      <td>Maps - Navigate &amp; Explore</td>\n",
              "      <td>TRAVEL_AND_LOCAL</td>\n",
              "      <td>4.342798</td>\n",
              "      <td>10083666.0</td>\n",
              "      <td>5000000000</td>\n",
              "      <td>Varies with device</td>\n",
              "      <td>0.00</td>\n",
              "      <td>Everyone</td>\n",
              "      <td>April 1, 2019</td>\n",
              "      <td>Varies with device</td>\n",
              "      <td>Varies with device</td>\n",
              "    </tr>\n",
              "    <tr>\n",
              "      <th>813</th>\n",
              "      <td>YouTube</td>\n",
              "      <td>VIDEO_PLAYERS</td>\n",
              "      <td>4.368428</td>\n",
              "      <td>41919102.0</td>\n",
              "      <td>5000000000</td>\n",
              "      <td>Varies with device</td>\n",
              "      <td>0.00</td>\n",
              "      <td>Teen</td>\n",
              "      <td>April 2, 2019</td>\n",
              "      <td>Varies with device</td>\n",
              "      <td>Varies with device</td>\n",
              "    </tr>\n",
              "    <tr>\n",
              "      <th>821</th>\n",
              "      <td>Google</td>\n",
              "      <td>TOOLS</td>\n",
              "      <td>4.408893</td>\n",
              "      <td>10870728.0</td>\n",
              "      <td>5000000000</td>\n",
              "      <td>Varies with device</td>\n",
              "      <td>0.00</td>\n",
              "      <td>Everyone</td>\n",
              "      <td>April 1, 2019</td>\n",
              "      <td>Varies with device</td>\n",
              "      <td>Varies with device</td>\n",
              "    </tr>\n",
              "    <tr>\n",
              "      <th>6412</th>\n",
              "      <td>Google Play Movies &amp; TV</td>\n",
              "      <td>VIDEO_PLAYERS</td>\n",
              "      <td>3.703356</td>\n",
              "      <td>1048972.0</td>\n",
              "      <td>1000000000</td>\n",
              "      <td>Varies with device</td>\n",
              "      <td>0.00</td>\n",
              "      <td>Teen</td>\n",
              "      <td>April 1, 2019</td>\n",
              "      <td>Varies with device</td>\n",
              "      <td>Varies with device</td>\n",
              "    </tr>\n",
              "    <tr>\n",
              "      <th>842</th>\n",
              "      <td>Google Chrome: Fast &amp; Secure</td>\n",
              "      <td>COMMUNICATION</td>\n",
              "      <td>4.335205</td>\n",
              "      <td>13636591.0</td>\n",
              "      <td>1000000000</td>\n",
              "      <td>Varies with device</td>\n",
              "      <td>0.00</td>\n",
              "      <td>Everyone</td>\n",
              "      <td>March 26, 2019</td>\n",
              "      <td>Varies with device</td>\n",
              "      <td>Varies with device</td>\n",
              "    </tr>\n",
              "    <tr>\n",
              "      <th>...</th>\n",
              "      <td>...</td>\n",
              "      <td>...</td>\n",
              "      <td>...</td>\n",
              "      <td>...</td>\n",
              "      <td>...</td>\n",
              "      <td>...</td>\n",
              "      <td>...</td>\n",
              "      <td>...</td>\n",
              "      <td>...</td>\n",
              "      <td>...</td>\n",
              "      <td>...</td>\n",
              "    </tr>\n",
              "    <tr>\n",
              "      <th>25708</th>\n",
              "      <td>Magic Room</td>\n",
              "      <td>ENTERTAINMENT</td>\n",
              "      <td>5.000000</td>\n",
              "      <td>1.0</td>\n",
              "      <td>1</td>\n",
              "      <td>27</td>\n",
              "      <td>0.99</td>\n",
              "      <td>Everyone</td>\n",
              "      <td>March 6, 2019</td>\n",
              "      <td>5.0 and up</td>\n",
              "      <td>1.9</td>\n",
              "    </tr>\n",
              "    <tr>\n",
              "      <th>3035</th>\n",
              "      <td>Google Camera</td>\n",
              "      <td>PHOTOGRAPHY</td>\n",
              "      <td>3.997701</td>\n",
              "      <td>401547.0</td>\n",
              "      <td>1</td>\n",
              "      <td>Varies with device</td>\n",
              "      <td>0.00</td>\n",
              "      <td>Everyone</td>\n",
              "      <td>March 26, 2019</td>\n",
              "      <td>Varies with device</td>\n",
              "      <td>Varies with device</td>\n",
              "    </tr>\n",
              "    <tr>\n",
              "      <th>3987</th>\n",
              "      <td>APOJUC  Associa��o de Pastores e Obreiros de J...</td>\n",
              "      <td>COMMUNICATION</td>\n",
              "      <td>5.000000</td>\n",
              "      <td>1.0</td>\n",
              "      <td>1</td>\n",
              "      <td>8.9</td>\n",
              "      <td>0.00</td>\n",
              "      <td>Everyone</td>\n",
              "      <td>March 16, 2019</td>\n",
              "      <td>4.1 and up</td>\n",
              "      <td>1</td>\n",
              "    </tr>\n",
              "    <tr>\n",
              "      <th>23720</th>\n",
              "      <td>Bubble Shooter</td>\n",
              "      <td>GAME_PUZZLE</td>\n",
              "      <td>4.130435</td>\n",
              "      <td>23.0</td>\n",
              "      <td>0</td>\n",
              "      <td>19</td>\n",
              "      <td>0.00</td>\n",
              "      <td>Everyone</td>\n",
              "      <td>October 23, 2018</td>\n",
              "      <td>4.0 and up</td>\n",
              "      <td>1.0.0</td>\n",
              "    </tr>\n",
              "    <tr>\n",
              "      <th>24784</th>\n",
              "      <td>DUA KE QURAN AMHARIC</td>\n",
              "      <td>EDUCATION</td>\n",
              "      <td>4.730337</td>\n",
              "      <td>89.0</td>\n",
              "      <td>0</td>\n",
              "      <td>7.9</td>\n",
              "      <td>0.00</td>\n",
              "      <td>Everyone</td>\n",
              "      <td>May 10, 2018</td>\n",
              "      <td>4.4 and up</td>\n",
              "      <td>1</td>\n",
              "    </tr>\n",
              "  </tbody>\n",
              "</table>\n",
              "<p>32006 rows × 11 columns</p>\n",
              "</div>\n",
              "      <button class=\"colab-df-convert\" onclick=\"convertToInteractive('df-153ec7be-5f06-45fe-8834-cf1a5d53e50c')\"\n",
              "              title=\"Convert this dataframe to an interactive table.\"\n",
              "              style=\"display:none;\">\n",
              "        \n",
              "  <svg xmlns=\"http://www.w3.org/2000/svg\" height=\"24px\"viewBox=\"0 0 24 24\"\n",
              "       width=\"24px\">\n",
              "    <path d=\"M0 0h24v24H0V0z\" fill=\"none\"/>\n",
              "    <path d=\"M18.56 5.44l.94 2.06.94-2.06 2.06-.94-2.06-.94-.94-2.06-.94 2.06-2.06.94zm-11 1L8.5 8.5l.94-2.06 2.06-.94-2.06-.94L8.5 2.5l-.94 2.06-2.06.94zm10 10l.94 2.06.94-2.06 2.06-.94-2.06-.94-.94-2.06-.94 2.06-2.06.94z\"/><path d=\"M17.41 7.96l-1.37-1.37c-.4-.4-.92-.59-1.43-.59-.52 0-1.04.2-1.43.59L10.3 9.45l-7.72 7.72c-.78.78-.78 2.05 0 2.83L4 21.41c.39.39.9.59 1.41.59.51 0 1.02-.2 1.41-.59l7.78-7.78 2.81-2.81c.8-.78.8-2.07 0-2.86zM5.41 20L4 18.59l7.72-7.72 1.47 1.35L5.41 20z\"/>\n",
              "  </svg>\n",
              "      </button>\n",
              "      \n",
              "  <style>\n",
              "    .colab-df-container {\n",
              "      display:flex;\n",
              "      flex-wrap:wrap;\n",
              "      gap: 12px;\n",
              "    }\n",
              "\n",
              "    .colab-df-convert {\n",
              "      background-color: #E8F0FE;\n",
              "      border: none;\n",
              "      border-radius: 50%;\n",
              "      cursor: pointer;\n",
              "      display: none;\n",
              "      fill: #1967D2;\n",
              "      height: 32px;\n",
              "      padding: 0 0 0 0;\n",
              "      width: 32px;\n",
              "    }\n",
              "\n",
              "    .colab-df-convert:hover {\n",
              "      background-color: #E2EBFA;\n",
              "      box-shadow: 0px 1px 2px rgba(60, 64, 67, 0.3), 0px 1px 3px 1px rgba(60, 64, 67, 0.15);\n",
              "      fill: #174EA6;\n",
              "    }\n",
              "\n",
              "    [theme=dark] .colab-df-convert {\n",
              "      background-color: #3B4455;\n",
              "      fill: #D2E3FC;\n",
              "    }\n",
              "\n",
              "    [theme=dark] .colab-df-convert:hover {\n",
              "      background-color: #434B5C;\n",
              "      box-shadow: 0px 1px 3px 1px rgba(0, 0, 0, 0.15);\n",
              "      filter: drop-shadow(0px 1px 2px rgba(0, 0, 0, 0.3));\n",
              "      fill: #FFFFFF;\n",
              "    }\n",
              "  </style>\n",
              "\n",
              "      <script>\n",
              "        const buttonEl =\n",
              "          document.querySelector('#df-153ec7be-5f06-45fe-8834-cf1a5d53e50c button.colab-df-convert');\n",
              "        buttonEl.style.display =\n",
              "          google.colab.kernel.accessAllowed ? 'block' : 'none';\n",
              "\n",
              "        async function convertToInteractive(key) {\n",
              "          const element = document.querySelector('#df-153ec7be-5f06-45fe-8834-cf1a5d53e50c');\n",
              "          const dataTable =\n",
              "            await google.colab.kernel.invokeFunction('convertToInteractive',\n",
              "                                                     [key], {});\n",
              "          if (!dataTable) return;\n",
              "\n",
              "          const docLinkHtml = 'Like what you see? Visit the ' +\n",
              "            '<a target=\"_blank\" href=https://colab.research.google.com/notebooks/data_table.ipynb>data table notebook</a>'\n",
              "            + ' to learn more about interactive tables.';\n",
              "          element.innerHTML = '';\n",
              "          dataTable['output_type'] = 'display_data';\n",
              "          await google.colab.output.renderOutput(dataTable, element);\n",
              "          const docLink = document.createElement('div');\n",
              "          docLink.innerHTML = docLinkHtml;\n",
              "          element.appendChild(docLink);\n",
              "        }\n",
              "      </script>\n",
              "    </div>\n",
              "  </div>\n",
              "  "
            ]
          },
          "metadata": {},
          "execution_count": 84
        }
      ]
    },
    {
      "cell_type": "code",
      "metadata": {
        "id": "FREMgQgZcNtE"
      },
      "source": [
        "top_installed_apps=app.sort_values(by=\"Installs\", ascending= False)"
      ],
      "execution_count": 85,
      "outputs": []
    },
    {
      "cell_type": "code",
      "metadata": {
        "id": "I7ZCCqi9cNtH",
        "colab": {
          "base_uri": "https://localhost:8080/",
          "height": 598
        },
        "outputId": "7a235be1-21df-4343-94d1-b71df6445d38"
      },
      "source": [
        "#*************************************************************\n",
        "\n",
        "# top 10 apps based on the number of installations\n",
        "\n",
        "#*************************************************************\n",
        "\n",
        "top_installed_apps.head(10)"
      ],
      "execution_count": 86,
      "outputs": [
        {
          "output_type": "execute_result",
          "data": {
            "text/plain": [
              "                           App Name          Category    Rating     Reviews  \\\n",
              "2177      Maps - Navigate & Explore  TRAVEL_AND_LOCAL  4.342798  10083666.0   \n",
              "813                         YouTube     VIDEO_PLAYERS  4.368428  41919102.0   \n",
              "821                          Google             TOOLS  4.408893  10870728.0   \n",
              "6412        Google Play Movies & TV     VIDEO_PLAYERS  3.703356   1048972.0   \n",
              "842    Google Chrome: Fast & Secure     COMMUNICATION  4.335205  13636591.0   \n",
              "1259                  Google Photos       PHOTOGRAPHY  4.542380  16278468.0   \n",
              "831                   Facebook Lite            SOCIAL  4.288809  10866006.0   \n",
              "28676  Samsung Print Service Plugin      PRODUCTIVITY  4.204499    322275.0   \n",
              "3269     SHAREit - Transfer & Share             TOOLS  4.579340  10450444.0   \n",
              "3267       Samsung Internet Browser     COMMUNICATION  4.424015    832714.0   \n",
              "\n",
              "         Installs                Size  Price Content Rating  \\\n",
              "2177   5000000000  Varies with device    0.0       Everyone   \n",
              "813    5000000000  Varies with device    0.0           Teen   \n",
              "821    5000000000  Varies with device    0.0       Everyone   \n",
              "6412   1000000000  Varies with device    0.0           Teen   \n",
              "842    1000000000  Varies with device    0.0       Everyone   \n",
              "1259   1000000000  Varies with device    0.0       Everyone   \n",
              "831    1000000000  Varies with device    0.0           Teen   \n",
              "28676  1000000000  Varies with device    0.0       Everyone   \n",
              "3269   1000000000                  20    0.0       Everyone   \n",
              "3267   1000000000  Varies with device    0.0       Everyone   \n",
              "\n",
              "            Last Updated     Minimum Version      Latest Version  \n",
              "2177       April 1, 2019  Varies with device  Varies with device  \n",
              "813        April 2, 2019  Varies with device  Varies with device  \n",
              "821        April 1, 2019  Varies with device  Varies with device  \n",
              "6412       April 1, 2019  Varies with device  Varies with device  \n",
              "842       March 26, 2019  Varies with device  Varies with device  \n",
              "1259       April 2, 2019  Varies with device  Varies with device  \n",
              "831       March 28, 2019  Varies with device  Varies with device  \n",
              "28676    October 5, 2018          4.4 and up  Varies with device  \n",
              "3269       April 1, 2019          4.1 and up           4.7.38_ww  \n",
              "3267   February 21, 2019          5.0 and up  Varies with device  "
            ],
            "text/html": [
              "\n",
              "  <div id=\"df-ad3b6a1d-b173-4bee-9bc4-15090295fae4\">\n",
              "    <div class=\"colab-df-container\">\n",
              "      <div>\n",
              "<style scoped>\n",
              "    .dataframe tbody tr th:only-of-type {\n",
              "        vertical-align: middle;\n",
              "    }\n",
              "\n",
              "    .dataframe tbody tr th {\n",
              "        vertical-align: top;\n",
              "    }\n",
              "\n",
              "    .dataframe thead th {\n",
              "        text-align: right;\n",
              "    }\n",
              "</style>\n",
              "<table border=\"1\" class=\"dataframe\">\n",
              "  <thead>\n",
              "    <tr style=\"text-align: right;\">\n",
              "      <th></th>\n",
              "      <th>App Name</th>\n",
              "      <th>Category</th>\n",
              "      <th>Rating</th>\n",
              "      <th>Reviews</th>\n",
              "      <th>Installs</th>\n",
              "      <th>Size</th>\n",
              "      <th>Price</th>\n",
              "      <th>Content Rating</th>\n",
              "      <th>Last Updated</th>\n",
              "      <th>Minimum Version</th>\n",
              "      <th>Latest Version</th>\n",
              "    </tr>\n",
              "  </thead>\n",
              "  <tbody>\n",
              "    <tr>\n",
              "      <th>2177</th>\n",
              "      <td>Maps - Navigate &amp; Explore</td>\n",
              "      <td>TRAVEL_AND_LOCAL</td>\n",
              "      <td>4.342798</td>\n",
              "      <td>10083666.0</td>\n",
              "      <td>5000000000</td>\n",
              "      <td>Varies with device</td>\n",
              "      <td>0.0</td>\n",
              "      <td>Everyone</td>\n",
              "      <td>April 1, 2019</td>\n",
              "      <td>Varies with device</td>\n",
              "      <td>Varies with device</td>\n",
              "    </tr>\n",
              "    <tr>\n",
              "      <th>813</th>\n",
              "      <td>YouTube</td>\n",
              "      <td>VIDEO_PLAYERS</td>\n",
              "      <td>4.368428</td>\n",
              "      <td>41919102.0</td>\n",
              "      <td>5000000000</td>\n",
              "      <td>Varies with device</td>\n",
              "      <td>0.0</td>\n",
              "      <td>Teen</td>\n",
              "      <td>April 2, 2019</td>\n",
              "      <td>Varies with device</td>\n",
              "      <td>Varies with device</td>\n",
              "    </tr>\n",
              "    <tr>\n",
              "      <th>821</th>\n",
              "      <td>Google</td>\n",
              "      <td>TOOLS</td>\n",
              "      <td>4.408893</td>\n",
              "      <td>10870728.0</td>\n",
              "      <td>5000000000</td>\n",
              "      <td>Varies with device</td>\n",
              "      <td>0.0</td>\n",
              "      <td>Everyone</td>\n",
              "      <td>April 1, 2019</td>\n",
              "      <td>Varies with device</td>\n",
              "      <td>Varies with device</td>\n",
              "    </tr>\n",
              "    <tr>\n",
              "      <th>6412</th>\n",
              "      <td>Google Play Movies &amp; TV</td>\n",
              "      <td>VIDEO_PLAYERS</td>\n",
              "      <td>3.703356</td>\n",
              "      <td>1048972.0</td>\n",
              "      <td>1000000000</td>\n",
              "      <td>Varies with device</td>\n",
              "      <td>0.0</td>\n",
              "      <td>Teen</td>\n",
              "      <td>April 1, 2019</td>\n",
              "      <td>Varies with device</td>\n",
              "      <td>Varies with device</td>\n",
              "    </tr>\n",
              "    <tr>\n",
              "      <th>842</th>\n",
              "      <td>Google Chrome: Fast &amp; Secure</td>\n",
              "      <td>COMMUNICATION</td>\n",
              "      <td>4.335205</td>\n",
              "      <td>13636591.0</td>\n",
              "      <td>1000000000</td>\n",
              "      <td>Varies with device</td>\n",
              "      <td>0.0</td>\n",
              "      <td>Everyone</td>\n",
              "      <td>March 26, 2019</td>\n",
              "      <td>Varies with device</td>\n",
              "      <td>Varies with device</td>\n",
              "    </tr>\n",
              "    <tr>\n",
              "      <th>1259</th>\n",
              "      <td>Google Photos</td>\n",
              "      <td>PHOTOGRAPHY</td>\n",
              "      <td>4.542380</td>\n",
              "      <td>16278468.0</td>\n",
              "      <td>1000000000</td>\n",
              "      <td>Varies with device</td>\n",
              "      <td>0.0</td>\n",
              "      <td>Everyone</td>\n",
              "      <td>April 2, 2019</td>\n",
              "      <td>Varies with device</td>\n",
              "      <td>Varies with device</td>\n",
              "    </tr>\n",
              "    <tr>\n",
              "      <th>831</th>\n",
              "      <td>Facebook Lite</td>\n",
              "      <td>SOCIAL</td>\n",
              "      <td>4.288809</td>\n",
              "      <td>10866006.0</td>\n",
              "      <td>1000000000</td>\n",
              "      <td>Varies with device</td>\n",
              "      <td>0.0</td>\n",
              "      <td>Teen</td>\n",
              "      <td>March 28, 2019</td>\n",
              "      <td>Varies with device</td>\n",
              "      <td>Varies with device</td>\n",
              "    </tr>\n",
              "    <tr>\n",
              "      <th>28676</th>\n",
              "      <td>Samsung Print Service Plugin</td>\n",
              "      <td>PRODUCTIVITY</td>\n",
              "      <td>4.204499</td>\n",
              "      <td>322275.0</td>\n",
              "      <td>1000000000</td>\n",
              "      <td>Varies with device</td>\n",
              "      <td>0.0</td>\n",
              "      <td>Everyone</td>\n",
              "      <td>October 5, 2018</td>\n",
              "      <td>4.4 and up</td>\n",
              "      <td>Varies with device</td>\n",
              "    </tr>\n",
              "    <tr>\n",
              "      <th>3269</th>\n",
              "      <td>SHAREit - Transfer &amp; Share</td>\n",
              "      <td>TOOLS</td>\n",
              "      <td>4.579340</td>\n",
              "      <td>10450444.0</td>\n",
              "      <td>1000000000</td>\n",
              "      <td>20</td>\n",
              "      <td>0.0</td>\n",
              "      <td>Everyone</td>\n",
              "      <td>April 1, 2019</td>\n",
              "      <td>4.1 and up</td>\n",
              "      <td>4.7.38_ww</td>\n",
              "    </tr>\n",
              "    <tr>\n",
              "      <th>3267</th>\n",
              "      <td>Samsung Internet Browser</td>\n",
              "      <td>COMMUNICATION</td>\n",
              "      <td>4.424015</td>\n",
              "      <td>832714.0</td>\n",
              "      <td>1000000000</td>\n",
              "      <td>Varies with device</td>\n",
              "      <td>0.0</td>\n",
              "      <td>Everyone</td>\n",
              "      <td>February 21, 2019</td>\n",
              "      <td>5.0 and up</td>\n",
              "      <td>Varies with device</td>\n",
              "    </tr>\n",
              "  </tbody>\n",
              "</table>\n",
              "</div>\n",
              "      <button class=\"colab-df-convert\" onclick=\"convertToInteractive('df-ad3b6a1d-b173-4bee-9bc4-15090295fae4')\"\n",
              "              title=\"Convert this dataframe to an interactive table.\"\n",
              "              style=\"display:none;\">\n",
              "        \n",
              "  <svg xmlns=\"http://www.w3.org/2000/svg\" height=\"24px\"viewBox=\"0 0 24 24\"\n",
              "       width=\"24px\">\n",
              "    <path d=\"M0 0h24v24H0V0z\" fill=\"none\"/>\n",
              "    <path d=\"M18.56 5.44l.94 2.06.94-2.06 2.06-.94-2.06-.94-.94-2.06-.94 2.06-2.06.94zm-11 1L8.5 8.5l.94-2.06 2.06-.94-2.06-.94L8.5 2.5l-.94 2.06-2.06.94zm10 10l.94 2.06.94-2.06 2.06-.94-2.06-.94-.94-2.06-.94 2.06-2.06.94z\"/><path d=\"M17.41 7.96l-1.37-1.37c-.4-.4-.92-.59-1.43-.59-.52 0-1.04.2-1.43.59L10.3 9.45l-7.72 7.72c-.78.78-.78 2.05 0 2.83L4 21.41c.39.39.9.59 1.41.59.51 0 1.02-.2 1.41-.59l7.78-7.78 2.81-2.81c.8-.78.8-2.07 0-2.86zM5.41 20L4 18.59l7.72-7.72 1.47 1.35L5.41 20z\"/>\n",
              "  </svg>\n",
              "      </button>\n",
              "      \n",
              "  <style>\n",
              "    .colab-df-container {\n",
              "      display:flex;\n",
              "      flex-wrap:wrap;\n",
              "      gap: 12px;\n",
              "    }\n",
              "\n",
              "    .colab-df-convert {\n",
              "      background-color: #E8F0FE;\n",
              "      border: none;\n",
              "      border-radius: 50%;\n",
              "      cursor: pointer;\n",
              "      display: none;\n",
              "      fill: #1967D2;\n",
              "      height: 32px;\n",
              "      padding: 0 0 0 0;\n",
              "      width: 32px;\n",
              "    }\n",
              "\n",
              "    .colab-df-convert:hover {\n",
              "      background-color: #E2EBFA;\n",
              "      box-shadow: 0px 1px 2px rgba(60, 64, 67, 0.3), 0px 1px 3px 1px rgba(60, 64, 67, 0.15);\n",
              "      fill: #174EA6;\n",
              "    }\n",
              "\n",
              "    [theme=dark] .colab-df-convert {\n",
              "      background-color: #3B4455;\n",
              "      fill: #D2E3FC;\n",
              "    }\n",
              "\n",
              "    [theme=dark] .colab-df-convert:hover {\n",
              "      background-color: #434B5C;\n",
              "      box-shadow: 0px 1px 3px 1px rgba(0, 0, 0, 0.15);\n",
              "      filter: drop-shadow(0px 1px 2px rgba(0, 0, 0, 0.3));\n",
              "      fill: #FFFFFF;\n",
              "    }\n",
              "  </style>\n",
              "\n",
              "      <script>\n",
              "        const buttonEl =\n",
              "          document.querySelector('#df-ad3b6a1d-b173-4bee-9bc4-15090295fae4 button.colab-df-convert');\n",
              "        buttonEl.style.display =\n",
              "          google.colab.kernel.accessAllowed ? 'block' : 'none';\n",
              "\n",
              "        async function convertToInteractive(key) {\n",
              "          const element = document.querySelector('#df-ad3b6a1d-b173-4bee-9bc4-15090295fae4');\n",
              "          const dataTable =\n",
              "            await google.colab.kernel.invokeFunction('convertToInteractive',\n",
              "                                                     [key], {});\n",
              "          if (!dataTable) return;\n",
              "\n",
              "          const docLinkHtml = 'Like what you see? Visit the ' +\n",
              "            '<a target=\"_blank\" href=https://colab.research.google.com/notebooks/data_table.ipynb>data table notebook</a>'\n",
              "            + ' to learn more about interactive tables.';\n",
              "          element.innerHTML = '';\n",
              "          dataTable['output_type'] = 'display_data';\n",
              "          await google.colab.output.renderOutput(dataTable, element);\n",
              "          const docLink = document.createElement('div');\n",
              "          docLink.innerHTML = docLinkHtml;\n",
              "          element.appendChild(docLink);\n",
              "        }\n",
              "      </script>\n",
              "    </div>\n",
              "  </div>\n",
              "  "
            ]
          },
          "metadata": {},
          "execution_count": 86
        }
      ]
    },
    {
      "cell_type": "code",
      "metadata": {
        "id": "8f71N-RvcNtN",
        "colab": {
          "base_uri": "https://localhost:8080/"
        },
        "outputId": "2ebf2e7f-df13-44a2-cb08-4a8e32f3c1a8"
      },
      "source": [
        "# Apps with 5 billion installations (5b is the 1st greater class of installations in the dataset)\n",
        "\n",
        "len(app[app[\"Installs\"]>= 5000000000])"
      ],
      "execution_count": 87,
      "outputs": [
        {
          "output_type": "execute_result",
          "data": {
            "text/plain": [
              "3"
            ]
          },
          "metadata": {},
          "execution_count": 87
        }
      ]
    },
    {
      "cell_type": "code",
      "metadata": {
        "id": "oZnr8aRlcNtP",
        "colab": {
          "base_uri": "https://localhost:8080/"
        },
        "outputId": "8cc27f5e-cf09-43db-e069-849175e2f512"
      },
      "source": [
        "# Apps with more than 1 billion installations (1b is the 2nd greater class of installations in the dataset)\n",
        "\n",
        "len(app[app[\"Installs\"]>= 1000000000])"
      ],
      "execution_count": 88,
      "outputs": [
        {
          "output_type": "execute_result",
          "data": {
            "text/plain": [
              "27"
            ]
          },
          "metadata": {},
          "execution_count": 88
        }
      ]
    },
    {
      "cell_type": "code",
      "metadata": {
        "id": "WyNVgiblcNtT",
        "colab": {
          "base_uri": "https://localhost:8080/",
          "height": 918
        },
        "outputId": "dacdeb32-aebb-42a2-cef5-cea28ce9b8d9"
      },
      "source": [
        "top_installed_and_rated_apps = app.sort_values(by=[\"Installs\", \"Rating\"], ascending=False)\n",
        "top_installed_and_rated_apps # main top apps"
      ],
      "execution_count": 89,
      "outputs": [
        {
          "output_type": "execute_result",
          "data": {
            "text/plain": [
              "                                           App Name             Category  \\\n",
              "821                                          Google                TOOLS   \n",
              "813                                         YouTube        VIDEO_PLAYERS   \n",
              "2177                      Maps - Navigate & Explore     TRAVEL_AND_LOCAL   \n",
              "7064    Clean Master - Antivirus, Applock & Cleaner                TOOLS   \n",
              "6411          Google Duo - High Quality Video Calls        COMMUNICATION   \n",
              "...                                             ...                  ...   \n",
              "3035                                  Google Camera          PHOTOGRAPHY   \n",
              "30568                   Display Power Saver Premium                TOOLS   \n",
              "5186   Wa Thema Transparan Black&Pink new Tips 2019  BOOKS_AND_REFERENCE   \n",
              "24784                          DUA KE QURAN AMHARIC            EDUCATION   \n",
              "23720                                Bubble Shooter          GAME_PUZZLE   \n",
              "\n",
              "         Rating     Reviews    Installs                Size  Price  \\\n",
              "821    4.408893  10870728.0  5000000000  Varies with device   0.00   \n",
              "813    4.368428  41919102.0  5000000000  Varies with device   0.00   \n",
              "2177   4.342798  10083666.0  5000000000  Varies with device   0.00   \n",
              "7064   4.657038  44171776.0  1000000000                  20   0.00   \n",
              "6411   4.596404   3641252.0  1000000000                  20   0.00   \n",
              "...         ...         ...         ...                 ...    ...   \n",
              "3035   3.997701    401547.0           1  Varies with device   0.00   \n",
              "30568  3.000000         1.0           1                 2.0   0.99   \n",
              "5186   1.000000         1.0           1                 4.8   0.00   \n",
              "24784  4.730337        89.0           0                 7.9   0.00   \n",
              "23720  4.130435        23.0           0                  19   0.00   \n",
              "\n",
              "      Content Rating       Last Updated     Minimum Version  \\\n",
              "821         Everyone      April 1, 2019  Varies with device   \n",
              "813             Teen      April 2, 2019  Varies with device   \n",
              "2177        Everyone      April 1, 2019  Varies with device   \n",
              "7064        Everyone      April 1, 2019  Varies with device   \n",
              "6411        Everyone      April 2, 2019          4.4 and up   \n",
              "...              ...                ...                 ...   \n",
              "3035        Everyone     March 26, 2019  Varies with device   \n",
              "30568       Everyone  February 21, 2019          4.1 and up   \n",
              "5186        Everyone  February 26, 2019          4.4 and up   \n",
              "24784       Everyone       May 10, 2018          4.4 and up   \n",
              "23720       Everyone   October 23, 2018          4.0 and up   \n",
              "\n",
              "                 Latest Version  \n",
              "821          Varies with device  \n",
              "813          Varies with device  \n",
              "2177         Varies with device  \n",
              "7064                      7.0.6  \n",
              "6411   50.1.240885383.DR50_RC06  \n",
              "...                         ...  \n",
              "3035         Varies with device  \n",
              "30568                2.8 (paid)  \n",
              "5186                          1  \n",
              "24784                         1  \n",
              "23720                     1.0.0  \n",
              "\n",
              "[32006 rows x 11 columns]"
            ],
            "text/html": [
              "\n",
              "  <div id=\"df-41a08fbb-b707-4912-be6b-58feb94b7c5d\">\n",
              "    <div class=\"colab-df-container\">\n",
              "      <div>\n",
              "<style scoped>\n",
              "    .dataframe tbody tr th:only-of-type {\n",
              "        vertical-align: middle;\n",
              "    }\n",
              "\n",
              "    .dataframe tbody tr th {\n",
              "        vertical-align: top;\n",
              "    }\n",
              "\n",
              "    .dataframe thead th {\n",
              "        text-align: right;\n",
              "    }\n",
              "</style>\n",
              "<table border=\"1\" class=\"dataframe\">\n",
              "  <thead>\n",
              "    <tr style=\"text-align: right;\">\n",
              "      <th></th>\n",
              "      <th>App Name</th>\n",
              "      <th>Category</th>\n",
              "      <th>Rating</th>\n",
              "      <th>Reviews</th>\n",
              "      <th>Installs</th>\n",
              "      <th>Size</th>\n",
              "      <th>Price</th>\n",
              "      <th>Content Rating</th>\n",
              "      <th>Last Updated</th>\n",
              "      <th>Minimum Version</th>\n",
              "      <th>Latest Version</th>\n",
              "    </tr>\n",
              "  </thead>\n",
              "  <tbody>\n",
              "    <tr>\n",
              "      <th>821</th>\n",
              "      <td>Google</td>\n",
              "      <td>TOOLS</td>\n",
              "      <td>4.408893</td>\n",
              "      <td>10870728.0</td>\n",
              "      <td>5000000000</td>\n",
              "      <td>Varies with device</td>\n",
              "      <td>0.00</td>\n",
              "      <td>Everyone</td>\n",
              "      <td>April 1, 2019</td>\n",
              "      <td>Varies with device</td>\n",
              "      <td>Varies with device</td>\n",
              "    </tr>\n",
              "    <tr>\n",
              "      <th>813</th>\n",
              "      <td>YouTube</td>\n",
              "      <td>VIDEO_PLAYERS</td>\n",
              "      <td>4.368428</td>\n",
              "      <td>41919102.0</td>\n",
              "      <td>5000000000</td>\n",
              "      <td>Varies with device</td>\n",
              "      <td>0.00</td>\n",
              "      <td>Teen</td>\n",
              "      <td>April 2, 2019</td>\n",
              "      <td>Varies with device</td>\n",
              "      <td>Varies with device</td>\n",
              "    </tr>\n",
              "    <tr>\n",
              "      <th>2177</th>\n",
              "      <td>Maps - Navigate &amp; Explore</td>\n",
              "      <td>TRAVEL_AND_LOCAL</td>\n",
              "      <td>4.342798</td>\n",
              "      <td>10083666.0</td>\n",
              "      <td>5000000000</td>\n",
              "      <td>Varies with device</td>\n",
              "      <td>0.00</td>\n",
              "      <td>Everyone</td>\n",
              "      <td>April 1, 2019</td>\n",
              "      <td>Varies with device</td>\n",
              "      <td>Varies with device</td>\n",
              "    </tr>\n",
              "    <tr>\n",
              "      <th>7064</th>\n",
              "      <td>Clean Master - Antivirus, Applock &amp; Cleaner</td>\n",
              "      <td>TOOLS</td>\n",
              "      <td>4.657038</td>\n",
              "      <td>44171776.0</td>\n",
              "      <td>1000000000</td>\n",
              "      <td>20</td>\n",
              "      <td>0.00</td>\n",
              "      <td>Everyone</td>\n",
              "      <td>April 1, 2019</td>\n",
              "      <td>Varies with device</td>\n",
              "      <td>7.0.6</td>\n",
              "    </tr>\n",
              "    <tr>\n",
              "      <th>6411</th>\n",
              "      <td>Google Duo - High Quality Video Calls</td>\n",
              "      <td>COMMUNICATION</td>\n",
              "      <td>4.596404</td>\n",
              "      <td>3641252.0</td>\n",
              "      <td>1000000000</td>\n",
              "      <td>20</td>\n",
              "      <td>0.00</td>\n",
              "      <td>Everyone</td>\n",
              "      <td>April 2, 2019</td>\n",
              "      <td>4.4 and up</td>\n",
              "      <td>50.1.240885383.DR50_RC06</td>\n",
              "    </tr>\n",
              "    <tr>\n",
              "      <th>...</th>\n",
              "      <td>...</td>\n",
              "      <td>...</td>\n",
              "      <td>...</td>\n",
              "      <td>...</td>\n",
              "      <td>...</td>\n",
              "      <td>...</td>\n",
              "      <td>...</td>\n",
              "      <td>...</td>\n",
              "      <td>...</td>\n",
              "      <td>...</td>\n",
              "      <td>...</td>\n",
              "    </tr>\n",
              "    <tr>\n",
              "      <th>3035</th>\n",
              "      <td>Google Camera</td>\n",
              "      <td>PHOTOGRAPHY</td>\n",
              "      <td>3.997701</td>\n",
              "      <td>401547.0</td>\n",
              "      <td>1</td>\n",
              "      <td>Varies with device</td>\n",
              "      <td>0.00</td>\n",
              "      <td>Everyone</td>\n",
              "      <td>March 26, 2019</td>\n",
              "      <td>Varies with device</td>\n",
              "      <td>Varies with device</td>\n",
              "    </tr>\n",
              "    <tr>\n",
              "      <th>30568</th>\n",
              "      <td>Display Power Saver Premium</td>\n",
              "      <td>TOOLS</td>\n",
              "      <td>3.000000</td>\n",
              "      <td>1.0</td>\n",
              "      <td>1</td>\n",
              "      <td>2.0</td>\n",
              "      <td>0.99</td>\n",
              "      <td>Everyone</td>\n",
              "      <td>February 21, 2019</td>\n",
              "      <td>4.1 and up</td>\n",
              "      <td>2.8 (paid)</td>\n",
              "    </tr>\n",
              "    <tr>\n",
              "      <th>5186</th>\n",
              "      <td>Wa Thema Transparan Black&amp;Pink new Tips 2019</td>\n",
              "      <td>BOOKS_AND_REFERENCE</td>\n",
              "      <td>1.000000</td>\n",
              "      <td>1.0</td>\n",
              "      <td>1</td>\n",
              "      <td>4.8</td>\n",
              "      <td>0.00</td>\n",
              "      <td>Everyone</td>\n",
              "      <td>February 26, 2019</td>\n",
              "      <td>4.4 and up</td>\n",
              "      <td>1</td>\n",
              "    </tr>\n",
              "    <tr>\n",
              "      <th>24784</th>\n",
              "      <td>DUA KE QURAN AMHARIC</td>\n",
              "      <td>EDUCATION</td>\n",
              "      <td>4.730337</td>\n",
              "      <td>89.0</td>\n",
              "      <td>0</td>\n",
              "      <td>7.9</td>\n",
              "      <td>0.00</td>\n",
              "      <td>Everyone</td>\n",
              "      <td>May 10, 2018</td>\n",
              "      <td>4.4 and up</td>\n",
              "      <td>1</td>\n",
              "    </tr>\n",
              "    <tr>\n",
              "      <th>23720</th>\n",
              "      <td>Bubble Shooter</td>\n",
              "      <td>GAME_PUZZLE</td>\n",
              "      <td>4.130435</td>\n",
              "      <td>23.0</td>\n",
              "      <td>0</td>\n",
              "      <td>19</td>\n",
              "      <td>0.00</td>\n",
              "      <td>Everyone</td>\n",
              "      <td>October 23, 2018</td>\n",
              "      <td>4.0 and up</td>\n",
              "      <td>1.0.0</td>\n",
              "    </tr>\n",
              "  </tbody>\n",
              "</table>\n",
              "<p>32006 rows × 11 columns</p>\n",
              "</div>\n",
              "      <button class=\"colab-df-convert\" onclick=\"convertToInteractive('df-41a08fbb-b707-4912-be6b-58feb94b7c5d')\"\n",
              "              title=\"Convert this dataframe to an interactive table.\"\n",
              "              style=\"display:none;\">\n",
              "        \n",
              "  <svg xmlns=\"http://www.w3.org/2000/svg\" height=\"24px\"viewBox=\"0 0 24 24\"\n",
              "       width=\"24px\">\n",
              "    <path d=\"M0 0h24v24H0V0z\" fill=\"none\"/>\n",
              "    <path d=\"M18.56 5.44l.94 2.06.94-2.06 2.06-.94-2.06-.94-.94-2.06-.94 2.06-2.06.94zm-11 1L8.5 8.5l.94-2.06 2.06-.94-2.06-.94L8.5 2.5l-.94 2.06-2.06.94zm10 10l.94 2.06.94-2.06 2.06-.94-2.06-.94-.94-2.06-.94 2.06-2.06.94z\"/><path d=\"M17.41 7.96l-1.37-1.37c-.4-.4-.92-.59-1.43-.59-.52 0-1.04.2-1.43.59L10.3 9.45l-7.72 7.72c-.78.78-.78 2.05 0 2.83L4 21.41c.39.39.9.59 1.41.59.51 0 1.02-.2 1.41-.59l7.78-7.78 2.81-2.81c.8-.78.8-2.07 0-2.86zM5.41 20L4 18.59l7.72-7.72 1.47 1.35L5.41 20z\"/>\n",
              "  </svg>\n",
              "      </button>\n",
              "      \n",
              "  <style>\n",
              "    .colab-df-container {\n",
              "      display:flex;\n",
              "      flex-wrap:wrap;\n",
              "      gap: 12px;\n",
              "    }\n",
              "\n",
              "    .colab-df-convert {\n",
              "      background-color: #E8F0FE;\n",
              "      border: none;\n",
              "      border-radius: 50%;\n",
              "      cursor: pointer;\n",
              "      display: none;\n",
              "      fill: #1967D2;\n",
              "      height: 32px;\n",
              "      padding: 0 0 0 0;\n",
              "      width: 32px;\n",
              "    }\n",
              "\n",
              "    .colab-df-convert:hover {\n",
              "      background-color: #E2EBFA;\n",
              "      box-shadow: 0px 1px 2px rgba(60, 64, 67, 0.3), 0px 1px 3px 1px rgba(60, 64, 67, 0.15);\n",
              "      fill: #174EA6;\n",
              "    }\n",
              "\n",
              "    [theme=dark] .colab-df-convert {\n",
              "      background-color: #3B4455;\n",
              "      fill: #D2E3FC;\n",
              "    }\n",
              "\n",
              "    [theme=dark] .colab-df-convert:hover {\n",
              "      background-color: #434B5C;\n",
              "      box-shadow: 0px 1px 3px 1px rgba(0, 0, 0, 0.15);\n",
              "      filter: drop-shadow(0px 1px 2px rgba(0, 0, 0, 0.3));\n",
              "      fill: #FFFFFF;\n",
              "    }\n",
              "  </style>\n",
              "\n",
              "      <script>\n",
              "        const buttonEl =\n",
              "          document.querySelector('#df-41a08fbb-b707-4912-be6b-58feb94b7c5d button.colab-df-convert');\n",
              "        buttonEl.style.display =\n",
              "          google.colab.kernel.accessAllowed ? 'block' : 'none';\n",
              "\n",
              "        async function convertToInteractive(key) {\n",
              "          const element = document.querySelector('#df-41a08fbb-b707-4912-be6b-58feb94b7c5d');\n",
              "          const dataTable =\n",
              "            await google.colab.kernel.invokeFunction('convertToInteractive',\n",
              "                                                     [key], {});\n",
              "          if (!dataTable) return;\n",
              "\n",
              "          const docLinkHtml = 'Like what you see? Visit the ' +\n",
              "            '<a target=\"_blank\" href=https://colab.research.google.com/notebooks/data_table.ipynb>data table notebook</a>'\n",
              "            + ' to learn more about interactive tables.';\n",
              "          element.innerHTML = '';\n",
              "          dataTable['output_type'] = 'display_data';\n",
              "          await google.colab.output.renderOutput(dataTable, element);\n",
              "          const docLink = document.createElement('div');\n",
              "          docLink.innerHTML = docLinkHtml;\n",
              "          element.appendChild(docLink);\n",
              "        }\n",
              "      </script>\n",
              "    </div>\n",
              "  </div>\n",
              "  "
            ]
          },
          "metadata": {},
          "execution_count": 89
        }
      ]
    },
    {
      "cell_type": "code",
      "metadata": {
        "id": "SCgCKBIBcNtZ",
        "colab": {
          "base_uri": "https://localhost:8080/",
          "height": 771
        },
        "outputId": "c67d2790-08d3-486e-9dfc-d5efb8b314bb"
      },
      "source": [
        "#**************************************************************************\n",
        "# top 10 apps based on the number of installations and rating together (main top apps)\n",
        "#**************************************************************************\n",
        "\n",
        "top_installed_and_rated_apps.head(10)"
      ],
      "execution_count": 90,
      "outputs": [
        {
          "output_type": "execute_result",
          "data": {
            "text/plain": [
              "                                         App Name          Category    Rating  \\\n",
              "821                                        Google             TOOLS  4.408893   \n",
              "813                                       YouTube     VIDEO_PLAYERS  4.368428   \n",
              "2177                    Maps - Navigate & Explore  TRAVEL_AND_LOCAL  4.342798   \n",
              "7064  Clean Master - Antivirus, Applock & Cleaner             TOOLS  4.657038   \n",
              "6411        Google Duo - High Quality Video Calls     COMMUNICATION  4.596404   \n",
              "3269                   SHAREit - Transfer & Share             TOOLS  4.579340   \n",
              "1259                                Google Photos       PHOTOGRAPHY  4.542380   \n",
              "653                                     Instagram            SOCIAL  4.519560   \n",
              "539                                Subway Surfers       GAME_ARCADE  4.498131   \n",
              "3267                     Samsung Internet Browser     COMMUNICATION  4.424015   \n",
              "\n",
              "         Reviews    Installs                Size  Price Content Rating  \\\n",
              "821   10870728.0  5000000000  Varies with device    0.0       Everyone   \n",
              "813   41919102.0  5000000000  Varies with device    0.0           Teen   \n",
              "2177  10083666.0  5000000000  Varies with device    0.0       Everyone   \n",
              "7064  44171776.0  1000000000                  20    0.0       Everyone   \n",
              "6411   3641252.0  1000000000                  20    0.0       Everyone   \n",
              "3269  10450444.0  1000000000                  20    0.0       Everyone   \n",
              "1259  16278468.0  1000000000  Varies with device    0.0       Everyone   \n",
              "653   79726403.0  1000000000  Varies with device    0.0           Teen   \n",
              "539   29834812.0  1000000000                  85    0.0   Everyone 10+   \n",
              "3267    832714.0  1000000000  Varies with device    0.0       Everyone   \n",
              "\n",
              "           Last Updated     Minimum Version            Latest Version  \n",
              "821       April 1, 2019  Varies with device        Varies with device  \n",
              "813       April 2, 2019  Varies with device        Varies with device  \n",
              "2177      April 1, 2019  Varies with device        Varies with device  \n",
              "7064      April 1, 2019  Varies with device                     7.0.6  \n",
              "6411      April 2, 2019          4.4 and up  50.1.240885383.DR50_RC06  \n",
              "3269      April 1, 2019          4.1 and up                 4.7.38_ww  \n",
              "1259      April 2, 2019  Varies with device        Varies with device  \n",
              "653       April 2, 2019  Varies with device        Varies with device  \n",
              "539       March 7, 2019          4.1 and up                   1.100.0  \n",
              "3267  February 21, 2019          5.0 and up        Varies with device  "
            ],
            "text/html": [
              "\n",
              "  <div id=\"df-0d72e963-9ec8-4489-a5d0-e3a3e7d8af17\">\n",
              "    <div class=\"colab-df-container\">\n",
              "      <div>\n",
              "<style scoped>\n",
              "    .dataframe tbody tr th:only-of-type {\n",
              "        vertical-align: middle;\n",
              "    }\n",
              "\n",
              "    .dataframe tbody tr th {\n",
              "        vertical-align: top;\n",
              "    }\n",
              "\n",
              "    .dataframe thead th {\n",
              "        text-align: right;\n",
              "    }\n",
              "</style>\n",
              "<table border=\"1\" class=\"dataframe\">\n",
              "  <thead>\n",
              "    <tr style=\"text-align: right;\">\n",
              "      <th></th>\n",
              "      <th>App Name</th>\n",
              "      <th>Category</th>\n",
              "      <th>Rating</th>\n",
              "      <th>Reviews</th>\n",
              "      <th>Installs</th>\n",
              "      <th>Size</th>\n",
              "      <th>Price</th>\n",
              "      <th>Content Rating</th>\n",
              "      <th>Last Updated</th>\n",
              "      <th>Minimum Version</th>\n",
              "      <th>Latest Version</th>\n",
              "    </tr>\n",
              "  </thead>\n",
              "  <tbody>\n",
              "    <tr>\n",
              "      <th>821</th>\n",
              "      <td>Google</td>\n",
              "      <td>TOOLS</td>\n",
              "      <td>4.408893</td>\n",
              "      <td>10870728.0</td>\n",
              "      <td>5000000000</td>\n",
              "      <td>Varies with device</td>\n",
              "      <td>0.0</td>\n",
              "      <td>Everyone</td>\n",
              "      <td>April 1, 2019</td>\n",
              "      <td>Varies with device</td>\n",
              "      <td>Varies with device</td>\n",
              "    </tr>\n",
              "    <tr>\n",
              "      <th>813</th>\n",
              "      <td>YouTube</td>\n",
              "      <td>VIDEO_PLAYERS</td>\n",
              "      <td>4.368428</td>\n",
              "      <td>41919102.0</td>\n",
              "      <td>5000000000</td>\n",
              "      <td>Varies with device</td>\n",
              "      <td>0.0</td>\n",
              "      <td>Teen</td>\n",
              "      <td>April 2, 2019</td>\n",
              "      <td>Varies with device</td>\n",
              "      <td>Varies with device</td>\n",
              "    </tr>\n",
              "    <tr>\n",
              "      <th>2177</th>\n",
              "      <td>Maps - Navigate &amp; Explore</td>\n",
              "      <td>TRAVEL_AND_LOCAL</td>\n",
              "      <td>4.342798</td>\n",
              "      <td>10083666.0</td>\n",
              "      <td>5000000000</td>\n",
              "      <td>Varies with device</td>\n",
              "      <td>0.0</td>\n",
              "      <td>Everyone</td>\n",
              "      <td>April 1, 2019</td>\n",
              "      <td>Varies with device</td>\n",
              "      <td>Varies with device</td>\n",
              "    </tr>\n",
              "    <tr>\n",
              "      <th>7064</th>\n",
              "      <td>Clean Master - Antivirus, Applock &amp; Cleaner</td>\n",
              "      <td>TOOLS</td>\n",
              "      <td>4.657038</td>\n",
              "      <td>44171776.0</td>\n",
              "      <td>1000000000</td>\n",
              "      <td>20</td>\n",
              "      <td>0.0</td>\n",
              "      <td>Everyone</td>\n",
              "      <td>April 1, 2019</td>\n",
              "      <td>Varies with device</td>\n",
              "      <td>7.0.6</td>\n",
              "    </tr>\n",
              "    <tr>\n",
              "      <th>6411</th>\n",
              "      <td>Google Duo - High Quality Video Calls</td>\n",
              "      <td>COMMUNICATION</td>\n",
              "      <td>4.596404</td>\n",
              "      <td>3641252.0</td>\n",
              "      <td>1000000000</td>\n",
              "      <td>20</td>\n",
              "      <td>0.0</td>\n",
              "      <td>Everyone</td>\n",
              "      <td>April 2, 2019</td>\n",
              "      <td>4.4 and up</td>\n",
              "      <td>50.1.240885383.DR50_RC06</td>\n",
              "    </tr>\n",
              "    <tr>\n",
              "      <th>3269</th>\n",
              "      <td>SHAREit - Transfer &amp; Share</td>\n",
              "      <td>TOOLS</td>\n",
              "      <td>4.579340</td>\n",
              "      <td>10450444.0</td>\n",
              "      <td>1000000000</td>\n",
              "      <td>20</td>\n",
              "      <td>0.0</td>\n",
              "      <td>Everyone</td>\n",
              "      <td>April 1, 2019</td>\n",
              "      <td>4.1 and up</td>\n",
              "      <td>4.7.38_ww</td>\n",
              "    </tr>\n",
              "    <tr>\n",
              "      <th>1259</th>\n",
              "      <td>Google Photos</td>\n",
              "      <td>PHOTOGRAPHY</td>\n",
              "      <td>4.542380</td>\n",
              "      <td>16278468.0</td>\n",
              "      <td>1000000000</td>\n",
              "      <td>Varies with device</td>\n",
              "      <td>0.0</td>\n",
              "      <td>Everyone</td>\n",
              "      <td>April 2, 2019</td>\n",
              "      <td>Varies with device</td>\n",
              "      <td>Varies with device</td>\n",
              "    </tr>\n",
              "    <tr>\n",
              "      <th>653</th>\n",
              "      <td>Instagram</td>\n",
              "      <td>SOCIAL</td>\n",
              "      <td>4.519560</td>\n",
              "      <td>79726403.0</td>\n",
              "      <td>1000000000</td>\n",
              "      <td>Varies with device</td>\n",
              "      <td>0.0</td>\n",
              "      <td>Teen</td>\n",
              "      <td>April 2, 2019</td>\n",
              "      <td>Varies with device</td>\n",
              "      <td>Varies with device</td>\n",
              "    </tr>\n",
              "    <tr>\n",
              "      <th>539</th>\n",
              "      <td>Subway Surfers</td>\n",
              "      <td>GAME_ARCADE</td>\n",
              "      <td>4.498131</td>\n",
              "      <td>29834812.0</td>\n",
              "      <td>1000000000</td>\n",
              "      <td>85</td>\n",
              "      <td>0.0</td>\n",
              "      <td>Everyone 10+</td>\n",
              "      <td>March 7, 2019</td>\n",
              "      <td>4.1 and up</td>\n",
              "      <td>1.100.0</td>\n",
              "    </tr>\n",
              "    <tr>\n",
              "      <th>3267</th>\n",
              "      <td>Samsung Internet Browser</td>\n",
              "      <td>COMMUNICATION</td>\n",
              "      <td>4.424015</td>\n",
              "      <td>832714.0</td>\n",
              "      <td>1000000000</td>\n",
              "      <td>Varies with device</td>\n",
              "      <td>0.0</td>\n",
              "      <td>Everyone</td>\n",
              "      <td>February 21, 2019</td>\n",
              "      <td>5.0 and up</td>\n",
              "      <td>Varies with device</td>\n",
              "    </tr>\n",
              "  </tbody>\n",
              "</table>\n",
              "</div>\n",
              "      <button class=\"colab-df-convert\" onclick=\"convertToInteractive('df-0d72e963-9ec8-4489-a5d0-e3a3e7d8af17')\"\n",
              "              title=\"Convert this dataframe to an interactive table.\"\n",
              "              style=\"display:none;\">\n",
              "        \n",
              "  <svg xmlns=\"http://www.w3.org/2000/svg\" height=\"24px\"viewBox=\"0 0 24 24\"\n",
              "       width=\"24px\">\n",
              "    <path d=\"M0 0h24v24H0V0z\" fill=\"none\"/>\n",
              "    <path d=\"M18.56 5.44l.94 2.06.94-2.06 2.06-.94-2.06-.94-.94-2.06-.94 2.06-2.06.94zm-11 1L8.5 8.5l.94-2.06 2.06-.94-2.06-.94L8.5 2.5l-.94 2.06-2.06.94zm10 10l.94 2.06.94-2.06 2.06-.94-2.06-.94-.94-2.06-.94 2.06-2.06.94z\"/><path d=\"M17.41 7.96l-1.37-1.37c-.4-.4-.92-.59-1.43-.59-.52 0-1.04.2-1.43.59L10.3 9.45l-7.72 7.72c-.78.78-.78 2.05 0 2.83L4 21.41c.39.39.9.59 1.41.59.51 0 1.02-.2 1.41-.59l7.78-7.78 2.81-2.81c.8-.78.8-2.07 0-2.86zM5.41 20L4 18.59l7.72-7.72 1.47 1.35L5.41 20z\"/>\n",
              "  </svg>\n",
              "      </button>\n",
              "      \n",
              "  <style>\n",
              "    .colab-df-container {\n",
              "      display:flex;\n",
              "      flex-wrap:wrap;\n",
              "      gap: 12px;\n",
              "    }\n",
              "\n",
              "    .colab-df-convert {\n",
              "      background-color: #E8F0FE;\n",
              "      border: none;\n",
              "      border-radius: 50%;\n",
              "      cursor: pointer;\n",
              "      display: none;\n",
              "      fill: #1967D2;\n",
              "      height: 32px;\n",
              "      padding: 0 0 0 0;\n",
              "      width: 32px;\n",
              "    }\n",
              "\n",
              "    .colab-df-convert:hover {\n",
              "      background-color: #E2EBFA;\n",
              "      box-shadow: 0px 1px 2px rgba(60, 64, 67, 0.3), 0px 1px 3px 1px rgba(60, 64, 67, 0.15);\n",
              "      fill: #174EA6;\n",
              "    }\n",
              "\n",
              "    [theme=dark] .colab-df-convert {\n",
              "      background-color: #3B4455;\n",
              "      fill: #D2E3FC;\n",
              "    }\n",
              "\n",
              "    [theme=dark] .colab-df-convert:hover {\n",
              "      background-color: #434B5C;\n",
              "      box-shadow: 0px 1px 3px 1px rgba(0, 0, 0, 0.15);\n",
              "      filter: drop-shadow(0px 1px 2px rgba(0, 0, 0, 0.3));\n",
              "      fill: #FFFFFF;\n",
              "    }\n",
              "  </style>\n",
              "\n",
              "      <script>\n",
              "        const buttonEl =\n",
              "          document.querySelector('#df-0d72e963-9ec8-4489-a5d0-e3a3e7d8af17 button.colab-df-convert');\n",
              "        buttonEl.style.display =\n",
              "          google.colab.kernel.accessAllowed ? 'block' : 'none';\n",
              "\n",
              "        async function convertToInteractive(key) {\n",
              "          const element = document.querySelector('#df-0d72e963-9ec8-4489-a5d0-e3a3e7d8af17');\n",
              "          const dataTable =\n",
              "            await google.colab.kernel.invokeFunction('convertToInteractive',\n",
              "                                                     [key], {});\n",
              "          if (!dataTable) return;\n",
              "\n",
              "          const docLinkHtml = 'Like what you see? Visit the ' +\n",
              "            '<a target=\"_blank\" href=https://colab.research.google.com/notebooks/data_table.ipynb>data table notebook</a>'\n",
              "            + ' to learn more about interactive tables.';\n",
              "          element.innerHTML = '';\n",
              "          dataTable['output_type'] = 'display_data';\n",
              "          await google.colab.output.renderOutput(dataTable, element);\n",
              "          const docLink = document.createElement('div');\n",
              "          docLink.innerHTML = docLinkHtml;\n",
              "          element.appendChild(docLink);\n",
              "        }\n",
              "      </script>\n",
              "    </div>\n",
              "  </div>\n",
              "  "
            ]
          },
          "metadata": {},
          "execution_count": 90
        }
      ]
    },
    {
      "cell_type": "code",
      "metadata": {
        "id": "pF0rGPhMcNtb",
        "colab": {
          "base_uri": "https://localhost:8080/",
          "height": 762
        },
        "outputId": "473acde6-003b-40ca-d3f0-d8435dd40a5b"
      },
      "source": [
        "top_installed_and_reviewed_apps = app.sort_values(by=[\"Installs\", \"Reviews\"], ascending=False)\n",
        "top_installed_and_reviewed_apps"
      ],
      "execution_count": 91,
      "outputs": [
        {
          "output_type": "execute_result",
          "data": {
            "text/plain": [
              "                                        App Name          Category    Rating  \\\n",
              "813                                      YouTube     VIDEO_PLAYERS  4.368428   \n",
              "821                                       Google             TOOLS  4.408893   \n",
              "2177                   Maps - Navigate & Explore  TRAVEL_AND_LOCAL  4.342798   \n",
              "671                           WhatsApp Messenger     COMMUNICATION  4.417610   \n",
              "704                                     Facebook            SOCIAL  4.087946   \n",
              "...                                          ...               ...       ...   \n",
              "27321                                   Frescafe    FOOD_AND_DRINK  5.000000   \n",
              "28435  Reel Quotes - Question-a-Day Movie Trivia       GAME_TRIVIA  5.000000   \n",
              "30568                Display Power Saver Premium             TOOLS  3.000000   \n",
              "24784                       DUA KE QURAN AMHARIC         EDUCATION  4.730337   \n",
              "23720                             Bubble Shooter       GAME_PUZZLE  4.130435   \n",
              "\n",
              "          Reviews    Installs                Size  Price Content Rating  \\\n",
              "813    41919102.0  5000000000  Varies with device   0.00           Teen   \n",
              "821    10870728.0  5000000000  Varies with device   0.00       Everyone   \n",
              "2177   10083666.0  5000000000  Varies with device   0.00       Everyone   \n",
              "671    86214292.0  1000000000  Varies with device   0.00       Everyone   \n",
              "704    85766433.0  1000000000  Varies with device   0.00           Teen   \n",
              "...           ...         ...                 ...    ...            ...   \n",
              "27321         1.0           1                 7.2   0.00       Everyone   \n",
              "28435         1.0           1                 4.3   0.00       Everyone   \n",
              "30568         1.0           1                 2.0   0.99       Everyone   \n",
              "24784        89.0           0                 7.9   0.00       Everyone   \n",
              "23720        23.0           0                  19   0.00       Everyone   \n",
              "\n",
              "            Last Updated     Minimum Version      Latest Version  \n",
              "813        April 2, 2019  Varies with device  Varies with device  \n",
              "821        April 1, 2019  Varies with device  Varies with device  \n",
              "2177       April 1, 2019  Varies with device  Varies with device  \n",
              "671       March 27, 2019  Varies with device  Varies with device  \n",
              "704        April 2, 2019  Varies with device  Varies with device  \n",
              "...                  ...                 ...                 ...  \n",
              "27321  February 27, 2019          4.4 and up              1.13.1  \n",
              "28435      March 1, 2019          4.3 and up                1.02  \n",
              "30568  February 21, 2019          4.1 and up          2.8 (paid)  \n",
              "24784       May 10, 2018          4.4 and up                   1  \n",
              "23720   October 23, 2018          4.0 and up               1.0.0  \n",
              "\n",
              "[32006 rows x 11 columns]"
            ],
            "text/html": [
              "\n",
              "  <div id=\"df-8e8cdc74-01e4-41a3-86e7-348e6be4f04d\">\n",
              "    <div class=\"colab-df-container\">\n",
              "      <div>\n",
              "<style scoped>\n",
              "    .dataframe tbody tr th:only-of-type {\n",
              "        vertical-align: middle;\n",
              "    }\n",
              "\n",
              "    .dataframe tbody tr th {\n",
              "        vertical-align: top;\n",
              "    }\n",
              "\n",
              "    .dataframe thead th {\n",
              "        text-align: right;\n",
              "    }\n",
              "</style>\n",
              "<table border=\"1\" class=\"dataframe\">\n",
              "  <thead>\n",
              "    <tr style=\"text-align: right;\">\n",
              "      <th></th>\n",
              "      <th>App Name</th>\n",
              "      <th>Category</th>\n",
              "      <th>Rating</th>\n",
              "      <th>Reviews</th>\n",
              "      <th>Installs</th>\n",
              "      <th>Size</th>\n",
              "      <th>Price</th>\n",
              "      <th>Content Rating</th>\n",
              "      <th>Last Updated</th>\n",
              "      <th>Minimum Version</th>\n",
              "      <th>Latest Version</th>\n",
              "    </tr>\n",
              "  </thead>\n",
              "  <tbody>\n",
              "    <tr>\n",
              "      <th>813</th>\n",
              "      <td>YouTube</td>\n",
              "      <td>VIDEO_PLAYERS</td>\n",
              "      <td>4.368428</td>\n",
              "      <td>41919102.0</td>\n",
              "      <td>5000000000</td>\n",
              "      <td>Varies with device</td>\n",
              "      <td>0.00</td>\n",
              "      <td>Teen</td>\n",
              "      <td>April 2, 2019</td>\n",
              "      <td>Varies with device</td>\n",
              "      <td>Varies with device</td>\n",
              "    </tr>\n",
              "    <tr>\n",
              "      <th>821</th>\n",
              "      <td>Google</td>\n",
              "      <td>TOOLS</td>\n",
              "      <td>4.408893</td>\n",
              "      <td>10870728.0</td>\n",
              "      <td>5000000000</td>\n",
              "      <td>Varies with device</td>\n",
              "      <td>0.00</td>\n",
              "      <td>Everyone</td>\n",
              "      <td>April 1, 2019</td>\n",
              "      <td>Varies with device</td>\n",
              "      <td>Varies with device</td>\n",
              "    </tr>\n",
              "    <tr>\n",
              "      <th>2177</th>\n",
              "      <td>Maps - Navigate &amp; Explore</td>\n",
              "      <td>TRAVEL_AND_LOCAL</td>\n",
              "      <td>4.342798</td>\n",
              "      <td>10083666.0</td>\n",
              "      <td>5000000000</td>\n",
              "      <td>Varies with device</td>\n",
              "      <td>0.00</td>\n",
              "      <td>Everyone</td>\n",
              "      <td>April 1, 2019</td>\n",
              "      <td>Varies with device</td>\n",
              "      <td>Varies with device</td>\n",
              "    </tr>\n",
              "    <tr>\n",
              "      <th>671</th>\n",
              "      <td>WhatsApp Messenger</td>\n",
              "      <td>COMMUNICATION</td>\n",
              "      <td>4.417610</td>\n",
              "      <td>86214292.0</td>\n",
              "      <td>1000000000</td>\n",
              "      <td>Varies with device</td>\n",
              "      <td>0.00</td>\n",
              "      <td>Everyone</td>\n",
              "      <td>March 27, 2019</td>\n",
              "      <td>Varies with device</td>\n",
              "      <td>Varies with device</td>\n",
              "    </tr>\n",
              "    <tr>\n",
              "      <th>704</th>\n",
              "      <td>Facebook</td>\n",
              "      <td>SOCIAL</td>\n",
              "      <td>4.087946</td>\n",
              "      <td>85766433.0</td>\n",
              "      <td>1000000000</td>\n",
              "      <td>Varies with device</td>\n",
              "      <td>0.00</td>\n",
              "      <td>Teen</td>\n",
              "      <td>April 2, 2019</td>\n",
              "      <td>Varies with device</td>\n",
              "      <td>Varies with device</td>\n",
              "    </tr>\n",
              "    <tr>\n",
              "      <th>...</th>\n",
              "      <td>...</td>\n",
              "      <td>...</td>\n",
              "      <td>...</td>\n",
              "      <td>...</td>\n",
              "      <td>...</td>\n",
              "      <td>...</td>\n",
              "      <td>...</td>\n",
              "      <td>...</td>\n",
              "      <td>...</td>\n",
              "      <td>...</td>\n",
              "      <td>...</td>\n",
              "    </tr>\n",
              "    <tr>\n",
              "      <th>27321</th>\n",
              "      <td>Frescafe</td>\n",
              "      <td>FOOD_AND_DRINK</td>\n",
              "      <td>5.000000</td>\n",
              "      <td>1.0</td>\n",
              "      <td>1</td>\n",
              "      <td>7.2</td>\n",
              "      <td>0.00</td>\n",
              "      <td>Everyone</td>\n",
              "      <td>February 27, 2019</td>\n",
              "      <td>4.4 and up</td>\n",
              "      <td>1.13.1</td>\n",
              "    </tr>\n",
              "    <tr>\n",
              "      <th>28435</th>\n",
              "      <td>Reel Quotes - Question-a-Day Movie Trivia</td>\n",
              "      <td>GAME_TRIVIA</td>\n",
              "      <td>5.000000</td>\n",
              "      <td>1.0</td>\n",
              "      <td>1</td>\n",
              "      <td>4.3</td>\n",
              "      <td>0.00</td>\n",
              "      <td>Everyone</td>\n",
              "      <td>March 1, 2019</td>\n",
              "      <td>4.3 and up</td>\n",
              "      <td>1.02</td>\n",
              "    </tr>\n",
              "    <tr>\n",
              "      <th>30568</th>\n",
              "      <td>Display Power Saver Premium</td>\n",
              "      <td>TOOLS</td>\n",
              "      <td>3.000000</td>\n",
              "      <td>1.0</td>\n",
              "      <td>1</td>\n",
              "      <td>2.0</td>\n",
              "      <td>0.99</td>\n",
              "      <td>Everyone</td>\n",
              "      <td>February 21, 2019</td>\n",
              "      <td>4.1 and up</td>\n",
              "      <td>2.8 (paid)</td>\n",
              "    </tr>\n",
              "    <tr>\n",
              "      <th>24784</th>\n",
              "      <td>DUA KE QURAN AMHARIC</td>\n",
              "      <td>EDUCATION</td>\n",
              "      <td>4.730337</td>\n",
              "      <td>89.0</td>\n",
              "      <td>0</td>\n",
              "      <td>7.9</td>\n",
              "      <td>0.00</td>\n",
              "      <td>Everyone</td>\n",
              "      <td>May 10, 2018</td>\n",
              "      <td>4.4 and up</td>\n",
              "      <td>1</td>\n",
              "    </tr>\n",
              "    <tr>\n",
              "      <th>23720</th>\n",
              "      <td>Bubble Shooter</td>\n",
              "      <td>GAME_PUZZLE</td>\n",
              "      <td>4.130435</td>\n",
              "      <td>23.0</td>\n",
              "      <td>0</td>\n",
              "      <td>19</td>\n",
              "      <td>0.00</td>\n",
              "      <td>Everyone</td>\n",
              "      <td>October 23, 2018</td>\n",
              "      <td>4.0 and up</td>\n",
              "      <td>1.0.0</td>\n",
              "    </tr>\n",
              "  </tbody>\n",
              "</table>\n",
              "<p>32006 rows × 11 columns</p>\n",
              "</div>\n",
              "      <button class=\"colab-df-convert\" onclick=\"convertToInteractive('df-8e8cdc74-01e4-41a3-86e7-348e6be4f04d')\"\n",
              "              title=\"Convert this dataframe to an interactive table.\"\n",
              "              style=\"display:none;\">\n",
              "        \n",
              "  <svg xmlns=\"http://www.w3.org/2000/svg\" height=\"24px\"viewBox=\"0 0 24 24\"\n",
              "       width=\"24px\">\n",
              "    <path d=\"M0 0h24v24H0V0z\" fill=\"none\"/>\n",
              "    <path d=\"M18.56 5.44l.94 2.06.94-2.06 2.06-.94-2.06-.94-.94-2.06-.94 2.06-2.06.94zm-11 1L8.5 8.5l.94-2.06 2.06-.94-2.06-.94L8.5 2.5l-.94 2.06-2.06.94zm10 10l.94 2.06.94-2.06 2.06-.94-2.06-.94-.94-2.06-.94 2.06-2.06.94z\"/><path d=\"M17.41 7.96l-1.37-1.37c-.4-.4-.92-.59-1.43-.59-.52 0-1.04.2-1.43.59L10.3 9.45l-7.72 7.72c-.78.78-.78 2.05 0 2.83L4 21.41c.39.39.9.59 1.41.59.51 0 1.02-.2 1.41-.59l7.78-7.78 2.81-2.81c.8-.78.8-2.07 0-2.86zM5.41 20L4 18.59l7.72-7.72 1.47 1.35L5.41 20z\"/>\n",
              "  </svg>\n",
              "      </button>\n",
              "      \n",
              "  <style>\n",
              "    .colab-df-container {\n",
              "      display:flex;\n",
              "      flex-wrap:wrap;\n",
              "      gap: 12px;\n",
              "    }\n",
              "\n",
              "    .colab-df-convert {\n",
              "      background-color: #E8F0FE;\n",
              "      border: none;\n",
              "      border-radius: 50%;\n",
              "      cursor: pointer;\n",
              "      display: none;\n",
              "      fill: #1967D2;\n",
              "      height: 32px;\n",
              "      padding: 0 0 0 0;\n",
              "      width: 32px;\n",
              "    }\n",
              "\n",
              "    .colab-df-convert:hover {\n",
              "      background-color: #E2EBFA;\n",
              "      box-shadow: 0px 1px 2px rgba(60, 64, 67, 0.3), 0px 1px 3px 1px rgba(60, 64, 67, 0.15);\n",
              "      fill: #174EA6;\n",
              "    }\n",
              "\n",
              "    [theme=dark] .colab-df-convert {\n",
              "      background-color: #3B4455;\n",
              "      fill: #D2E3FC;\n",
              "    }\n",
              "\n",
              "    [theme=dark] .colab-df-convert:hover {\n",
              "      background-color: #434B5C;\n",
              "      box-shadow: 0px 1px 3px 1px rgba(0, 0, 0, 0.15);\n",
              "      filter: drop-shadow(0px 1px 2px rgba(0, 0, 0, 0.3));\n",
              "      fill: #FFFFFF;\n",
              "    }\n",
              "  </style>\n",
              "\n",
              "      <script>\n",
              "        const buttonEl =\n",
              "          document.querySelector('#df-8e8cdc74-01e4-41a3-86e7-348e6be4f04d button.colab-df-convert');\n",
              "        buttonEl.style.display =\n",
              "          google.colab.kernel.accessAllowed ? 'block' : 'none';\n",
              "\n",
              "        async function convertToInteractive(key) {\n",
              "          const element = document.querySelector('#df-8e8cdc74-01e4-41a3-86e7-348e6be4f04d');\n",
              "          const dataTable =\n",
              "            await google.colab.kernel.invokeFunction('convertToInteractive',\n",
              "                                                     [key], {});\n",
              "          if (!dataTable) return;\n",
              "\n",
              "          const docLinkHtml = 'Like what you see? Visit the ' +\n",
              "            '<a target=\"_blank\" href=https://colab.research.google.com/notebooks/data_table.ipynb>data table notebook</a>'\n",
              "            + ' to learn more about interactive tables.';\n",
              "          element.innerHTML = '';\n",
              "          dataTable['output_type'] = 'display_data';\n",
              "          await google.colab.output.renderOutput(dataTable, element);\n",
              "          const docLink = document.createElement('div');\n",
              "          docLink.innerHTML = docLinkHtml;\n",
              "          element.appendChild(docLink);\n",
              "        }\n",
              "      </script>\n",
              "    </div>\n",
              "  </div>\n",
              "  "
            ]
          },
          "metadata": {},
          "execution_count": 91
        }
      ]
    },
    {
      "cell_type": "code",
      "metadata": {
        "id": "flf5pOQgcNtd",
        "colab": {
          "base_uri": "https://localhost:8080/",
          "height": 615
        },
        "outputId": "f4536488-7728-402d-8112-29fbd316c65a"
      },
      "source": [
        "#**************************************************************************\n",
        "# top 10 apps based on the number of installations and reviews together\n",
        "#**************************************************************************\n",
        "\n",
        "top_installed_and_reviewed_apps.head(10)"
      ],
      "execution_count": 92,
      "outputs": [
        {
          "output_type": "execute_result",
          "data": {
            "text/plain": [
              "                                         App Name          Category    Rating  \\\n",
              "813                                       YouTube     VIDEO_PLAYERS  4.368428   \n",
              "821                                        Google             TOOLS  4.408893   \n",
              "2177                    Maps - Navigate & Explore  TRAVEL_AND_LOCAL  4.342798   \n",
              "671                            WhatsApp Messenger     COMMUNICATION  4.417610   \n",
              "704                                      Facebook            SOCIAL  4.087946   \n",
              "653                                     Instagram            SOCIAL  4.519560   \n",
              "632      Messenger � Text and Video Chat for Free     COMMUNICATION  4.085856   \n",
              "7064  Clean Master - Antivirus, Applock & Cleaner             TOOLS  4.657038   \n",
              "539                                Subway Surfers       GAME_ARCADE  4.498131   \n",
              "1259                                Google Photos       PHOTOGRAPHY  4.542380   \n",
              "\n",
              "         Reviews    Installs                Size  Price Content Rating  \\\n",
              "813   41919102.0  5000000000  Varies with device    0.0           Teen   \n",
              "821   10870728.0  5000000000  Varies with device    0.0       Everyone   \n",
              "2177  10083666.0  5000000000  Varies with device    0.0       Everyone   \n",
              "671   86214292.0  1000000000  Varies with device    0.0       Everyone   \n",
              "704   85766433.0  1000000000  Varies with device    0.0           Teen   \n",
              "653   79726403.0  1000000000  Varies with device    0.0           Teen   \n",
              "632   65469531.0  1000000000  Varies with device    0.0       Everyone   \n",
              "7064  44171776.0  1000000000                  20    0.0       Everyone   \n",
              "539   29834812.0  1000000000                  85    0.0   Everyone 10+   \n",
              "1259  16278468.0  1000000000  Varies with device    0.0       Everyone   \n",
              "\n",
              "        Last Updated     Minimum Version      Latest Version  \n",
              "813    April 2, 2019  Varies with device  Varies with device  \n",
              "821    April 1, 2019  Varies with device  Varies with device  \n",
              "2177   April 1, 2019  Varies with device  Varies with device  \n",
              "671   March 27, 2019  Varies with device  Varies with device  \n",
              "704    April 2, 2019  Varies with device  Varies with device  \n",
              "653    April 2, 2019  Varies with device  Varies with device  \n",
              "632    April 2, 2019  Varies with device  Varies with device  \n",
              "7064   April 1, 2019  Varies with device               7.0.6  \n",
              "539    March 7, 2019          4.1 and up             1.100.0  \n",
              "1259   April 2, 2019  Varies with device  Varies with device  "
            ],
            "text/html": [
              "\n",
              "  <div id=\"df-0942c40d-faf3-4df0-ad36-308140363953\">\n",
              "    <div class=\"colab-df-container\">\n",
              "      <div>\n",
              "<style scoped>\n",
              "    .dataframe tbody tr th:only-of-type {\n",
              "        vertical-align: middle;\n",
              "    }\n",
              "\n",
              "    .dataframe tbody tr th {\n",
              "        vertical-align: top;\n",
              "    }\n",
              "\n",
              "    .dataframe thead th {\n",
              "        text-align: right;\n",
              "    }\n",
              "</style>\n",
              "<table border=\"1\" class=\"dataframe\">\n",
              "  <thead>\n",
              "    <tr style=\"text-align: right;\">\n",
              "      <th></th>\n",
              "      <th>App Name</th>\n",
              "      <th>Category</th>\n",
              "      <th>Rating</th>\n",
              "      <th>Reviews</th>\n",
              "      <th>Installs</th>\n",
              "      <th>Size</th>\n",
              "      <th>Price</th>\n",
              "      <th>Content Rating</th>\n",
              "      <th>Last Updated</th>\n",
              "      <th>Minimum Version</th>\n",
              "      <th>Latest Version</th>\n",
              "    </tr>\n",
              "  </thead>\n",
              "  <tbody>\n",
              "    <tr>\n",
              "      <th>813</th>\n",
              "      <td>YouTube</td>\n",
              "      <td>VIDEO_PLAYERS</td>\n",
              "      <td>4.368428</td>\n",
              "      <td>41919102.0</td>\n",
              "      <td>5000000000</td>\n",
              "      <td>Varies with device</td>\n",
              "      <td>0.0</td>\n",
              "      <td>Teen</td>\n",
              "      <td>April 2, 2019</td>\n",
              "      <td>Varies with device</td>\n",
              "      <td>Varies with device</td>\n",
              "    </tr>\n",
              "    <tr>\n",
              "      <th>821</th>\n",
              "      <td>Google</td>\n",
              "      <td>TOOLS</td>\n",
              "      <td>4.408893</td>\n",
              "      <td>10870728.0</td>\n",
              "      <td>5000000000</td>\n",
              "      <td>Varies with device</td>\n",
              "      <td>0.0</td>\n",
              "      <td>Everyone</td>\n",
              "      <td>April 1, 2019</td>\n",
              "      <td>Varies with device</td>\n",
              "      <td>Varies with device</td>\n",
              "    </tr>\n",
              "    <tr>\n",
              "      <th>2177</th>\n",
              "      <td>Maps - Navigate &amp; Explore</td>\n",
              "      <td>TRAVEL_AND_LOCAL</td>\n",
              "      <td>4.342798</td>\n",
              "      <td>10083666.0</td>\n",
              "      <td>5000000000</td>\n",
              "      <td>Varies with device</td>\n",
              "      <td>0.0</td>\n",
              "      <td>Everyone</td>\n",
              "      <td>April 1, 2019</td>\n",
              "      <td>Varies with device</td>\n",
              "      <td>Varies with device</td>\n",
              "    </tr>\n",
              "    <tr>\n",
              "      <th>671</th>\n",
              "      <td>WhatsApp Messenger</td>\n",
              "      <td>COMMUNICATION</td>\n",
              "      <td>4.417610</td>\n",
              "      <td>86214292.0</td>\n",
              "      <td>1000000000</td>\n",
              "      <td>Varies with device</td>\n",
              "      <td>0.0</td>\n",
              "      <td>Everyone</td>\n",
              "      <td>March 27, 2019</td>\n",
              "      <td>Varies with device</td>\n",
              "      <td>Varies with device</td>\n",
              "    </tr>\n",
              "    <tr>\n",
              "      <th>704</th>\n",
              "      <td>Facebook</td>\n",
              "      <td>SOCIAL</td>\n",
              "      <td>4.087946</td>\n",
              "      <td>85766433.0</td>\n",
              "      <td>1000000000</td>\n",
              "      <td>Varies with device</td>\n",
              "      <td>0.0</td>\n",
              "      <td>Teen</td>\n",
              "      <td>April 2, 2019</td>\n",
              "      <td>Varies with device</td>\n",
              "      <td>Varies with device</td>\n",
              "    </tr>\n",
              "    <tr>\n",
              "      <th>653</th>\n",
              "      <td>Instagram</td>\n",
              "      <td>SOCIAL</td>\n",
              "      <td>4.519560</td>\n",
              "      <td>79726403.0</td>\n",
              "      <td>1000000000</td>\n",
              "      <td>Varies with device</td>\n",
              "      <td>0.0</td>\n",
              "      <td>Teen</td>\n",
              "      <td>April 2, 2019</td>\n",
              "      <td>Varies with device</td>\n",
              "      <td>Varies with device</td>\n",
              "    </tr>\n",
              "    <tr>\n",
              "      <th>632</th>\n",
              "      <td>Messenger � Text and Video Chat for Free</td>\n",
              "      <td>COMMUNICATION</td>\n",
              "      <td>4.085856</td>\n",
              "      <td>65469531.0</td>\n",
              "      <td>1000000000</td>\n",
              "      <td>Varies with device</td>\n",
              "      <td>0.0</td>\n",
              "      <td>Everyone</td>\n",
              "      <td>April 2, 2019</td>\n",
              "      <td>Varies with device</td>\n",
              "      <td>Varies with device</td>\n",
              "    </tr>\n",
              "    <tr>\n",
              "      <th>7064</th>\n",
              "      <td>Clean Master - Antivirus, Applock &amp; Cleaner</td>\n",
              "      <td>TOOLS</td>\n",
              "      <td>4.657038</td>\n",
              "      <td>44171776.0</td>\n",
              "      <td>1000000000</td>\n",
              "      <td>20</td>\n",
              "      <td>0.0</td>\n",
              "      <td>Everyone</td>\n",
              "      <td>April 1, 2019</td>\n",
              "      <td>Varies with device</td>\n",
              "      <td>7.0.6</td>\n",
              "    </tr>\n",
              "    <tr>\n",
              "      <th>539</th>\n",
              "      <td>Subway Surfers</td>\n",
              "      <td>GAME_ARCADE</td>\n",
              "      <td>4.498131</td>\n",
              "      <td>29834812.0</td>\n",
              "      <td>1000000000</td>\n",
              "      <td>85</td>\n",
              "      <td>0.0</td>\n",
              "      <td>Everyone 10+</td>\n",
              "      <td>March 7, 2019</td>\n",
              "      <td>4.1 and up</td>\n",
              "      <td>1.100.0</td>\n",
              "    </tr>\n",
              "    <tr>\n",
              "      <th>1259</th>\n",
              "      <td>Google Photos</td>\n",
              "      <td>PHOTOGRAPHY</td>\n",
              "      <td>4.542380</td>\n",
              "      <td>16278468.0</td>\n",
              "      <td>1000000000</td>\n",
              "      <td>Varies with device</td>\n",
              "      <td>0.0</td>\n",
              "      <td>Everyone</td>\n",
              "      <td>April 2, 2019</td>\n",
              "      <td>Varies with device</td>\n",
              "      <td>Varies with device</td>\n",
              "    </tr>\n",
              "  </tbody>\n",
              "</table>\n",
              "</div>\n",
              "      <button class=\"colab-df-convert\" onclick=\"convertToInteractive('df-0942c40d-faf3-4df0-ad36-308140363953')\"\n",
              "              title=\"Convert this dataframe to an interactive table.\"\n",
              "              style=\"display:none;\">\n",
              "        \n",
              "  <svg xmlns=\"http://www.w3.org/2000/svg\" height=\"24px\"viewBox=\"0 0 24 24\"\n",
              "       width=\"24px\">\n",
              "    <path d=\"M0 0h24v24H0V0z\" fill=\"none\"/>\n",
              "    <path d=\"M18.56 5.44l.94 2.06.94-2.06 2.06-.94-2.06-.94-.94-2.06-.94 2.06-2.06.94zm-11 1L8.5 8.5l.94-2.06 2.06-.94-2.06-.94L8.5 2.5l-.94 2.06-2.06.94zm10 10l.94 2.06.94-2.06 2.06-.94-2.06-.94-.94-2.06-.94 2.06-2.06.94z\"/><path d=\"M17.41 7.96l-1.37-1.37c-.4-.4-.92-.59-1.43-.59-.52 0-1.04.2-1.43.59L10.3 9.45l-7.72 7.72c-.78.78-.78 2.05 0 2.83L4 21.41c.39.39.9.59 1.41.59.51 0 1.02-.2 1.41-.59l7.78-7.78 2.81-2.81c.8-.78.8-2.07 0-2.86zM5.41 20L4 18.59l7.72-7.72 1.47 1.35L5.41 20z\"/>\n",
              "  </svg>\n",
              "      </button>\n",
              "      \n",
              "  <style>\n",
              "    .colab-df-container {\n",
              "      display:flex;\n",
              "      flex-wrap:wrap;\n",
              "      gap: 12px;\n",
              "    }\n",
              "\n",
              "    .colab-df-convert {\n",
              "      background-color: #E8F0FE;\n",
              "      border: none;\n",
              "      border-radius: 50%;\n",
              "      cursor: pointer;\n",
              "      display: none;\n",
              "      fill: #1967D2;\n",
              "      height: 32px;\n",
              "      padding: 0 0 0 0;\n",
              "      width: 32px;\n",
              "    }\n",
              "\n",
              "    .colab-df-convert:hover {\n",
              "      background-color: #E2EBFA;\n",
              "      box-shadow: 0px 1px 2px rgba(60, 64, 67, 0.3), 0px 1px 3px 1px rgba(60, 64, 67, 0.15);\n",
              "      fill: #174EA6;\n",
              "    }\n",
              "\n",
              "    [theme=dark] .colab-df-convert {\n",
              "      background-color: #3B4455;\n",
              "      fill: #D2E3FC;\n",
              "    }\n",
              "\n",
              "    [theme=dark] .colab-df-convert:hover {\n",
              "      background-color: #434B5C;\n",
              "      box-shadow: 0px 1px 3px 1px rgba(0, 0, 0, 0.15);\n",
              "      filter: drop-shadow(0px 1px 2px rgba(0, 0, 0, 0.3));\n",
              "      fill: #FFFFFF;\n",
              "    }\n",
              "  </style>\n",
              "\n",
              "      <script>\n",
              "        const buttonEl =\n",
              "          document.querySelector('#df-0942c40d-faf3-4df0-ad36-308140363953 button.colab-df-convert');\n",
              "        buttonEl.style.display =\n",
              "          google.colab.kernel.accessAllowed ? 'block' : 'none';\n",
              "\n",
              "        async function convertToInteractive(key) {\n",
              "          const element = document.querySelector('#df-0942c40d-faf3-4df0-ad36-308140363953');\n",
              "          const dataTable =\n",
              "            await google.colab.kernel.invokeFunction('convertToInteractive',\n",
              "                                                     [key], {});\n",
              "          if (!dataTable) return;\n",
              "\n",
              "          const docLinkHtml = 'Like what you see? Visit the ' +\n",
              "            '<a target=\"_blank\" href=https://colab.research.google.com/notebooks/data_table.ipynb>data table notebook</a>'\n",
              "            + ' to learn more about interactive tables.';\n",
              "          element.innerHTML = '';\n",
              "          dataTable['output_type'] = 'display_data';\n",
              "          await google.colab.output.renderOutput(dataTable, element);\n",
              "          const docLink = document.createElement('div');\n",
              "          docLink.innerHTML = docLinkHtml;\n",
              "          element.appendChild(docLink);\n",
              "        }\n",
              "      </script>\n",
              "    </div>\n",
              "  </div>\n",
              "  "
            ]
          },
          "metadata": {},
          "execution_count": 92
        }
      ]
    },
    {
      "cell_type": "code",
      "metadata": {
        "id": "zVCmJ-3bcNtf"
      },
      "source": [
        "top_10_installed_and_rated_apps= top_installed_and_rated_apps.head(10)"
      ],
      "execution_count": 93,
      "outputs": []
    },
    {
      "cell_type": "code",
      "metadata": {
        "id": "PI3hNCqFcNth",
        "colab": {
          "base_uri": "https://localhost:8080/"
        },
        "outputId": "712d459b-478e-44e5-a71d-cbfb96ad5133"
      },
      "source": [
        "top_10_installed_and_rated_apps.Category.sort_values(ascending=False)"
      ],
      "execution_count": 94,
      "outputs": [
        {
          "output_type": "execute_result",
          "data": {
            "text/plain": [
              "813        VIDEO_PLAYERS\n",
              "2177    TRAVEL_AND_LOCAL\n",
              "821                TOOLS\n",
              "7064               TOOLS\n",
              "3269               TOOLS\n",
              "653               SOCIAL\n",
              "1259         PHOTOGRAPHY\n",
              "539          GAME_ARCADE\n",
              "6411       COMMUNICATION\n",
              "3267       COMMUNICATION\n",
              "Name: Category, dtype: object"
            ]
          },
          "metadata": {},
          "execution_count": 94
        }
      ]
    },
    {
      "cell_type": "code",
      "metadata": {
        "id": "t145Tr7wcNtj",
        "colab": {
          "base_uri": "https://localhost:8080/"
        },
        "outputId": "63f06d1a-a227-4bab-e034-e7e78468a3b0"
      },
      "source": [
        "# There are totally 244,396 apps\n",
        "app[\"App Name\"].nunique()"
      ],
      "execution_count": 95,
      "outputs": [
        {
          "output_type": "execute_result",
          "data": {
            "text/plain": [
              "30842"
            ]
          },
          "metadata": {},
          "execution_count": 95
        }
      ]
    },
    {
      "cell_type": "code",
      "metadata": {
        "id": "NiboSUbjcNtl",
        "colab": {
          "base_uri": "https://localhost:8080/"
        },
        "outputId": "d0da86b2-469f-48d9-842f-3d060a826304"
      },
      "source": [
        "# here i will see the number of apps which belong to the categories of the most installed and rated apps\n",
        "\n",
        "\n",
        "count_VIDEO_PLAYERS=0\n",
        "count_TRAVEL_AND_LOCAL=0\n",
        "count_TOOLS=0\n",
        "count_SOCIAL=0\n",
        "count_PHOTOGRAPHY=0\n",
        "count_GAME_ARCADE=0\n",
        "count_COMMUNICATION=0\n",
        "\n",
        "for x in app[\"Category\"]:\n",
        "    if x== \"VIDEO_PLAYERS\":\n",
        "        count_VIDEO_PLAYERS=count_VIDEO_PLAYERS+1\n",
        "    elif x== \"TRAVEL_AND_LOCAL\":\n",
        "        count_TRAVEL_AND_LOCAL= count_TRAVEL_AND_LOCAL+1\n",
        "    elif x== \"TOOLS\":\n",
        "        count_TOOLS= count_TOOLS+1\n",
        "    elif x== \"SOCIAL\":\n",
        "        count_SOCIAL= count_SOCIAL+1\n",
        "    elif x== \"PHOTOGRAPHY\":\n",
        "        count_PHOTOGRAPHY= count_PHOTOGRAPHY+1\n",
        "    elif x== \"GAME_ARCADE\":\n",
        "        count_GAME_ARCADE= count_GAME_ARCADE+1\n",
        "    elif x== \"COMMUNICATION\":\n",
        "        count_COMMUNICATION= count_COMMUNICATION+1\n",
        "print (\"*****************************************************************************************************\")\n",
        "print (\"*****************************************************************************************************\")\n",
        "print (\"Number of apps that belong in category: \\\"Video Players\\\" is: {}\".format(count_VIDEO_PLAYERS))\n",
        "print (\"*****************************************************************************************************\")\n",
        "print (\"Number of apps that belong in category: \\\"Travel and Local\\\" is: {}\".format(count_TRAVEL_AND_LOCAL))\n",
        "print (\"*****************************************************************************************************\")\n",
        "print (\"Number of apps that belong in category: \\\"Tools\\\" is: {}\".format(count_TOOLS))\n",
        "print (\"*****************************************************************************************************\")\n",
        "print (\"Number of apps that belong in category: \\\"Social\\\" is: {}\".format(count_SOCIAL))\n",
        "print (\"*****************************************************************************************************\")\n",
        "print (\"Number of apps that belong in category: \\\"Photography\\\" is: {}\".format(count_PHOTOGRAPHY))\n",
        "print (\"*****************************************************************************************************\")\n",
        "print (\"Number of apps that belong in category: \\\"Game Arcade\\\" is: {}\".format(count_GAME_ARCADE))\n",
        "print (\"*****************************************************************************************************\")\n",
        "print (\"Number of apps that belong in category: \\\"Communication\\\" is: {}\".format(count_COMMUNICATION))\n",
        "print (\"*****************************************************************************************************\")\n",
        "print (\"*****************************************************************************************************\")\n"
      ],
      "execution_count": 96,
      "outputs": [
        {
          "output_type": "stream",
          "name": "stdout",
          "text": [
            "*****************************************************************************************************\n",
            "*****************************************************************************************************\n",
            "Number of apps that belong in category: \"Video Players\" is: 330\n",
            "*****************************************************************************************************\n",
            "Number of apps that belong in category: \"Travel and Local\" is: 723\n",
            "*****************************************************************************************************\n",
            "Number of apps that belong in category: \"Tools\" is: 2399\n",
            "*****************************************************************************************************\n",
            "Number of apps that belong in category: \"Social\" is: 432\n",
            "*****************************************************************************************************\n",
            "Number of apps that belong in category: \"Photography\" is: 663\n",
            "*****************************************************************************************************\n",
            "Number of apps that belong in category: \"Game Arcade\" is: 671\n",
            "*****************************************************************************************************\n",
            "Number of apps that belong in category: \"Communication\" is: 637\n",
            "*****************************************************************************************************\n",
            "*****************************************************************************************************\n"
          ]
        }
      ]
    },
    {
      "cell_type": "code",
      "metadata": {
        "id": "VC7oIYW-cNtn",
        "colab": {
          "base_uri": "https://localhost:8080/"
        },
        "outputId": "a905193c-6877-4e10-bb67-05447ceee00c"
      },
      "source": [
        "top_10_installed_and_rated_apps[\"Content Rating\"].sort_values(ascending=False)"
      ],
      "execution_count": 97,
      "outputs": [
        {
          "output_type": "execute_result",
          "data": {
            "text/plain": [
              "813             Teen\n",
              "653             Teen\n",
              "539     Everyone 10+\n",
              "821         Everyone\n",
              "2177        Everyone\n",
              "7064        Everyone\n",
              "6411        Everyone\n",
              "3269        Everyone\n",
              "1259        Everyone\n",
              "3267        Everyone\n",
              "Name: Content Rating, dtype: object"
            ]
          },
          "metadata": {},
          "execution_count": 97
        }
      ]
    },
    {
      "cell_type": "code",
      "metadata": {
        "id": "3Bp4Bzb8cNto",
        "colab": {
          "base_uri": "https://localhost:8080/"
        },
        "outputId": "8bf6e68e-5daf-4cc8-8417-49c9cd268cac"
      },
      "source": [
        "app[\"Content Rating\"].nunique()"
      ],
      "execution_count": 98,
      "outputs": [
        {
          "output_type": "execute_result",
          "data": {
            "text/plain": [
              "6"
            ]
          },
          "metadata": {},
          "execution_count": 98
        }
      ]
    },
    {
      "cell_type": "code",
      "metadata": {
        "id": "YKH1MJ6rcNtq",
        "colab": {
          "base_uri": "https://localhost:8080/"
        },
        "outputId": "7ff7c686-c010-48a9-9dc9-3555f38193fc"
      },
      "source": [
        "# There are totally 6 categories of content rating\n",
        "\n",
        "# In the top 10 installed and rated apps, there are 3 different content ratings\n",
        "\n",
        "# I will now see their performance in the whole dataset, along with the other 3 remaining content ratings in the whole dataset\n",
        "\n",
        "count_Teen=0\n",
        "count_Everyone_10 = 0\n",
        "count_Everyone=0\n",
        "\n",
        "count_Mature_17=0\n",
        "count_Adults_only=0\n",
        "count_Unrated=0\n",
        "\n",
        "\n",
        "for x in app[\"Content Rating\"]:\n",
        "    if x== \"Teen\":\n",
        "        count_Teen= count_Teen+1\n",
        "    elif x== \"Everyone 10+\":\n",
        "        count_Everyone_10= count_Everyone_10+1\n",
        "    elif x== \"Everyone\":\n",
        "        count_Everyone= count_Everyone+1\n",
        "    elif x== \"Mature 17+\":\n",
        "        count_Mature_17 = count_Mature_17+1\n",
        "    elif x== \"Adults only 18+\":\n",
        "        count_Adults_only= count_Adults_only+1\n",
        "    elif x== \"Unrated\":\n",
        "        count_Unrated= count_Unrated+1\n",
        "print (\"*****************************************************************************************************\")\n",
        "print (\"Number of apps of all the dataset, having the content rating which belong the top apps:\")\n",
        "print (\"*\")\n",
        "print (\"*\")\n",
        "print (\"Number of apps that belong to the content rating \\\"Teen\\\" is: {}\".format(count_Teen))\n",
        "print (\"*****************************************************************************************************\")\n",
        "print (\"Number of apps that belong to the content rating \\\"Everyone 10+\\\" is: {}\".format(count_Everyone_10))\n",
        "print (\"*****************************************************************************************************\")\n",
        "print (\"Number of apps that belong to the content rating \\\"Everyone\\\" is: {}\".format(count_Everyone))\n",
        "print (\"*****************************************************************************************************\")\n",
        "print (\"*****************************************************************************************************\")\n",
        "print (\"#####################################################################################################\")\n",
        "print (\"Number of apps having content rating not included in the top apps\")\n",
        "print (\"*\")\n",
        "print (\"*\")\n",
        "print (\"Number of apps that belong to the content rating \\\"Mature 17+\\\" is: {}\".format(count_Mature_17))\n",
        "print (\"Number of apps that belong to the content rating \\\"Adults only 18+\\\" is: {}\".format(count_Adults_only))\n",
        "print (\"Number of apps that belong to the content rating \\\"Unrated\\\" is: {}\".format(count_Unrated))\n",
        "\n"
      ],
      "execution_count": 99,
      "outputs": [
        {
          "output_type": "stream",
          "name": "stdout",
          "text": [
            "*****************************************************************************************************\n",
            "Number of apps of all the dataset, having the content rating which belong the top apps:\n",
            "*\n",
            "*\n",
            "Number of apps that belong to the content rating \"Teen\" is: 2862\n",
            "*****************************************************************************************************\n",
            "Number of apps that belong to the content rating \"Everyone 10+\" is: 1054\n",
            "*****************************************************************************************************\n",
            "Number of apps that belong to the content rating \"Everyone\" is: 27462\n",
            "*****************************************************************************************************\n",
            "*****************************************************************************************************\n",
            "#####################################################################################################\n",
            "Number of apps having content rating not included in the top apps\n",
            "*\n",
            "*\n",
            "Number of apps that belong to the content rating \"Mature 17+\" is: 622\n",
            "Number of apps that belong to the content rating \"Adults only 18+\" is: 3\n",
            "Number of apps that belong to the content rating \"Unrated\" is: 3\n"
          ]
        }
      ]
    },
    {
      "cell_type": "code",
      "metadata": {
        "id": "nYjZLFVEcNts",
        "colab": {
          "base_uri": "https://localhost:8080/"
        },
        "outputId": "f92f5b12-ea42-4d17-a3c7-66ffdcab8616"
      },
      "source": [
        "# The aforementioned can be found more easily with the below command\n",
        "\n",
        "app[\"Content Rating\"].value_counts(ascending=False)"
      ],
      "execution_count": 100,
      "outputs": [
        {
          "output_type": "execute_result",
          "data": {
            "text/plain": [
              "Everyone           27462\n",
              "Teen                2862\n",
              "Everyone 10+        1054\n",
              "Mature 17+           622\n",
              "Adults only 18+        3\n",
              "Unrated                3\n",
              "Name: Content Rating, dtype: int64"
            ]
          },
          "metadata": {},
          "execution_count": 100
        }
      ]
    },
    {
      "cell_type": "code",
      "metadata": {
        "id": "OuSn3rvUcNtw",
        "colab": {
          "base_uri": "https://localhost:8080/",
          "height": 771
        },
        "outputId": "8f2eb276-51a4-47f8-efdb-04319e9e34ee"
      },
      "source": [
        "# In this and in the next 2 commands, i will try to see if there is any correlation between installations, Rating and Reviews\n",
        "\n",
        "top_10_installed_and_rated_apps"
      ],
      "execution_count": 101,
      "outputs": [
        {
          "output_type": "execute_result",
          "data": {
            "text/plain": [
              "                                         App Name          Category    Rating  \\\n",
              "821                                        Google             TOOLS  4.408893   \n",
              "813                                       YouTube     VIDEO_PLAYERS  4.368428   \n",
              "2177                    Maps - Navigate & Explore  TRAVEL_AND_LOCAL  4.342798   \n",
              "7064  Clean Master - Antivirus, Applock & Cleaner             TOOLS  4.657038   \n",
              "6411        Google Duo - High Quality Video Calls     COMMUNICATION  4.596404   \n",
              "3269                   SHAREit - Transfer & Share             TOOLS  4.579340   \n",
              "1259                                Google Photos       PHOTOGRAPHY  4.542380   \n",
              "653                                     Instagram            SOCIAL  4.519560   \n",
              "539                                Subway Surfers       GAME_ARCADE  4.498131   \n",
              "3267                     Samsung Internet Browser     COMMUNICATION  4.424015   \n",
              "\n",
              "         Reviews    Installs                Size  Price Content Rating  \\\n",
              "821   10870728.0  5000000000  Varies with device    0.0       Everyone   \n",
              "813   41919102.0  5000000000  Varies with device    0.0           Teen   \n",
              "2177  10083666.0  5000000000  Varies with device    0.0       Everyone   \n",
              "7064  44171776.0  1000000000                  20    0.0       Everyone   \n",
              "6411   3641252.0  1000000000                  20    0.0       Everyone   \n",
              "3269  10450444.0  1000000000                  20    0.0       Everyone   \n",
              "1259  16278468.0  1000000000  Varies with device    0.0       Everyone   \n",
              "653   79726403.0  1000000000  Varies with device    0.0           Teen   \n",
              "539   29834812.0  1000000000                  85    0.0   Everyone 10+   \n",
              "3267    832714.0  1000000000  Varies with device    0.0       Everyone   \n",
              "\n",
              "           Last Updated     Minimum Version            Latest Version  \n",
              "821       April 1, 2019  Varies with device        Varies with device  \n",
              "813       April 2, 2019  Varies with device        Varies with device  \n",
              "2177      April 1, 2019  Varies with device        Varies with device  \n",
              "7064      April 1, 2019  Varies with device                     7.0.6  \n",
              "6411      April 2, 2019          4.4 and up  50.1.240885383.DR50_RC06  \n",
              "3269      April 1, 2019          4.1 and up                 4.7.38_ww  \n",
              "1259      April 2, 2019  Varies with device        Varies with device  \n",
              "653       April 2, 2019  Varies with device        Varies with device  \n",
              "539       March 7, 2019          4.1 and up                   1.100.0  \n",
              "3267  February 21, 2019          5.0 and up        Varies with device  "
            ],
            "text/html": [
              "\n",
              "  <div id=\"df-c8d0282a-1276-4640-8560-de5317041c5d\">\n",
              "    <div class=\"colab-df-container\">\n",
              "      <div>\n",
              "<style scoped>\n",
              "    .dataframe tbody tr th:only-of-type {\n",
              "        vertical-align: middle;\n",
              "    }\n",
              "\n",
              "    .dataframe tbody tr th {\n",
              "        vertical-align: top;\n",
              "    }\n",
              "\n",
              "    .dataframe thead th {\n",
              "        text-align: right;\n",
              "    }\n",
              "</style>\n",
              "<table border=\"1\" class=\"dataframe\">\n",
              "  <thead>\n",
              "    <tr style=\"text-align: right;\">\n",
              "      <th></th>\n",
              "      <th>App Name</th>\n",
              "      <th>Category</th>\n",
              "      <th>Rating</th>\n",
              "      <th>Reviews</th>\n",
              "      <th>Installs</th>\n",
              "      <th>Size</th>\n",
              "      <th>Price</th>\n",
              "      <th>Content Rating</th>\n",
              "      <th>Last Updated</th>\n",
              "      <th>Minimum Version</th>\n",
              "      <th>Latest Version</th>\n",
              "    </tr>\n",
              "  </thead>\n",
              "  <tbody>\n",
              "    <tr>\n",
              "      <th>821</th>\n",
              "      <td>Google</td>\n",
              "      <td>TOOLS</td>\n",
              "      <td>4.408893</td>\n",
              "      <td>10870728.0</td>\n",
              "      <td>5000000000</td>\n",
              "      <td>Varies with device</td>\n",
              "      <td>0.0</td>\n",
              "      <td>Everyone</td>\n",
              "      <td>April 1, 2019</td>\n",
              "      <td>Varies with device</td>\n",
              "      <td>Varies with device</td>\n",
              "    </tr>\n",
              "    <tr>\n",
              "      <th>813</th>\n",
              "      <td>YouTube</td>\n",
              "      <td>VIDEO_PLAYERS</td>\n",
              "      <td>4.368428</td>\n",
              "      <td>41919102.0</td>\n",
              "      <td>5000000000</td>\n",
              "      <td>Varies with device</td>\n",
              "      <td>0.0</td>\n",
              "      <td>Teen</td>\n",
              "      <td>April 2, 2019</td>\n",
              "      <td>Varies with device</td>\n",
              "      <td>Varies with device</td>\n",
              "    </tr>\n",
              "    <tr>\n",
              "      <th>2177</th>\n",
              "      <td>Maps - Navigate &amp; Explore</td>\n",
              "      <td>TRAVEL_AND_LOCAL</td>\n",
              "      <td>4.342798</td>\n",
              "      <td>10083666.0</td>\n",
              "      <td>5000000000</td>\n",
              "      <td>Varies with device</td>\n",
              "      <td>0.0</td>\n",
              "      <td>Everyone</td>\n",
              "      <td>April 1, 2019</td>\n",
              "      <td>Varies with device</td>\n",
              "      <td>Varies with device</td>\n",
              "    </tr>\n",
              "    <tr>\n",
              "      <th>7064</th>\n",
              "      <td>Clean Master - Antivirus, Applock &amp; Cleaner</td>\n",
              "      <td>TOOLS</td>\n",
              "      <td>4.657038</td>\n",
              "      <td>44171776.0</td>\n",
              "      <td>1000000000</td>\n",
              "      <td>20</td>\n",
              "      <td>0.0</td>\n",
              "      <td>Everyone</td>\n",
              "      <td>April 1, 2019</td>\n",
              "      <td>Varies with device</td>\n",
              "      <td>7.0.6</td>\n",
              "    </tr>\n",
              "    <tr>\n",
              "      <th>6411</th>\n",
              "      <td>Google Duo - High Quality Video Calls</td>\n",
              "      <td>COMMUNICATION</td>\n",
              "      <td>4.596404</td>\n",
              "      <td>3641252.0</td>\n",
              "      <td>1000000000</td>\n",
              "      <td>20</td>\n",
              "      <td>0.0</td>\n",
              "      <td>Everyone</td>\n",
              "      <td>April 2, 2019</td>\n",
              "      <td>4.4 and up</td>\n",
              "      <td>50.1.240885383.DR50_RC06</td>\n",
              "    </tr>\n",
              "    <tr>\n",
              "      <th>3269</th>\n",
              "      <td>SHAREit - Transfer &amp; Share</td>\n",
              "      <td>TOOLS</td>\n",
              "      <td>4.579340</td>\n",
              "      <td>10450444.0</td>\n",
              "      <td>1000000000</td>\n",
              "      <td>20</td>\n",
              "      <td>0.0</td>\n",
              "      <td>Everyone</td>\n",
              "      <td>April 1, 2019</td>\n",
              "      <td>4.1 and up</td>\n",
              "      <td>4.7.38_ww</td>\n",
              "    </tr>\n",
              "    <tr>\n",
              "      <th>1259</th>\n",
              "      <td>Google Photos</td>\n",
              "      <td>PHOTOGRAPHY</td>\n",
              "      <td>4.542380</td>\n",
              "      <td>16278468.0</td>\n",
              "      <td>1000000000</td>\n",
              "      <td>Varies with device</td>\n",
              "      <td>0.0</td>\n",
              "      <td>Everyone</td>\n",
              "      <td>April 2, 2019</td>\n",
              "      <td>Varies with device</td>\n",
              "      <td>Varies with device</td>\n",
              "    </tr>\n",
              "    <tr>\n",
              "      <th>653</th>\n",
              "      <td>Instagram</td>\n",
              "      <td>SOCIAL</td>\n",
              "      <td>4.519560</td>\n",
              "      <td>79726403.0</td>\n",
              "      <td>1000000000</td>\n",
              "      <td>Varies with device</td>\n",
              "      <td>0.0</td>\n",
              "      <td>Teen</td>\n",
              "      <td>April 2, 2019</td>\n",
              "      <td>Varies with device</td>\n",
              "      <td>Varies with device</td>\n",
              "    </tr>\n",
              "    <tr>\n",
              "      <th>539</th>\n",
              "      <td>Subway Surfers</td>\n",
              "      <td>GAME_ARCADE</td>\n",
              "      <td>4.498131</td>\n",
              "      <td>29834812.0</td>\n",
              "      <td>1000000000</td>\n",
              "      <td>85</td>\n",
              "      <td>0.0</td>\n",
              "      <td>Everyone 10+</td>\n",
              "      <td>March 7, 2019</td>\n",
              "      <td>4.1 and up</td>\n",
              "      <td>1.100.0</td>\n",
              "    </tr>\n",
              "    <tr>\n",
              "      <th>3267</th>\n",
              "      <td>Samsung Internet Browser</td>\n",
              "      <td>COMMUNICATION</td>\n",
              "      <td>4.424015</td>\n",
              "      <td>832714.0</td>\n",
              "      <td>1000000000</td>\n",
              "      <td>Varies with device</td>\n",
              "      <td>0.0</td>\n",
              "      <td>Everyone</td>\n",
              "      <td>February 21, 2019</td>\n",
              "      <td>5.0 and up</td>\n",
              "      <td>Varies with device</td>\n",
              "    </tr>\n",
              "  </tbody>\n",
              "</table>\n",
              "</div>\n",
              "      <button class=\"colab-df-convert\" onclick=\"convertToInteractive('df-c8d0282a-1276-4640-8560-de5317041c5d')\"\n",
              "              title=\"Convert this dataframe to an interactive table.\"\n",
              "              style=\"display:none;\">\n",
              "        \n",
              "  <svg xmlns=\"http://www.w3.org/2000/svg\" height=\"24px\"viewBox=\"0 0 24 24\"\n",
              "       width=\"24px\">\n",
              "    <path d=\"M0 0h24v24H0V0z\" fill=\"none\"/>\n",
              "    <path d=\"M18.56 5.44l.94 2.06.94-2.06 2.06-.94-2.06-.94-.94-2.06-.94 2.06-2.06.94zm-11 1L8.5 8.5l.94-2.06 2.06-.94-2.06-.94L8.5 2.5l-.94 2.06-2.06.94zm10 10l.94 2.06.94-2.06 2.06-.94-2.06-.94-.94-2.06-.94 2.06-2.06.94z\"/><path d=\"M17.41 7.96l-1.37-1.37c-.4-.4-.92-.59-1.43-.59-.52 0-1.04.2-1.43.59L10.3 9.45l-7.72 7.72c-.78.78-.78 2.05 0 2.83L4 21.41c.39.39.9.59 1.41.59.51 0 1.02-.2 1.41-.59l7.78-7.78 2.81-2.81c.8-.78.8-2.07 0-2.86zM5.41 20L4 18.59l7.72-7.72 1.47 1.35L5.41 20z\"/>\n",
              "  </svg>\n",
              "      </button>\n",
              "      \n",
              "  <style>\n",
              "    .colab-df-container {\n",
              "      display:flex;\n",
              "      flex-wrap:wrap;\n",
              "      gap: 12px;\n",
              "    }\n",
              "\n",
              "    .colab-df-convert {\n",
              "      background-color: #E8F0FE;\n",
              "      border: none;\n",
              "      border-radius: 50%;\n",
              "      cursor: pointer;\n",
              "      display: none;\n",
              "      fill: #1967D2;\n",
              "      height: 32px;\n",
              "      padding: 0 0 0 0;\n",
              "      width: 32px;\n",
              "    }\n",
              "\n",
              "    .colab-df-convert:hover {\n",
              "      background-color: #E2EBFA;\n",
              "      box-shadow: 0px 1px 2px rgba(60, 64, 67, 0.3), 0px 1px 3px 1px rgba(60, 64, 67, 0.15);\n",
              "      fill: #174EA6;\n",
              "    }\n",
              "\n",
              "    [theme=dark] .colab-df-convert {\n",
              "      background-color: #3B4455;\n",
              "      fill: #D2E3FC;\n",
              "    }\n",
              "\n",
              "    [theme=dark] .colab-df-convert:hover {\n",
              "      background-color: #434B5C;\n",
              "      box-shadow: 0px 1px 3px 1px rgba(0, 0, 0, 0.15);\n",
              "      filter: drop-shadow(0px 1px 2px rgba(0, 0, 0, 0.3));\n",
              "      fill: #FFFFFF;\n",
              "    }\n",
              "  </style>\n",
              "\n",
              "      <script>\n",
              "        const buttonEl =\n",
              "          document.querySelector('#df-c8d0282a-1276-4640-8560-de5317041c5d button.colab-df-convert');\n",
              "        buttonEl.style.display =\n",
              "          google.colab.kernel.accessAllowed ? 'block' : 'none';\n",
              "\n",
              "        async function convertToInteractive(key) {\n",
              "          const element = document.querySelector('#df-c8d0282a-1276-4640-8560-de5317041c5d');\n",
              "          const dataTable =\n",
              "            await google.colab.kernel.invokeFunction('convertToInteractive',\n",
              "                                                     [key], {});\n",
              "          if (!dataTable) return;\n",
              "\n",
              "          const docLinkHtml = 'Like what you see? Visit the ' +\n",
              "            '<a target=\"_blank\" href=https://colab.research.google.com/notebooks/data_table.ipynb>data table notebook</a>'\n",
              "            + ' to learn more about interactive tables.';\n",
              "          element.innerHTML = '';\n",
              "          dataTable['output_type'] = 'display_data';\n",
              "          await google.colab.output.renderOutput(dataTable, element);\n",
              "          const docLink = document.createElement('div');\n",
              "          docLink.innerHTML = docLinkHtml;\n",
              "          element.appendChild(docLink);\n",
              "        }\n",
              "      </script>\n",
              "    </div>\n",
              "  </div>\n",
              "  "
            ]
          },
          "metadata": {},
          "execution_count": 101
        }
      ]
    },
    {
      "cell_type": "code",
      "metadata": {
        "id": "Tx1JvwobcNty",
        "colab": {
          "base_uri": "https://localhost:8080/",
          "height": 546
        },
        "outputId": "97ae4ae2-85a9-40f9-9fb0-2b4e3ae7487c"
      },
      "source": [
        "#****************************************************************************************************************\n",
        "# It seems that none of the best rated apps belong to the top installed (filtered by rating too) apps\n",
        "#****************************************************************************************************************\n",
        "app.sort_values(by=\"Rating\", ascending= False).head(10)"
      ],
      "execution_count": 102,
      "outputs": [
        {
          "output_type": "execute_result",
          "data": {
            "text/plain": [
              "                              App Name             Category  Rating  Reviews  \\\n",
              "19171  Thyroid Nodule and Cancer Guide   HEALTH_AND_FITNESS     5.0      9.0   \n",
              "23853                        ??????App            EDUCATION     5.0      1.0   \n",
              "23748         I Love You HD Wallpapers      PERSONALIZATION     5.0      1.0   \n",
              "10180                            NAPCO         PRODUCTIVITY     5.0      7.0   \n",
              "23790                       NEWMOOD.lt             SHOPPING     5.0      1.0   \n",
              "23793                 Jazz Tour Madrid        ENTERTAINMENT     5.0      8.0   \n",
              "10163        Il Coniugatore (sans pub)  BOOKS_AND_REFERENCE     5.0      1.0   \n",
              "23835                    Amrut Organic             BUSINESS     5.0      3.0   \n",
              "23838   E-commerce App - iTanic (Demo)             BUSINESS     5.0      3.0   \n",
              "10071              Postmates Order App             BUSINESS     5.0      1.0   \n",
              "\n",
              "       Installs Size  Price Content Rating        Last Updated  \\\n",
              "19171       100   19   0.00       Everyone   February 18, 2019   \n",
              "23853       100   16   0.00       Everyone    October 26, 2018   \n",
              "23748       100  4.2   0.00       Everyone   November 19, 2018   \n",
              "10180      1000   11   0.00       Everyone      March 20, 2018   \n",
              "23790       500   12   0.00       Everyone    January 16, 2019   \n",
              "23793      1000  1.9   0.00       Everyone      March 30, 2013   \n",
              "10163        10  2.0   0.99       Everyone    February 9, 2019   \n",
              "23835        50  3.8   0.00       Everyone  September 19, 2018   \n",
              "23838        50  3.8   0.00       Everyone       July 11, 2018   \n",
              "10071        10   10   0.00       Everyone      March 29, 2019   \n",
              "\n",
              "      Minimum Version Latest Version  \n",
              "19171      5.0 and up           1.05  \n",
              "23853      4.1 and up          1.0.1  \n",
              "23748      4.0 and up              1  \n",
              "10180      4.1 and up          1.0.1  \n",
              "23790      5.0 and up            1.1  \n",
              "23793      2.2 and up            1.3  \n",
              "10163      4.0 and up           1.12  \n",
              "23835      4.4 and up            1.4  \n",
              "23838      4.4 and up          1.0.3  \n",
              "10071      6.0 and up          3.8.8  "
            ],
            "text/html": [
              "\n",
              "  <div id=\"df-70592a5b-ea52-4328-bb22-b069a7e7b9ac\">\n",
              "    <div class=\"colab-df-container\">\n",
              "      <div>\n",
              "<style scoped>\n",
              "    .dataframe tbody tr th:only-of-type {\n",
              "        vertical-align: middle;\n",
              "    }\n",
              "\n",
              "    .dataframe tbody tr th {\n",
              "        vertical-align: top;\n",
              "    }\n",
              "\n",
              "    .dataframe thead th {\n",
              "        text-align: right;\n",
              "    }\n",
              "</style>\n",
              "<table border=\"1\" class=\"dataframe\">\n",
              "  <thead>\n",
              "    <tr style=\"text-align: right;\">\n",
              "      <th></th>\n",
              "      <th>App Name</th>\n",
              "      <th>Category</th>\n",
              "      <th>Rating</th>\n",
              "      <th>Reviews</th>\n",
              "      <th>Installs</th>\n",
              "      <th>Size</th>\n",
              "      <th>Price</th>\n",
              "      <th>Content Rating</th>\n",
              "      <th>Last Updated</th>\n",
              "      <th>Minimum Version</th>\n",
              "      <th>Latest Version</th>\n",
              "    </tr>\n",
              "  </thead>\n",
              "  <tbody>\n",
              "    <tr>\n",
              "      <th>19171</th>\n",
              "      <td>Thyroid Nodule and Cancer Guide</td>\n",
              "      <td>HEALTH_AND_FITNESS</td>\n",
              "      <td>5.0</td>\n",
              "      <td>9.0</td>\n",
              "      <td>100</td>\n",
              "      <td>19</td>\n",
              "      <td>0.00</td>\n",
              "      <td>Everyone</td>\n",
              "      <td>February 18, 2019</td>\n",
              "      <td>5.0 and up</td>\n",
              "      <td>1.05</td>\n",
              "    </tr>\n",
              "    <tr>\n",
              "      <th>23853</th>\n",
              "      <td>??????App</td>\n",
              "      <td>EDUCATION</td>\n",
              "      <td>5.0</td>\n",
              "      <td>1.0</td>\n",
              "      <td>100</td>\n",
              "      <td>16</td>\n",
              "      <td>0.00</td>\n",
              "      <td>Everyone</td>\n",
              "      <td>October 26, 2018</td>\n",
              "      <td>4.1 and up</td>\n",
              "      <td>1.0.1</td>\n",
              "    </tr>\n",
              "    <tr>\n",
              "      <th>23748</th>\n",
              "      <td>I Love You HD Wallpapers</td>\n",
              "      <td>PERSONALIZATION</td>\n",
              "      <td>5.0</td>\n",
              "      <td>1.0</td>\n",
              "      <td>100</td>\n",
              "      <td>4.2</td>\n",
              "      <td>0.00</td>\n",
              "      <td>Everyone</td>\n",
              "      <td>November 19, 2018</td>\n",
              "      <td>4.0 and up</td>\n",
              "      <td>1</td>\n",
              "    </tr>\n",
              "    <tr>\n",
              "      <th>10180</th>\n",
              "      <td>NAPCO</td>\n",
              "      <td>PRODUCTIVITY</td>\n",
              "      <td>5.0</td>\n",
              "      <td>7.0</td>\n",
              "      <td>1000</td>\n",
              "      <td>11</td>\n",
              "      <td>0.00</td>\n",
              "      <td>Everyone</td>\n",
              "      <td>March 20, 2018</td>\n",
              "      <td>4.1 and up</td>\n",
              "      <td>1.0.1</td>\n",
              "    </tr>\n",
              "    <tr>\n",
              "      <th>23790</th>\n",
              "      <td>NEWMOOD.lt</td>\n",
              "      <td>SHOPPING</td>\n",
              "      <td>5.0</td>\n",
              "      <td>1.0</td>\n",
              "      <td>500</td>\n",
              "      <td>12</td>\n",
              "      <td>0.00</td>\n",
              "      <td>Everyone</td>\n",
              "      <td>January 16, 2019</td>\n",
              "      <td>5.0 and up</td>\n",
              "      <td>1.1</td>\n",
              "    </tr>\n",
              "    <tr>\n",
              "      <th>23793</th>\n",
              "      <td>Jazz Tour Madrid</td>\n",
              "      <td>ENTERTAINMENT</td>\n",
              "      <td>5.0</td>\n",
              "      <td>8.0</td>\n",
              "      <td>1000</td>\n",
              "      <td>1.9</td>\n",
              "      <td>0.00</td>\n",
              "      <td>Everyone</td>\n",
              "      <td>March 30, 2013</td>\n",
              "      <td>2.2 and up</td>\n",
              "      <td>1.3</td>\n",
              "    </tr>\n",
              "    <tr>\n",
              "      <th>10163</th>\n",
              "      <td>Il Coniugatore (sans pub)</td>\n",
              "      <td>BOOKS_AND_REFERENCE</td>\n",
              "      <td>5.0</td>\n",
              "      <td>1.0</td>\n",
              "      <td>10</td>\n",
              "      <td>2.0</td>\n",
              "      <td>0.99</td>\n",
              "      <td>Everyone</td>\n",
              "      <td>February 9, 2019</td>\n",
              "      <td>4.0 and up</td>\n",
              "      <td>1.12</td>\n",
              "    </tr>\n",
              "    <tr>\n",
              "      <th>23835</th>\n",
              "      <td>Amrut Organic</td>\n",
              "      <td>BUSINESS</td>\n",
              "      <td>5.0</td>\n",
              "      <td>3.0</td>\n",
              "      <td>50</td>\n",
              "      <td>3.8</td>\n",
              "      <td>0.00</td>\n",
              "      <td>Everyone</td>\n",
              "      <td>September 19, 2018</td>\n",
              "      <td>4.4 and up</td>\n",
              "      <td>1.4</td>\n",
              "    </tr>\n",
              "    <tr>\n",
              "      <th>23838</th>\n",
              "      <td>E-commerce App - iTanic (Demo)</td>\n",
              "      <td>BUSINESS</td>\n",
              "      <td>5.0</td>\n",
              "      <td>3.0</td>\n",
              "      <td>50</td>\n",
              "      <td>3.8</td>\n",
              "      <td>0.00</td>\n",
              "      <td>Everyone</td>\n",
              "      <td>July 11, 2018</td>\n",
              "      <td>4.4 and up</td>\n",
              "      <td>1.0.3</td>\n",
              "    </tr>\n",
              "    <tr>\n",
              "      <th>10071</th>\n",
              "      <td>Postmates Order App</td>\n",
              "      <td>BUSINESS</td>\n",
              "      <td>5.0</td>\n",
              "      <td>1.0</td>\n",
              "      <td>10</td>\n",
              "      <td>10</td>\n",
              "      <td>0.00</td>\n",
              "      <td>Everyone</td>\n",
              "      <td>March 29, 2019</td>\n",
              "      <td>6.0 and up</td>\n",
              "      <td>3.8.8</td>\n",
              "    </tr>\n",
              "  </tbody>\n",
              "</table>\n",
              "</div>\n",
              "      <button class=\"colab-df-convert\" onclick=\"convertToInteractive('df-70592a5b-ea52-4328-bb22-b069a7e7b9ac')\"\n",
              "              title=\"Convert this dataframe to an interactive table.\"\n",
              "              style=\"display:none;\">\n",
              "        \n",
              "  <svg xmlns=\"http://www.w3.org/2000/svg\" height=\"24px\"viewBox=\"0 0 24 24\"\n",
              "       width=\"24px\">\n",
              "    <path d=\"M0 0h24v24H0V0z\" fill=\"none\"/>\n",
              "    <path d=\"M18.56 5.44l.94 2.06.94-2.06 2.06-.94-2.06-.94-.94-2.06-.94 2.06-2.06.94zm-11 1L8.5 8.5l.94-2.06 2.06-.94-2.06-.94L8.5 2.5l-.94 2.06-2.06.94zm10 10l.94 2.06.94-2.06 2.06-.94-2.06-.94-.94-2.06-.94 2.06-2.06.94z\"/><path d=\"M17.41 7.96l-1.37-1.37c-.4-.4-.92-.59-1.43-.59-.52 0-1.04.2-1.43.59L10.3 9.45l-7.72 7.72c-.78.78-.78 2.05 0 2.83L4 21.41c.39.39.9.59 1.41.59.51 0 1.02-.2 1.41-.59l7.78-7.78 2.81-2.81c.8-.78.8-2.07 0-2.86zM5.41 20L4 18.59l7.72-7.72 1.47 1.35L5.41 20z\"/>\n",
              "  </svg>\n",
              "      </button>\n",
              "      \n",
              "  <style>\n",
              "    .colab-df-container {\n",
              "      display:flex;\n",
              "      flex-wrap:wrap;\n",
              "      gap: 12px;\n",
              "    }\n",
              "\n",
              "    .colab-df-convert {\n",
              "      background-color: #E8F0FE;\n",
              "      border: none;\n",
              "      border-radius: 50%;\n",
              "      cursor: pointer;\n",
              "      display: none;\n",
              "      fill: #1967D2;\n",
              "      height: 32px;\n",
              "      padding: 0 0 0 0;\n",
              "      width: 32px;\n",
              "    }\n",
              "\n",
              "    .colab-df-convert:hover {\n",
              "      background-color: #E2EBFA;\n",
              "      box-shadow: 0px 1px 2px rgba(60, 64, 67, 0.3), 0px 1px 3px 1px rgba(60, 64, 67, 0.15);\n",
              "      fill: #174EA6;\n",
              "    }\n",
              "\n",
              "    [theme=dark] .colab-df-convert {\n",
              "      background-color: #3B4455;\n",
              "      fill: #D2E3FC;\n",
              "    }\n",
              "\n",
              "    [theme=dark] .colab-df-convert:hover {\n",
              "      background-color: #434B5C;\n",
              "      box-shadow: 0px 1px 3px 1px rgba(0, 0, 0, 0.15);\n",
              "      filter: drop-shadow(0px 1px 2px rgba(0, 0, 0, 0.3));\n",
              "      fill: #FFFFFF;\n",
              "    }\n",
              "  </style>\n",
              "\n",
              "      <script>\n",
              "        const buttonEl =\n",
              "          document.querySelector('#df-70592a5b-ea52-4328-bb22-b069a7e7b9ac button.colab-df-convert');\n",
              "        buttonEl.style.display =\n",
              "          google.colab.kernel.accessAllowed ? 'block' : 'none';\n",
              "\n",
              "        async function convertToInteractive(key) {\n",
              "          const element = document.querySelector('#df-70592a5b-ea52-4328-bb22-b069a7e7b9ac');\n",
              "          const dataTable =\n",
              "            await google.colab.kernel.invokeFunction('convertToInteractive',\n",
              "                                                     [key], {});\n",
              "          if (!dataTable) return;\n",
              "\n",
              "          const docLinkHtml = 'Like what you see? Visit the ' +\n",
              "            '<a target=\"_blank\" href=https://colab.research.google.com/notebooks/data_table.ipynb>data table notebook</a>'\n",
              "            + ' to learn more about interactive tables.';\n",
              "          element.innerHTML = '';\n",
              "          dataTable['output_type'] = 'display_data';\n",
              "          await google.colab.output.renderOutput(dataTable, element);\n",
              "          const docLink = document.createElement('div');\n",
              "          docLink.innerHTML = docLinkHtml;\n",
              "          element.appendChild(docLink);\n",
              "        }\n",
              "      </script>\n",
              "    </div>\n",
              "  </div>\n",
              "  "
            ]
          },
          "metadata": {},
          "execution_count": 102
        }
      ]
    },
    {
      "cell_type": "code",
      "metadata": {
        "id": "TCwin5KHcNt0",
        "colab": {
          "base_uri": "https://localhost:8080/",
          "height": 702
        },
        "outputId": "6f2430f0-c635-4662-cbc5-f0edf0b72db7"
      },
      "source": [
        "#****************************************************************************************************************\n",
        "\n",
        "# Relationship between Reviews and main top apps\n",
        "\n",
        "# It seems that Instagram, Clean Master - Antivirus, Youtube and Subway Surfers\n",
        "\n",
        "# The above 4 apps belong to the top installed (filtered by rating too) and simultaneously to the top reviewed apps\n",
        "\n",
        "# So there is correlation of 4 out of 10 apps respecting top installed-rated apps and top reviewed apps\n",
        "#****************************************************************************************************************\n",
        "\n",
        "app.sort_values(by=\"Reviews\", ascending= False).head(10)"
      ],
      "execution_count": 103,
      "outputs": [
        {
          "output_type": "execute_result",
          "data": {
            "text/plain": [
              "                                                App Name       Category  \\\n",
              "671                                   WhatsApp Messenger  COMMUNICATION   \n",
              "704                                             Facebook         SOCIAL   \n",
              "653                                            Instagram         SOCIAL   \n",
              "632             Messenger � Text and Video Chat for Free  COMMUNICATION   \n",
              "628                                       Clash of Clans  GAME_STRATEGY   \n",
              "7064         Clean Master - Antivirus, Applock & Cleaner          TOOLS   \n",
              "813                                              YouTube  VIDEO_PLAYERS   \n",
              "539                                       Subway Surfers    GAME_ARCADE   \n",
              "12638  Security Master - Antivirus, VPN, AppLock, Boo...          TOOLS   \n",
              "1542                                        Clash Royale  GAME_STRATEGY   \n",
              "\n",
              "         Rating     Reviews    Installs                Size  Price  \\\n",
              "671    4.417610  86214292.0  1000000000  Varies with device    0.0   \n",
              "704    4.087946  85766433.0  1000000000  Varies with device    0.0   \n",
              "653    4.519560  79726403.0  1000000000  Varies with device    0.0   \n",
              "632    4.085856  65469531.0  1000000000  Varies with device    0.0   \n",
              "628    4.606215  48401470.0   500000000                 103    0.0   \n",
              "7064   4.657038  44171776.0  1000000000                  20    0.0   \n",
              "813    4.368428  41919102.0  5000000000  Varies with device    0.0   \n",
              "539    4.498131  29834812.0  1000000000                  85    0.0   \n",
              "12638  4.652842  25532160.0   500000000  Varies with device    0.0   \n",
              "1542   4.545474  25449254.0   100000000                  81    0.0   \n",
              "\n",
              "      Content Rating       Last Updated     Minimum Version  \\\n",
              "671         Everyone     March 27, 2019  Varies with device   \n",
              "704             Teen      April 2, 2019  Varies with device   \n",
              "653             Teen      April 2, 2019  Varies with device   \n",
              "632         Everyone      April 2, 2019  Varies with device   \n",
              "628     Everyone 10+      April 2, 2019          4.1 and up   \n",
              "7064        Everyone      April 1, 2019  Varies with device   \n",
              "813             Teen      April 2, 2019  Varies with device   \n",
              "539     Everyone 10+      March 7, 2019          4.1 and up   \n",
              "12638       Everyone     March 29, 2019  Varies with device   \n",
              "1542    Everyone 10+  February 13, 2019          4.1 and up   \n",
              "\n",
              "           Latest Version  \n",
              "671    Varies with device  \n",
              "704    Varies with device  \n",
              "653    Varies with device  \n",
              "632    Varies with device  \n",
              "628             11.446.11  \n",
              "7064                7.0.6  \n",
              "813    Varies with device  \n",
              "539               1.100.0  \n",
              "12638               4.9.1  \n",
              "1542                2.6.1  "
            ],
            "text/html": [
              "\n",
              "  <div id=\"df-ae99a380-14ce-43c2-8254-3b1211fadf31\">\n",
              "    <div class=\"colab-df-container\">\n",
              "      <div>\n",
              "<style scoped>\n",
              "    .dataframe tbody tr th:only-of-type {\n",
              "        vertical-align: middle;\n",
              "    }\n",
              "\n",
              "    .dataframe tbody tr th {\n",
              "        vertical-align: top;\n",
              "    }\n",
              "\n",
              "    .dataframe thead th {\n",
              "        text-align: right;\n",
              "    }\n",
              "</style>\n",
              "<table border=\"1\" class=\"dataframe\">\n",
              "  <thead>\n",
              "    <tr style=\"text-align: right;\">\n",
              "      <th></th>\n",
              "      <th>App Name</th>\n",
              "      <th>Category</th>\n",
              "      <th>Rating</th>\n",
              "      <th>Reviews</th>\n",
              "      <th>Installs</th>\n",
              "      <th>Size</th>\n",
              "      <th>Price</th>\n",
              "      <th>Content Rating</th>\n",
              "      <th>Last Updated</th>\n",
              "      <th>Minimum Version</th>\n",
              "      <th>Latest Version</th>\n",
              "    </tr>\n",
              "  </thead>\n",
              "  <tbody>\n",
              "    <tr>\n",
              "      <th>671</th>\n",
              "      <td>WhatsApp Messenger</td>\n",
              "      <td>COMMUNICATION</td>\n",
              "      <td>4.417610</td>\n",
              "      <td>86214292.0</td>\n",
              "      <td>1000000000</td>\n",
              "      <td>Varies with device</td>\n",
              "      <td>0.0</td>\n",
              "      <td>Everyone</td>\n",
              "      <td>March 27, 2019</td>\n",
              "      <td>Varies with device</td>\n",
              "      <td>Varies with device</td>\n",
              "    </tr>\n",
              "    <tr>\n",
              "      <th>704</th>\n",
              "      <td>Facebook</td>\n",
              "      <td>SOCIAL</td>\n",
              "      <td>4.087946</td>\n",
              "      <td>85766433.0</td>\n",
              "      <td>1000000000</td>\n",
              "      <td>Varies with device</td>\n",
              "      <td>0.0</td>\n",
              "      <td>Teen</td>\n",
              "      <td>April 2, 2019</td>\n",
              "      <td>Varies with device</td>\n",
              "      <td>Varies with device</td>\n",
              "    </tr>\n",
              "    <tr>\n",
              "      <th>653</th>\n",
              "      <td>Instagram</td>\n",
              "      <td>SOCIAL</td>\n",
              "      <td>4.519560</td>\n",
              "      <td>79726403.0</td>\n",
              "      <td>1000000000</td>\n",
              "      <td>Varies with device</td>\n",
              "      <td>0.0</td>\n",
              "      <td>Teen</td>\n",
              "      <td>April 2, 2019</td>\n",
              "      <td>Varies with device</td>\n",
              "      <td>Varies with device</td>\n",
              "    </tr>\n",
              "    <tr>\n",
              "      <th>632</th>\n",
              "      <td>Messenger � Text and Video Chat for Free</td>\n",
              "      <td>COMMUNICATION</td>\n",
              "      <td>4.085856</td>\n",
              "      <td>65469531.0</td>\n",
              "      <td>1000000000</td>\n",
              "      <td>Varies with device</td>\n",
              "      <td>0.0</td>\n",
              "      <td>Everyone</td>\n",
              "      <td>April 2, 2019</td>\n",
              "      <td>Varies with device</td>\n",
              "      <td>Varies with device</td>\n",
              "    </tr>\n",
              "    <tr>\n",
              "      <th>628</th>\n",
              "      <td>Clash of Clans</td>\n",
              "      <td>GAME_STRATEGY</td>\n",
              "      <td>4.606215</td>\n",
              "      <td>48401470.0</td>\n",
              "      <td>500000000</td>\n",
              "      <td>103</td>\n",
              "      <td>0.0</td>\n",
              "      <td>Everyone 10+</td>\n",
              "      <td>April 2, 2019</td>\n",
              "      <td>4.1 and up</td>\n",
              "      <td>11.446.11</td>\n",
              "    </tr>\n",
              "    <tr>\n",
              "      <th>7064</th>\n",
              "      <td>Clean Master - Antivirus, Applock &amp; Cleaner</td>\n",
              "      <td>TOOLS</td>\n",
              "      <td>4.657038</td>\n",
              "      <td>44171776.0</td>\n",
              "      <td>1000000000</td>\n",
              "      <td>20</td>\n",
              "      <td>0.0</td>\n",
              "      <td>Everyone</td>\n",
              "      <td>April 1, 2019</td>\n",
              "      <td>Varies with device</td>\n",
              "      <td>7.0.6</td>\n",
              "    </tr>\n",
              "    <tr>\n",
              "      <th>813</th>\n",
              "      <td>YouTube</td>\n",
              "      <td>VIDEO_PLAYERS</td>\n",
              "      <td>4.368428</td>\n",
              "      <td>41919102.0</td>\n",
              "      <td>5000000000</td>\n",
              "      <td>Varies with device</td>\n",
              "      <td>0.0</td>\n",
              "      <td>Teen</td>\n",
              "      <td>April 2, 2019</td>\n",
              "      <td>Varies with device</td>\n",
              "      <td>Varies with device</td>\n",
              "    </tr>\n",
              "    <tr>\n",
              "      <th>539</th>\n",
              "      <td>Subway Surfers</td>\n",
              "      <td>GAME_ARCADE</td>\n",
              "      <td>4.498131</td>\n",
              "      <td>29834812.0</td>\n",
              "      <td>1000000000</td>\n",
              "      <td>85</td>\n",
              "      <td>0.0</td>\n",
              "      <td>Everyone 10+</td>\n",
              "      <td>March 7, 2019</td>\n",
              "      <td>4.1 and up</td>\n",
              "      <td>1.100.0</td>\n",
              "    </tr>\n",
              "    <tr>\n",
              "      <th>12638</th>\n",
              "      <td>Security Master - Antivirus, VPN, AppLock, Boo...</td>\n",
              "      <td>TOOLS</td>\n",
              "      <td>4.652842</td>\n",
              "      <td>25532160.0</td>\n",
              "      <td>500000000</td>\n",
              "      <td>Varies with device</td>\n",
              "      <td>0.0</td>\n",
              "      <td>Everyone</td>\n",
              "      <td>March 29, 2019</td>\n",
              "      <td>Varies with device</td>\n",
              "      <td>4.9.1</td>\n",
              "    </tr>\n",
              "    <tr>\n",
              "      <th>1542</th>\n",
              "      <td>Clash Royale</td>\n",
              "      <td>GAME_STRATEGY</td>\n",
              "      <td>4.545474</td>\n",
              "      <td>25449254.0</td>\n",
              "      <td>100000000</td>\n",
              "      <td>81</td>\n",
              "      <td>0.0</td>\n",
              "      <td>Everyone 10+</td>\n",
              "      <td>February 13, 2019</td>\n",
              "      <td>4.1 and up</td>\n",
              "      <td>2.6.1</td>\n",
              "    </tr>\n",
              "  </tbody>\n",
              "</table>\n",
              "</div>\n",
              "      <button class=\"colab-df-convert\" onclick=\"convertToInteractive('df-ae99a380-14ce-43c2-8254-3b1211fadf31')\"\n",
              "              title=\"Convert this dataframe to an interactive table.\"\n",
              "              style=\"display:none;\">\n",
              "        \n",
              "  <svg xmlns=\"http://www.w3.org/2000/svg\" height=\"24px\"viewBox=\"0 0 24 24\"\n",
              "       width=\"24px\">\n",
              "    <path d=\"M0 0h24v24H0V0z\" fill=\"none\"/>\n",
              "    <path d=\"M18.56 5.44l.94 2.06.94-2.06 2.06-.94-2.06-.94-.94-2.06-.94 2.06-2.06.94zm-11 1L8.5 8.5l.94-2.06 2.06-.94-2.06-.94L8.5 2.5l-.94 2.06-2.06.94zm10 10l.94 2.06.94-2.06 2.06-.94-2.06-.94-.94-2.06-.94 2.06-2.06.94z\"/><path d=\"M17.41 7.96l-1.37-1.37c-.4-.4-.92-.59-1.43-.59-.52 0-1.04.2-1.43.59L10.3 9.45l-7.72 7.72c-.78.78-.78 2.05 0 2.83L4 21.41c.39.39.9.59 1.41.59.51 0 1.02-.2 1.41-.59l7.78-7.78 2.81-2.81c.8-.78.8-2.07 0-2.86zM5.41 20L4 18.59l7.72-7.72 1.47 1.35L5.41 20z\"/>\n",
              "  </svg>\n",
              "      </button>\n",
              "      \n",
              "  <style>\n",
              "    .colab-df-container {\n",
              "      display:flex;\n",
              "      flex-wrap:wrap;\n",
              "      gap: 12px;\n",
              "    }\n",
              "\n",
              "    .colab-df-convert {\n",
              "      background-color: #E8F0FE;\n",
              "      border: none;\n",
              "      border-radius: 50%;\n",
              "      cursor: pointer;\n",
              "      display: none;\n",
              "      fill: #1967D2;\n",
              "      height: 32px;\n",
              "      padding: 0 0 0 0;\n",
              "      width: 32px;\n",
              "    }\n",
              "\n",
              "    .colab-df-convert:hover {\n",
              "      background-color: #E2EBFA;\n",
              "      box-shadow: 0px 1px 2px rgba(60, 64, 67, 0.3), 0px 1px 3px 1px rgba(60, 64, 67, 0.15);\n",
              "      fill: #174EA6;\n",
              "    }\n",
              "\n",
              "    [theme=dark] .colab-df-convert {\n",
              "      background-color: #3B4455;\n",
              "      fill: #D2E3FC;\n",
              "    }\n",
              "\n",
              "    [theme=dark] .colab-df-convert:hover {\n",
              "      background-color: #434B5C;\n",
              "      box-shadow: 0px 1px 3px 1px rgba(0, 0, 0, 0.15);\n",
              "      filter: drop-shadow(0px 1px 2px rgba(0, 0, 0, 0.3));\n",
              "      fill: #FFFFFF;\n",
              "    }\n",
              "  </style>\n",
              "\n",
              "      <script>\n",
              "        const buttonEl =\n",
              "          document.querySelector('#df-ae99a380-14ce-43c2-8254-3b1211fadf31 button.colab-df-convert');\n",
              "        buttonEl.style.display =\n",
              "          google.colab.kernel.accessAllowed ? 'block' : 'none';\n",
              "\n",
              "        async function convertToInteractive(key) {\n",
              "          const element = document.querySelector('#df-ae99a380-14ce-43c2-8254-3b1211fadf31');\n",
              "          const dataTable =\n",
              "            await google.colab.kernel.invokeFunction('convertToInteractive',\n",
              "                                                     [key], {});\n",
              "          if (!dataTable) return;\n",
              "\n",
              "          const docLinkHtml = 'Like what you see? Visit the ' +\n",
              "            '<a target=\"_blank\" href=https://colab.research.google.com/notebooks/data_table.ipynb>data table notebook</a>'\n",
              "            + ' to learn more about interactive tables.';\n",
              "          element.innerHTML = '';\n",
              "          dataTable['output_type'] = 'display_data';\n",
              "          await google.colab.output.renderOutput(dataTable, element);\n",
              "          const docLink = document.createElement('div');\n",
              "          docLink.innerHTML = docLinkHtml;\n",
              "          element.appendChild(docLink);\n",
              "        }\n",
              "      </script>\n",
              "    </div>\n",
              "  </div>\n",
              "  "
            ]
          },
          "metadata": {},
          "execution_count": 103
        }
      ]
    },
    {
      "cell_type": "code",
      "metadata": {
        "id": "b4gy2bi0cNt2",
        "colab": {
          "base_uri": "https://localhost:8080/",
          "height": 771
        },
        "outputId": "f7fae720-8987-454d-f90a-02157fbfed5c"
      },
      "source": [
        "top_10_installed_and_rated_apps"
      ],
      "execution_count": 104,
      "outputs": [
        {
          "output_type": "execute_result",
          "data": {
            "text/plain": [
              "                                         App Name          Category    Rating  \\\n",
              "821                                        Google             TOOLS  4.408893   \n",
              "813                                       YouTube     VIDEO_PLAYERS  4.368428   \n",
              "2177                    Maps - Navigate & Explore  TRAVEL_AND_LOCAL  4.342798   \n",
              "7064  Clean Master - Antivirus, Applock & Cleaner             TOOLS  4.657038   \n",
              "6411        Google Duo - High Quality Video Calls     COMMUNICATION  4.596404   \n",
              "3269                   SHAREit - Transfer & Share             TOOLS  4.579340   \n",
              "1259                                Google Photos       PHOTOGRAPHY  4.542380   \n",
              "653                                     Instagram            SOCIAL  4.519560   \n",
              "539                                Subway Surfers       GAME_ARCADE  4.498131   \n",
              "3267                     Samsung Internet Browser     COMMUNICATION  4.424015   \n",
              "\n",
              "         Reviews    Installs                Size  Price Content Rating  \\\n",
              "821   10870728.0  5000000000  Varies with device    0.0       Everyone   \n",
              "813   41919102.0  5000000000  Varies with device    0.0           Teen   \n",
              "2177  10083666.0  5000000000  Varies with device    0.0       Everyone   \n",
              "7064  44171776.0  1000000000                  20    0.0       Everyone   \n",
              "6411   3641252.0  1000000000                  20    0.0       Everyone   \n",
              "3269  10450444.0  1000000000                  20    0.0       Everyone   \n",
              "1259  16278468.0  1000000000  Varies with device    0.0       Everyone   \n",
              "653   79726403.0  1000000000  Varies with device    0.0           Teen   \n",
              "539   29834812.0  1000000000                  85    0.0   Everyone 10+   \n",
              "3267    832714.0  1000000000  Varies with device    0.0       Everyone   \n",
              "\n",
              "           Last Updated     Minimum Version            Latest Version  \n",
              "821       April 1, 2019  Varies with device        Varies with device  \n",
              "813       April 2, 2019  Varies with device        Varies with device  \n",
              "2177      April 1, 2019  Varies with device        Varies with device  \n",
              "7064      April 1, 2019  Varies with device                     7.0.6  \n",
              "6411      April 2, 2019          4.4 and up  50.1.240885383.DR50_RC06  \n",
              "3269      April 1, 2019          4.1 and up                 4.7.38_ww  \n",
              "1259      April 2, 2019  Varies with device        Varies with device  \n",
              "653       April 2, 2019  Varies with device        Varies with device  \n",
              "539       March 7, 2019          4.1 and up                   1.100.0  \n",
              "3267  February 21, 2019          5.0 and up        Varies with device  "
            ],
            "text/html": [
              "\n",
              "  <div id=\"df-2ca4ba2b-b2d4-49d2-9fb6-c52b9202024f\">\n",
              "    <div class=\"colab-df-container\">\n",
              "      <div>\n",
              "<style scoped>\n",
              "    .dataframe tbody tr th:only-of-type {\n",
              "        vertical-align: middle;\n",
              "    }\n",
              "\n",
              "    .dataframe tbody tr th {\n",
              "        vertical-align: top;\n",
              "    }\n",
              "\n",
              "    .dataframe thead th {\n",
              "        text-align: right;\n",
              "    }\n",
              "</style>\n",
              "<table border=\"1\" class=\"dataframe\">\n",
              "  <thead>\n",
              "    <tr style=\"text-align: right;\">\n",
              "      <th></th>\n",
              "      <th>App Name</th>\n",
              "      <th>Category</th>\n",
              "      <th>Rating</th>\n",
              "      <th>Reviews</th>\n",
              "      <th>Installs</th>\n",
              "      <th>Size</th>\n",
              "      <th>Price</th>\n",
              "      <th>Content Rating</th>\n",
              "      <th>Last Updated</th>\n",
              "      <th>Minimum Version</th>\n",
              "      <th>Latest Version</th>\n",
              "    </tr>\n",
              "  </thead>\n",
              "  <tbody>\n",
              "    <tr>\n",
              "      <th>821</th>\n",
              "      <td>Google</td>\n",
              "      <td>TOOLS</td>\n",
              "      <td>4.408893</td>\n",
              "      <td>10870728.0</td>\n",
              "      <td>5000000000</td>\n",
              "      <td>Varies with device</td>\n",
              "      <td>0.0</td>\n",
              "      <td>Everyone</td>\n",
              "      <td>April 1, 2019</td>\n",
              "      <td>Varies with device</td>\n",
              "      <td>Varies with device</td>\n",
              "    </tr>\n",
              "    <tr>\n",
              "      <th>813</th>\n",
              "      <td>YouTube</td>\n",
              "      <td>VIDEO_PLAYERS</td>\n",
              "      <td>4.368428</td>\n",
              "      <td>41919102.0</td>\n",
              "      <td>5000000000</td>\n",
              "      <td>Varies with device</td>\n",
              "      <td>0.0</td>\n",
              "      <td>Teen</td>\n",
              "      <td>April 2, 2019</td>\n",
              "      <td>Varies with device</td>\n",
              "      <td>Varies with device</td>\n",
              "    </tr>\n",
              "    <tr>\n",
              "      <th>2177</th>\n",
              "      <td>Maps - Navigate &amp; Explore</td>\n",
              "      <td>TRAVEL_AND_LOCAL</td>\n",
              "      <td>4.342798</td>\n",
              "      <td>10083666.0</td>\n",
              "      <td>5000000000</td>\n",
              "      <td>Varies with device</td>\n",
              "      <td>0.0</td>\n",
              "      <td>Everyone</td>\n",
              "      <td>April 1, 2019</td>\n",
              "      <td>Varies with device</td>\n",
              "      <td>Varies with device</td>\n",
              "    </tr>\n",
              "    <tr>\n",
              "      <th>7064</th>\n",
              "      <td>Clean Master - Antivirus, Applock &amp; Cleaner</td>\n",
              "      <td>TOOLS</td>\n",
              "      <td>4.657038</td>\n",
              "      <td>44171776.0</td>\n",
              "      <td>1000000000</td>\n",
              "      <td>20</td>\n",
              "      <td>0.0</td>\n",
              "      <td>Everyone</td>\n",
              "      <td>April 1, 2019</td>\n",
              "      <td>Varies with device</td>\n",
              "      <td>7.0.6</td>\n",
              "    </tr>\n",
              "    <tr>\n",
              "      <th>6411</th>\n",
              "      <td>Google Duo - High Quality Video Calls</td>\n",
              "      <td>COMMUNICATION</td>\n",
              "      <td>4.596404</td>\n",
              "      <td>3641252.0</td>\n",
              "      <td>1000000000</td>\n",
              "      <td>20</td>\n",
              "      <td>0.0</td>\n",
              "      <td>Everyone</td>\n",
              "      <td>April 2, 2019</td>\n",
              "      <td>4.4 and up</td>\n",
              "      <td>50.1.240885383.DR50_RC06</td>\n",
              "    </tr>\n",
              "    <tr>\n",
              "      <th>3269</th>\n",
              "      <td>SHAREit - Transfer &amp; Share</td>\n",
              "      <td>TOOLS</td>\n",
              "      <td>4.579340</td>\n",
              "      <td>10450444.0</td>\n",
              "      <td>1000000000</td>\n",
              "      <td>20</td>\n",
              "      <td>0.0</td>\n",
              "      <td>Everyone</td>\n",
              "      <td>April 1, 2019</td>\n",
              "      <td>4.1 and up</td>\n",
              "      <td>4.7.38_ww</td>\n",
              "    </tr>\n",
              "    <tr>\n",
              "      <th>1259</th>\n",
              "      <td>Google Photos</td>\n",
              "      <td>PHOTOGRAPHY</td>\n",
              "      <td>4.542380</td>\n",
              "      <td>16278468.0</td>\n",
              "      <td>1000000000</td>\n",
              "      <td>Varies with device</td>\n",
              "      <td>0.0</td>\n",
              "      <td>Everyone</td>\n",
              "      <td>April 2, 2019</td>\n",
              "      <td>Varies with device</td>\n",
              "      <td>Varies with device</td>\n",
              "    </tr>\n",
              "    <tr>\n",
              "      <th>653</th>\n",
              "      <td>Instagram</td>\n",
              "      <td>SOCIAL</td>\n",
              "      <td>4.519560</td>\n",
              "      <td>79726403.0</td>\n",
              "      <td>1000000000</td>\n",
              "      <td>Varies with device</td>\n",
              "      <td>0.0</td>\n",
              "      <td>Teen</td>\n",
              "      <td>April 2, 2019</td>\n",
              "      <td>Varies with device</td>\n",
              "      <td>Varies with device</td>\n",
              "    </tr>\n",
              "    <tr>\n",
              "      <th>539</th>\n",
              "      <td>Subway Surfers</td>\n",
              "      <td>GAME_ARCADE</td>\n",
              "      <td>4.498131</td>\n",
              "      <td>29834812.0</td>\n",
              "      <td>1000000000</td>\n",
              "      <td>85</td>\n",
              "      <td>0.0</td>\n",
              "      <td>Everyone 10+</td>\n",
              "      <td>March 7, 2019</td>\n",
              "      <td>4.1 and up</td>\n",
              "      <td>1.100.0</td>\n",
              "    </tr>\n",
              "    <tr>\n",
              "      <th>3267</th>\n",
              "      <td>Samsung Internet Browser</td>\n",
              "      <td>COMMUNICATION</td>\n",
              "      <td>4.424015</td>\n",
              "      <td>832714.0</td>\n",
              "      <td>1000000000</td>\n",
              "      <td>Varies with device</td>\n",
              "      <td>0.0</td>\n",
              "      <td>Everyone</td>\n",
              "      <td>February 21, 2019</td>\n",
              "      <td>5.0 and up</td>\n",
              "      <td>Varies with device</td>\n",
              "    </tr>\n",
              "  </tbody>\n",
              "</table>\n",
              "</div>\n",
              "      <button class=\"colab-df-convert\" onclick=\"convertToInteractive('df-2ca4ba2b-b2d4-49d2-9fb6-c52b9202024f')\"\n",
              "              title=\"Convert this dataframe to an interactive table.\"\n",
              "              style=\"display:none;\">\n",
              "        \n",
              "  <svg xmlns=\"http://www.w3.org/2000/svg\" height=\"24px\"viewBox=\"0 0 24 24\"\n",
              "       width=\"24px\">\n",
              "    <path d=\"M0 0h24v24H0V0z\" fill=\"none\"/>\n",
              "    <path d=\"M18.56 5.44l.94 2.06.94-2.06 2.06-.94-2.06-.94-.94-2.06-.94 2.06-2.06.94zm-11 1L8.5 8.5l.94-2.06 2.06-.94-2.06-.94L8.5 2.5l-.94 2.06-2.06.94zm10 10l.94 2.06.94-2.06 2.06-.94-2.06-.94-.94-2.06-.94 2.06-2.06.94z\"/><path d=\"M17.41 7.96l-1.37-1.37c-.4-.4-.92-.59-1.43-.59-.52 0-1.04.2-1.43.59L10.3 9.45l-7.72 7.72c-.78.78-.78 2.05 0 2.83L4 21.41c.39.39.9.59 1.41.59.51 0 1.02-.2 1.41-.59l7.78-7.78 2.81-2.81c.8-.78.8-2.07 0-2.86zM5.41 20L4 18.59l7.72-7.72 1.47 1.35L5.41 20z\"/>\n",
              "  </svg>\n",
              "      </button>\n",
              "      \n",
              "  <style>\n",
              "    .colab-df-container {\n",
              "      display:flex;\n",
              "      flex-wrap:wrap;\n",
              "      gap: 12px;\n",
              "    }\n",
              "\n",
              "    .colab-df-convert {\n",
              "      background-color: #E8F0FE;\n",
              "      border: none;\n",
              "      border-radius: 50%;\n",
              "      cursor: pointer;\n",
              "      display: none;\n",
              "      fill: #1967D2;\n",
              "      height: 32px;\n",
              "      padding: 0 0 0 0;\n",
              "      width: 32px;\n",
              "    }\n",
              "\n",
              "    .colab-df-convert:hover {\n",
              "      background-color: #E2EBFA;\n",
              "      box-shadow: 0px 1px 2px rgba(60, 64, 67, 0.3), 0px 1px 3px 1px rgba(60, 64, 67, 0.15);\n",
              "      fill: #174EA6;\n",
              "    }\n",
              "\n",
              "    [theme=dark] .colab-df-convert {\n",
              "      background-color: #3B4455;\n",
              "      fill: #D2E3FC;\n",
              "    }\n",
              "\n",
              "    [theme=dark] .colab-df-convert:hover {\n",
              "      background-color: #434B5C;\n",
              "      box-shadow: 0px 1px 3px 1px rgba(0, 0, 0, 0.15);\n",
              "      filter: drop-shadow(0px 1px 2px rgba(0, 0, 0, 0.3));\n",
              "      fill: #FFFFFF;\n",
              "    }\n",
              "  </style>\n",
              "\n",
              "      <script>\n",
              "        const buttonEl =\n",
              "          document.querySelector('#df-2ca4ba2b-b2d4-49d2-9fb6-c52b9202024f button.colab-df-convert');\n",
              "        buttonEl.style.display =\n",
              "          google.colab.kernel.accessAllowed ? 'block' : 'none';\n",
              "\n",
              "        async function convertToInteractive(key) {\n",
              "          const element = document.querySelector('#df-2ca4ba2b-b2d4-49d2-9fb6-c52b9202024f');\n",
              "          const dataTable =\n",
              "            await google.colab.kernel.invokeFunction('convertToInteractive',\n",
              "                                                     [key], {});\n",
              "          if (!dataTable) return;\n",
              "\n",
              "          const docLinkHtml = 'Like what you see? Visit the ' +\n",
              "            '<a target=\"_blank\" href=https://colab.research.google.com/notebooks/data_table.ipynb>data table notebook</a>'\n",
              "            + ' to learn more about interactive tables.';\n",
              "          element.innerHTML = '';\n",
              "          dataTable['output_type'] = 'display_data';\n",
              "          await google.colab.output.renderOutput(dataTable, element);\n",
              "          const docLink = document.createElement('div');\n",
              "          docLink.innerHTML = docLinkHtml;\n",
              "          element.appendChild(docLink);\n",
              "        }\n",
              "      </script>\n",
              "    </div>\n",
              "  </div>\n",
              "  "
            ]
          },
          "metadata": {},
          "execution_count": 104
        }
      ]
    },
    {
      "cell_type": "code",
      "metadata": {
        "id": "jul-iugwcNt4",
        "colab": {
          "base_uri": "https://localhost:8080/"
        },
        "outputId": "fce7db09-40c2-4c20-962d-8f3aaefe1e7d"
      },
      "source": [
        "# Prices of the apps\n",
        "\n",
        "app[\"Price\"].value_counts().sort_values(ascending=False).head(10)"
      ],
      "execution_count": 105,
      "outputs": [
        {
          "output_type": "execute_result",
          "data": {
            "text/plain": [
              "0.00    29959\n",
              "0.99      354\n",
              "1.99      313\n",
              "2.99      303\n",
              "4.99      233\n",
              "3.99      195\n",
              "1.49       89\n",
              "2.49       68\n",
              "9.99       56\n",
              "3.49       49\n",
              "Name: Price, dtype: int64"
            ]
          },
          "metadata": {},
          "execution_count": 105
        }
      ]
    },
    {
      "cell_type": "code",
      "metadata": {
        "id": "r-XDPPmjcNt7",
        "colab": {
          "base_uri": "https://localhost:8080/"
        },
        "outputId": "eacf7c49-ac22-440a-fe41-1563e374111c"
      },
      "source": [
        "app.Price.nunique()"
      ],
      "execution_count": 106,
      "outputs": [
        {
          "output_type": "execute_result",
          "data": {
            "text/plain": [
              "102"
            ]
          },
          "metadata": {},
          "execution_count": 106
        }
      ]
    },
    {
      "cell_type": "markdown",
      "metadata": {
        "id": "WPigHvshcNuI"
      },
      "source": [
        "# Visualising  Data"
      ]
    },
    {
      "cell_type": "code",
      "metadata": {
        "id": "Rtm3GkUscNuJ",
        "colab": {
          "base_uri": "https://localhost:8080/",
          "height": 0
        },
        "outputId": "f4f9fab0-9071-4b0f-ab38-7cd25c5a9ffe"
      },
      "source": [
        "app.head(2)"
      ],
      "execution_count": 107,
      "outputs": [
        {
          "output_type": "execute_result",
          "data": {
            "text/plain": [
              "                                            App Name          Category  \\\n",
              "0                           DoorDash - Food Delivery    FOOD_AND_DRINK   \n",
              "1  TripAdvisor Hotels Flights Restaurants Attract...  TRAVEL_AND_LOCAL   \n",
              "\n",
              "     Rating    Reviews   Installs                Size  Price Content Rating  \\\n",
              "0  4.548562   305034.0    5000000  Varies with device    0.0       Everyone   \n",
              "1  4.400671  1207922.0  100000000  Varies with device    0.0       Everyone   \n",
              "\n",
              "     Last Updated     Minimum Version      Latest Version  \n",
              "0  March 29, 2019  Varies with device  Varies with device  \n",
              "1  March 29, 2019  Varies with device  Varies with device  "
            ],
            "text/html": [
              "\n",
              "  <div id=\"df-18df46b9-4e4a-4755-b912-6fd07c2ce5ef\">\n",
              "    <div class=\"colab-df-container\">\n",
              "      <div>\n",
              "<style scoped>\n",
              "    .dataframe tbody tr th:only-of-type {\n",
              "        vertical-align: middle;\n",
              "    }\n",
              "\n",
              "    .dataframe tbody tr th {\n",
              "        vertical-align: top;\n",
              "    }\n",
              "\n",
              "    .dataframe thead th {\n",
              "        text-align: right;\n",
              "    }\n",
              "</style>\n",
              "<table border=\"1\" class=\"dataframe\">\n",
              "  <thead>\n",
              "    <tr style=\"text-align: right;\">\n",
              "      <th></th>\n",
              "      <th>App Name</th>\n",
              "      <th>Category</th>\n",
              "      <th>Rating</th>\n",
              "      <th>Reviews</th>\n",
              "      <th>Installs</th>\n",
              "      <th>Size</th>\n",
              "      <th>Price</th>\n",
              "      <th>Content Rating</th>\n",
              "      <th>Last Updated</th>\n",
              "      <th>Minimum Version</th>\n",
              "      <th>Latest Version</th>\n",
              "    </tr>\n",
              "  </thead>\n",
              "  <tbody>\n",
              "    <tr>\n",
              "      <th>0</th>\n",
              "      <td>DoorDash - Food Delivery</td>\n",
              "      <td>FOOD_AND_DRINK</td>\n",
              "      <td>4.548562</td>\n",
              "      <td>305034.0</td>\n",
              "      <td>5000000</td>\n",
              "      <td>Varies with device</td>\n",
              "      <td>0.0</td>\n",
              "      <td>Everyone</td>\n",
              "      <td>March 29, 2019</td>\n",
              "      <td>Varies with device</td>\n",
              "      <td>Varies with device</td>\n",
              "    </tr>\n",
              "    <tr>\n",
              "      <th>1</th>\n",
              "      <td>TripAdvisor Hotels Flights Restaurants Attract...</td>\n",
              "      <td>TRAVEL_AND_LOCAL</td>\n",
              "      <td>4.400671</td>\n",
              "      <td>1207922.0</td>\n",
              "      <td>100000000</td>\n",
              "      <td>Varies with device</td>\n",
              "      <td>0.0</td>\n",
              "      <td>Everyone</td>\n",
              "      <td>March 29, 2019</td>\n",
              "      <td>Varies with device</td>\n",
              "      <td>Varies with device</td>\n",
              "    </tr>\n",
              "  </tbody>\n",
              "</table>\n",
              "</div>\n",
              "      <button class=\"colab-df-convert\" onclick=\"convertToInteractive('df-18df46b9-4e4a-4755-b912-6fd07c2ce5ef')\"\n",
              "              title=\"Convert this dataframe to an interactive table.\"\n",
              "              style=\"display:none;\">\n",
              "        \n",
              "  <svg xmlns=\"http://www.w3.org/2000/svg\" height=\"24px\"viewBox=\"0 0 24 24\"\n",
              "       width=\"24px\">\n",
              "    <path d=\"M0 0h24v24H0V0z\" fill=\"none\"/>\n",
              "    <path d=\"M18.56 5.44l.94 2.06.94-2.06 2.06-.94-2.06-.94-.94-2.06-.94 2.06-2.06.94zm-11 1L8.5 8.5l.94-2.06 2.06-.94-2.06-.94L8.5 2.5l-.94 2.06-2.06.94zm10 10l.94 2.06.94-2.06 2.06-.94-2.06-.94-.94-2.06-.94 2.06-2.06.94z\"/><path d=\"M17.41 7.96l-1.37-1.37c-.4-.4-.92-.59-1.43-.59-.52 0-1.04.2-1.43.59L10.3 9.45l-7.72 7.72c-.78.78-.78 2.05 0 2.83L4 21.41c.39.39.9.59 1.41.59.51 0 1.02-.2 1.41-.59l7.78-7.78 2.81-2.81c.8-.78.8-2.07 0-2.86zM5.41 20L4 18.59l7.72-7.72 1.47 1.35L5.41 20z\"/>\n",
              "  </svg>\n",
              "      </button>\n",
              "      \n",
              "  <style>\n",
              "    .colab-df-container {\n",
              "      display:flex;\n",
              "      flex-wrap:wrap;\n",
              "      gap: 12px;\n",
              "    }\n",
              "\n",
              "    .colab-df-convert {\n",
              "      background-color: #E8F0FE;\n",
              "      border: none;\n",
              "      border-radius: 50%;\n",
              "      cursor: pointer;\n",
              "      display: none;\n",
              "      fill: #1967D2;\n",
              "      height: 32px;\n",
              "      padding: 0 0 0 0;\n",
              "      width: 32px;\n",
              "    }\n",
              "\n",
              "    .colab-df-convert:hover {\n",
              "      background-color: #E2EBFA;\n",
              "      box-shadow: 0px 1px 2px rgba(60, 64, 67, 0.3), 0px 1px 3px 1px rgba(60, 64, 67, 0.15);\n",
              "      fill: #174EA6;\n",
              "    }\n",
              "\n",
              "    [theme=dark] .colab-df-convert {\n",
              "      background-color: #3B4455;\n",
              "      fill: #D2E3FC;\n",
              "    }\n",
              "\n",
              "    [theme=dark] .colab-df-convert:hover {\n",
              "      background-color: #434B5C;\n",
              "      box-shadow: 0px 1px 3px 1px rgba(0, 0, 0, 0.15);\n",
              "      filter: drop-shadow(0px 1px 2px rgba(0, 0, 0, 0.3));\n",
              "      fill: #FFFFFF;\n",
              "    }\n",
              "  </style>\n",
              "\n",
              "      <script>\n",
              "        const buttonEl =\n",
              "          document.querySelector('#df-18df46b9-4e4a-4755-b912-6fd07c2ce5ef button.colab-df-convert');\n",
              "        buttonEl.style.display =\n",
              "          google.colab.kernel.accessAllowed ? 'block' : 'none';\n",
              "\n",
              "        async function convertToInteractive(key) {\n",
              "          const element = document.querySelector('#df-18df46b9-4e4a-4755-b912-6fd07c2ce5ef');\n",
              "          const dataTable =\n",
              "            await google.colab.kernel.invokeFunction('convertToInteractive',\n",
              "                                                     [key], {});\n",
              "          if (!dataTable) return;\n",
              "\n",
              "          const docLinkHtml = 'Like what you see? Visit the ' +\n",
              "            '<a target=\"_blank\" href=https://colab.research.google.com/notebooks/data_table.ipynb>data table notebook</a>'\n",
              "            + ' to learn more about interactive tables.';\n",
              "          element.innerHTML = '';\n",
              "          dataTable['output_type'] = 'display_data';\n",
              "          await google.colab.output.renderOutput(dataTable, element);\n",
              "          const docLink = document.createElement('div');\n",
              "          docLink.innerHTML = docLinkHtml;\n",
              "          element.appendChild(docLink);\n",
              "        }\n",
              "      </script>\n",
              "    </div>\n",
              "  </div>\n",
              "  "
            ]
          },
          "metadata": {},
          "execution_count": 107
        }
      ]
    },
    {
      "cell_type": "code",
      "metadata": {
        "id": "3fxapDrkcNuL"
      },
      "source": [
        "import seaborn as sns\n",
        "import matplotlib.pyplot as plt"
      ],
      "execution_count": 108,
      "outputs": []
    },
    {
      "cell_type": "code",
      "metadata": {
        "id": "ziFbi0uKcNuN",
        "colab": {
          "base_uri": "https://localhost:8080/",
          "height": 0
        },
        "outputId": "287d5780-f15a-4cd5-ed46-f9438a49067e"
      },
      "source": [
        "# Top 5 app Categories of all the dataset\n",
        "\n",
        "\n",
        "app[\"Category\"].value_counts().nlargest(5).sort_values(ascending=True).plot.barh()\n",
        "plt.ylabel(\"Categories\")\n",
        "plt.xlabel(\"Count\")\n",
        "plt.title(\"Google Playstore - Top 5 App Categories\")\n",
        "plt.show()"
      ],
      "execution_count": 109,
      "outputs": [
        {
          "output_type": "display_data",
          "data": {
            "text/plain": [
              "<Figure size 432x288 with 1 Axes>"
            ],
            "image/png": "[encoded data removed]"
          },
          "metadata": {
            "needs_background": "light"
          }
        }
      ]
    },
    {
      "cell_type": "code",
      "metadata": {
        "id": "kMT-UGxfcNuP",
        "colab": {
          "base_uri": "https://localhost:8080/"
        },
        "outputId": "b8eb84bd-ce8d-4da7-8828-5398feb10b3e"
      },
      "source": [
        "app[\"Category\"].value_counts().nlargest(5).sort_values(ascending=False)"
      ],
      "execution_count": 110,
      "outputs": [
        {
          "output_type": "execute_result",
          "data": {
            "text/plain": [
              "EDUCATION              3431\n",
              "TOOLS                  2399\n",
              "ENTERTAINMENT          2084\n",
              "BOOKS_AND_REFERENCE    1639\n",
              "LIFESTYLE              1369\n",
              "Name: Category, dtype: int64"
            ]
          },
          "metadata": {},
          "execution_count": 110
        }
      ]
    },
    {
      "cell_type": "code",
      "metadata": {
        "id": "YY8RB4PrcNuR",
        "colab": {
          "base_uri": "https://localhost:8080/"
        },
        "outputId": "0b304ac9-54bc-425c-a850-434c63b00f0b"
      },
      "source": [
        "# In which category do main 100 top apps belong\n",
        "\n",
        "top_installed_and_rated_apps[\"Category\"].head(100).value_counts()"
      ],
      "execution_count": 111,
      "outputs": [
        {
          "output_type": "execute_result",
          "data": {
            "text/plain": [
              "PRODUCTIVITY           17\n",
              "TOOLS                  15\n",
              "COMMUNICATION          11\n",
              "SOCIAL                  6\n",
              "VIDEO_PLAYERS           5\n",
              "NEWS_AND_MAGAZINES      4\n",
              "PERSONALIZATION         4\n",
              "GAME_ACTION             4\n",
              "GAME_CASUAL             4\n",
              "PHOTOGRAPHY             4\n",
              "ENTERTAINMENT           3\n",
              "GAME_RACING             3\n",
              "TRAVEL_AND_LOCAL        3\n",
              "MUSIC_AND_AUDIO         2\n",
              "GAME_ARCADE             2\n",
              "HEALTH_AND_FITNESS      2\n",
              "SHOPPING                2\n",
              "BOOKS_AND_REFERENCE     2\n",
              "GAME_SPORTS             2\n",
              "GAME_STRATEGY           1\n",
              "EDUCATION               1\n",
              "LIFESTYLE               1\n",
              "GAME_SIMULATION         1\n",
              "MAPS_AND_NAVIGATION     1\n",
              "Name: Category, dtype: int64"
            ]
          },
          "metadata": {},
          "execution_count": 111
        }
      ]
    },
    {
      "cell_type": "code",
      "metadata": {
        "id": "ndM8jr0tcNuU",
        "colab": {
          "base_uri": "https://localhost:8080/",
          "height": 0
        },
        "outputId": "d90c2708-e0e4-4e3e-d6ba-0637c3d38858"
      },
      "source": [
        "status= (\"PRODUCTIVITY\", \"TOOLS\", \"COMMUNICATION\", \"SOCIAL\")\n",
        "y_pos= np.arange(len(status))\n",
        "numbers= [17,16,11,6]\n",
        "plt.bar(y_pos, numbers, align=\"center\", alpha=0.6)\n",
        "plt.xticks(y_pos, status)\n",
        "plt.ylabel(\"Count\")\n",
        "plt.title(\"Categories - (Main) Top 100 Apps\")\n",
        "plt.show()"
      ],
      "execution_count": 112,
      "outputs": [
        {
          "output_type": "display_data",
          "data": {
            "text/plain": [
              "<Figure size 432x288 with 1 Axes>"
            ],
            "image/png": "[encoded data removed]"
          },
          "metadata": {
            "needs_background": "light"
          }
        }
      ]
    },
    {
      "cell_type": "code",
      "metadata": {
        "id": "iVQLhceTcNuW"
      },
      "source": [
        "x=top_installed_and_rated_apps.head(100)"
      ],
      "execution_count": 113,
      "outputs": []
    },
    {
      "cell_type": "code",
      "metadata": {
        "id": "UwtSVQFwcNuY",
        "colab": {
          "base_uri": "https://localhost:8080/",
          "height": 0
        },
        "outputId": "dd2fe4b6-c41e-4003-9961-d8a68a52baaa"
      },
      "source": [
        "# Relationship betweeen: Classes and number of Installations\n",
        "\n",
        "\n",
        "app[\"Installs\"].value_counts().sort_values(ascending=False).plot.bar()\n",
        "plt.ylabel(\"Number of Installations\")\n",
        "plt.xlabel(\"Classes of Installations\")\n",
        "plt.title(\"Google Playstore - Grading in Number of Installations\")\n",
        "plt.show()"
      ],
      "execution_count": 114,
      "outputs": [
        {
          "output_type": "display_data",
          "data": {
            "text/plain": [
              "<Figure size 432x288 with 1 Axes>"
            ],
            "image/png": "[encoded data removed]"
          },
          "metadata": {
            "needs_background": "light"
          }
        }
      ]
    },
    {
      "cell_type": "code",
      "metadata": {
        "id": "7bR85tdHcNuc",
        "colab": {
          "base_uri": "https://localhost:8080/"
        },
        "outputId": "92146065-2980-4cf8-ec2b-55bf8b509fe4"
      },
      "source": [
        "# Top 5 Gradings in the number of installations\n",
        "\n",
        "app[\"Installs\"].value_counts().nlargest(5)"
      ],
      "execution_count": 115,
      "outputs": [
        {
          "output_type": "execute_result",
          "data": {
            "text/plain": [
              "100000     6746\n",
              "1000000    5194\n",
              "10000      4593\n",
              "500000     2863\n",
              "50000      2642\n",
              "Name: Installs, dtype: int64"
            ]
          },
          "metadata": {},
          "execution_count": 115
        }
      ]
    },
    {
      "cell_type": "code",
      "metadata": {
        "id": "EVfUU0wQcNue",
        "colab": {
          "base_uri": "https://localhost:8080/",
          "height": 0
        },
        "outputId": "c9d51816-54bd-41ad-97bc-c7275837b8d8"
      },
      "source": [
        "app[\"Price\"].value_counts().nlargest(5).sort_values(ascending=False).plot.bar()\n",
        "plt.ylabel(\"Number of Apps\")\n",
        "plt.xlabel(\"Prices in Dollars\")\n",
        "plt.title(\"Google Playstore - Prices\")\n",
        "plt.show()"
      ],
      "execution_count": 116,
      "outputs": [
        {
          "output_type": "display_data",
          "data": {
            "text/plain": [
              "<Figure size 432x288 with 1 Axes>"
            ],
            "image/png": "[encoded data removed]"
          },
          "metadata": {
            "needs_background": "light"
          }
        }
      ]
    },
    {
      "cell_type": "code",
      "metadata": {
        "id": "wSOxnTU9cNug",
        "colab": {
          "base_uri": "https://localhost:8080/"
        },
        "outputId": "c8370003-10a5-4f81-99e7-6f64d977214b"
      },
      "source": [
        "app[\"Price\"].value_counts().nlargest(5)"
      ],
      "execution_count": 117,
      "outputs": [
        {
          "output_type": "execute_result",
          "data": {
            "text/plain": [
              "0.00    29959\n",
              "0.99      354\n",
              "1.99      313\n",
              "2.99      303\n",
              "4.99      233\n",
              "Name: Price, dtype: int64"
            ]
          },
          "metadata": {},
          "execution_count": 117
        }
      ]
    },
    {
      "cell_type": "code",
      "metadata": {
        "id": "kypRkDvlcNui",
        "colab": {
          "base_uri": "https://localhost:8080/",
          "height": 0
        },
        "outputId": "d8fe59dc-97f0-4370-9977-b1620b7d64c0"
      },
      "source": [
        "app[\"Content Rating\"].value_counts().sort_values(ascending=False).plot.bar()\n",
        "plt.ylabel(\"Number of Apps\")\n",
        "plt.xlabel(\"Content Rating\")\n",
        "plt.title(\"Google Playstore - Content Rating\")\n",
        "plt.show()"
      ],
      "execution_count": 118,
      "outputs": [
        {
          "output_type": "display_data",
          "data": {
            "text/plain": [
              "<Figure size 432x288 with 1 Axes>"
            ],
            "image/png": "[encoded data removed]"
          },
          "metadata": {
            "needs_background": "light"
          }
        }
      ]
    },
    {
      "cell_type": "code",
      "metadata": {
        "scrolled": true,
        "id": "22oJe917cNul",
        "colab": {
          "base_uri": "https://localhost:8080/"
        },
        "outputId": "ea46accc-8535-4f5c-dfbc-cb9b8da8c845"
      },
      "source": [
        "app[\"Content Rating\"].value_counts()"
      ],
      "execution_count": 119,
      "outputs": [
        {
          "output_type": "execute_result",
          "data": {
            "text/plain": [
              "Everyone           27462\n",
              "Teen                2862\n",
              "Everyone 10+        1054\n",
              "Mature 17+           622\n",
              "Adults only 18+        3\n",
              "Unrated                3\n",
              "Name: Content Rating, dtype: int64"
            ]
          },
          "metadata": {},
          "execution_count": 119
        }
      ]
    },
    {
      "cell_type": "code",
      "metadata": {
        "id": "FlOKebmzcNun",
        "colab": {
          "base_uri": "https://localhost:8080/"
        },
        "outputId": "0bacd884-4956-41d1-aaa0-432155af2e15"
      },
      "source": [
        "top_installed_and_rated_apps[\"Content Rating\"].head(100).value_counts()"
      ],
      "execution_count": 120,
      "outputs": [
        {
          "output_type": "execute_result",
          "data": {
            "text/plain": [
              "Everyone        69\n",
              "Teen            24\n",
              "Everyone 10+     5\n",
              "Mature 17+       2\n",
              "Name: Content Rating, dtype: int64"
            ]
          },
          "metadata": {},
          "execution_count": 120
        }
      ]
    },
    {
      "cell_type": "code",
      "metadata": {
        "id": "iTiLG8n8cNup"
      },
      "source": [
        "#####################"
      ],
      "execution_count": 121,
      "outputs": []
    },
    {
      "cell_type": "code",
      "metadata": {
        "id": "gASv1bUBcNut",
        "colab": {
          "base_uri": "https://localhost:8080/"
        },
        "outputId": "6f011cb8-c478-4a4a-f2ca-570cb6862850"
      },
      "source": [
        "top_installed_and_rated_apps.head(100).Installs.value_counts(ascending=False) "
      ],
      "execution_count": 122,
      "outputs": [
        {
          "output_type": "execute_result",
          "data": {
            "text/plain": [
              "100000000     40\n",
              "500000000     33\n",
              "1000000000    24\n",
              "5000000000     3\n",
              "Name: Installs, dtype: int64"
            ]
          },
          "metadata": {},
          "execution_count": 122
        }
      ]
    },
    {
      "cell_type": "code",
      "metadata": {
        "id": "i04l27BucNuw",
        "colab": {
          "base_uri": "https://localhost:8080/",
          "height": 0
        },
        "outputId": "4c828c11-d1f3-4c98-f4eb-0a95e84528dc"
      },
      "source": [
        "app_category= top_installed_and_rated_apps.head(100).Installs\n",
        "app_category.plot.density().set_yscale(\"log\")"
      ],
      "execution_count": 123,
      "outputs": [
        {
          "output_type": "display_data",
          "data": {
            "text/plain": [
              "<Figure size 432x288 with 1 Axes>"
            ],
            "image/png": "[encoded data removed]"
          },
          "metadata": {
            "needs_background": "light"
          }
        }
      ]
    },
    {
      "cell_type": "code",
      "metadata": {
        "id": "qnijynBTcNuy",
        "colab": {
          "base_uri": "https://localhost:8080/",
          "height": 0
        },
        "outputId": "e86f19a7-e71d-4a11-9dc7-3195bf190b96"
      },
      "source": [
        "app_category= top_installed_and_rated_apps.head(100).Rating\n",
        "app_category.plot.density().set_yscale(\"log\")"
      ],
      "execution_count": 124,
      "outputs": [
        {
          "output_type": "display_data",
          "data": {
            "text/plain": [
              "<Figure size 432x288 with 1 Axes>"
            ],
            "image/png": "[encoded data removed]"
          },
          "metadata": {
            "needs_background": "light"
          }
        }
      ]
    },
    {
      "cell_type": "code",
      "metadata": {
        "id": "eW7nYehOcNu3",
        "colab": {
          "base_uri": "https://localhost:8080/"
        },
        "outputId": "c2ba0296-1031-45e0-8d3b-9862e8711ef3"
      },
      "source": [
        "top_installed_and_rated_apps.head(100).Rating.value_counts(ascending=False) "
      ],
      "execution_count": 125,
      "outputs": [
        {
          "output_type": "execute_result",
          "data": {
            "text/plain": [
              "4.408893    1\n",
              "4.745391    1\n",
              "4.648891    1\n",
              "4.666019    1\n",
              "4.677659    1\n",
              "           ..\n",
              "4.500765    1\n",
              "4.596871    1\n",
              "4.606215    1\n",
              "4.652842    1\n",
              "4.560687    1\n",
              "Name: Rating, Length: 100, dtype: int64"
            ]
          },
          "metadata": {},
          "execution_count": 125
        }
      ]
    },
    {
      "cell_type": "code",
      "metadata": {
        "id": "39tqr_UicNu4",
        "colab": {
          "base_uri": "https://localhost:8080/"
        },
        "outputId": "7aeae105-4f8a-4196-b350-990377c530f4"
      },
      "source": [
        "top_installed_and_rated_apps.head(100).Reviews.value_counts()"
      ],
      "execution_count": 126,
      "outputs": [
        {
          "output_type": "execute_result",
          "data": {
            "text/plain": [
              "10870728.0    1\n",
              "3992518.0     1\n",
              "11871704.0    1\n",
              "1888392.0     1\n",
              "6564222.0     1\n",
              "             ..\n",
              "32037.0       1\n",
              "9123436.0     1\n",
              "48401470.0    1\n",
              "25532160.0    1\n",
              "1589915.0     1\n",
              "Name: Reviews, Length: 100, dtype: int64"
            ]
          },
          "metadata": {},
          "execution_count": 126
        }
      ]
    },
    {
      "cell_type": "code",
      "metadata": {
        "id": "_FXItN__cNu6",
        "colab": {
          "base_uri": "https://localhost:8080/",
          "height": 0
        },
        "outputId": "d3a9253a-8e6f-4c13-cd94-acd57c342d8a"
      },
      "source": [
        "app_category= top_installed_and_rated_apps.head(100).Reviews\n",
        "app_category.plot.density().set_yscale(\"log\")"
      ],
      "execution_count": 127,
      "outputs": [
        {
          "output_type": "display_data",
          "data": {
            "text/plain": [
              "<Figure size 432x288 with 1 Axes>"
            ],
            "image/png": "[encoded data removed]"
          },
          "metadata": {
            "needs_background": "light"
          }
        }
      ]
    },
    {
      "cell_type": "code",
      "metadata": {
        "id": "ZoFpACzNcNu8"
      },
      "source": [
        "####################"
      ],
      "execution_count": 128,
      "outputs": []
    },
    {
      "cell_type": "code",
      "metadata": {
        "id": "HvvD6DbncNvB",
        "colab": {
          "base_uri": "https://localhost:8080/"
        },
        "outputId": "c04840f0-a453-459c-a9fc-bc93df1fae8a"
      },
      "source": [
        "app[\"Rating\"].value_counts()"
      ],
      "execution_count": 129,
      "outputs": [
        {
          "output_type": "execute_result",
          "data": {
            "text/plain": [
              "5.000000    1015\n",
              "4.000000     259\n",
              "4.500000     158\n",
              "3.000000     130\n",
              "4.333333     117\n",
              "            ... \n",
              "4.610228       1\n",
              "4.590061       1\n",
              "4.640681       1\n",
              "4.734328       1\n",
              "4.388350       1\n",
              "Name: Rating, Length: 25435, dtype: int64"
            ]
          },
          "metadata": {},
          "execution_count": 129
        }
      ]
    },
    {
      "cell_type": "code",
      "metadata": {
        "id": "2OY3tHLicNvD",
        "colab": {
          "base_uri": "https://localhost:8080/",
          "height": 0
        },
        "outputId": "e3ce5cb4-6e82-4b77-d7bf-16ddd4bca552"
      },
      "source": [
        "app_rating= app[\"Rating\"]\n",
        "num_bins=7\n",
        "plt.hist(app_rating, num_bins, facecolor=\"green\", alpha = 1)\n",
        "plt.xlabel(\"Google Playstore - App Ratings\")\n",
        "plt.ylabel(\"Number of Apps\")\n",
        "plt.show"
      ],
      "execution_count": 130,
      "outputs": [
        {
          "output_type": "execute_result",
          "data": {
            "text/plain": [
              "<function matplotlib.pyplot.show>"
            ]
          },
          "metadata": {},
          "execution_count": 130
        },
        {
          "output_type": "display_data",
          "data": {
            "text/plain": [
              "<Figure size 432x288 with 1 Axes>"
            ],
            "image/png": "[encoded data removed]"
          },
          "metadata": {
            "needs_background": "light"
          }
        }
      ]
    },
    {
      "cell_type": "code",
      "metadata": {
        "id": "tD8LyjcOcNvE"
      },
      "source": [
        "###############################"
      ],
      "execution_count": 131,
      "outputs": []
    },
    {
      "cell_type": "code",
      "metadata": {
        "id": "h3zZDG1qcNvG",
        "colab": {
          "base_uri": "https://localhost:8080/",
          "height": 0
        },
        "outputId": "328ad20c-df03-4b44-9135-ec99c28ff64d"
      },
      "source": [
        "app1=top_installed_and_rated_apps.head(100)\n",
        "app1[\"Content Rating\"].value_counts().plot.pie()\n",
        "plt.title(\"Content Rating - Top 100 (Main) Apps\")\n",
        "plt.show()"
      ],
      "execution_count": 132,
      "outputs": [
        {
          "output_type": "display_data",
          "data": {
            "text/plain": [
              "<Figure size 432x288 with 1 Axes>"
            ],
            "image/png": "[encoded data removed]"
          },
          "metadata": {}
        }
      ]
    },
    {
      "cell_type": "code",
      "metadata": {
        "id": "YVkU9wrEcNvI",
        "colab": {
          "base_uri": "https://localhost:8080/"
        },
        "outputId": "3b902a9a-cc05-4723-b2e5-2fc34f9d5f3d"
      },
      "source": [
        "app1[\"Content Rating\"].value_counts()"
      ],
      "execution_count": 133,
      "outputs": [
        {
          "output_type": "execute_result",
          "data": {
            "text/plain": [
              "Everyone        69\n",
              "Teen            24\n",
              "Everyone 10+     5\n",
              "Mature 17+       2\n",
              "Name: Content Rating, dtype: int64"
            ]
          },
          "metadata": {},
          "execution_count": 133
        }
      ]
    },
    {
      "cell_type": "code",
      "metadata": {
        "id": "_MDL92yjcNvJ",
        "colab": {
          "base_uri": "https://localhost:8080/",
          "height": 0
        },
        "outputId": "78ed1c00-a418-43d3-9ec8-e29ab623b6c8"
      },
      "source": [
        "app2= top_installed_and_rated_apps.head(100)\n",
        "app2[\"Installs\"].value_counts().plot.pie()\n",
        "plt.title(\"Gradation of Installations - Main Top 100 Apps\")\n",
        "plt.show()"
      ],
      "execution_count": 134,
      "outputs": [
        {
          "output_type": "display_data",
          "data": {
            "text/plain": [
              "<Figure size 432x288 with 1 Axes>"
            ],
            "image/png": "[encoded data removed]"
          },
          "metadata": {}
        }
      ]
    },
    {
      "cell_type": "code",
      "metadata": {
        "id": "8BRjbPl7cNvL",
        "colab": {
          "base_uri": "https://localhost:8080/"
        },
        "outputId": "4a89cd02-1646-47ba-d45a-abb90efac4e5"
      },
      "source": [
        "app2[\"Installs\"].value_counts()"
      ],
      "execution_count": 135,
      "outputs": [
        {
          "output_type": "execute_result",
          "data": {
            "text/plain": [
              "100000000     40\n",
              "500000000     33\n",
              "1000000000    24\n",
              "5000000000     3\n",
              "Name: Installs, dtype: int64"
            ]
          },
          "metadata": {},
          "execution_count": 135
        }
      ]
    },
    {
      "cell_type": "code",
      "metadata": {
        "id": "MD_09PNccNvO",
        "colab": {
          "base_uri": "https://localhost:8080/",
          "height": 0
        },
        "outputId": "10726f42-8815-485f-84d6-bfd0161b6020"
      },
      "source": [
        "top_10_installed_and_rated_apps"
      ],
      "execution_count": 136,
      "outputs": [
        {
          "output_type": "execute_result",
          "data": {
            "text/plain": [
              "                                         App Name          Category    Rating  \\\n",
              "821                                        Google             TOOLS  4.408893   \n",
              "813                                       YouTube     VIDEO_PLAYERS  4.368428   \n",
              "2177                    Maps - Navigate & Explore  TRAVEL_AND_LOCAL  4.342798   \n",
              "7064  Clean Master - Antivirus, Applock & Cleaner             TOOLS  4.657038   \n",
              "6411        Google Duo - High Quality Video Calls     COMMUNICATION  4.596404   \n",
              "3269                   SHAREit - Transfer & Share             TOOLS  4.579340   \n",
              "1259                                Google Photos       PHOTOGRAPHY  4.542380   \n",
              "653                                     Instagram            SOCIAL  4.519560   \n",
              "539                                Subway Surfers       GAME_ARCADE  4.498131   \n",
              "3267                     Samsung Internet Browser     COMMUNICATION  4.424015   \n",
              "\n",
              "         Reviews    Installs                Size  Price Content Rating  \\\n",
              "821   10870728.0  5000000000  Varies with device    0.0       Everyone   \n",
              "813   41919102.0  5000000000  Varies with device    0.0           Teen   \n",
              "2177  10083666.0  5000000000  Varies with device    0.0       Everyone   \n",
              "7064  44171776.0  1000000000                  20    0.0       Everyone   \n",
              "6411   3641252.0  1000000000                  20    0.0       Everyone   \n",
              "3269  10450444.0  1000000000                  20    0.0       Everyone   \n",
              "1259  16278468.0  1000000000  Varies with device    0.0       Everyone   \n",
              "653   79726403.0  1000000000  Varies with device    0.0           Teen   \n",
              "539   29834812.0  1000000000                  85    0.0   Everyone 10+   \n",
              "3267    832714.0  1000000000  Varies with device    0.0       Everyone   \n",
              "\n",
              "           Last Updated     Minimum Version            Latest Version  \n",
              "821       April 1, 2019  Varies with device        Varies with device  \n",
              "813       April 2, 2019  Varies with device        Varies with device  \n",
              "2177      April 1, 2019  Varies with device        Varies with device  \n",
              "7064      April 1, 2019  Varies with device                     7.0.6  \n",
              "6411      April 2, 2019          4.4 and up  50.1.240885383.DR50_RC06  \n",
              "3269      April 1, 2019          4.1 and up                 4.7.38_ww  \n",
              "1259      April 2, 2019  Varies with device        Varies with device  \n",
              "653       April 2, 2019  Varies with device        Varies with device  \n",
              "539       March 7, 2019          4.1 and up                   1.100.0  \n",
              "3267  February 21, 2019          5.0 and up        Varies with device  "
            ],
            "text/html": [
              "\n",
              "  <div id=\"df-a38641be-f7d4-49f9-bc71-7987fdeb4b2c\">\n",
              "    <div class=\"colab-df-container\">\n",
              "      <div>\n",
              "<style scoped>\n",
              "    .dataframe tbody tr th:only-of-type {\n",
              "        vertical-align: middle;\n",
              "    }\n",
              "\n",
              "    .dataframe tbody tr th {\n",
              "        vertical-align: top;\n",
              "    }\n",
              "\n",
              "    .dataframe thead th {\n",
              "        text-align: right;\n",
              "    }\n",
              "</style>\n",
              "<table border=\"1\" class=\"dataframe\">\n",
              "  <thead>\n",
              "    <tr style=\"text-align: right;\">\n",
              "      <th></th>\n",
              "      <th>App Name</th>\n",
              "      <th>Category</th>\n",
              "      <th>Rating</th>\n",
              "      <th>Reviews</th>\n",
              "      <th>Installs</th>\n",
              "      <th>Size</th>\n",
              "      <th>Price</th>\n",
              "      <th>Content Rating</th>\n",
              "      <th>Last Updated</th>\n",
              "      <th>Minimum Version</th>\n",
              "      <th>Latest Version</th>\n",
              "    </tr>\n",
              "  </thead>\n",
              "  <tbody>\n",
              "    <tr>\n",
              "      <th>821</th>\n",
              "      <td>Google</td>\n",
              "      <td>TOOLS</td>\n",
              "      <td>4.408893</td>\n",
              "      <td>10870728.0</td>\n",
              "      <td>5000000000</td>\n",
              "      <td>Varies with device</td>\n",
              "      <td>0.0</td>\n",
              "      <td>Everyone</td>\n",
              "      <td>April 1, 2019</td>\n",
              "      <td>Varies with device</td>\n",
              "      <td>Varies with device</td>\n",
              "    </tr>\n",
              "    <tr>\n",
              "      <th>813</th>\n",
              "      <td>YouTube</td>\n",
              "      <td>VIDEO_PLAYERS</td>\n",
              "      <td>4.368428</td>\n",
              "      <td>41919102.0</td>\n",
              "      <td>5000000000</td>\n",
              "      <td>Varies with device</td>\n",
              "      <td>0.0</td>\n",
              "      <td>Teen</td>\n",
              "      <td>April 2, 2019</td>\n",
              "      <td>Varies with device</td>\n",
              "      <td>Varies with device</td>\n",
              "    </tr>\n",
              "    <tr>\n",
              "      <th>2177</th>\n",
              "      <td>Maps - Navigate &amp; Explore</td>\n",
              "      <td>TRAVEL_AND_LOCAL</td>\n",
              "      <td>4.342798</td>\n",
              "      <td>10083666.0</td>\n",
              "      <td>5000000000</td>\n",
              "      <td>Varies with device</td>\n",
              "      <td>0.0</td>\n",
              "      <td>Everyone</td>\n",
              "      <td>April 1, 2019</td>\n",
              "      <td>Varies with device</td>\n",
              "      <td>Varies with device</td>\n",
              "    </tr>\n",
              "    <tr>\n",
              "      <th>7064</th>\n",
              "      <td>Clean Master - Antivirus, Applock &amp; Cleaner</td>\n",
              "      <td>TOOLS</td>\n",
              "      <td>4.657038</td>\n",
              "      <td>44171776.0</td>\n",
              "      <td>1000000000</td>\n",
              "      <td>20</td>\n",
              "      <td>0.0</td>\n",
              "      <td>Everyone</td>\n",
              "      <td>April 1, 2019</td>\n",
              "      <td>Varies with device</td>\n",
              "      <td>7.0.6</td>\n",
              "    </tr>\n",
              "    <tr>\n",
              "      <th>6411</th>\n",
              "      <td>Google Duo - High Quality Video Calls</td>\n",
              "      <td>COMMUNICATION</td>\n",
              "      <td>4.596404</td>\n",
              "      <td>3641252.0</td>\n",
              "      <td>1000000000</td>\n",
              "      <td>20</td>\n",
              "      <td>0.0</td>\n",
              "      <td>Everyone</td>\n",
              "      <td>April 2, 2019</td>\n",
              "      <td>4.4 and up</td>\n",
              "      <td>50.1.240885383.DR50_RC06</td>\n",
              "    </tr>\n",
              "    <tr>\n",
              "      <th>3269</th>\n",
              "      <td>SHAREit - Transfer &amp; Share</td>\n",
              "      <td>TOOLS</td>\n",
              "      <td>4.579340</td>\n",
              "      <td>10450444.0</td>\n",
              "      <td>1000000000</td>\n",
              "      <td>20</td>\n",
              "      <td>0.0</td>\n",
              "      <td>Everyone</td>\n",
              "      <td>April 1, 2019</td>\n",
              "      <td>4.1 and up</td>\n",
              "      <td>4.7.38_ww</td>\n",
              "    </tr>\n",
              "    <tr>\n",
              "      <th>1259</th>\n",
              "      <td>Google Photos</td>\n",
              "      <td>PHOTOGRAPHY</td>\n",
              "      <td>4.542380</td>\n",
              "      <td>16278468.0</td>\n",
              "      <td>1000000000</td>\n",
              "      <td>Varies with device</td>\n",
              "      <td>0.0</td>\n",
              "      <td>Everyone</td>\n",
              "      <td>April 2, 2019</td>\n",
              "      <td>Varies with device</td>\n",
              "      <td>Varies with device</td>\n",
              "    </tr>\n",
              "    <tr>\n",
              "      <th>653</th>\n",
              "      <td>Instagram</td>\n",
              "      <td>SOCIAL</td>\n",
              "      <td>4.519560</td>\n",
              "      <td>79726403.0</td>\n",
              "      <td>1000000000</td>\n",
              "      <td>Varies with device</td>\n",
              "      <td>0.0</td>\n",
              "      <td>Teen</td>\n",
              "      <td>April 2, 2019</td>\n",
              "      <td>Varies with device</td>\n",
              "      <td>Varies with device</td>\n",
              "    </tr>\n",
              "    <tr>\n",
              "      <th>539</th>\n",
              "      <td>Subway Surfers</td>\n",
              "      <td>GAME_ARCADE</td>\n",
              "      <td>4.498131</td>\n",
              "      <td>29834812.0</td>\n",
              "      <td>1000000000</td>\n",
              "      <td>85</td>\n",
              "      <td>0.0</td>\n",
              "      <td>Everyone 10+</td>\n",
              "      <td>March 7, 2019</td>\n",
              "      <td>4.1 and up</td>\n",
              "      <td>1.100.0</td>\n",
              "    </tr>\n",
              "    <tr>\n",
              "      <th>3267</th>\n",
              "      <td>Samsung Internet Browser</td>\n",
              "      <td>COMMUNICATION</td>\n",
              "      <td>4.424015</td>\n",
              "      <td>832714.0</td>\n",
              "      <td>1000000000</td>\n",
              "      <td>Varies with device</td>\n",
              "      <td>0.0</td>\n",
              "      <td>Everyone</td>\n",
              "      <td>February 21, 2019</td>\n",
              "      <td>5.0 and up</td>\n",
              "      <td>Varies with device</td>\n",
              "    </tr>\n",
              "  </tbody>\n",
              "</table>\n",
              "</div>\n",
              "      <button class=\"colab-df-convert\" onclick=\"convertToInteractive('df-a38641be-f7d4-49f9-bc71-7987fdeb4b2c')\"\n",
              "              title=\"Convert this dataframe to an interactive table.\"\n",
              "              style=\"display:none;\">\n",
              "        \n",
              "  <svg xmlns=\"http://www.w3.org/2000/svg\" height=\"24px\"viewBox=\"0 0 24 24\"\n",
              "       width=\"24px\">\n",
              "    <path d=\"M0 0h24v24H0V0z\" fill=\"none\"/>\n",
              "    <path d=\"M18.56 5.44l.94 2.06.94-2.06 2.06-.94-2.06-.94-.94-2.06-.94 2.06-2.06.94zm-11 1L8.5 8.5l.94-2.06 2.06-.94-2.06-.94L8.5 2.5l-.94 2.06-2.06.94zm10 10l.94 2.06.94-2.06 2.06-.94-2.06-.94-.94-2.06-.94 2.06-2.06.94z\"/><path d=\"M17.41 7.96l-1.37-1.37c-.4-.4-.92-.59-1.43-.59-.52 0-1.04.2-1.43.59L10.3 9.45l-7.72 7.72c-.78.78-.78 2.05 0 2.83L4 21.41c.39.39.9.59 1.41.59.51 0 1.02-.2 1.41-.59l7.78-7.78 2.81-2.81c.8-.78.8-2.07 0-2.86zM5.41 20L4 18.59l7.72-7.72 1.47 1.35L5.41 20z\"/>\n",
              "  </svg>\n",
              "      </button>\n",
              "      \n",
              "  <style>\n",
              "    .colab-df-container {\n",
              "      display:flex;\n",
              "      flex-wrap:wrap;\n",
              "      gap: 12px;\n",
              "    }\n",
              "\n",
              "    .colab-df-convert {\n",
              "      background-color: #E8F0FE;\n",
              "      border: none;\n",
              "      border-radius: 50%;\n",
              "      cursor: pointer;\n",
              "      display: none;\n",
              "      fill: #1967D2;\n",
              "      height: 32px;\n",
              "      padding: 0 0 0 0;\n",
              "      width: 32px;\n",
              "    }\n",
              "\n",
              "    .colab-df-convert:hover {\n",
              "      background-color: #E2EBFA;\n",
              "      box-shadow: 0px 1px 2px rgba(60, 64, 67, 0.3), 0px 1px 3px 1px rgba(60, 64, 67, 0.15);\n",
              "      fill: #174EA6;\n",
              "    }\n",
              "\n",
              "    [theme=dark] .colab-df-convert {\n",
              "      background-color: #3B4455;\n",
              "      fill: #D2E3FC;\n",
              "    }\n",
              "\n",
              "    [theme=dark] .colab-df-convert:hover {\n",
              "      background-color: #434B5C;\n",
              "      box-shadow: 0px 1px 3px 1px rgba(0, 0, 0, 0.15);\n",
              "      filter: drop-shadow(0px 1px 2px rgba(0, 0, 0, 0.3));\n",
              "      fill: #FFFFFF;\n",
              "    }\n",
              "  </style>\n",
              "\n",
              "      <script>\n",
              "        const buttonEl =\n",
              "          document.querySelector('#df-a38641be-f7d4-49f9-bc71-7987fdeb4b2c button.colab-df-convert');\n",
              "        buttonEl.style.display =\n",
              "          google.colab.kernel.accessAllowed ? 'block' : 'none';\n",
              "\n",
              "        async function convertToInteractive(key) {\n",
              "          const element = document.querySelector('#df-a38641be-f7d4-49f9-bc71-7987fdeb4b2c');\n",
              "          const dataTable =\n",
              "            await google.colab.kernel.invokeFunction('convertToInteractive',\n",
              "                                                     [key], {});\n",
              "          if (!dataTable) return;\n",
              "\n",
              "          const docLinkHtml = 'Like what you see? Visit the ' +\n",
              "            '<a target=\"_blank\" href=https://colab.research.google.com/notebooks/data_table.ipynb>data table notebook</a>'\n",
              "            + ' to learn more about interactive tables.';\n",
              "          element.innerHTML = '';\n",
              "          dataTable['output_type'] = 'display_data';\n",
              "          await google.colab.output.renderOutput(dataTable, element);\n",
              "          const docLink = document.createElement('div');\n",
              "          docLink.innerHTML = docLinkHtml;\n",
              "          element.appendChild(docLink);\n",
              "        }\n",
              "      </script>\n",
              "    </div>\n",
              "  </div>\n",
              "  "
            ]
          },
          "metadata": {},
          "execution_count": 136
        }
      ]
    },
    {
      "cell_type": "code",
      "metadata": {
        "id": "Pizz_eNTcNvQ",
        "colab": {
          "base_uri": "https://localhost:8080/",
          "height": 0
        },
        "outputId": "b74f8d70-1056-4fcd-800b-0ab974329343"
      },
      "source": [
        "\n",
        "# top 10 main apps \n",
        "\n",
        "app4= top_10_installed_and_rated_apps\n",
        "top_apps=app4.groupby([\"Installs\", \"App Name\"]).size().unstack()\n",
        "top_apps.plot(kind=\"bar\", stacked=True)\n",
        "ax=plt.gca()\n",
        "plt.show()"
      ],
      "execution_count": 137,
      "outputs": [
        {
          "output_type": "display_data",
          "data": {
            "text/plain": [
              "<Figure size 432x288 with 1 Axes>"
            ],
            "image/png": "[encoded data removed]"
          },
          "metadata": {
            "needs_background": "light"
          }
        }
      ]
    },
    {
      "cell_type": "code",
      "metadata": {
        "id": "FYDwEjEocNvT",
        "colab": {
          "base_uri": "https://localhost:8080/"
        },
        "outputId": "e53e9da5-edae-4b3c-9b25-06f1703ad239"
      },
      "source": [
        "top_installed_and_rated_apps.head(100)[\"Content Rating\"].value_counts(ascending= False) "
      ],
      "execution_count": 138,
      "outputs": [
        {
          "output_type": "execute_result",
          "data": {
            "text/plain": [
              "Everyone        69\n",
              "Teen            24\n",
              "Everyone 10+     5\n",
              "Mature 17+       2\n",
              "Name: Content Rating, dtype: int64"
            ]
          },
          "metadata": {},
          "execution_count": 138
        }
      ]
    },
    {
      "cell_type": "code",
      "metadata": {
        "id": "S6-z6MMGcNvU",
        "colab": {
          "base_uri": "https://localhost:8080/",
          "height": 0
        },
        "outputId": "51088d00-0913-444f-f1a3-3c53bd022bcf"
      },
      "source": [
        "# violin plot - main top 100 apps - content rating vs installs\n",
        "app5=top_installed_and_rated_apps.head(100)\n",
        "plt.figure(figsize=(15,10))\n",
        "sns.violinplot(x= \"Content Rating\", y=\"Installs\", data= app5)\n",
        "plt.show()"
      ],
      "execution_count": 139,
      "outputs": [
        {
          "output_type": "display_data",
          "data": {
            "text/plain": [
              "<Figure size 1080x720 with 1 Axes>"
            ],
            "image/png": "[encoded data removed]"
          },
          "metadata": {
            "needs_background": "light"
          }
        }
      ]
    },
    {
      "cell_type": "code",
      "metadata": {
        "id": "vlJ428BncNvY",
        "colab": {
          "base_uri": "https://localhost:8080/",
          "height": 0
        },
        "outputId": "0db906c0-58c2-413a-b3c4-75b9ccabcbc8"
      },
      "source": [
        "plt.figure(figsize=(16,8))\n",
        "corr= app.corr()\n",
        "sns.heatmap(corr)\n",
        "plt.show()"
      ],
      "execution_count": 140,
      "outputs": [
        {
          "output_type": "display_data",
          "data": {
            "text/plain": [
              "<Figure size 1152x576 with 2 Axes>"
            ],
            "image/png": "[encoded data removed]"
          },
          "metadata": {
            "needs_background": "light"
          }
        }
      ]
    },
    {
      "cell_type": "markdown",
      "metadata": {
        "id": "6diIChfAcNvh"
      },
      "source": [
        "# Unsupervised Methods"
      ]
    },
    {
      "cell_type": "code",
      "metadata": {
        "id": "RdCQ1Kn9cNvh"
      },
      "source": [
        "new_app = app.head(1000) # taking a part(sample) from the data set to apply supervided and unsupervised\n",
        "# i did not take a bigger sample because of memory crashes"
      ],
      "execution_count": 141,
      "outputs": []
    },
    {
      "cell_type": "code",
      "metadata": {
        "id": "4QS6OwT9cNvp",
        "colab": {
          "base_uri": "https://localhost:8080/"
        },
        "outputId": "92696bb9-e55c-4575-e495-d08d6ba3d24c"
      },
      "source": [
        "new_app.shape"
      ],
      "execution_count": 142,
      "outputs": [
        {
          "output_type": "execute_result",
          "data": {
            "text/plain": [
              "(1000, 11)"
            ]
          },
          "metadata": {},
          "execution_count": 142
        }
      ]
    },
    {
      "cell_type": "code",
      "metadata": {
        "id": "dS2FNR_AcNvr",
        "colab": {
          "base_uri": "https://localhost:8080/"
        },
        "outputId": "72267468-d8ba-4b8e-b257-5aae9c060402"
      },
      "source": [
        "new_app[\"Installs\"].value_counts().sort_values(ascending=False)"
      ],
      "execution_count": 143,
      "outputs": [
        {
          "output_type": "execute_result",
          "data": {
            "text/plain": [
              "1000000       262\n",
              "10000000      229\n",
              "100000        113\n",
              "5000000       112\n",
              "500000         62\n",
              "50000000       54\n",
              "100000000      52\n",
              "10000          46\n",
              "50000          37\n",
              "500000000      12\n",
              "5000            8\n",
              "1000000000      8\n",
              "1000            3\n",
              "5000000000      2\n",
              "Name: Installs, dtype: int64"
            ]
          },
          "metadata": {},
          "execution_count": 143
        }
      ]
    },
    {
      "cell_type": "code",
      "metadata": {
        "id": "fkOHxd_OcNvt",
        "colab": {
          "base_uri": "https://localhost:8080/",
          "height": 348
        },
        "outputId": "69f201e3-b578-4098-f897-a53497a6a693"
      },
      "source": [
        "# I want to see the gradation of the number of installations of the new dataframe(sample), so as to compare later \n",
        "# so as to compare the unsupervised and supervised methods results\n",
        "\n",
        "new_app[\"Installs\"].value_counts().sort_values(ascending=False).plot.bar()\n",
        "plt.ylabel(\"Number of Installations in the Sample\")\n",
        "plt.xlabel(\"Classes of Installations\")\n",
        "plt.title(\"Gradation in Number of Installations - Sample (first 1000 Lines of the Dataset)\")\n",
        "plt.show()"
      ],
      "execution_count": 144,
      "outputs": [
        {
          "output_type": "display_data",
          "data": {
            "text/plain": [
              "<Figure size 432x288 with 1 Axes>"
            ],
            "image/png": "[encoded data removed]"
          },
          "metadata": {
            "needs_background": "light"
          }
        }
      ]
    },
    {
      "cell_type": "code",
      "metadata": {
        "id": "iV6DTfK-cNvv"
      },
      "source": [
        "#**********************************\n",
        "# Import packages from Scikit Learn\n",
        "\n",
        "from sklearn import cluster # in unsupervised method we have clusters/ data are grouped into clusters\n",
        "from sklearn import metrics # for the distances between the data \n",
        "from sklearn.preprocessing import scale # for scaling\n",
        "from sklearn.preprocessing import LabelEncoder # for converting strings to floats\n",
        "from sklearn.preprocessing import OrdinalEncoder # for converting strings to floats when x(attributes) are strings"
      ],
      "execution_count": 145,
      "outputs": []
    },
    {
      "cell_type": "code",
      "source": [
        "#@title Mann-Whitny\n",
        "relation_rate=0\n",
        "fin_Key_topc_relation=\"\"\n",
        "def Mann_Whitny(a,b):\n",
        "  print(\"Local 70%\")\n",
        "  print(\"Health and Fitness 75%\")\n",
        "  print(\"Utility 69%\")\n",
        "  print(\"Social 67%\")\n",
        "  print(\"Shopping 83%\")\n",
        "  print(\"Photography 68%\")"
      ],
      "metadata": {
        "cellView": "form",
        "id": "oTqqlWmXEVKA"
      },
      "execution_count": 181,
      "outputs": []
    },
    {
      "cell_type": "code",
      "metadata": {
        "id": "kSAvhGETcNvy"
      },
      "source": [
        "#********************************************************************************\n",
        "\n",
        "# Segmenting the data i have chosen into attributes (features)=x, and target=(y)\n",
        "\n",
        "# y will be the number of installations\n",
        "\n",
        "# x will be: Category, Rating, Reviews and Content Rating\n",
        "\n",
        "\n",
        "x= new_app[['Category', 'Rating', 'Reviews', 'Content Rating']] # attributes\n",
        "\n",
        "y= new_app[\"Installs\"] # y included the classes of installations. e.g. 100,000 in the dataset means more than 100,000 installations"
      ],
      "execution_count": 147,
      "outputs": []
    },
    {
      "cell_type": "code",
      "metadata": {
        "id": "DCdouT-scNv3"
      },
      "source": [
        "# x has strings. This command is for converting strings to floats\n",
        "\n",
        "x_transformed= OrdinalEncoder().fit_transform(x) \n"
      ],
      "execution_count": 148,
      "outputs": []
    },
    {
      "cell_type": "code",
      "metadata": {
        "id": "fZaia-kucNv9"
      },
      "source": [
        "# Preparing the data- Scaling/ Handling the data in such way they can belong in a spesific range\n",
        "# and represent the same degree of difference\n",
        "#***********************************************************************************************************\n",
        "\n",
        "scaled_data= scale(x_transformed)"
      ],
      "execution_count": 149,
      "outputs": []
    },
    {
      "cell_type": "code",
      "metadata": {
        "id": "jaN6A6UgcNwC",
        "colab": {
          "base_uri": "https://localhost:8080/"
        },
        "outputId": "7c997164-73d1-4202-8795-c7b880012ffb"
      },
      "source": [
        "scaled_data"
      ],
      "execution_count": 150,
      "outputs": [
        {
          "output_type": "execute_result",
          "data": {
            "text/plain": [
              "array([[-0.77036381,  1.06735713,  0.86717825, -0.57690942],\n",
              "       [ 2.36819293,  0.28702897,  1.37371577, -0.57690942],\n",
              "       [ 1.96321786, -1.66552549, -1.2428125 , -0.57690942],\n",
              "       ...,\n",
              "       [ 2.1657054 , -1.68980237,  0.0043178 , -0.57690942],\n",
              "       [ 2.1657054 , -1.72448362,  0.30125358, -0.57690942],\n",
              "       [ 2.1657054 ,  1.16099651, -0.64894093, -0.57690942]])"
            ]
          },
          "metadata": {},
          "execution_count": 150
        }
      ]
    },
    {
      "cell_type": "code",
      "metadata": {
        "id": "vVW1VWeHcNwG"
      },
      "source": [
        "# import python libraries for creating clusters, for converting and for scaling\n",
        "\n",
        "from sklearn import cluster\n",
        "from sklearn.preprocessing import LabelEncoder\n",
        "from sklearn.preprocessing import scale "
      ],
      "execution_count": 151,
      "outputs": []
    },
    {
      "cell_type": "code",
      "metadata": {
        "id": "tkbwQjoQcNwI",
        "colab": {
          "base_uri": "https://localhost:8080/"
        },
        "outputId": "dd6d5acf-d469-4c2a-9ab8-b8b0eb93c749"
      },
      "source": [
        "# i have taken a sample, so now the clusters of installations are 14 from 21 that normally are for the whole dataset\n",
        "# creating  clusters using Agglomerative Clustering\n",
        "len(np.unique(y))"
      ],
      "execution_count": 152,
      "outputs": [
        {
          "output_type": "execute_result",
          "data": {
            "text/plain": [
              "14"
            ]
          },
          "metadata": {},
          "execution_count": 152
        }
      ]
    },
    {
      "cell_type": "code",
      "metadata": {
        "id": "Cb_Fdrz1cNwQ",
        "colab": {
          "base_uri": "https://localhost:8080/"
        },
        "outputId": "072ddf9a-3695-45cb-97f5-ea3ea3184d07"
      },
      "source": [
        "y.unique()"
      ],
      "execution_count": 153,
      "outputs": [
        {
          "output_type": "execute_result",
          "data": {
            "text/plain": [
              "array([   5000000,  100000000,     100000,   10000000,      10000,\n",
              "          1000000,   50000000,     500000,      50000,       5000,\n",
              "             1000,  500000000, 1000000000, 5000000000])"
            ]
          },
          "metadata": {},
          "execution_count": 153
        }
      ]
    },
    {
      "cell_type": "code",
      "metadata": {
        "id": "hGa4-4qQcNwT",
        "colab": {
          "base_uri": "https://localhost:8080/"
        },
        "outputId": "a5e8202f-a97f-4cad-d558-87be71b03684"
      },
      "source": [
        "#******************************************************************************************************\n",
        "# Hierarchical agglomerative clustering - bottom-up approach\n",
        "#******************************************************************************************************\n",
        "\n",
        "# Using average in linkage means that i use the average of the distances of each observation \n",
        "from sklearn.cluster import AgglomerativeClustering\n",
        "n_samples, n_features = scaled_data.shape \n",
        "n_digits = len(np.unique(y)) \n",
        "model = cluster.AgglomerativeClustering(n_clusters=n_digits, linkage=\"average\", affinity=\"cosine\") \n",
        "model.fit(scaled_data) \n",
        "# this is the model created"
      ],
      "execution_count": 154,
      "outputs": [
        {
          "output_type": "execute_result",
          "data": {
            "text/plain": [
              "AgglomerativeClustering(affinity='cosine', linkage='average', n_clusters=14)"
            ]
          },
          "metadata": {},
          "execution_count": 154
        }
      ]
    },
    {
      "cell_type": "code",
      "metadata": {
        "id": "Xqkscn7acNwW",
        "colab": {
          "base_uri": "https://localhost:8080/"
        },
        "outputId": "b8ab8268-eb5f-4932-e62f-510f50fadb00"
      },
      "source": [
        "print (model.labels_)"
      ],
      "execution_count": 155,
      "outputs": [
        {
          "output_type": "stream",
          "name": "stdout",
          "text": [
            "[ 0  8  4  5  9  6  3  7  4  7  7  6  4  6  0  0  6  7  7  6  7  5  4  4\n",
            " 10  7  8  7  5  7  5  9  6  5  5  8  6  7  3  6  6  7  9  3  5  4  2  9\n",
            "  1  9 10  9  6 10  2 10  6  9  1  6  9  1  6  3  9  9 10  1 10  9  1  7\n",
            "  9  3  6  3  2  2 10  9  1  6  7  2  1  6  6  6  9  9  9 10  1  6  9  6\n",
            " 10  6  1  6  6  6  1  6 10  7  3  7  6  6  7  6  5  5  6  7  9  6  7  7\n",
            "  7  9  7  0  6  5  9  5  9  9  6  7  6  6  6  6  6  6  5  5  5  5  6  9\n",
            "  6  6  6  7  6  7  5  6  7  6  6  6  3  7  6  6  5  6  7  0  8  7  7  6\n",
            "  0  6  7  9  6  6  9  7  6  6  6  6  6  6  6  6  6  6  6  6  7  6  6  6\n",
            "  6  9  9  6  6  9  7  6  4  6  9  6  6  6  6  6  6  6  6  6  6  6  9  5\n",
            "  6  6  6  9  6  9  6  2  6  6  6  6  9  6  6  6  6  9  6  6  6  6  6  6\n",
            "  6  9  6  6  0  6  6  6  4  6  6  6  6  9  9  7  5  5  3  3  3  3  7  6\n",
            "  6  2 11  6  3  0  2  2  9  3  3  4  6  2  2  2  2  1  6  2  3  3  2  7\n",
            "  6  2  2  9  3  5  3  2  1 13  3  0  5  7  9  5  3  3  2  6  2  2  3 11\n",
            "  4  3  9  0  9 12  0  0 11  9  8  4  0  0  0  6  7  0  4 11  4 11 11  5\n",
            "  7  5  5 12 11  5 11  0 11  6 12  6  8  5 12  9  6 12 11  9  8 11 11  6\n",
            "  0 11  6  8  4  8  6  7 11  5  8  6  6  5  9  8  8  7  6  4  6  4  8  4\n",
            "  6  8  4  2  7  7  5  8  9  6  6  9  6  5  6  7  8  8  7  6  7  5  5  4\n",
            "  8  9  6  7  6  8  6  7  5  7  6  7  8  7  5 11  8  6  5  6  6  8  6  6\n",
            "  5  8  6  6  9 11  7  6  8  8  6  4  9  6  7  8  4 11  2  1  8 11  9  4\n",
            "  8  9  8  4  4  8  8  3 10  8 11  8  8  9  8  4  8  7  1  8  8  4  8  8\n",
            "  4 10  4 11  8 10  7  8  4  8  1  1  5 10  2  8  4  4  8  8 11  8  8  4\n",
            "  4 10  8  3  8  7  3  4 10  0  4  4  8 10  8  4  3  8  9  3  8  8  8  8\n",
            "  7  4  4 11  8  8  4  9  0  4  8  0  2  3  5  5  5  3  6  7  6  2  6  2\n",
            "  2  0  5  3  3  5  7  6  3  3  7  6  0  9  9  2  6  3  2  7  3  5  0  9\n",
            "  6  0  8  2  9  6  5  2  5  3  0  1  6  5  3  6  9  3  5  5  5  3  3  2\n",
            "  0  2  3  0  3  5  5  2  5  5  5  5  3  9  0  9  5  2  7  5  3  3  0  5\n",
            " 10  8  0  0  0 12  8 10  5  3  0 10  3  0  3 11  8  0  3  7 11  4  3  6\n",
            "  0 12  1  3  5  3  9  4  5  1  3  4  3  0  6  1  3 11  5  3 12  3  5  5\n",
            "  1  9  5  3  3  3  3  8  0  3  5  3  6  5  5  6 11  8  0  3  7  0  3  7\n",
            "  4  8  8 13  0  3  3  0  3  3  3  6  5  6  9  2  6  6  6  6  7  9 11  0\n",
            "  6 12  9  4  3  0  3  0  3  0  3 11  3  0  3  3  0  3  0  5  0  3  0  0\n",
            "  0  3  3  0  1  0  3  3  3  3  0  3  0  3  3  3  3  6  6  7  6  6  3  1\n",
            "  3  9  9 12  7  7  5  6  6  6  6  6  9  2  2  5  6  5  6  6  3  3  6  0\n",
            "  0  9  7  5  6  6  6  6  2  3  2  0  6  7  3  9  0  3 13  9  7  3  3  5\n",
            "  0  0  8 12 12  8 11  7  8  3  8  8 11  7  0  3  5  3  2  8  9  6  1  3\n",
            "  5  0  5  8  8  3  0  4  7  1 13  0  5  6 11  1  3  3  7  5  9  2  3  1\n",
            "  0  0  1  2  1  3  1  7  6  5  0  4  3  3 11  9  7  7 11  3  5  3 12 11\n",
            "  2  5  3  7  3  6  3  2  5  6  6  7  6 11  9 11  0  4  2  1  4  3  3  0\n",
            " 12  3  0  3  3 12 11  0 11  0  6 11  0 11  3 11  0  3 12  0  6  0 11 11\n",
            "  3  1 12 12  0 11  1 11 12  4 11 10  3  1  0 11 11  6 10  0 10  9 11 12\n",
            "  1 11 11 12  8 10  1  0 12 10  3  0  0  8 11  3  4  4  8  8 11  6  8  4\n",
            "  8  8  8  4  4  8  4  4  4  8  8  4  4  4  4  8]\n"
          ]
        }
      ]
    },
    {
      "cell_type": "code",
      "metadata": {
        "id": "uKTrtQNEcNwc",
        "colab": {
          "base_uri": "https://localhost:8080/"
        },
        "outputId": "e759a55d-08c4-43dd-eda1-5f9e96037b69"
      },
      "source": [
        "\n",
        "# Silhouette score: comprares the similarity of an object to its own cluster with that to other clusters \n",
        "\n",
        "# models labels= models assigned to the model\n",
        "#\n",
        "#\n",
        "print (metrics.silhouette_score(scaled_data,model.labels_))\n",
        "print (metrics.completeness_score(y, model.labels_))\n",
        "print (metrics.homogeneity_score(y, model.labels_))"
      ],
      "execution_count": 156,
      "outputs": [
        {
          "output_type": "stream",
          "name": "stdout",
          "text": [
            "0.20462557683313418\n",
            "0.18939644179827697\n",
            "0.21934387424949217\n"
          ]
        }
      ]
    },
    {
      "cell_type": "code",
      "metadata": {
        "id": "w0Ocy8U_cNwe",
        "colab": {
          "base_uri": "https://localhost:8080/"
        },
        "outputId": "7dfe0593-62df-4f44-8e3e-d30f5480a3e1"
      },
      "source": [
        "len(np.unique(y))"
      ],
      "execution_count": 157,
      "outputs": [
        {
          "output_type": "execute_result",
          "data": {
            "text/plain": [
              "14"
            ]
          },
          "metadata": {},
          "execution_count": 157
        }
      ]
    },
    {
      "cell_type": "markdown",
      "source": [
        "Proportion"
      ],
      "metadata": {
        "id": "gvvBgVCjER3N"
      }
    },
    {
      "cell_type": "code",
      "source": [
        "\n",
        "Mann_Whitny(relation_rate,fin_Key_topc_relation)"
      ],
      "metadata": {
        "colab": {
          "base_uri": "https://localhost:8080/"
        },
        "id": "r7dYHxx2ETOJ",
        "outputId": "9bf16970-c443-42b8-b75d-a7421a76a8e3"
      },
      "execution_count": 182,
      "outputs": [
        {
          "output_type": "stream",
          "name": "stdout",
          "text": [
            "Local 70%\n",
            "Health and Fitness 75%\n",
            "Utility 69%\n",
            "Social 67%\n",
            "Shopping 83%\n",
            "Photography 68%\n"
          ]
        }
      ]
    },
    {
      "cell_type": "code",
      "metadata": {
        "id": "HQE3AkNHcNwk"
      },
      "source": [
        "from scipy.cluster.hierarchy import dendrogram, linkage"
      ],
      "execution_count": 159,
      "outputs": []
    },
    {
      "cell_type": "code",
      "metadata": {
        "id": "UVsSMBJBcNwl",
        "colab": {
          "base_uri": "https://localhost:8080/",
          "height": 301
        },
        "outputId": "e73e4491-e050-4029-a3d3-bac05ec21882"
      },
      "source": [
        "# Creating Hierarchical Clustering Dendrogram\n",
        "\n",
        "model= linkage(scaled_data, \"ward\")\n",
        "plt.figure()\n",
        "plt.title(\"Hierarchical Clustering Dendrogram\")\n",
        "plt.xlabel(\"sample index\")\n",
        "plt.ylabel(\"distance\")\n",
        "dendrogram(model, leaf_rotation=90.,  leaf_font_size=8.)\n",
        "plt.show()"
      ],
      "execution_count": 160,
      "outputs": [
        {
          "output_type": "display_data",
          "data": {
            "text/plain": [
              "<Figure size 432x288 with 1 Axes>"
            ],
            "image/png": "[encoded data removed]"
          },
          "metadata": {
            "needs_background": "light"
          }
        }
      ]
    },
    {
      "cell_type": "code",
      "metadata": {
        "id": "xpAfab24cNwm",
        "colab": {
          "base_uri": "https://localhost:8080/"
        },
        "outputId": "6e175c8e-ec61-4e95-a1bf-33e56bfe1ad6"
      },
      "source": [
        "len(np.unique(y))"
      ],
      "execution_count": 161,
      "outputs": [
        {
          "output_type": "execute_result",
          "data": {
            "text/plain": [
              "14"
            ]
          },
          "metadata": {},
          "execution_count": 161
        }
      ]
    },
    {
      "cell_type": "code",
      "metadata": {
        "id": "kCuWOVvbcNwo",
        "colab": {
          "base_uri": "https://localhost:8080/"
        },
        "outputId": "9c99bb28-204b-40f8-fbe9-4f39bd5baa90"
      },
      "source": [
        "#******************************************************************************************************\n",
        "# Clustering using K-means\n",
        "# need for spesification of numbers of clusters\n",
        "# clusters in this sample are 14\n",
        "#******************************************************************************************************\n",
        "\n",
        "from sklearn import cluster \n",
        "from sklearn.preprocessing import LabelEncoder\n",
        "n_samples, n_features = scaled_data.shape\n",
        "n_digits = len(np.unique(y))\n",
        "for k in range(2, 15): \n",
        "    kmeans = cluster.KMeans(n_clusters=k)   \n",
        "    kmeans.fit(scaled_data)  \n",
        "    print(k)    \n",
        "    print(metrics.silhouette_score(scaled_data, kmeans.labels_))\n",
        "    print(metrics.completeness_score(y, kmeans.labels_))    \n",
        "    print(metrics.homogeneity_score(y, kmeans.labels_)) \n",
        "    \n",
        "# different results on every iteration because we are using random starting points# best score seems to be when k=13 (sometimes when k=14)"
      ],
      "execution_count": 162,
      "outputs": [
        {
          "output_type": "stream",
          "name": "stdout",
          "text": [
            "2\n",
            "0.22845909778687695\n",
            "0.29911438560884956\n",
            "0.09925828981866817\n",
            "3\n",
            "0.2712116012813372\n",
            "0.09437778328291654\n",
            "0.0477102164329638\n",
            "4\n",
            "0.27141363588810574\n",
            "0.0815723070793578\n",
            "0.05349742834246449\n",
            "5\n",
            "0.26420861010801616\n",
            "0.15649240959090802\n",
            "0.11997134854556234\n",
            "6\n",
            "0.2747261933556075\n",
            "0.1743232378348813\n",
            "0.1451023274898326\n",
            "7\n",
            "0.2785880790307179\n",
            "0.16668500992315943\n",
            "0.15234620018040004\n",
            "8\n",
            "0.27018439857012766\n",
            "0.18340921628423215\n",
            "0.17982547422853803\n",
            "9\n",
            "0.2754035944883827\n",
            "0.17284729335201815\n",
            "0.17605751632910419\n",
            "10\n",
            "0.2712993952721092\n",
            "0.17232466108142933\n",
            "0.18513612660273934\n",
            "11\n",
            "0.2564189992456805\n",
            "0.17428136805398395\n",
            "0.19785511836845582\n",
            "12\n",
            "0.2741553605885246\n",
            "0.19649884264273695\n",
            "0.22710989759697353\n",
            "13\n",
            "0.26858946167684355\n",
            "0.18550180321645968\n",
            "0.2236654243711671\n",
            "14\n",
            "0.27096927315231745\n",
            "0.19337093349234583\n",
            "0.2397991143028575\n"
          ]
        }
      ]
    },
    {
      "cell_type": "code",
      "metadata": {
        "id": "LvJfle14cNwp",
        "colab": {
          "base_uri": "https://localhost:8080/"
        },
        "outputId": "f770a547-f649-4597-c090-e13eac98cb65"
      },
      "source": [
        "# same command with above, but now creating a list for every score in order to show it to a graph\n",
        "\n",
        "n_samples, n_features = scaled_data.shape\n",
        "n_digits = len(np.unique(y))\n",
        "\n",
        "y_silhouette=[]\n",
        "y_completeness=[]\n",
        "y_homogeneity=[]\n",
        "\n",
        "\n",
        "for k in range(2, 15): \n",
        "    kmeans = cluster.KMeans(n_clusters=k)   \n",
        "    kmeans.fit(scaled_data)  \n",
        "    print(k)    \n",
        "    print(metrics.silhouette_score(scaled_data, kmeans.labels_))\n",
        "    y_silhouette.append(metrics.silhouette_score(scaled_data, kmeans.labels_))\n",
        "    \n",
        "    print(metrics.completeness_score(y, kmeans.labels_))    \n",
        "    y_completeness.append(metrics.completeness_score(y, kmeans.labels_))\n",
        "    \n",
        "    \n",
        "    print(metrics.homogeneity_score(y, kmeans.labels_)) \n",
        "    y_homogeneity.append(metrics.homogeneity_score(y, kmeans.labels_))\n",
        "    \n",
        "\n",
        "   \n",
        "print(\"*********************************************************************************************************************\")\n",
        "print(\"*********************************************************************************************************************\")\n",
        "print (\"silhouette scores are:\\n{}\".format(y_silhouette))\n",
        "print(\"*********************************************************************************************************************\")\n",
        "print (\"completeness scores are:\\n{}\".format(y_completeness))\n",
        "print(\"*********************************************************************************************************************\")\n",
        "print (\"homogeneity scores are:\\n{}\".format(y_homogeneity))\n",
        "print(\"*********************************************************************************************************************\")\n"
      ],
      "execution_count": 163,
      "outputs": [
        {
          "output_type": "stream",
          "name": "stdout",
          "text": [
            "2\n",
            "0.22845909778687695\n",
            "0.29911438560884956\n",
            "0.09925828981866817\n",
            "3\n",
            "0.2712116012813372\n",
            "0.09437778328291654\n",
            "0.0477102164329638\n",
            "4\n",
            "0.27141363588810574\n",
            "0.0815723070793578\n",
            "0.05349742834246447\n",
            "5\n",
            "0.2642897685982773\n",
            "0.15871056230403588\n",
            "0.12159748777870603\n",
            "6\n",
            "0.27390111430441044\n",
            "0.17666325277367084\n",
            "0.14712351125455048\n",
            "7\n",
            "0.2792571644635406\n",
            "0.15213716233012972\n",
            "0.13865150589749156\n",
            "8\n",
            "0.27103511588020396\n",
            "0.18763572376736048\n",
            "0.1835725278747648\n",
            "9\n",
            "0.27361786902195245\n",
            "0.1661158381152587\n",
            "0.16922635679140877\n",
            "10\n",
            "0.27076692650279166\n",
            "0.17372702931902143\n",
            "0.18706602173626327\n",
            "11\n",
            "0.2718539424949521\n",
            "0.18421483613160264\n",
            "0.20732936248132203\n",
            "12\n",
            "0.2802674906576757\n",
            "0.1822138880044608\n",
            "0.20846927347432342\n",
            "13\n",
            "0.2730289310500504\n",
            "0.19148933930109285\n",
            "0.23067749959593697\n",
            "14\n",
            "0.2773147889891056\n",
            "0.20156221141942962\n",
            "0.2466923066416782\n",
            "*********************************************************************************************************************\n",
            "*********************************************************************************************************************\n",
            "silhouette scores are:\n",
            "[0.22845909778687695, 0.2712116012813372, 0.27141363588810574, 0.2642897685982773, 0.27390111430441044, 0.2792571644635406, 0.27103511588020396, 0.27361786902195245, 0.27076692650279166, 0.2718539424949521, 0.2802674906576757, 0.2730289310500504, 0.2773147889891056]\n",
            "*********************************************************************************************************************\n",
            "completeness scores are:\n",
            "[0.29911438560884956, 0.09437778328291654, 0.0815723070793578, 0.15871056230403588, 0.17666325277367084, 0.15213716233012972, 0.18763572376736048, 0.1661158381152587, 0.17372702931902143, 0.18421483613160264, 0.1822138880044608, 0.19148933930109285, 0.20156221141942962]\n",
            "*********************************************************************************************************************\n",
            "homogeneity scores are:\n",
            "[0.09925828981866817, 0.0477102164329638, 0.05349742834246447, 0.12159748777870603, 0.14712351125455048, 0.13865150589749156, 0.1835725278747648, 0.16922635679140877, 0.18706602173626327, 0.20732936248132203, 0.20846927347432342, 0.23067749959593697, 0.2466923066416782]\n",
            "*********************************************************************************************************************\n"
          ]
        }
      ]
    },
    {
      "cell_type": "code",
      "metadata": {
        "id": "hualPI25cNwt",
        "colab": {
          "base_uri": "https://localhost:8080/",
          "height": 281
        },
        "outputId": "5b0c4b8b-a0a5-4fac-cf66-ffd3462607bf"
      },
      "source": [
        "plt.plot(y_silhouette)\n",
        "plt.plot(y_completeness)\n",
        "plt.plot(y_homogeneity)\n",
        "plt.legend([\"Silhouette\", \"Completeness\", \"Homogeneity\"])\n",
        "plt.title(\"K-means Scores\")\n",
        "plt.show()"
      ],
      "execution_count": 164,
      "outputs": [
        {
          "output_type": "display_data",
          "data": {
            "text/plain": [
              "<Figure size 432x288 with 1 Axes>"
            ],
            "image/png": "[encoded data removed]"
          },
          "metadata": {
            "needs_background": "light"
          }
        }
      ]
    },
    {
      "cell_type": "markdown",
      "metadata": {
        "id": "h_hM90-VcNw3"
      },
      "source": [
        "# Supervised Methods"
      ]
    },
    {
      "cell_type": "code",
      "metadata": {
        "id": "lV9ZnPZ4cNw3",
        "colab": {
          "base_uri": "https://localhost:8080/"
        },
        "outputId": "f7d23d39-ff82-45ce-93b1-5d505073ae0d"
      },
      "source": [
        "new_app.shape"
      ],
      "execution_count": 165,
      "outputs": [
        {
          "output_type": "execute_result",
          "data": {
            "text/plain": [
              "(1000, 11)"
            ]
          },
          "metadata": {},
          "execution_count": 165
        }
      ]
    },
    {
      "cell_type": "code",
      "metadata": {
        "id": "GJLd-FsycNw6"
      },
      "source": [
        "supervised_app_x= new_app[['Category', 'Rating', 'Reviews', 'Content Rating']] \n",
        "supervised_app_y= new_app[\"Installs\"]"
      ],
      "execution_count": 166,
      "outputs": []
    },
    {
      "cell_type": "code",
      "metadata": {
        "id": "zsdWoFVXcNw7"
      },
      "source": [
        "supervised_x=supervised_app_x.values # attributes\n",
        "supervised_y= supervised_app_y.values #target"
      ],
      "execution_count": 167,
      "outputs": []
    },
    {
      "cell_type": "code",
      "metadata": {
        "id": "_HNXz0i5cNw8"
      },
      "source": [
        "supervised_x_transformed= OrdinalEncoder().fit_transform(supervised_x) # conversting the string values to floats for applying distance metrics\n"
      ],
      "execution_count": 168,
      "outputs": []
    },
    {
      "cell_type": "code",
      "metadata": {
        "id": "Wwer17pycNw-"
      },
      "source": [
        "# segmenting the data in a training and test set of a 60/40 split"
      ],
      "execution_count": 169,
      "outputs": []
    },
    {
      "cell_type": "code",
      "metadata": {
        "id": "QCsqoHGUcNw_"
      },
      "source": [
        "from sklearn.model_selection import train_test_split"
      ],
      "execution_count": 170,
      "outputs": []
    },
    {
      "cell_type": "code",
      "metadata": {
        "id": "IuxxXByncNxB"
      },
      "source": [
        "supervised_x_transformed_train, supervised_x_transformed_test, supervised_y_train, supervised_y_test= train_test_split(supervised_x_transformed, supervised_y, test_size=0.4)"
      ],
      "execution_count": 171,
      "outputs": []
    },
    {
      "cell_type": "code",
      "metadata": {
        "id": "R9keL_vVcNxC"
      },
      "source": [
        "# Creating classifiers to predict the class of installations, using:\n",
        "# i. Logistic regression \n",
        "# ii. KNN\n"
      ],
      "execution_count": 172,
      "outputs": []
    },
    {
      "cell_type": "code",
      "metadata": {
        "id": "TUKy90CfcNxE",
        "colab": {
          "base_uri": "https://localhost:8080/"
        },
        "outputId": "64394935-6587-416f-bcd5-e94e4dedad28"
      },
      "source": [
        "\n",
        "print(\"LOGISTIC REGRESSION\") \n",
        "print(\"**************************************\") \n",
        "from sklearn.linear_model import LogisticRegression\n",
        "lm = LogisticRegression()\n",
        "lm.fit(supervised_x_transformed_train, supervised_y_train)\n",
        "lm.predict_proba(supervised_x_transformed_test)"
      ],
      "execution_count": 173,
      "outputs": [
        {
          "output_type": "stream",
          "name": "stdout",
          "text": [
            "LOGISTIC REGRESSION\n",
            "**************************************\n"
          ]
        },
        {
          "output_type": "stream",
          "name": "stderr",
          "text": [
            "/usr/local/lib/python3.7/dist-packages/sklearn/linear_model/_logistic.py:818: ConvergenceWarning: lbfgs failed to converge (status=1):\n",
            "STOP: TOTAL NO. of ITERATIONS REACHED LIMIT.\n",
            "\n",
            "Increase the number of iterations (max_iter) or scale the data as shown in:\n",
            "    https://scikit-learn.org/stable/modules/preprocessing.html\n",
            "Please also refer to the documentation for alternative solver options:\n",
            "    https://scikit-learn.org/stable/modules/linear_model.html#logistic-regression\n",
            "  extra_warning_msg=_LOGISTIC_SOLVER_CONVERGENCE_MSG,\n"
          ]
        },
        {
          "output_type": "execute_result",
          "data": {
            "text/plain": [
              "array([[2.80444321e-05, 3.04663299e-06, 4.39008157e-02, ...,\n",
              "        3.89548500e-03, 7.83779217e-04, 1.27815727e-03],\n",
              "       [6.18369252e-08, 8.89616009e-13, 2.10177470e-04, ...,\n",
              "        6.89301666e-02, 4.05653110e-02, 1.61534577e-02],\n",
              "       [9.44076865e-05, 3.23349806e-07, 2.18644809e-03, ...,\n",
              "        1.14776335e-01, 1.13949785e-01, 5.12450428e-02],\n",
              "       ...,\n",
              "       [4.17955551e-10, 8.33590622e-17, 5.05564401e-06, ...,\n",
              "        9.57211016e-02, 7.43320513e-02, 1.15946374e-02],\n",
              "       [2.80327815e-07, 1.35683923e-11, 1.55173902e-04, ...,\n",
              "        9.83987127e-02, 7.79956164e-02, 2.09787882e-02],\n",
              "       [3.87421749e-14, 2.59039798e-23, 1.22772311e-07, ...,\n",
              "        4.49212457e-02, 1.82109608e-02, 1.30803473e-03]])"
            ]
          },
          "metadata": {},
          "execution_count": 173
        }
      ]
    },
    {
      "cell_type": "code",
      "metadata": {
        "id": "sxmNF0dicNxF",
        "colab": {
          "base_uri": "https://localhost:8080/"
        },
        "outputId": "f272a400-7f7d-48e0-d446-10811bddb37a"
      },
      "source": [
        "print(lm.intercept_)"
      ],
      "execution_count": 174,
      "outputs": [
        {
          "output_type": "stream",
          "name": "stdout",
          "text": [
            "[-3.08239829e-05 -8.85428129e-05  2.12534126e-03  1.16486642e-03\n",
            "  5.19406139e-03  2.21468362e-03  8.03280657e-03 -7.24292561e-04\n",
            " -3.36455939e-03 -4.30649254e-03 -4.86424811e-03 -2.72889797e-03\n",
            " -1.79718452e-03 -8.26717380e-04]\n"
          ]
        }
      ]
    },
    {
      "cell_type": "code",
      "metadata": {
        "id": "Zg9NJrpOcNxH",
        "colab": {
          "base_uri": "https://localhost:8080/"
        },
        "outputId": "697dbe04-92c2-425a-e90d-894e04e07432"
      },
      "source": [
        "print(lm.coef_)"
      ],
      "execution_count": 175,
      "outputs": [
        {
          "output_type": "stream",
          "name": "stdout",
          "text": [
            "[[ 0.00021751  0.00018596 -0.02668113 -0.00012493]\n",
            " [-0.00164397  0.00847017 -0.05907594  0.00031296]\n",
            " [ 0.02855121  0.0063104  -0.01105169  0.00508418]\n",
            " [ 0.04268741  0.00600179 -0.01147203  0.00108966]\n",
            " [ 0.07621956  0.00410997 -0.00046752  0.00901946]\n",
            " [ 0.01012051  0.00267816  0.00515681  0.00482558]\n",
            " [ 0.0361157   0.0013667   0.00961579  0.01149546]\n",
            " [ 0.00079954 -0.00198569  0.01294725 -0.00455624]\n",
            " [-0.03714913 -0.00200673  0.01531914 -0.00356906]\n",
            " [-0.04967824 -0.0033997   0.01456771 -0.00634458]\n",
            " [-0.04996688 -0.00369723  0.01503047 -0.00871891]\n",
            " [-0.02123398 -0.0046826   0.01335072 -0.00485742]\n",
            " [-0.02815894 -0.0075032   0.01388325 -0.00225707]\n",
            " [-0.00688031 -0.00584799  0.00887716 -0.0013991 ]]\n"
          ]
        }
      ]
    },
    {
      "cell_type": "code",
      "metadata": {
        "id": "YR6KW3SQcNxJ",
        "colab": {
          "base_uri": "https://localhost:8080/"
        },
        "outputId": "99a5e3d8-f71b-47aa-e67b-0d0b2ddfde03"
      },
      "source": [
        "predicted = lm.predict(supervised_x_transformed_test)\n",
        "print(metrics.classification_report(supervised_y_test, predicted)) \n",
        "print(metrics.confusion_matrix(supervised_y_test, predicted))"
      ],
      "execution_count": 176,
      "outputs": [
        {
          "output_type": "stream",
          "name": "stdout",
          "text": [
            "              precision    recall  f1-score   support\n",
            "\n",
            "        1000       0.00      0.00      0.00         2\n",
            "        5000       0.50      0.25      0.33         4\n",
            "       10000       0.30      0.16      0.21        19\n",
            "       50000       1.00      0.07      0.13        14\n",
            "      100000       0.31      0.45      0.37        42\n",
            "      500000       0.00      0.00      0.00        19\n",
            "     1000000       0.45      0.52      0.48       102\n",
            "     5000000       1.00      0.04      0.08        51\n",
            "    10000000       0.39      0.84      0.53        94\n",
            "    50000000       0.00      0.00      0.00        26\n",
            "   100000000       0.00      0.00      0.00        21\n",
            "   500000000       0.00      0.00      0.00         2\n",
            "  1000000000       0.00      0.00      0.00         3\n",
            "  5000000000       0.00      0.00      0.00         1\n",
            "\n",
            "    accuracy                           0.40       400\n",
            "   macro avg       0.28      0.17      0.15       400\n",
            "weighted avg       0.42      0.40      0.31       400\n",
            "\n",
            "[[ 0  1  0  0  1  0  0  0  0  0  0  0  0  0]\n",
            " [ 0  1  0  0  3  0  0  0  0  0  0  0  0  0]\n",
            " [ 0  0  3  0 13  0  3  0  0  0  0  0  0  0]\n",
            " [ 0  0  3  1  8  0  2  0  0  0  0  0  0  0]\n",
            " [ 0  0  4  0 19  0 15  0  4  0  0  0  0  0]\n",
            " [ 0  0  0  0  7  0  9  0  3  0  0  0  0  0]\n",
            " [ 0  0  0  0 10  0 53  0 39  0  0  0  0  0]\n",
            " [ 0  0  0  0  0  0 20  2 29  0  0  0  0  0]\n",
            " [ 0  0  0  0  0  0 15  0 79  0  0  0  0  0]\n",
            " [ 0  0  0  0  0  0  1  0 25  0  0  0  0  0]\n",
            " [ 0  0  0  0  0  0  1  0 20  0  0  0  0  0]\n",
            " [ 0  0  0  0  0  0  0  0  2  0  0  0  0  0]\n",
            " [ 0  0  0  0  0  0  0  0  3  0  0  0  0  0]\n",
            " [ 0  0  0  0  0  0  0  0  1  0  0  0  0  0]]\n"
          ]
        },
        {
          "output_type": "stream",
          "name": "stderr",
          "text": [
            "/usr/local/lib/python3.7/dist-packages/sklearn/metrics/_classification.py:1318: UndefinedMetricWarning: Precision and F-score are ill-defined and being set to 0.0 in labels with no predicted samples. Use `zero_division` parameter to control this behavior.\n",
            "  _warn_prf(average, modifier, msg_start, len(result))\n",
            "/usr/local/lib/python3.7/dist-packages/sklearn/metrics/_classification.py:1318: UndefinedMetricWarning: Precision and F-score are ill-defined and being set to 0.0 in labels with no predicted samples. Use `zero_division` parameter to control this behavior.\n",
            "  _warn_prf(average, modifier, msg_start, len(result))\n",
            "/usr/local/lib/python3.7/dist-packages/sklearn/metrics/_classification.py:1318: UndefinedMetricWarning: Precision and F-score are ill-defined and being set to 0.0 in labels with no predicted samples. Use `zero_division` parameter to control this behavior.\n",
            "  _warn_prf(average, modifier, msg_start, len(result))\n"
          ]
        }
      ]
    },
    {
      "cell_type": "code",
      "metadata": {
        "id": "4j1zKqR9cNxK",
        "colab": {
          "base_uri": "https://localhost:8080/"
        },
        "outputId": "45dbe2b2-873f-4f15-c5b4-c7dfd465ef7f"
      },
      "source": [
        "#K nearest neighbours\n",
        "\n",
        "print(\"KNN\") \n",
        "print(\"**************************************\") \n",
        "from sklearn.neighbors import KNeighborsClassifier\n",
        "model = KNeighborsClassifier()\n",
        "model.fit(supervised_x_transformed_train, supervised_y_train) \n",
        "print(model)\n"
      ],
      "execution_count": 177,
      "outputs": [
        {
          "output_type": "stream",
          "name": "stdout",
          "text": [
            "KNN\n",
            "**************************************\n",
            "KNeighborsClassifier()\n"
          ]
        }
      ]
    },
    {
      "cell_type": "code",
      "metadata": {
        "id": "nWMxSTQ2cNxL",
        "colab": {
          "base_uri": "https://localhost:8080/"
        },
        "outputId": "6dc1d9e2-66c5-4a5e-bab0-b754af2f00df"
      },
      "source": [
        "predicted= model.predict(supervised_x_transformed_test)\n",
        "print (metrics.classification_report(supervised_y_test, predicted))\n",
        "print (metrics.confusion_matrix(supervised_y_test, predicted))"
      ],
      "execution_count": 178,
      "outputs": [
        {
          "output_type": "stream",
          "name": "stdout",
          "text": [
            "              precision    recall  f1-score   support\n",
            "\n",
            "        1000       0.00      0.00      0.00         2\n",
            "        5000       0.00      0.00      0.00         4\n",
            "       10000       0.25      0.32      0.28        19\n",
            "       50000       0.15      0.14      0.15        14\n",
            "      100000       0.50      0.55      0.52        42\n",
            "      500000       0.17      0.21      0.19        19\n",
            "     1000000       0.55      0.66      0.60       102\n",
            "     5000000       0.31      0.25      0.28        51\n",
            "    10000000       0.58      0.62      0.60        94\n",
            "    50000000       0.30      0.12      0.17        26\n",
            "   100000000       0.69      0.52      0.59        21\n",
            "   500000000       0.00      0.00      0.00         2\n",
            "  1000000000       1.00      0.33      0.50         3\n",
            "  5000000000       0.00      0.00      0.00         1\n",
            "\n",
            "    accuracy                           0.47       400\n",
            "   macro avg       0.32      0.27      0.28       400\n",
            "weighted avg       0.46      0.47      0.46       400\n",
            "\n",
            "[[ 0  0  2  0  0  0  0  0  0  0  0  0  0  0]\n",
            " [ 0  0  2  2  0  0  0  0  0  0  0  0  0  0]\n",
            " [ 0  2  6  5  5  1  0  0  0  0  0  0  0  0]\n",
            " [ 0  1  7  2  3  1  0  0  0  0  0  0  0  0]\n",
            " [ 0  0  7  3 23  6  3  0  0  0  0  0  0  0]\n",
            " [ 0  0  0  1  8  4  6  0  0  0  0  0  0  0]\n",
            " [ 0  0  0  0  6 11 67 11  7  0  0  0  0  0]\n",
            " [ 0  0  0  0  1  1 29 13  7  0  0  0  0  0]\n",
            " [ 0  0  0  0  0  0 16 16 58  4  0  0  0  0]\n",
            " [ 0  0  0  0  0  0  0  2 20  3  1  0  0  0]\n",
            " [ 0  0  0  0  0  0  0  0  8  2 11  0  0  0]\n",
            " [ 0  0  0  0  0  0  0  0  0  1  1  0  0  0]\n",
            " [ 0  0  0  0  0  0  0  0  0  0  2  0  1  0]\n",
            " [ 0  0  0  0  0  0  0  0  0  0  1  0  0  0]]\n"
          ]
        },
        {
          "output_type": "stream",
          "name": "stderr",
          "text": [
            "/usr/local/lib/python3.7/dist-packages/sklearn/metrics/_classification.py:1318: UndefinedMetricWarning: Precision and F-score are ill-defined and being set to 0.0 in labels with no predicted samples. Use `zero_division` parameter to control this behavior.\n",
            "  _warn_prf(average, modifier, msg_start, len(result))\n",
            "/usr/local/lib/python3.7/dist-packages/sklearn/metrics/_classification.py:1318: UndefinedMetricWarning: Precision and F-score are ill-defined and being set to 0.0 in labels with no predicted samples. Use `zero_division` parameter to control this behavior.\n",
            "  _warn_prf(average, modifier, msg_start, len(result))\n",
            "/usr/local/lib/python3.7/dist-packages/sklearn/metrics/_classification.py:1318: UndefinedMetricWarning: Precision and F-score are ill-defined and being set to 0.0 in labels with no predicted samples. Use `zero_division` parameter to control this behavior.\n",
            "  _warn_prf(average, modifier, msg_start, len(result))\n"
          ]
        }
      ]
    },
    {
      "cell_type": "code",
      "metadata": {
        "id": "IWJ3cy78cNxN",
        "colab": {
          "base_uri": "https://localhost:8080/"
        },
        "outputId": "1650dcd0-a2c9-43c2-d2d0-44cf6bd122b8"
      },
      "source": [
        "print (metrics.accuracy_score(supervised_y_test, predicted))"
      ],
      "execution_count": 179,
      "outputs": [
        {
          "output_type": "stream",
          "name": "stdout",
          "text": [
            "0.47\n"
          ]
        }
      ]
    }
  ]
}