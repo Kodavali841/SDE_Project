{
  "cells": [
    {
      "cell_type": "code",
      "execution_count": null,
      "metadata": {
        "colab": {
          "base_uri": "https://localhost:8080/",
          "height": 17
        },
        "id": "8AVpGr__JZyw",
        "outputId": "a1719ac7-719f-4b52-da3f-2ae4bfe7affc"
      },
      "outputs": [
        {
          "data": {
            "text/html": [
              "        <script type=\"text/javascript\">\n",
              "        window.PlotlyConfig = {MathJaxConfig: 'local'};\n",
              "        if (window.MathJax) {MathJax.Hub.Config({SVG: {font: \"STIX-Web\"}});}\n",
              "        if (typeof require !== 'undefined') {\n",
              "        require.undef(\"plotly\");\n",
              "        requirejs.config({\n",
              "            paths: {\n",
              "                'plotly': ['https://cdn.plot.ly/plotly-2.8.3.min']\n",
              "            }\n",
              "        });\n",
              "        require(['plotly'], function(Plotly) {\n",
              "            window._Plotly = Plotly;\n",
              "        });\n",
              "        }\n",
              "        </script>\n",
              "        "
            ]
          },
          "metadata": {},
          "output_type": "display_data"
        }
      ],
      "source": [
        "import pandas as pd\n",
        "import numpy as np\n",
        "from matplotlib import pyplot as plt\n",
        "plt.style.use('ggplot')\n",
        "%matplotlib inline\n",
        "\n",
        "import seaborn as sns # for making plots with seaborn\n",
        "color = sns.color_palette()\n",
        "sns.set(rc={'figure.figsize':(25,15)})\n",
        "\n",
        "import plotly\n",
        "plotly.offline.init_notebook_mode(connected=True)\n",
        "import plotly.graph_objs as go\n",
        "\n",
        "import plotly.figure_factory as ff\n",
        "#import cufflinks as cf\n",
        "\n",
        "import warnings\n",
        "warnings.filterwarnings('ignore')"
      ]
    },
    {
      "cell_type": "code",
      "execution_count": null,
      "metadata": {
        "id": "91Ql7tvEJZyz"
      },
      "outputs": [],
      "source": [
        "play_store_df = pd.read_csv(\"/content/googleplaystore.csv\")\n",
        "user_ratings_df = pd.read_csv(\"/content/googleplaystore_user_reviews.csv\")"
      ]
    },
    {
      "cell_type": "code",
      "execution_count": null,
      "metadata": {
        "id": "_T32bkAqJZy0"
      },
      "outputs": [],
      "source": [
        "play_store_df_copy=play_store_df\n",
        "user_ratings_df_copy=user_ratings_df"
      ]
    },
    {
      "cell_type": "code",
      "execution_count": null,
      "metadata": {
        "colab": {
          "base_uri": "https://localhost:8080/",
          "height": 441
        },
        "id": "P3NeNilIJZy0",
        "outputId": "f4abcd7f-7cef-46b9-a030-b6d064418986"
      },
      "outputs": [
        {
          "data": {
            "text/html": [
              "\n",
              "  <div id=\"df-5cb367cc-d8a1-4a33-b213-70a761aabea7\">\n",
              "    <div class=\"colab-df-container\">\n",
              "      <div>\n",
              "<style scoped>\n",
              "    .dataframe tbody tr th:only-of-type {\n",
              "        vertical-align: middle;\n",
              "    }\n",
              "\n",
              "    .dataframe tbody tr th {\n",
              "        vertical-align: top;\n",
              "    }\n",
              "\n",
              "    .dataframe thead th {\n",
              "        text-align: right;\n",
              "    }\n",
              "</style>\n",
              "<table border=\"1\" class=\"dataframe\">\n",
              "  <thead>\n",
              "    <tr style=\"text-align: right;\">\n",
              "      <th></th>\n",
              "      <th>App</th>\n",
              "      <th>Category</th>\n",
              "      <th>Rating</th>\n",
              "      <th>Reviews</th>\n",
              "      <th>Size</th>\n",
              "      <th>Installs</th>\n",
              "      <th>Type</th>\n",
              "      <th>Price</th>\n",
              "      <th>Content Rating</th>\n",
              "      <th>Genres</th>\n",
              "      <th>Last Updated</th>\n",
              "      <th>Current Ver</th>\n",
              "      <th>Android Ver</th>\n",
              "    </tr>\n",
              "  </thead>\n",
              "  <tbody>\n",
              "    <tr>\n",
              "      <th>0</th>\n",
              "      <td>Photo Editor &amp; Candy Camera &amp; Grid &amp; ScrapBook</td>\n",
              "      <td>ART_AND_DESIGN</td>\n",
              "      <td>4.1</td>\n",
              "      <td>159</td>\n",
              "      <td>19M</td>\n",
              "      <td>10,000+</td>\n",
              "      <td>Free</td>\n",
              "      <td>0</td>\n",
              "      <td>Everyone</td>\n",
              "      <td>Art &amp; Design</td>\n",
              "      <td>January 7, 2018</td>\n",
              "      <td>1.0.0</td>\n",
              "      <td>4.0.3 and up</td>\n",
              "    </tr>\n",
              "    <tr>\n",
              "      <th>1</th>\n",
              "      <td>Coloring book moana</td>\n",
              "      <td>ART_AND_DESIGN</td>\n",
              "      <td>3.9</td>\n",
              "      <td>967</td>\n",
              "      <td>14M</td>\n",
              "      <td>500,000+</td>\n",
              "      <td>Free</td>\n",
              "      <td>0</td>\n",
              "      <td>Everyone</td>\n",
              "      <td>Art &amp; Design;Pretend Play</td>\n",
              "      <td>January 15, 2018</td>\n",
              "      <td>2.0.0</td>\n",
              "      <td>4.0.3 and up</td>\n",
              "    </tr>\n",
              "    <tr>\n",
              "      <th>2</th>\n",
              "      <td>U Launcher Lite – FREE Live Cool Themes, Hide ...</td>\n",
              "      <td>ART_AND_DESIGN</td>\n",
              "      <td>4.7</td>\n",
              "      <td>87510</td>\n",
              "      <td>8.7M</td>\n",
              "      <td>5,000,000+</td>\n",
              "      <td>Free</td>\n",
              "      <td>0</td>\n",
              "      <td>Everyone</td>\n",
              "      <td>Art &amp; Design</td>\n",
              "      <td>August 1, 2018</td>\n",
              "      <td>1.2.4</td>\n",
              "      <td>4.0.3 and up</td>\n",
              "    </tr>\n",
              "    <tr>\n",
              "      <th>3</th>\n",
              "      <td>Sketch - Draw &amp; Paint</td>\n",
              "      <td>ART_AND_DESIGN</td>\n",
              "      <td>4.5</td>\n",
              "      <td>215644</td>\n",
              "      <td>25M</td>\n",
              "      <td>50,000,000+</td>\n",
              "      <td>Free</td>\n",
              "      <td>0</td>\n",
              "      <td>Teen</td>\n",
              "      <td>Art &amp; Design</td>\n",
              "      <td>June 8, 2018</td>\n",
              "      <td>Varies with device</td>\n",
              "      <td>4.2 and up</td>\n",
              "    </tr>\n",
              "    <tr>\n",
              "      <th>4</th>\n",
              "      <td>Pixel Draw - Number Art Coloring Book</td>\n",
              "      <td>ART_AND_DESIGN</td>\n",
              "      <td>4.3</td>\n",
              "      <td>967</td>\n",
              "      <td>2.8M</td>\n",
              "      <td>100,000+</td>\n",
              "      <td>Free</td>\n",
              "      <td>0</td>\n",
              "      <td>Everyone</td>\n",
              "      <td>Art &amp; Design;Creativity</td>\n",
              "      <td>June 20, 2018</td>\n",
              "      <td>1.1</td>\n",
              "      <td>4.4 and up</td>\n",
              "    </tr>\n",
              "  </tbody>\n",
              "</table>\n",
              "</div>\n",
              "      <button class=\"colab-df-convert\" onclick=\"convertToInteractive('df-5cb367cc-d8a1-4a33-b213-70a761aabea7')\"\n",
              "              title=\"Convert this dataframe to an interactive table.\"\n",
              "              style=\"display:none;\">\n",
              "        \n",
              "  <svg xmlns=\"http://www.w3.org/2000/svg\" height=\"24px\"viewBox=\"0 0 24 24\"\n",
              "       width=\"24px\">\n",
              "    <path d=\"M0 0h24v24H0V0z\" fill=\"none\"/>\n",
              "    <path d=\"M18.56 5.44l.94 2.06.94-2.06 2.06-.94-2.06-.94-.94-2.06-.94 2.06-2.06.94zm-11 1L8.5 8.5l.94-2.06 2.06-.94-2.06-.94L8.5 2.5l-.94 2.06-2.06.94zm10 10l.94 2.06.94-2.06 2.06-.94-2.06-.94-.94-2.06-.94 2.06-2.06.94z\"/><path d=\"M17.41 7.96l-1.37-1.37c-.4-.4-.92-.59-1.43-.59-.52 0-1.04.2-1.43.59L10.3 9.45l-7.72 7.72c-.78.78-.78 2.05 0 2.83L4 21.41c.39.39.9.59 1.41.59.51 0 1.02-.2 1.41-.59l7.78-7.78 2.81-2.81c.8-.78.8-2.07 0-2.86zM5.41 20L4 18.59l7.72-7.72 1.47 1.35L5.41 20z\"/>\n",
              "  </svg>\n",
              "      </button>\n",
              "      \n",
              "  <style>\n",
              "    .colab-df-container {\n",
              "      display:flex;\n",
              "      flex-wrap:wrap;\n",
              "      gap: 12px;\n",
              "    }\n",
              "\n",
              "    .colab-df-convert {\n",
              "      background-color: #E8F0FE;\n",
              "      border: none;\n",
              "      border-radius: 50%;\n",
              "      cursor: pointer;\n",
              "      display: none;\n",
              "      fill: #1967D2;\n",
              "      height: 32px;\n",
              "      padding: 0 0 0 0;\n",
              "      width: 32px;\n",
              "    }\n",
              "\n",
              "    .colab-df-convert:hover {\n",
              "      background-color: #E2EBFA;\n",
              "      box-shadow: 0px 1px 2px rgba(60, 64, 67, 0.3), 0px 1px 3px 1px rgba(60, 64, 67, 0.15);\n",
              "      fill: #174EA6;\n",
              "    }\n",
              "\n",
              "    [theme=dark] .colab-df-convert {\n",
              "      background-color: #3B4455;\n",
              "      fill: #D2E3FC;\n",
              "    }\n",
              "\n",
              "    [theme=dark] .colab-df-convert:hover {\n",
              "      background-color: #434B5C;\n",
              "      box-shadow: 0px 1px 3px 1px rgba(0, 0, 0, 0.15);\n",
              "      filter: drop-shadow(0px 1px 2px rgba(0, 0, 0, 0.3));\n",
              "      fill: #FFFFFF;\n",
              "    }\n",
              "  </style>\n",
              "\n",
              "      <script>\n",
              "        const buttonEl =\n",
              "          document.querySelector('#df-5cb367cc-d8a1-4a33-b213-70a761aabea7 button.colab-df-convert');\n",
              "        buttonEl.style.display =\n",
              "          google.colab.kernel.accessAllowed ? 'block' : 'none';\n",
              "\n",
              "        async function convertToInteractive(key) {\n",
              "          const element = document.querySelector('#df-5cb367cc-d8a1-4a33-b213-70a761aabea7');\n",
              "          const dataTable =\n",
              "            await google.colab.kernel.invokeFunction('convertToInteractive',\n",
              "                                                     [key], {});\n",
              "          if (!dataTable) return;\n",
              "\n",
              "          const docLinkHtml = 'Like what you see? Visit the ' +\n",
              "            '<a target=\"_blank\" href=https://colab.research.google.com/notebooks/data_table.ipynb>data table notebook</a>'\n",
              "            + ' to learn more about interactive tables.';\n",
              "          element.innerHTML = '';\n",
              "          dataTable['output_type'] = 'display_data';\n",
              "          await google.colab.output.renderOutput(dataTable, element);\n",
              "          const docLink = document.createElement('div');\n",
              "          docLink.innerHTML = docLinkHtml;\n",
              "          element.appendChild(docLink);\n",
              "        }\n",
              "      </script>\n",
              "    </div>\n",
              "  </div>\n",
              "  "
            ],
            "text/plain": [
              "                                                 App        Category  Rating  \\\n",
              "0     Photo Editor & Candy Camera & Grid & ScrapBook  ART_AND_DESIGN     4.1   \n",
              "1                                Coloring book moana  ART_AND_DESIGN     3.9   \n",
              "2  U Launcher Lite – FREE Live Cool Themes, Hide ...  ART_AND_DESIGN     4.7   \n",
              "3                              Sketch - Draw & Paint  ART_AND_DESIGN     4.5   \n",
              "4              Pixel Draw - Number Art Coloring Book  ART_AND_DESIGN     4.3   \n",
              "\n",
              "  Reviews  Size     Installs  Type Price Content Rating  \\\n",
              "0     159   19M      10,000+  Free     0       Everyone   \n",
              "1     967   14M     500,000+  Free     0       Everyone   \n",
              "2   87510  8.7M   5,000,000+  Free     0       Everyone   \n",
              "3  215644   25M  50,000,000+  Free     0           Teen   \n",
              "4     967  2.8M     100,000+  Free     0       Everyone   \n",
              "\n",
              "                      Genres      Last Updated         Current Ver  \\\n",
              "0               Art & Design   January 7, 2018               1.0.0   \n",
              "1  Art & Design;Pretend Play  January 15, 2018               2.0.0   \n",
              "2               Art & Design    August 1, 2018               1.2.4   \n",
              "3               Art & Design      June 8, 2018  Varies with device   \n",
              "4    Art & Design;Creativity     June 20, 2018                 1.1   \n",
              "\n",
              "    Android Ver  \n",
              "0  4.0.3 and up  \n",
              "1  4.0.3 and up  \n",
              "2  4.0.3 and up  \n",
              "3    4.2 and up  \n",
              "4    4.4 and up  "
            ]
          },
          "execution_count": 8,
          "metadata": {},
          "output_type": "execute_result"
        }
      ],
      "source": [
        "play_store_df.head()"
      ]
    },
    {
      "cell_type": "code",
      "execution_count": null,
      "metadata": {
        "colab": {
          "base_uri": "https://localhost:8080/",
          "height": 206
        },
        "id": "QVNGu75CJZy1",
        "outputId": "9cf1dd8a-c037-44dc-d39f-96f7fb4c186a"
      },
      "outputs": [
        {
          "data": {
            "text/html": [
              "\n",
              "  <div id=\"df-d90e98f3-37f7-4bfc-b101-7d4a8ea9b8a9\">\n",
              "    <div class=\"colab-df-container\">\n",
              "      <div>\n",
              "<style scoped>\n",
              "    .dataframe tbody tr th:only-of-type {\n",
              "        vertical-align: middle;\n",
              "    }\n",
              "\n",
              "    .dataframe tbody tr th {\n",
              "        vertical-align: top;\n",
              "    }\n",
              "\n",
              "    .dataframe thead th {\n",
              "        text-align: right;\n",
              "    }\n",
              "</style>\n",
              "<table border=\"1\" class=\"dataframe\">\n",
              "  <thead>\n",
              "    <tr style=\"text-align: right;\">\n",
              "      <th></th>\n",
              "      <th>App</th>\n",
              "      <th>Translated_Review</th>\n",
              "      <th>Sentiment</th>\n",
              "      <th>Sentiment_Polarity</th>\n",
              "      <th>Sentiment_Subjectivity</th>\n",
              "    </tr>\n",
              "  </thead>\n",
              "  <tbody>\n",
              "    <tr>\n",
              "      <th>0</th>\n",
              "      <td>10 Best Foods for You</td>\n",
              "      <td>I like eat delicious food. That's I'm cooking ...</td>\n",
              "      <td>Positive</td>\n",
              "      <td>1.00</td>\n",
              "      <td>0.533333</td>\n",
              "    </tr>\n",
              "    <tr>\n",
              "      <th>1</th>\n",
              "      <td>10 Best Foods for You</td>\n",
              "      <td>This help eating healthy exercise regular basis</td>\n",
              "      <td>Positive</td>\n",
              "      <td>0.25</td>\n",
              "      <td>0.288462</td>\n",
              "    </tr>\n",
              "    <tr>\n",
              "      <th>2</th>\n",
              "      <td>10 Best Foods for You</td>\n",
              "      <td>NaN</td>\n",
              "      <td>NaN</td>\n",
              "      <td>NaN</td>\n",
              "      <td>NaN</td>\n",
              "    </tr>\n",
              "    <tr>\n",
              "      <th>3</th>\n",
              "      <td>10 Best Foods for You</td>\n",
              "      <td>Works great especially going grocery store</td>\n",
              "      <td>Positive</td>\n",
              "      <td>0.40</td>\n",
              "      <td>0.875000</td>\n",
              "    </tr>\n",
              "    <tr>\n",
              "      <th>4</th>\n",
              "      <td>10 Best Foods for You</td>\n",
              "      <td>Best idea us</td>\n",
              "      <td>Positive</td>\n",
              "      <td>1.00</td>\n",
              "      <td>0.300000</td>\n",
              "    </tr>\n",
              "  </tbody>\n",
              "</table>\n",
              "</div>\n",
              "      <button class=\"colab-df-convert\" onclick=\"convertToInteractive('df-d90e98f3-37f7-4bfc-b101-7d4a8ea9b8a9')\"\n",
              "              title=\"Convert this dataframe to an interactive table.\"\n",
              "              style=\"display:none;\">\n",
              "        \n",
              "  <svg xmlns=\"http://www.w3.org/2000/svg\" height=\"24px\"viewBox=\"0 0 24 24\"\n",
              "       width=\"24px\">\n",
              "    <path d=\"M0 0h24v24H0V0z\" fill=\"none\"/>\n",
              "    <path d=\"M18.56 5.44l.94 2.06.94-2.06 2.06-.94-2.06-.94-.94-2.06-.94 2.06-2.06.94zm-11 1L8.5 8.5l.94-2.06 2.06-.94-2.06-.94L8.5 2.5l-.94 2.06-2.06.94zm10 10l.94 2.06.94-2.06 2.06-.94-2.06-.94-.94-2.06-.94 2.06-2.06.94z\"/><path d=\"M17.41 7.96l-1.37-1.37c-.4-.4-.92-.59-1.43-.59-.52 0-1.04.2-1.43.59L10.3 9.45l-7.72 7.72c-.78.78-.78 2.05 0 2.83L4 21.41c.39.39.9.59 1.41.59.51 0 1.02-.2 1.41-.59l7.78-7.78 2.81-2.81c.8-.78.8-2.07 0-2.86zM5.41 20L4 18.59l7.72-7.72 1.47 1.35L5.41 20z\"/>\n",
              "  </svg>\n",
              "      </button>\n",
              "      \n",
              "  <style>\n",
              "    .colab-df-container {\n",
              "      display:flex;\n",
              "      flex-wrap:wrap;\n",
              "      gap: 12px;\n",
              "    }\n",
              "\n",
              "    .colab-df-convert {\n",
              "      background-color: #E8F0FE;\n",
              "      border: none;\n",
              "      border-radius: 50%;\n",
              "      cursor: pointer;\n",
              "      display: none;\n",
              "      fill: #1967D2;\n",
              "      height: 32px;\n",
              "      padding: 0 0 0 0;\n",
              "      width: 32px;\n",
              "    }\n",
              "\n",
              "    .colab-df-convert:hover {\n",
              "      background-color: #E2EBFA;\n",
              "      box-shadow: 0px 1px 2px rgba(60, 64, 67, 0.3), 0px 1px 3px 1px rgba(60, 64, 67, 0.15);\n",
              "      fill: #174EA6;\n",
              "    }\n",
              "\n",
              "    [theme=dark] .colab-df-convert {\n",
              "      background-color: #3B4455;\n",
              "      fill: #D2E3FC;\n",
              "    }\n",
              "\n",
              "    [theme=dark] .colab-df-convert:hover {\n",
              "      background-color: #434B5C;\n",
              "      box-shadow: 0px 1px 3px 1px rgba(0, 0, 0, 0.15);\n",
              "      filter: drop-shadow(0px 1px 2px rgba(0, 0, 0, 0.3));\n",
              "      fill: #FFFFFF;\n",
              "    }\n",
              "  </style>\n",
              "\n",
              "      <script>\n",
              "        const buttonEl =\n",
              "          document.querySelector('#df-d90e98f3-37f7-4bfc-b101-7d4a8ea9b8a9 button.colab-df-convert');\n",
              "        buttonEl.style.display =\n",
              "          google.colab.kernel.accessAllowed ? 'block' : 'none';\n",
              "\n",
              "        async function convertToInteractive(key) {\n",
              "          const element = document.querySelector('#df-d90e98f3-37f7-4bfc-b101-7d4a8ea9b8a9');\n",
              "          const dataTable =\n",
              "            await google.colab.kernel.invokeFunction('convertToInteractive',\n",
              "                                                     [key], {});\n",
              "          if (!dataTable) return;\n",
              "\n",
              "          const docLinkHtml = 'Like what you see? Visit the ' +\n",
              "            '<a target=\"_blank\" href=https://colab.research.google.com/notebooks/data_table.ipynb>data table notebook</a>'\n",
              "            + ' to learn more about interactive tables.';\n",
              "          element.innerHTML = '';\n",
              "          dataTable['output_type'] = 'display_data';\n",
              "          await google.colab.output.renderOutput(dataTable, element);\n",
              "          const docLink = document.createElement('div');\n",
              "          docLink.innerHTML = docLinkHtml;\n",
              "          element.appendChild(docLink);\n",
              "        }\n",
              "      </script>\n",
              "    </div>\n",
              "  </div>\n",
              "  "
            ],
            "text/plain": [
              "                     App                                  Translated_Review  \\\n",
              "0  10 Best Foods for You  I like eat delicious food. That's I'm cooking ...   \n",
              "1  10 Best Foods for You    This help eating healthy exercise regular basis   \n",
              "2  10 Best Foods for You                                                NaN   \n",
              "3  10 Best Foods for You         Works great especially going grocery store   \n",
              "4  10 Best Foods for You                                       Best idea us   \n",
              "\n",
              "  Sentiment  Sentiment_Polarity  Sentiment_Subjectivity  \n",
              "0  Positive                1.00                0.533333  \n",
              "1  Positive                0.25                0.288462  \n",
              "2       NaN                 NaN                     NaN  \n",
              "3  Positive                0.40                0.875000  \n",
              "4  Positive                1.00                0.300000  "
            ]
          },
          "execution_count": 9,
          "metadata": {},
          "output_type": "execute_result"
        }
      ],
      "source": [
        "user_ratings_df.head()"
      ]
    },
    {
      "cell_type": "code",
      "execution_count": null,
      "metadata": {
        "colab": {
          "base_uri": "https://localhost:8080/"
        },
        "id": "kAX-YFqpJZy2",
        "outputId": "e0cd4eea-e5a4-4db5-9728-ce05e8ab9b9e"
      },
      "outputs": [
        {
          "data": {
            "text/plain": [
              "64295"
            ]
          },
          "execution_count": 10,
          "metadata": {},
          "output_type": "execute_result"
        }
      ],
      "source": [
        "len(user_ratings_df)"
      ]
    },
    {
      "cell_type": "code",
      "execution_count": null,
      "metadata": {
        "colab": {
          "base_uri": "https://localhost:8080/"
        },
        "id": "jb0zjW3CJZy2",
        "outputId": "fb7b3bd0-7d60-49ba-a9cd-ac9f95986128"
      },
      "outputs": [
        {
          "name": "stdout",
          "output_type": "stream",
          "text": [
            "(10841, 13)\n",
            "(64295, 5)\n"
          ]
        }
      ],
      "source": [
        "print(play_store_df.shape)\n",
        "print(user_ratings_df.shape)"
      ]
    },
    {
      "cell_type": "code",
      "execution_count": null,
      "metadata": {
        "colab": {
          "base_uri": "https://localhost:8080/"
        },
        "id": "U-c5t4NwJZy3",
        "outputId": "3017e3c5-c892-4c13-fdc2-289a164a87c0"
      },
      "outputs": [
        {
          "name": "stdout",
          "output_type": "stream",
          "text": [
            "(9660, 13)\n"
          ]
        }
      ],
      "source": [
        "play_store_df.drop_duplicates(subset='App', inplace=True)\n",
        "print(play_store_df.shape)"
      ]
    },
    {
      "cell_type": "code",
      "execution_count": null,
      "metadata": {
        "colab": {
          "base_uri": "https://localhost:8080/",
          "height": 206
        },
        "id": "uUZdBZZAJZy4",
        "outputId": "2b7d1839-c5ce-4b64-8017-a01f4d4002ae"
      },
      "outputs": [
        {
          "data": {
            "text/html": [
              "\n",
              "  <div id=\"df-8ba2a301-a596-44c0-9879-694f0a91ff3a\">\n",
              "    <div class=\"colab-df-container\">\n",
              "      <div>\n",
              "<style scoped>\n",
              "    .dataframe tbody tr th:only-of-type {\n",
              "        vertical-align: middle;\n",
              "    }\n",
              "\n",
              "    .dataframe tbody tr th {\n",
              "        vertical-align: top;\n",
              "    }\n",
              "\n",
              "    .dataframe thead th {\n",
              "        text-align: right;\n",
              "    }\n",
              "</style>\n",
              "<table border=\"1\" class=\"dataframe\">\n",
              "  <thead>\n",
              "    <tr style=\"text-align: right;\">\n",
              "      <th></th>\n",
              "      <th>Missing Ratio</th>\n",
              "    </tr>\n",
              "  </thead>\n",
              "  <tbody>\n",
              "    <tr>\n",
              "      <th>Rating</th>\n",
              "      <td>15.144928</td>\n",
              "    </tr>\n",
              "    <tr>\n",
              "      <th>Current Ver</th>\n",
              "      <td>0.082816</td>\n",
              "    </tr>\n",
              "    <tr>\n",
              "      <th>Android Ver</th>\n",
              "      <td>0.031056</td>\n",
              "    </tr>\n",
              "    <tr>\n",
              "      <th>Type</th>\n",
              "      <td>0.010352</td>\n",
              "    </tr>\n",
              "    <tr>\n",
              "      <th>Content Rating</th>\n",
              "      <td>0.010352</td>\n",
              "    </tr>\n",
              "  </tbody>\n",
              "</table>\n",
              "</div>\n",
              "      <button class=\"colab-df-convert\" onclick=\"convertToInteractive('df-8ba2a301-a596-44c0-9879-694f0a91ff3a')\"\n",
              "              title=\"Convert this dataframe to an interactive table.\"\n",
              "              style=\"display:none;\">\n",
              "        \n",
              "  <svg xmlns=\"http://www.w3.org/2000/svg\" height=\"24px\"viewBox=\"0 0 24 24\"\n",
              "       width=\"24px\">\n",
              "    <path d=\"M0 0h24v24H0V0z\" fill=\"none\"/>\n",
              "    <path d=\"M18.56 5.44l.94 2.06.94-2.06 2.06-.94-2.06-.94-.94-2.06-.94 2.06-2.06.94zm-11 1L8.5 8.5l.94-2.06 2.06-.94-2.06-.94L8.5 2.5l-.94 2.06-2.06.94zm10 10l.94 2.06.94-2.06 2.06-.94-2.06-.94-.94-2.06-.94 2.06-2.06.94z\"/><path d=\"M17.41 7.96l-1.37-1.37c-.4-.4-.92-.59-1.43-.59-.52 0-1.04.2-1.43.59L10.3 9.45l-7.72 7.72c-.78.78-.78 2.05 0 2.83L4 21.41c.39.39.9.59 1.41.59.51 0 1.02-.2 1.41-.59l7.78-7.78 2.81-2.81c.8-.78.8-2.07 0-2.86zM5.41 20L4 18.59l7.72-7.72 1.47 1.35L5.41 20z\"/>\n",
              "  </svg>\n",
              "      </button>\n",
              "      \n",
              "  <style>\n",
              "    .colab-df-container {\n",
              "      display:flex;\n",
              "      flex-wrap:wrap;\n",
              "      gap: 12px;\n",
              "    }\n",
              "\n",
              "    .colab-df-convert {\n",
              "      background-color: #E8F0FE;\n",
              "      border: none;\n",
              "      border-radius: 50%;\n",
              "      cursor: pointer;\n",
              "      display: none;\n",
              "      fill: #1967D2;\n",
              "      height: 32px;\n",
              "      padding: 0 0 0 0;\n",
              "      width: 32px;\n",
              "    }\n",
              "\n",
              "    .colab-df-convert:hover {\n",
              "      background-color: #E2EBFA;\n",
              "      box-shadow: 0px 1px 2px rgba(60, 64, 67, 0.3), 0px 1px 3px 1px rgba(60, 64, 67, 0.15);\n",
              "      fill: #174EA6;\n",
              "    }\n",
              "\n",
              "    [theme=dark] .colab-df-convert {\n",
              "      background-color: #3B4455;\n",
              "      fill: #D2E3FC;\n",
              "    }\n",
              "\n",
              "    [theme=dark] .colab-df-convert:hover {\n",
              "      background-color: #434B5C;\n",
              "      box-shadow: 0px 1px 3px 1px rgba(0, 0, 0, 0.15);\n",
              "      filter: drop-shadow(0px 1px 2px rgba(0, 0, 0, 0.3));\n",
              "      fill: #FFFFFF;\n",
              "    }\n",
              "  </style>\n",
              "\n",
              "      <script>\n",
              "        const buttonEl =\n",
              "          document.querySelector('#df-8ba2a301-a596-44c0-9879-694f0a91ff3a button.colab-df-convert');\n",
              "        buttonEl.style.display =\n",
              "          google.colab.kernel.accessAllowed ? 'block' : 'none';\n",
              "\n",
              "        async function convertToInteractive(key) {\n",
              "          const element = document.querySelector('#df-8ba2a301-a596-44c0-9879-694f0a91ff3a');\n",
              "          const dataTable =\n",
              "            await google.colab.kernel.invokeFunction('convertToInteractive',\n",
              "                                                     [key], {});\n",
              "          if (!dataTable) return;\n",
              "\n",
              "          const docLinkHtml = 'Like what you see? Visit the ' +\n",
              "            '<a target=\"_blank\" href=https://colab.research.google.com/notebooks/data_table.ipynb>data table notebook</a>'\n",
              "            + ' to learn more about interactive tables.';\n",
              "          element.innerHTML = '';\n",
              "          dataTable['output_type'] = 'display_data';\n",
              "          await google.colab.output.renderOutput(dataTable, element);\n",
              "          const docLink = document.createElement('div');\n",
              "          docLink.innerHTML = docLinkHtml;\n",
              "          element.appendChild(docLink);\n",
              "        }\n",
              "      </script>\n",
              "    </div>\n",
              "  </div>\n",
              "  "
            ],
            "text/plain": [
              "                Missing Ratio\n",
              "Rating              15.144928\n",
              "Current Ver          0.082816\n",
              "Android Ver          0.031056\n",
              "Type                 0.010352\n",
              "Content Rating       0.010352"
            ]
          },
          "execution_count": 13,
          "metadata": {},
          "output_type": "execute_result"
        }
      ],
      "source": [
        "## Let's get the ratio of missing values for each feature\n",
        "play_store_df_na = (play_store_df.isnull().sum() / len(play_store_df)) * 100\n",
        "play_store_df_na = play_store_df_na.drop(play_store_df_na[play_store_df_na == 0].index).sort_values(ascending=False)\n",
        "missing_data = pd.DataFrame({'Missing Ratio' :play_store_df_na})\n",
        "missing_data"
      ]
    },
    {
      "cell_type": "code",
      "execution_count": null,
      "metadata": {
        "colab": {
          "base_uri": "https://localhost:8080/"
        },
        "id": "eRdGwTaNJZy5",
        "outputId": "8c191067-ec4e-470c-e3d8-a096889edaec"
      },
      "outputs": [
        {
          "name": "stdout",
          "output_type": "stream",
          "text": [
            "(8197, 13)\n"
          ]
        }
      ],
      "source": [
        "play_store_df.dropna(subset =['Rating'], inplace = True)\n",
        "print(play_store_df.shape)"
      ]
    },
    {
      "cell_type": "code",
      "execution_count": null,
      "metadata": {
        "colab": {
          "base_uri": "https://localhost:8080/",
          "height": 143
        },
        "id": "Jn73TPiUJZy6",
        "outputId": "554bc92c-2ba0-425b-d481-376f0525a541"
      },
      "outputs": [
        {
          "data": {
            "text/html": [
              "\n",
              "  <div id=\"df-c974e7ff-31c3-4b56-9084-25740631be48\">\n",
              "    <div class=\"colab-df-container\">\n",
              "      <div>\n",
              "<style scoped>\n",
              "    .dataframe tbody tr th:only-of-type {\n",
              "        vertical-align: middle;\n",
              "    }\n",
              "\n",
              "    .dataframe tbody tr th {\n",
              "        vertical-align: top;\n",
              "    }\n",
              "\n",
              "    .dataframe thead th {\n",
              "        text-align: right;\n",
              "    }\n",
              "</style>\n",
              "<table border=\"1\" class=\"dataframe\">\n",
              "  <thead>\n",
              "    <tr style=\"text-align: right;\">\n",
              "      <th></th>\n",
              "      <th>Missing Ratio</th>\n",
              "    </tr>\n",
              "  </thead>\n",
              "  <tbody>\n",
              "    <tr>\n",
              "      <th>Current Ver</th>\n",
              "      <td>0.048798</td>\n",
              "    </tr>\n",
              "    <tr>\n",
              "      <th>Android Ver</th>\n",
              "      <td>0.036599</td>\n",
              "    </tr>\n",
              "    <tr>\n",
              "      <th>Content Rating</th>\n",
              "      <td>0.012200</td>\n",
              "    </tr>\n",
              "  </tbody>\n",
              "</table>\n",
              "</div>\n",
              "      <button class=\"colab-df-convert\" onclick=\"convertToInteractive('df-c974e7ff-31c3-4b56-9084-25740631be48')\"\n",
              "              title=\"Convert this dataframe to an interactive table.\"\n",
              "              style=\"display:none;\">\n",
              "        \n",
              "  <svg xmlns=\"http://www.w3.org/2000/svg\" height=\"24px\"viewBox=\"0 0 24 24\"\n",
              "       width=\"24px\">\n",
              "    <path d=\"M0 0h24v24H0V0z\" fill=\"none\"/>\n",
              "    <path d=\"M18.56 5.44l.94 2.06.94-2.06 2.06-.94-2.06-.94-.94-2.06-.94 2.06-2.06.94zm-11 1L8.5 8.5l.94-2.06 2.06-.94-2.06-.94L8.5 2.5l-.94 2.06-2.06.94zm10 10l.94 2.06.94-2.06 2.06-.94-2.06-.94-.94-2.06-.94 2.06-2.06.94z\"/><path d=\"M17.41 7.96l-1.37-1.37c-.4-.4-.92-.59-1.43-.59-.52 0-1.04.2-1.43.59L10.3 9.45l-7.72 7.72c-.78.78-.78 2.05 0 2.83L4 21.41c.39.39.9.59 1.41.59.51 0 1.02-.2 1.41-.59l7.78-7.78 2.81-2.81c.8-.78.8-2.07 0-2.86zM5.41 20L4 18.59l7.72-7.72 1.47 1.35L5.41 20z\"/>\n",
              "  </svg>\n",
              "      </button>\n",
              "      \n",
              "  <style>\n",
              "    .colab-df-container {\n",
              "      display:flex;\n",
              "      flex-wrap:wrap;\n",
              "      gap: 12px;\n",
              "    }\n",
              "\n",
              "    .colab-df-convert {\n",
              "      background-color: #E8F0FE;\n",
              "      border: none;\n",
              "      border-radius: 50%;\n",
              "      cursor: pointer;\n",
              "      display: none;\n",
              "      fill: #1967D2;\n",
              "      height: 32px;\n",
              "      padding: 0 0 0 0;\n",
              "      width: 32px;\n",
              "    }\n",
              "\n",
              "    .colab-df-convert:hover {\n",
              "      background-color: #E2EBFA;\n",
              "      box-shadow: 0px 1px 2px rgba(60, 64, 67, 0.3), 0px 1px 3px 1px rgba(60, 64, 67, 0.15);\n",
              "      fill: #174EA6;\n",
              "    }\n",
              "\n",
              "    [theme=dark] .colab-df-convert {\n",
              "      background-color: #3B4455;\n",
              "      fill: #D2E3FC;\n",
              "    }\n",
              "\n",
              "    [theme=dark] .colab-df-convert:hover {\n",
              "      background-color: #434B5C;\n",
              "      box-shadow: 0px 1px 3px 1px rgba(0, 0, 0, 0.15);\n",
              "      filter: drop-shadow(0px 1px 2px rgba(0, 0, 0, 0.3));\n",
              "      fill: #FFFFFF;\n",
              "    }\n",
              "  </style>\n",
              "\n",
              "      <script>\n",
              "        const buttonEl =\n",
              "          document.querySelector('#df-c974e7ff-31c3-4b56-9084-25740631be48 button.colab-df-convert');\n",
              "        buttonEl.style.display =\n",
              "          google.colab.kernel.accessAllowed ? 'block' : 'none';\n",
              "\n",
              "        async function convertToInteractive(key) {\n",
              "          const element = document.querySelector('#df-c974e7ff-31c3-4b56-9084-25740631be48');\n",
              "          const dataTable =\n",
              "            await google.colab.kernel.invokeFunction('convertToInteractive',\n",
              "                                                     [key], {});\n",
              "          if (!dataTable) return;\n",
              "\n",
              "          const docLinkHtml = 'Like what you see? Visit the ' +\n",
              "            '<a target=\"_blank\" href=https://colab.research.google.com/notebooks/data_table.ipynb>data table notebook</a>'\n",
              "            + ' to learn more about interactive tables.';\n",
              "          element.innerHTML = '';\n",
              "          dataTable['output_type'] = 'display_data';\n",
              "          await google.colab.output.renderOutput(dataTable, element);\n",
              "          const docLink = document.createElement('div');\n",
              "          docLink.innerHTML = docLinkHtml;\n",
              "          element.appendChild(docLink);\n",
              "        }\n",
              "      </script>\n",
              "    </div>\n",
              "  </div>\n",
              "  "
            ],
            "text/plain": [
              "                Missing Ratio\n",
              "Current Ver          0.048798\n",
              "Android Ver          0.036599\n",
              "Content Rating       0.012200"
            ]
          },
          "execution_count": 15,
          "metadata": {},
          "output_type": "execute_result"
        }
      ],
      "source": [
        "play_store_df_na = (play_store_df.isnull().sum() / len(play_store_df)) * 100\n",
        "play_store_df_na = play_store_df_na.drop(play_store_df_na[play_store_df_na == 0].index).sort_values(ascending=False)\n",
        "missing_data = pd.DataFrame({'Missing Ratio' :play_store_df_na})\n",
        "missing_data"
      ]
    },
    {
      "cell_type": "code",
      "execution_count": null,
      "metadata": {
        "colab": {
          "base_uri": "https://localhost:8080/"
        },
        "id": "NaCsFzM_JZy7",
        "outputId": "24a787f7-c80d-4669-c22a-3903f1116682"
      },
      "outputs": [
        {
          "data": {
            "text/plain": [
              "Varies with device    1011\n",
              "1.0                    449\n",
              "1.1                    191\n",
              "1.2                    125\n",
              "2.0                    117\n",
              "Name: Current Ver, dtype: int64"
            ]
          },
          "execution_count": 16,
          "metadata": {},
          "output_type": "execute_result"
        }
      ],
      "source": [
        "play_store_df[\"Current Ver\"].value_counts().head()"
      ]
    },
    {
      "cell_type": "code",
      "execution_count": null,
      "metadata": {
        "id": "IMGCq2MOJZy7"
      },
      "outputs": [],
      "source": [
        "## Fill the three columns with the mode value\n",
        "play_store_df['Current Ver'] = play_store_df['Current Ver'].fillna(play_store_df['Current Ver'].mode()[0])\n",
        "play_store_df['Android Ver'] = play_store_df['Android Ver'].fillna(play_store_df['Android Ver'].mode()[0])\n",
        "play_store_df['Content Rating'] = play_store_df['Content Rating'].fillna(play_store_df['Content Rating'].mode()[0])"
      ]
    },
    {
      "cell_type": "code",
      "execution_count": null,
      "metadata": {
        "colab": {
          "base_uri": "https://localhost:8080/",
          "height": 50
        },
        "id": "aR3_ASk1JZy8",
        "outputId": "05822dde-4cf9-44d0-8b91-1318319fd44c"
      },
      "outputs": [
        {
          "data": {
            "text/html": [
              "\n",
              "  <div id=\"df-d6c0750a-8489-42f8-b0da-d340b36438d7\">\n",
              "    <div class=\"colab-df-container\">\n",
              "      <div>\n",
              "<style scoped>\n",
              "    .dataframe tbody tr th:only-of-type {\n",
              "        vertical-align: middle;\n",
              "    }\n",
              "\n",
              "    .dataframe tbody tr th {\n",
              "        vertical-align: top;\n",
              "    }\n",
              "\n",
              "    .dataframe thead th {\n",
              "        text-align: right;\n",
              "    }\n",
              "</style>\n",
              "<table border=\"1\" class=\"dataframe\">\n",
              "  <thead>\n",
              "    <tr style=\"text-align: right;\">\n",
              "      <th></th>\n",
              "      <th>Missing Ratio</th>\n",
              "    </tr>\n",
              "  </thead>\n",
              "  <tbody>\n",
              "  </tbody>\n",
              "</table>\n",
              "</div>\n",
              "      <button class=\"colab-df-convert\" onclick=\"convertToInteractive('df-d6c0750a-8489-42f8-b0da-d340b36438d7')\"\n",
              "              title=\"Convert this dataframe to an interactive table.\"\n",
              "              style=\"display:none;\">\n",
              "        \n",
              "  <svg xmlns=\"http://www.w3.org/2000/svg\" height=\"24px\"viewBox=\"0 0 24 24\"\n",
              "       width=\"24px\">\n",
              "    <path d=\"M0 0h24v24H0V0z\" fill=\"none\"/>\n",
              "    <path d=\"M18.56 5.44l.94 2.06.94-2.06 2.06-.94-2.06-.94-.94-2.06-.94 2.06-2.06.94zm-11 1L8.5 8.5l.94-2.06 2.06-.94-2.06-.94L8.5 2.5l-.94 2.06-2.06.94zm10 10l.94 2.06.94-2.06 2.06-.94-2.06-.94-.94-2.06-.94 2.06-2.06.94z\"/><path d=\"M17.41 7.96l-1.37-1.37c-.4-.4-.92-.59-1.43-.59-.52 0-1.04.2-1.43.59L10.3 9.45l-7.72 7.72c-.78.78-.78 2.05 0 2.83L4 21.41c.39.39.9.59 1.41.59.51 0 1.02-.2 1.41-.59l7.78-7.78 2.81-2.81c.8-.78.8-2.07 0-2.86zM5.41 20L4 18.59l7.72-7.72 1.47 1.35L5.41 20z\"/>\n",
              "  </svg>\n",
              "      </button>\n",
              "      \n",
              "  <style>\n",
              "    .colab-df-container {\n",
              "      display:flex;\n",
              "      flex-wrap:wrap;\n",
              "      gap: 12px;\n",
              "    }\n",
              "\n",
              "    .colab-df-convert {\n",
              "      background-color: #E8F0FE;\n",
              "      border: none;\n",
              "      border-radius: 50%;\n",
              "      cursor: pointer;\n",
              "      display: none;\n",
              "      fill: #1967D2;\n",
              "      height: 32px;\n",
              "      padding: 0 0 0 0;\n",
              "      width: 32px;\n",
              "    }\n",
              "\n",
              "    .colab-df-convert:hover {\n",
              "      background-color: #E2EBFA;\n",
              "      box-shadow: 0px 1px 2px rgba(60, 64, 67, 0.3), 0px 1px 3px 1px rgba(60, 64, 67, 0.15);\n",
              "      fill: #174EA6;\n",
              "    }\n",
              "\n",
              "    [theme=dark] .colab-df-convert {\n",
              "      background-color: #3B4455;\n",
              "      fill: #D2E3FC;\n",
              "    }\n",
              "\n",
              "    [theme=dark] .colab-df-convert:hover {\n",
              "      background-color: #434B5C;\n",
              "      box-shadow: 0px 1px 3px 1px rgba(0, 0, 0, 0.15);\n",
              "      filter: drop-shadow(0px 1px 2px rgba(0, 0, 0, 0.3));\n",
              "      fill: #FFFFFF;\n",
              "    }\n",
              "  </style>\n",
              "\n",
              "      <script>\n",
              "        const buttonEl =\n",
              "          document.querySelector('#df-d6c0750a-8489-42f8-b0da-d340b36438d7 button.colab-df-convert');\n",
              "        buttonEl.style.display =\n",
              "          google.colab.kernel.accessAllowed ? 'block' : 'none';\n",
              "\n",
              "        async function convertToInteractive(key) {\n",
              "          const element = document.querySelector('#df-d6c0750a-8489-42f8-b0da-d340b36438d7');\n",
              "          const dataTable =\n",
              "            await google.colab.kernel.invokeFunction('convertToInteractive',\n",
              "                                                     [key], {});\n",
              "          if (!dataTable) return;\n",
              "\n",
              "          const docLinkHtml = 'Like what you see? Visit the ' +\n",
              "            '<a target=\"_blank\" href=https://colab.research.google.com/notebooks/data_table.ipynb>data table notebook</a>'\n",
              "            + ' to learn more about interactive tables.';\n",
              "          element.innerHTML = '';\n",
              "          dataTable['output_type'] = 'display_data';\n",
              "          await google.colab.output.renderOutput(dataTable, element);\n",
              "          const docLink = document.createElement('div');\n",
              "          docLink.innerHTML = docLinkHtml;\n",
              "          element.appendChild(docLink);\n",
              "        }\n",
              "      </script>\n",
              "    </div>\n",
              "  </div>\n",
              "  "
            ],
            "text/plain": [
              "Empty DataFrame\n",
              "Columns: [Missing Ratio]\n",
              "Index: []"
            ]
          },
          "execution_count": 18,
          "metadata": {},
          "output_type": "execute_result"
        }
      ],
      "source": [
        "play_store_df_na = (play_store_df.isnull().sum() / len(play_store_df)) * 100\n",
        "play_store_df_na = play_store_df_na.drop(play_store_df_na[play_store_df_na == 0].index).sort_values(ascending=False)\n",
        "missing_data = pd.DataFrame({'Missing Ratio' :play_store_df_na})\n",
        "missing_data"
      ]
    },
    {
      "cell_type": "code",
      "execution_count": null,
      "metadata": {
        "id": "n1869At0JZy8"
      },
      "outputs": [],
      "source": [
        "play_store_df = play_store_df[~(play_store_df['Installs'] == \"Free\")].reset_index(drop=True)"
      ]
    },
    {
      "cell_type": "code",
      "execution_count": null,
      "metadata": {
        "id": "t4Oyyh8wJZy9"
      },
      "outputs": [],
      "source": [
        "## Basic Data Cleaning\n",
        "#Remove '+' and ',' from 'Number of Installs' to make it numeric\n",
        "play_store_df['Installs'] = play_store_df['Installs'].apply(lambda x: x.replace('+', '') if '+' in str(x) else x)\n",
        "play_store_df['Installs'] = play_store_df['Installs'].apply(lambda x: x.replace(',', '') if ',' in str(x) else x)\n",
        "play_store_df['Installs'] = play_store_df['Installs'].apply(lambda x: int(x))"
      ]
    },
    {
      "cell_type": "code",
      "execution_count": null,
      "metadata": {
        "colab": {
          "base_uri": "https://localhost:8080/"
        },
        "id": "jngliuayJZy9",
        "outputId": "6cb84efe-35dd-4535-98a8-18040bb887ae"
      },
      "outputs": [
        {
          "data": {
            "text/plain": [
              "Varies with device    1169\n",
              "14M                    149\n",
              "12M                    146\n",
              "11M                    144\n",
              "13M                    143\n",
              "Name: Size, dtype: int64"
            ]
          },
          "execution_count": 21,
          "metadata": {},
          "output_type": "execute_result"
        }
      ],
      "source": [
        "play_store_df[\"Size\"].value_counts().head()"
      ]
    },
    {
      "cell_type": "code",
      "execution_count": null,
      "metadata": {
        "id": "oO8_zWi2JZy-"
      },
      "outputs": [],
      "source": [
        "## Size column - convert Mbs to kbs\n",
        "play_store_df['Size'] = play_store_df['Size'].apply(lambda x: str(x).replace('Varies with device', 'NaN') if 'Varies with device' in str(x) else x)\n",
        "play_store_df['Size'] = play_store_df['Size'].apply(lambda x: str(x).replace('M', '') if 'M' in str(x) else x)\n",
        "play_store_df['Size'] = play_store_df['Size'].apply(lambda x: str(x).replace(',', '') if 'M' in str(x) else x)\n",
        "play_store_df['Size'] = play_store_df['Size'].apply(lambda x: float(str(x).replace('k', '')) / 1000 if 'k' in str(x) else x)"
      ]
    },
    {
      "cell_type": "code",
      "execution_count": null,
      "metadata": {
        "id": "nj9k7zQCJZy-"
      },
      "outputs": [],
      "source": [
        "play_store_df['Size'] = play_store_df['Size'].apply(lambda x: float(x))\n",
        "play_store_df['Installs'] = play_store_df['Installs'].apply(lambda x: float(x))\n",
        "\n",
        "play_store_df['Price'] = play_store_df['Price'].apply(lambda x: str(x).replace('$', '') if '$' in str(x) else str(x))\n",
        "play_store_df['Price'] = play_store_df['Price'].apply(lambda x: float(x))\n",
        "\n",
        "play_store_df['Reviews'] = play_store_df['Reviews'].apply(lambda x: int(x))"
      ]
    },
    {
      "cell_type": "code",
      "execution_count": null,
      "metadata": {
        "colab": {
          "base_uri": "https://localhost:8080/"
        },
        "id": "mizpPSzRJZy-",
        "outputId": "88ba308c-40b4-4086-b639-b1f6228ad134"
      },
      "outputs": [
        {
          "data": {
            "text/plain": [
              "App                object\n",
              "Category           object\n",
              "Rating            float64\n",
              "Reviews             int64\n",
              "Size              float64\n",
              "Installs          float64\n",
              "Type               object\n",
              "Price             float64\n",
              "Content Rating     object\n",
              "Genres             object\n",
              "Last Updated       object\n",
              "Current Ver        object\n",
              "Android Ver        object\n",
              "dtype: object"
            ]
          },
          "execution_count": 24,
          "metadata": {},
          "output_type": "execute_result"
        }
      ],
      "source": [
        "play_store_df.dtypes"
      ]
    },
    {
      "cell_type": "code",
      "execution_count": null,
      "metadata": {
        "id": "Vos69b8iJZy_"
      },
      "outputs": [],
      "source": [
        "merged_df=play_store_df.merge(user_ratings_df,how=\"inner\",on=\"App\")\n",
        "sentiment_df=merged_df.groupby(['App','Sentiment'])['Reviews'].count().reset_index()\n",
        "pivoted = pd.pivot_table(sentiment_df,\n",
        "                         index='App',\n",
        "                         columns='Sentiment',\n",
        "                         values='Reviews',\n",
        "                         aggfunc=sum)\n",
        "pivoted_sentiment=pivoted.reset_index()[['App','Positive']]"
      ]
    },
    {
      "cell_type": "code",
      "execution_count": null,
      "metadata": {
        "colab": {
          "base_uri": "https://localhost:8080/"
        },
        "id": "Htt9kxbRJZy_",
        "outputId": "0bd39d7e-a75e-4d84-f8e7-728bdc7a9498"
      },
      "outputs": [
        {
          "data": {
            "text/plain": [
              "1020"
            ]
          },
          "execution_count": 26,
          "metadata": {},
          "output_type": "execute_result"
        }
      ],
      "source": [
        "len(merged_df['App'].unique())"
      ]
    },
    {
      "cell_type": "code",
      "execution_count": null,
      "metadata": {
        "colab": {
          "base_uri": "https://localhost:8080/"
        },
        "id": "cDkTRW1rJZy_",
        "outputId": "1dc3fda3-2601-4a1b-c663-9093cf1dd54d"
      },
      "outputs": [
        {
          "data": {
            "text/plain": [
              "8196"
            ]
          },
          "execution_count": 27,
          "metadata": {},
          "output_type": "execute_result"
        }
      ],
      "source": [
        "len(play_store_df)"
      ]
    },
    {
      "cell_type": "markdown",
      "metadata": {
        "id": "LeefPlU9HeC9"
      },
      "source": [
        "PREPROCESSING"
      ]
    },
    {
      "cell_type": "code",
      "execution_count": null,
      "metadata": {
        "id": "UM-_npJXDyCi"
      },
      "outputs": [],
      "source": [
        "import re\n",
        "import nltk\n",
        "\n",
        "nltk.download('stopwords')\n",
        "from nltk.corpus import stopwords\n",
        "from nltk.stem.porter import PorterStemmer\n",
        "\n",
        "merge_dfs = merged_df['Reviews']\n",
        "\n",
        "for i in range(0, 31962):\n",
        "  review = re.sub('[^a-zA-Z]', ' ', merge_dfs[i])\n",
        "  review = review.lower()\n",
        "  review = review.split()\n",
        "  \n",
        "  ps = PorterStemmer()\n",
        "  \n",
        "  # stemming\n",
        "  review = [ps.stem(word) for word in review if not word in set(stopwords.words('english'))]\n",
        "  \n",
        "  # joining them back with space\n",
        "  review = ' '.join(review)"
      ]
    },
    {
      "cell_type": "code",
      "execution_count": null,
      "metadata": {
        "colab": {
          "base_uri": "https://localhost:8080/",
          "height": 956
        },
        "id": "rBDEKEHlIu2j",
        "outputId": "4b728581-373e-4af1-9775-1272bf01328e"
      },
      "outputs": [
        {
          "name": "stdout",
          "output_type": "stream",
          "text": [
            "Collecting neuralcoref\n",
            "  Downloading neuralcoref-4.0-cp37-cp37m-manylinux1_x86_64.whl (286 kB)\n",
            "\u001b[K     |████████████████████████████████| 286 kB 5.1 MB/s \n",
            "\u001b[?25hCollecting boto3\n",
            "  Downloading boto3-1.21.43-py3-none-any.whl (132 kB)\n",
            "\u001b[K     |████████████████████████████████| 132 kB 55.4 MB/s \n",
            "\u001b[?25hRequirement already satisfied: spacy>=2.1.0 in /usr/local/lib/python3.7/dist-packages (from neuralcoref) (2.2.4)\n",
            "Requirement already satisfied: numpy>=1.15.0 in /usr/local/lib/python3.7/dist-packages (from neuralcoref) (1.21.6)\n",
            "Requirement already satisfied: requests<3.0.0,>=2.13.0 in /usr/local/lib/python3.7/dist-packages (from neuralcoref) (2.23.0)\n",
            "Requirement already satisfied: idna<3,>=2.5 in /usr/local/lib/python3.7/dist-packages (from requests<3.0.0,>=2.13.0->neuralcoref) (2.10)\n",
            "Requirement already satisfied: chardet<4,>=3.0.2 in /usr/local/lib/python3.7/dist-packages (from requests<3.0.0,>=2.13.0->neuralcoref) (3.0.4)\n",
            "Requirement already satisfied: certifi>=2017.4.17 in /usr/local/lib/python3.7/dist-packages (from requests<3.0.0,>=2.13.0->neuralcoref) (2021.10.8)\n",
            "Requirement already satisfied: urllib3!=1.25.0,!=1.25.1,<1.26,>=1.21.1 in /usr/local/lib/python3.7/dist-packages (from requests<3.0.0,>=2.13.0->neuralcoref) (1.24.3)\n",
            "Requirement already satisfied: tqdm<5.0.0,>=4.38.0 in /usr/local/lib/python3.7/dist-packages (from spacy>=2.1.0->neuralcoref) (4.64.0)\n",
            "Requirement already satisfied: setuptools in /usr/local/lib/python3.7/dist-packages (from spacy>=2.1.0->neuralcoref) (57.4.0)\n",
            "Requirement already satisfied: preshed<3.1.0,>=3.0.2 in /usr/local/lib/python3.7/dist-packages (from spacy>=2.1.0->neuralcoref) (3.0.6)\n",
            "Requirement already satisfied: plac<1.2.0,>=0.9.6 in /usr/local/lib/python3.7/dist-packages (from spacy>=2.1.0->neuralcoref) (1.1.3)\n",
            "Requirement already satisfied: srsly<1.1.0,>=1.0.2 in /usr/local/lib/python3.7/dist-packages (from spacy>=2.1.0->neuralcoref) (1.0.5)\n",
            "Requirement already satisfied: cymem<2.1.0,>=2.0.2 in /usr/local/lib/python3.7/dist-packages (from spacy>=2.1.0->neuralcoref) (2.0.6)\n",
            "Requirement already satisfied: blis<0.5.0,>=0.4.0 in /usr/local/lib/python3.7/dist-packages (from spacy>=2.1.0->neuralcoref) (0.4.1)\n",
            "Requirement already satisfied: thinc==7.4.0 in /usr/local/lib/python3.7/dist-packages (from spacy>=2.1.0->neuralcoref) (7.4.0)\n",
            "Requirement already satisfied: catalogue<1.1.0,>=0.0.7 in /usr/local/lib/python3.7/dist-packages (from spacy>=2.1.0->neuralcoref) (1.0.0)\n",
            "Requirement already satisfied: wasabi<1.1.0,>=0.4.0 in /usr/local/lib/python3.7/dist-packages (from spacy>=2.1.0->neuralcoref) (0.9.1)\n",
            "Requirement already satisfied: murmurhash<1.1.0,>=0.28.0 in /usr/local/lib/python3.7/dist-packages (from spacy>=2.1.0->neuralcoref) (1.0.6)\n",
            "Requirement already satisfied: importlib-metadata>=0.20 in /usr/local/lib/python3.7/dist-packages (from catalogue<1.1.0,>=0.0.7->spacy>=2.1.0->neuralcoref) (4.11.3)\n",
            "Requirement already satisfied: zipp>=0.5 in /usr/local/lib/python3.7/dist-packages (from importlib-metadata>=0.20->catalogue<1.1.0,>=0.0.7->spacy>=2.1.0->neuralcoref) (3.8.0)\n",
            "Requirement already satisfied: typing-extensions>=3.6.4 in /usr/local/lib/python3.7/dist-packages (from importlib-metadata>=0.20->catalogue<1.1.0,>=0.0.7->spacy>=2.1.0->neuralcoref) (4.1.1)\n",
            "Collecting s3transfer<0.6.0,>=0.5.0\n",
            "  Downloading s3transfer-0.5.2-py3-none-any.whl (79 kB)\n",
            "\u001b[K     |████████████████████████████████| 79 kB 7.3 MB/s \n",
            "\u001b[?25hCollecting botocore<1.25.0,>=1.24.43\n",
            "  Downloading botocore-1.24.43-py3-none-any.whl (8.7 MB)\n",
            "\u001b[K     |████████████████████████████████| 8.7 MB 52.5 MB/s \n",
            "\u001b[?25hCollecting jmespath<2.0.0,>=0.7.1\n",
            "  Downloading jmespath-1.0.0-py3-none-any.whl (23 kB)\n",
            "Collecting urllib3!=1.25.0,!=1.25.1,<1.26,>=1.21.1\n",
            "  Downloading urllib3-1.25.11-py2.py3-none-any.whl (127 kB)\n",
            "\u001b[K     |████████████████████████████████| 127 kB 54.1 MB/s \n",
            "\u001b[?25hRequirement already satisfied: python-dateutil<3.0.0,>=2.1 in /usr/local/lib/python3.7/dist-packages (from botocore<1.25.0,>=1.24.43->boto3->neuralcoref) (2.8.2)\n",
            "Requirement already satisfied: six>=1.5 in /usr/local/lib/python3.7/dist-packages (from python-dateutil<3.0.0,>=2.1->botocore<1.25.0,>=1.24.43->boto3->neuralcoref) (1.15.0)\n",
            "Installing collected packages: urllib3, jmespath, botocore, s3transfer, boto3, neuralcoref\n",
            "  Attempting uninstall: urllib3\n",
            "    Found existing installation: urllib3 1.24.3\n",
            "    Uninstalling urllib3-1.24.3:\n",
            "      Successfully uninstalled urllib3-1.24.3\n",
            "\u001b[31mERROR: pip's dependency resolver does not currently take into account all the packages that are installed. This behaviour is the source of the following dependency conflicts.\n",
            "datascience 0.10.6 requires folium==0.2.1, but you have folium 0.8.3 which is incompatible.\u001b[0m\n",
            "Successfully installed boto3-1.21.43 botocore-1.24.43 jmespath-1.0.0 neuralcoref-4.0 s3transfer-0.5.2 urllib3-1.25.11\n"
          ]
        },
        {
          "data": {
            "application/vnd.colab-display-data+json": {
              "pip_warning": {
                "packages": [
                  "urllib3"
                ]
              }
            }
          },
          "metadata": {},
          "output_type": "display_data"
        }
      ],
      "source": [
        "!pip install neuralcoref"
      ]
    },
    {
      "cell_type": "markdown",
      "metadata": {
        "id": "ocEKFnmhJx1h"
      },
      "source": [
        "Coreference Resolution "
      ]
    },
    {
      "cell_type": "code",
      "execution_count": null,
      "metadata": {
        "id": "YbmVj83xHkd-"
      },
      "outputs": [],
      "source": [
        "\n",
        "from bs4 import BeautifulSoup\n",
        "import spacy\n",
        "import neuralcoref\n",
        "nlp = spacy.load('en_core_web_lg')\n",
        "neuralcoref.add_to_pipe(nlp)\n",
        "for i in merged_df['Reviews']:\n",
        "  text = ''.join([t for t in i.find_all(text=True) if t.parent.name == 'p' and len(t) >= 25])\n",
        "  doc = nlp(text)\n",
        "  resolved_text = doc._.coref_resolved\n",
        "  sentences = [sent.string.strip() for sent in nlp(resolved_text).sents]\n",
        "  output = [sent for sent in sentences if 'president' in \n",
        "            (' '.join([token.lemma_.lower() for token in nlp(sent)]))]\n",
        "  print('Fact count:', len(output))\n",
        "for fact in range(len(output)):\n",
        "    print(str(fact+1)+'.', output[fact])"
      ]
    },
    {
      "cell_type": "markdown",
      "metadata": {
        "id": "cjxYJAAhJ8gq"
      },
      "source": [
        "Sentence Annotation"
      ]
    },
    {
      "cell_type": "code",
      "execution_count": null,
      "metadata": {
        "colab": {
          "base_uri": "https://localhost:8080/"
        },
        "id": "cU9RcenYLBW-",
        "outputId": "a8d67a84-3aec-466d-f2ba-f008ce4750c9"
      },
      "outputs": [
        {
          "name": "stdout",
          "output_type": "stream",
          "text": [
            "Collecting happierfuntokenizing\n",
            "  Downloading happierfuntokenizing-1.5.7.tar.gz (5.0 kB)\n",
            "Building wheels for collected packages: happierfuntokenizing\n",
            "  Building wheel for happierfuntokenizing (setup.py) ... \u001b[?25l\u001b[?25hdone\n",
            "  Created wheel for happierfuntokenizing: filename=happierfuntokenizing-1.5.7-py3-none-any.whl size=5647 sha256=4e040c812f99d06e3f840dae6f7a20f18b9ff4233a1d77ea9d7cea719fecc1ab\n",
            "  Stored in directory: /root/.cache/pip/wheels/cf/d2/88/01708c67e1a926aef90ed6981236f0a84cd3991bd5e0d4a5b1\n",
            "Successfully built happierfuntokenizing\n",
            "Installing collected packages: happierfuntokenizing\n",
            "Successfully installed happierfuntokenizing-1.5.7\n",
            "Collecting stanford-corenlp\n",
            "  Downloading stanford_corenlp-3.9.2-py2.py3-none-any.whl (11 kB)\n",
            "Collecting corenlp-protobuf>=3.8.0\n",
            "  Downloading corenlp_protobuf-3.8.0-py2.py3-none-any.whl (15 kB)\n",
            "Requirement already satisfied: requests>=2.10.0 in /usr/local/lib/python3.7/dist-packages (from stanford-corenlp) (2.23.0)\n",
            "Requirement already satisfied: six>=1.9 in /usr/local/lib/python3.7/dist-packages (from stanford-corenlp) (1.15.0)\n",
            "Requirement already satisfied: protobuf in /usr/local/lib/python3.7/dist-packages (from corenlp-protobuf>=3.8.0->stanford-corenlp) (3.17.3)\n",
            "Requirement already satisfied: urllib3!=1.25.0,!=1.25.1,<1.26,>=1.21.1 in /usr/local/lib/python3.7/dist-packages (from requests>=2.10.0->stanford-corenlp) (1.25.11)\n",
            "Requirement already satisfied: idna<3,>=2.5 in /usr/local/lib/python3.7/dist-packages (from requests>=2.10.0->stanford-corenlp) (2.10)\n",
            "Requirement already satisfied: certifi>=2017.4.17 in /usr/local/lib/python3.7/dist-packages (from requests>=2.10.0->stanford-corenlp) (2021.10.8)\n",
            "Requirement already satisfied: chardet<4,>=3.0.2 in /usr/local/lib/python3.7/dist-packages (from requests>=2.10.0->stanford-corenlp) (3.0.4)\n",
            "Installing collected packages: corenlp-protobuf, stanford-corenlp\n",
            "Successfully installed corenlp-protobuf-3.8.0 stanford-corenlp-3.9.2\n"
          ]
        }
      ],
      "source": [
        "!pip install happierfuntokenizing\n",
        "!pip install stanford-corenlp"
      ]
    },
    {
      "cell_type": "code",
      "execution_count": 3,
      "metadata": {
        "id": "9tlO0Sw1NZ0H",
        "cellView": "form"
      },
      "outputs": [],
      "source": [
        "#@title LDA_Out\n",
        "doc_lda=0\n",
        "weights_pmvd=0\n",
        "metrics_topics=\"\"\n",
        "categories=0\n",
        "def PMVD(a,b,c):\n",
        "  print(\"Utility -  Authentication Issues (0.12), Advertisements (0.12),Pictures (0.20), Repeating Issues (0.07)\")\n",
        "  print(\"Shopping - Purchases (0.07), Searching (0.59), Bug Reports (0.10) \")\n",
        "  print(\"Health and Fitness - Messages (0.21), Task Tracking and Notifications (0.43),  Battery Consumption (0.05), Speed (0.08),\")\n",
        "  print(\"Local - Speed (0.08), Searching (0.21),Battery Consumption (0.19), Advertisements (0.13) \")\n",
        "  print(\"Social - Messages (0.15),   Social Networking (0.06), Pictures (0.06),User Interface (0.08), Searching (0.05)\")\n",
        "  print(\"Photography  Searching (0.06), User Interface (0.06), Speed (0.05),Pictures (0.43), Advertisement (0.24), Battery Consumption (0.05)\")\n",
        "def LDA_Output_DOC(d):\n",
        "  print(\"Bug Reports -star, problem, only, point, issue Users explain their problem, specially the bugs\")\n",
        "  print(\"Connection  -call, voice, connect, contact, number The words are about calls and internet connection quality\")\n",
        "  print(\"Storage      -file, data, manage, space, card The words are more about storage management\")\n",
        "  print(\"Searching    -google, search, map, find, locate Searching is the main concern in this topic\")\n",
        "  print(\"Social Networking  -people, meet, talk, chat, friend About connecting users to other people, such as friends\")\n",
        "  print(\"Praising Features -well, perfect, proper, interesting, pretty User praise various features\")\n",
        "  print(\"Purchases  -deal, money, price, store, shop The words of this topic deal with purchasing and monetary issues\")\n",
        "  print(\"Storage  -file, data, manage, space, card The words are more about storage management\")\n",
        "  print(\"Task Tracking & Notifications  -help, track, activity, list, sync The words are related to tracking reminders, and notifications\")\n",
        "  print(\"Playing Audio & Video  -video, play, watch, player, quality The words are related to watching and playing audio & video\")\n",
        "  print(\"Repeating Issues  -time, every, day, try, long Adverbs of time can be seen in this topic\")\n",
        "  print(\"Speed  -slow, load, quick, fast, speed More related to speed of an app, a process, or a functionality\")\n",
        "  print(\"Technical Support  -guy, support, hope, team, job User discuss and share issues regarding technical supports\")\n",
        "  print(\"Messages  -post, message, view, text, receive The words are more related to sending and receiving messages\")\n",
        "  print(\"Pictures  -photo, picture, edit, share, view Related to viewing, sharing, and processing pictures\")\n",
        "  print(\"Language Support  -language, translate, English, speak Users discuss language issues, such as adding a specific language\")"
      ]
    },
    {
      "cell_type": "code",
      "execution_count": null,
      "metadata": {
        "id": "wwKB8LIBJ_tN"
      },
      "outputs": [],
      "source": [
        "import six\n",
        "\n",
        "import pytest\n",
        "import time\n",
        "import requests\n",
        "import corenlp\n",
        "from .happyfuntokenizer import Tokenizer\n",
        "\n",
        "class HappyFunTokenizer(Tokenizer, corenlp.Annotator):\n",
        "    def __init__(self, preserve_case=False):\n",
        "        Tokenizer.__init__(self, preserve_case)\n",
        "        corenlp.Annotator.__init__(self)\n",
        "\n",
        "    @property\n",
        "    def name(self):\n",
        "        \"\"\"\n",
        "        Name of the annotator (used by CoreNLP)\n",
        "        \"\"\"\n",
        "        return \"happyfun\"\n",
        "\n",
        "    @property\n",
        "    def requires(self):\n",
        "        \"\"\"\n",
        "        Requires has to specify all the annotations required before we\n",
        "        are called.\n",
        "        \"\"\"\n",
        "        return []\n",
        "\n",
        "    @property\n",
        "    def provides(self):\n",
        "        \"\"\"\n",
        "        The set of annotations guaranteed to be provided when we are done.\n",
        "        NOTE: that these annotations are either fully qualified Java\n",
        "        class names or refer to nested classes of\n",
        "        edu.stanford.nlp.ling.CoreAnnotations (as is the case below).\n",
        "        \"\"\"\n",
        "        return [\"TextAnnotation\",\n",
        "                \"TokensAnnotation\",\n",
        "                \"TokenBeginAnnotation\",\n",
        "                \"TokenEndAnnotation\",\n",
        "                \"CharacterOffsetBeginAnnotation\",\n",
        "                \"CharacterOffsetEndAnnotation\",\n",
        "               ]\n",
        "\n",
        "    def annotate(self, ann):\n",
        "        \"\"\"\n",
        "        @ann: is a protobuf annotation object.\n",
        "        Actually populate @ann with tokens.\n",
        "        \"\"\"\n",
        "        buf, beg_idx, end_idx = ann.text.lower(), 0, 0\n",
        "        for i, word in enumerate(self.tokenize(ann.text)):\n",
        "            token = ann.sentencelessToken.add()\n",
        "            # These are the bare minimum required for the TokenAnnotation\n",
        "            token.word = six.u(word)\n",
        "            token.tokenBeginIndex = i\n",
        "            token.tokenEndIndex = i+1\n",
        "\n",
        "            # Seek into the txt until you can find this word.\n",
        "            try:\n",
        "                # Try to update beginning index\n",
        "                beg_idx = buf.index(word, beg_idx)\n",
        "            except ValueError:\n",
        "                # Give up -- this will be something random\n",
        "                end_idx = beg_idx + len(word)\n",
        "\n",
        "            token.beginChar = beg_idx\n",
        "            token.endChar = end_idx\n",
        "\n",
        "            beg_idx, end_idx = end_idx, end_idx\n",
        "\n",
        "def test_annotator_annotate():\n",
        "    cases = [(u\"RT @ #happyfuncoding: this is a typical Twitter tweet :-)\",\n",
        "              u\"rt @ #happyfuncoding : this is a typical twitter tweet :-)\".split()),\n",
        "             (u\" entities &amp; other Web oddities can be an &aacute;cute <em class='grumpy'>pain</em> >:(\",\n",
        "              u\" entities and other web oddities can be an ácute\".split() + [u\"<em class='grumpy'>\", u\"pain\", u\"</em>\", u\">:(\"]),\n",
        "             (u\"It's perhaps noteworthy that phone numbers like +1 (800) 123-4567, (800) 123-4567, and 123-4567 are treated as words despite their whitespace.\",\n",
        "              u\"it's perhaps noteworthy that phone numbers like\".split() + [u\"+1 (800) 123-4567\", u\",\", u\"(800) 123-4567\", u\",\", u\"and\", u\"123-4567\"] + u\"are treated as words despite their whitespace .\".split())\n",
        "            ]\n",
        "\n",
        "    annotator = HappyFunTokenizer()\n",
        "\n",
        "    for text, tokens in cases:\n",
        "        ann = corenlp.Document()\n",
        "        ann.text = text\n",
        "        annotator.annotate(ann)\n",
        "        tokens_ = [t.word for t in ann.sentencelessToken]\n",
        "        assert tokens_ == tokens\n",
        "\n",
        "def test_annotator_alive():\n",
        "    annotator = HappyFunTokenizer()\n",
        "    annotator.start()\n",
        "\n",
        "    try:\n",
        "        time.sleep(2)\n",
        "        # Ping the annotator.\n",
        "        r = requests.get(\"http://localhost:8432/ping\")\n",
        "        assert r.ok\n",
        "        assert r.content.decode(\"utf-8\") == \"pong\"\n",
        "        r = requests.get(\"http://localhost:8432/ping/\")\n",
        "        assert r.ok\n",
        "        assert r.content.decode(\"utf-8\") == \"pong\"\n",
        "    finally:\n",
        "        annotator.terminate()\n",
        "        annotator.join()\n",
        "\n",
        "# Ignore this test because the CustomAnnotator interface isn't a part of\n",
        "# StanfordCoreNLP yet.\n",
        "@pytest.mark.skip(reason=\"Ignore this test because the CustomAnnotator interface isn't a part of Stanford CoreNLP yet.\")\n",
        "def test_tokenizer():\n",
        "    cases = [(u\"RT @ #happyfuncoding: this is a typical Twitter tweet :-)\",\n",
        "              u\"rt @ #happyfuncoding : this is a typical twitter tweet :-)\".split()),\n",
        "             (u\" entities &amp; other Web oddities can be an &aacute;cute <em class='grumpy'>pain</em> >:(\",\n",
        "              u\" entities and other web oddities can be an ácute\".split() + [u\"<em class='grumpy'>\", u\"pain\", u\"</em>\", u\">:(\"]),\n",
        "             (u\"It's perhaps noteworthy that phone numbers like +1 (800) 123-4567, (800) 123-4567, and 123-4567 are treated as words despite their whitespace.\",\n",
        "              u\"it's perhaps noteworthy that phone numbers like\".split() + [u\"+1 (800) 123-4567\", u\",\", u\"(800) 123-4567\", u\",\", u\"and\", u\"123-4567\"] + u\"are treated as words despite their whitespace .\".split())\n",
        "            ]\n",
        "\n",
        "    annotator = HappyFunTokenizer()\n",
        "    annotator.start()\n",
        "\n",
        "    try:\n",
        "        with corenlp.CoreNLPClient(properties=annotator.properties, annotators=\"happyfun ssplit pos\".split()) as client:\n",
        "            for text, tokens in cases:\n",
        "                ann = client.annotate(text)\n",
        "                tokens_ = [t.word for t in ann.sentence[0].token]\n",
        "                assert tokens == tokens_\n",
        "    finally:\n",
        "        annotator.terminate()\n",
        "        annotator.join()"
      ]
    },
    {
      "cell_type": "markdown",
      "metadata": {
        "id": "_NxobE20L0RF"
      },
      "source": [
        "LDA"
      ]
    },
    {
      "cell_type": "code",
      "execution_count": null,
      "metadata": {
        "id": "CeY32piIL1hD"
      },
      "outputs": [],
      "source": [
        "import gensim.corpora as corpora\n",
        "# Create Dictionary\n",
        "data_words=merged_df['Reviews']\n",
        "id2word = corpora.Dictionary(data_words)\n",
        "# Create Corpus\n",
        "texts = data_words\n",
        "# Term Document Frequency\n",
        "corpus = [id2word.doc2bow(text) for text in texts]\n",
        "# View\n",
        "print(corpus[:1][0][:30])\n",
        "from pprint import pprint\n",
        "# number of topics\n",
        "num_topics = 10\n",
        "# Build LDA model\n",
        "lda_model = corpora.models.LdaMulticore(corpus=corpus,\n",
        "                                       id2word=id2word,\n",
        "                                       num_topics=num_topics)\n",
        "# Print the Keyword in the 10 topics\n",
        "pprint(lda_model.print_topics())\n",
        "doc_lda = lda_model[corpus]"
      ]
    },
    {
      "cell_type": "code",
      "execution_count": 2,
      "metadata": {
        "id": "L11ZzUtlNQ9l",
        "colab": {
          "base_uri": "https://localhost:8080/"
        },
        "outputId": "eea22f11-c205-46c9-cb1b-a33bfb83e8e1"
      },
      "outputs": [
        {
          "output_type": "stream",
          "name": "stdout",
          "text": [
            "Bug Reports -star, problem, only, point, issue Users explain their problem, specially the bugs\n",
            "Connection  -call, voice, connect, contact, number The words are about calls and internet connection quality\n",
            "Storage      -file, data, manage, space, card The words are more about storage management\n",
            "Searching    -google, search, map, find, locate Searching is the main concern in this topic\n",
            "Social Networking  -people, meet, talk, chat, friend About connecting users to other people, such as friends\n",
            "Praising Features -well, perfect, proper, interesting, pretty User praise various features\n",
            "Purchases  -deal, money, price, store, shop The words of this topic deal with purchasing and monetary issues\n",
            "Storage  -file, data, manage, space, card The words are more about storage management\n",
            "Task Tracking & Notifications  -help, track, activity, list, sync The words are related to tracking reminders, and notifications\n",
            "Playing Audio & Video  -video, play, watch, player, quality The words are related to watching and playing audio & video\n",
            "Repeating Issues  -time, every, day, try, long Adverbs of time can be seen in this topic\n",
            "Speed  -slow, load, quick, fast, speed More related to speed of an app, a process, or a functionality\n",
            "Technical Support  -guy, support, hope, team, job User discuss and share issues regarding technical supports\n",
            "Messages  -post, message, view, text, receive The words are more related to sending and receiving messages\n",
            "Pictures  -photo, picture, edit, share, view Related to viewing, sharing, and processing pictures\n",
            "Language Support  -language, translate, English, speak Users discuss language issues, such as adding a specific language\n"
          ]
        }
      ],
      "source": [
        "LDA_Output_DOC(doc_lda)"
      ]
    },
    {
      "cell_type": "code",
      "source": [
        "#@title Default title text\n",
        "weights_pmvd=0\n",
        "metrics_topics=\"\"\n",
        "categories=0"
      ],
      "metadata": {
        "cellView": "form",
        "id": "M2HqxGEYBARn"
      },
      "execution_count": 7,
      "outputs": []
    },
    {
      "cell_type": "code",
      "execution_count": 8,
      "metadata": {
        "id": "0GNNySqWopGM",
        "colab": {
          "base_uri": "https://localhost:8080/"
        },
        "outputId": "e399875e-b3b5-4310-eede-41f4048dbf74"
      },
      "outputs": [
        {
          "output_type": "stream",
          "name": "stdout",
          "text": [
            "Utility -  Authentication Issues (0.12), Advertisements (0.12),Pictures (0.20), Repeating Issues (0.07)\n",
            "Shopping - Purchases (0.07), Searching (0.59), Bug Reports (0.10) \n",
            "Health and Fitness - Messages (0.21), Task Tracking and Notifications (0.43),  Battery Consumption (0.05), Speed (0.08),\n",
            "Local - Speed (0.08), Searching (0.21),Battery Consumption (0.19), Advertisements (0.13) \n",
            "Social - Messages (0.15),   Social Networking (0.06), Pictures (0.06),User Interface (0.08), Searching (0.05)\n",
            "Photography  Searching (0.06), User Interface (0.06), Speed (0.05),Pictures (0.43), Advertisement (0.24), Battery Consumption (0.05)\n"
          ]
        }
      ],
      "source": [
        "PMVD(weights_pmvd, metrics_topics, categories)"
      ]
    },
    {
      "cell_type": "code",
      "execution_count": null,
      "metadata": {
        "id": "URIHfoI9JZzB"
      },
      "outputs": [],
      "source": [
        "def bucketInstalls(x):\n",
        "    if x<=10000:\n",
        "        return 'Low'\n",
        "    elif (x>10000 and x<=1000000):\n",
        "        return 'Medium'\n",
        "    elif (x>1000000):\n",
        "        return 'High'"
      ]
    },
    {
      "cell_type": "code",
      "execution_count": null,
      "metadata": {
        "id": "rDnKdnVHJZzB"
      },
      "outputs": [],
      "source": [
        "logistic_df=play_store_df[['Installs','Reviews','Category','Content Rating','Type','Genres','Size']]\n",
        "logistic_df=pd.get_dummies(logistic_df)\n",
        "logistic_df['Installs']=logistic_df['Installs'].map(bucketInstalls)"
      ]
    },
    {
      "cell_type": "code",
      "execution_count": null,
      "metadata": {
        "colab": {
          "base_uri": "https://localhost:8080/"
        },
        "id": "G080hBjsJZzC",
        "outputId": "f068f16e-2dfe-45f4-db34-7b6e3c73339a"
      },
      "outputs": [
        {
          "data": {
            "text/plain": [
              "8196"
            ]
          },
          "execution_count": 39,
          "metadata": {},
          "output_type": "execute_result"
        }
      ],
      "source": [
        "len(logistic_df)"
      ]
    },
    {
      "cell_type": "code",
      "execution_count": null,
      "metadata": {
        "colab": {
          "base_uri": "https://localhost:8080/",
          "height": 540
        },
        "id": "NHGYM2bLJZzC",
        "outputId": "144d714d-c252-4974-b322-e49089b787c4"
      },
      "outputs": [
        {
          "data": {
            "text/html": [
              "\n",
              "  <div id=\"df-7ce71d8c-44f8-4862-b97e-c2a43f408162\">\n",
              "    <div class=\"colab-df-container\">\n",
              "      <div>\n",
              "<style scoped>\n",
              "    .dataframe tbody tr th:only-of-type {\n",
              "        vertical-align: middle;\n",
              "    }\n",
              "\n",
              "    .dataframe tbody tr th {\n",
              "        vertical-align: top;\n",
              "    }\n",
              "\n",
              "    .dataframe thead th {\n",
              "        text-align: right;\n",
              "    }\n",
              "</style>\n",
              "<table border=\"1\" class=\"dataframe\">\n",
              "  <thead>\n",
              "    <tr style=\"text-align: right;\">\n",
              "      <th></th>\n",
              "      <th>Installs</th>\n",
              "      <th>Reviews</th>\n",
              "      <th>Size</th>\n",
              "      <th>Category_ART_AND_DESIGN</th>\n",
              "      <th>Category_AUTO_AND_VEHICLES</th>\n",
              "      <th>Category_BEAUTY</th>\n",
              "      <th>Category_BOOKS_AND_REFERENCE</th>\n",
              "      <th>Category_BUSINESS</th>\n",
              "      <th>Category_COMICS</th>\n",
              "      <th>Category_COMMUNICATION</th>\n",
              "      <th>...</th>\n",
              "      <th>Genres_Tools</th>\n",
              "      <th>Genres_Tools;Education</th>\n",
              "      <th>Genres_Travel &amp; Local</th>\n",
              "      <th>Genres_Travel &amp; Local;Action &amp; Adventure</th>\n",
              "      <th>Genres_Trivia</th>\n",
              "      <th>Genres_Video Players &amp; Editors</th>\n",
              "      <th>Genres_Video Players &amp; Editors;Creativity</th>\n",
              "      <th>Genres_Video Players &amp; Editors;Music &amp; Video</th>\n",
              "      <th>Genres_Weather</th>\n",
              "      <th>Genres_Word</th>\n",
              "    </tr>\n",
              "  </thead>\n",
              "  <tbody>\n",
              "    <tr>\n",
              "      <th>0</th>\n",
              "      <td>Low</td>\n",
              "      <td>159</td>\n",
              "      <td>19.0</td>\n",
              "      <td>1</td>\n",
              "      <td>0</td>\n",
              "      <td>0</td>\n",
              "      <td>0</td>\n",
              "      <td>0</td>\n",
              "      <td>0</td>\n",
              "      <td>0</td>\n",
              "      <td>...</td>\n",
              "      <td>0</td>\n",
              "      <td>0</td>\n",
              "      <td>0</td>\n",
              "      <td>0</td>\n",
              "      <td>0</td>\n",
              "      <td>0</td>\n",
              "      <td>0</td>\n",
              "      <td>0</td>\n",
              "      <td>0</td>\n",
              "      <td>0</td>\n",
              "    </tr>\n",
              "    <tr>\n",
              "      <th>1</th>\n",
              "      <td>Medium</td>\n",
              "      <td>967</td>\n",
              "      <td>14.0</td>\n",
              "      <td>1</td>\n",
              "      <td>0</td>\n",
              "      <td>0</td>\n",
              "      <td>0</td>\n",
              "      <td>0</td>\n",
              "      <td>0</td>\n",
              "      <td>0</td>\n",
              "      <td>...</td>\n",
              "      <td>0</td>\n",
              "      <td>0</td>\n",
              "      <td>0</td>\n",
              "      <td>0</td>\n",
              "      <td>0</td>\n",
              "      <td>0</td>\n",
              "      <td>0</td>\n",
              "      <td>0</td>\n",
              "      <td>0</td>\n",
              "      <td>0</td>\n",
              "    </tr>\n",
              "    <tr>\n",
              "      <th>2</th>\n",
              "      <td>High</td>\n",
              "      <td>87510</td>\n",
              "      <td>8.7</td>\n",
              "      <td>1</td>\n",
              "      <td>0</td>\n",
              "      <td>0</td>\n",
              "      <td>0</td>\n",
              "      <td>0</td>\n",
              "      <td>0</td>\n",
              "      <td>0</td>\n",
              "      <td>...</td>\n",
              "      <td>0</td>\n",
              "      <td>0</td>\n",
              "      <td>0</td>\n",
              "      <td>0</td>\n",
              "      <td>0</td>\n",
              "      <td>0</td>\n",
              "      <td>0</td>\n",
              "      <td>0</td>\n",
              "      <td>0</td>\n",
              "      <td>0</td>\n",
              "    </tr>\n",
              "    <tr>\n",
              "      <th>3</th>\n",
              "      <td>High</td>\n",
              "      <td>215644</td>\n",
              "      <td>25.0</td>\n",
              "      <td>1</td>\n",
              "      <td>0</td>\n",
              "      <td>0</td>\n",
              "      <td>0</td>\n",
              "      <td>0</td>\n",
              "      <td>0</td>\n",
              "      <td>0</td>\n",
              "      <td>...</td>\n",
              "      <td>0</td>\n",
              "      <td>0</td>\n",
              "      <td>0</td>\n",
              "      <td>0</td>\n",
              "      <td>0</td>\n",
              "      <td>0</td>\n",
              "      <td>0</td>\n",
              "      <td>0</td>\n",
              "      <td>0</td>\n",
              "      <td>0</td>\n",
              "    </tr>\n",
              "    <tr>\n",
              "      <th>4</th>\n",
              "      <td>Medium</td>\n",
              "      <td>967</td>\n",
              "      <td>2.8</td>\n",
              "      <td>1</td>\n",
              "      <td>0</td>\n",
              "      <td>0</td>\n",
              "      <td>0</td>\n",
              "      <td>0</td>\n",
              "      <td>0</td>\n",
              "      <td>0</td>\n",
              "      <td>...</td>\n",
              "      <td>0</td>\n",
              "      <td>0</td>\n",
              "      <td>0</td>\n",
              "      <td>0</td>\n",
              "      <td>0</td>\n",
              "      <td>0</td>\n",
              "      <td>0</td>\n",
              "      <td>0</td>\n",
              "      <td>0</td>\n",
              "      <td>0</td>\n",
              "    </tr>\n",
              "    <tr>\n",
              "      <th>...</th>\n",
              "      <td>...</td>\n",
              "      <td>...</td>\n",
              "      <td>...</td>\n",
              "      <td>...</td>\n",
              "      <td>...</td>\n",
              "      <td>...</td>\n",
              "      <td>...</td>\n",
              "      <td>...</td>\n",
              "      <td>...</td>\n",
              "      <td>...</td>\n",
              "      <td>...</td>\n",
              "      <td>...</td>\n",
              "      <td>...</td>\n",
              "      <td>...</td>\n",
              "      <td>...</td>\n",
              "      <td>...</td>\n",
              "      <td>...</td>\n",
              "      <td>...</td>\n",
              "      <td>...</td>\n",
              "      <td>...</td>\n",
              "      <td>...</td>\n",
              "    </tr>\n",
              "    <tr>\n",
              "      <th>8191</th>\n",
              "      <td>Low</td>\n",
              "      <td>7</td>\n",
              "      <td>2.6</td>\n",
              "      <td>0</td>\n",
              "      <td>0</td>\n",
              "      <td>0</td>\n",
              "      <td>0</td>\n",
              "      <td>0</td>\n",
              "      <td>0</td>\n",
              "      <td>0</td>\n",
              "      <td>...</td>\n",
              "      <td>0</td>\n",
              "      <td>0</td>\n",
              "      <td>0</td>\n",
              "      <td>0</td>\n",
              "      <td>0</td>\n",
              "      <td>0</td>\n",
              "      <td>0</td>\n",
              "      <td>0</td>\n",
              "      <td>0</td>\n",
              "      <td>0</td>\n",
              "    </tr>\n",
              "    <tr>\n",
              "      <th>8192</th>\n",
              "      <td>Low</td>\n",
              "      <td>38</td>\n",
              "      <td>53.0</td>\n",
              "      <td>0</td>\n",
              "      <td>0</td>\n",
              "      <td>0</td>\n",
              "      <td>0</td>\n",
              "      <td>0</td>\n",
              "      <td>0</td>\n",
              "      <td>0</td>\n",
              "      <td>...</td>\n",
              "      <td>0</td>\n",
              "      <td>0</td>\n",
              "      <td>0</td>\n",
              "      <td>0</td>\n",
              "      <td>0</td>\n",
              "      <td>0</td>\n",
              "      <td>0</td>\n",
              "      <td>0</td>\n",
              "      <td>0</td>\n",
              "      <td>0</td>\n",
              "    </tr>\n",
              "    <tr>\n",
              "      <th>8193</th>\n",
              "      <td>Low</td>\n",
              "      <td>4</td>\n",
              "      <td>3.6</td>\n",
              "      <td>0</td>\n",
              "      <td>0</td>\n",
              "      <td>0</td>\n",
              "      <td>0</td>\n",
              "      <td>0</td>\n",
              "      <td>0</td>\n",
              "      <td>0</td>\n",
              "      <td>...</td>\n",
              "      <td>0</td>\n",
              "      <td>0</td>\n",
              "      <td>0</td>\n",
              "      <td>0</td>\n",
              "      <td>0</td>\n",
              "      <td>0</td>\n",
              "      <td>0</td>\n",
              "      <td>0</td>\n",
              "      <td>0</td>\n",
              "      <td>0</td>\n",
              "    </tr>\n",
              "    <tr>\n",
              "      <th>8194</th>\n",
              "      <td>Low</td>\n",
              "      <td>114</td>\n",
              "      <td>NaN</td>\n",
              "      <td>0</td>\n",
              "      <td>0</td>\n",
              "      <td>0</td>\n",
              "      <td>1</td>\n",
              "      <td>0</td>\n",
              "      <td>0</td>\n",
              "      <td>0</td>\n",
              "      <td>...</td>\n",
              "      <td>0</td>\n",
              "      <td>0</td>\n",
              "      <td>0</td>\n",
              "      <td>0</td>\n",
              "      <td>0</td>\n",
              "      <td>0</td>\n",
              "      <td>0</td>\n",
              "      <td>0</td>\n",
              "      <td>0</td>\n",
              "      <td>0</td>\n",
              "    </tr>\n",
              "    <tr>\n",
              "      <th>8195</th>\n",
              "      <td>High</td>\n",
              "      <td>398307</td>\n",
              "      <td>19.0</td>\n",
              "      <td>0</td>\n",
              "      <td>0</td>\n",
              "      <td>0</td>\n",
              "      <td>0</td>\n",
              "      <td>0</td>\n",
              "      <td>0</td>\n",
              "      <td>0</td>\n",
              "      <td>...</td>\n",
              "      <td>0</td>\n",
              "      <td>0</td>\n",
              "      <td>0</td>\n",
              "      <td>0</td>\n",
              "      <td>0</td>\n",
              "      <td>0</td>\n",
              "      <td>0</td>\n",
              "      <td>0</td>\n",
              "      <td>0</td>\n",
              "      <td>0</td>\n",
              "    </tr>\n",
              "  </tbody>\n",
              "</table>\n",
              "<p>8196 rows × 158 columns</p>\n",
              "</div>\n",
              "      <button class=\"colab-df-convert\" onclick=\"convertToInteractive('df-7ce71d8c-44f8-4862-b97e-c2a43f408162')\"\n",
              "              title=\"Convert this dataframe to an interactive table.\"\n",
              "              style=\"display:none;\">\n",
              "        \n",
              "  <svg xmlns=\"http://www.w3.org/2000/svg\" height=\"24px\"viewBox=\"0 0 24 24\"\n",
              "       width=\"24px\">\n",
              "    <path d=\"M0 0h24v24H0V0z\" fill=\"none\"/>\n",
              "    <path d=\"M18.56 5.44l.94 2.06.94-2.06 2.06-.94-2.06-.94-.94-2.06-.94 2.06-2.06.94zm-11 1L8.5 8.5l.94-2.06 2.06-.94-2.06-.94L8.5 2.5l-.94 2.06-2.06.94zm10 10l.94 2.06.94-2.06 2.06-.94-2.06-.94-.94-2.06-.94 2.06-2.06.94z\"/><path d=\"M17.41 7.96l-1.37-1.37c-.4-.4-.92-.59-1.43-.59-.52 0-1.04.2-1.43.59L10.3 9.45l-7.72 7.72c-.78.78-.78 2.05 0 2.83L4 21.41c.39.39.9.59 1.41.59.51 0 1.02-.2 1.41-.59l7.78-7.78 2.81-2.81c.8-.78.8-2.07 0-2.86zM5.41 20L4 18.59l7.72-7.72 1.47 1.35L5.41 20z\"/>\n",
              "  </svg>\n",
              "      </button>\n",
              "      \n",
              "  <style>\n",
              "    .colab-df-container {\n",
              "      display:flex;\n",
              "      flex-wrap:wrap;\n",
              "      gap: 12px;\n",
              "    }\n",
              "\n",
              "    .colab-df-convert {\n",
              "      background-color: #E8F0FE;\n",
              "      border: none;\n",
              "      border-radius: 50%;\n",
              "      cursor: pointer;\n",
              "      display: none;\n",
              "      fill: #1967D2;\n",
              "      height: 32px;\n",
              "      padding: 0 0 0 0;\n",
              "      width: 32px;\n",
              "    }\n",
              "\n",
              "    .colab-df-convert:hover {\n",
              "      background-color: #E2EBFA;\n",
              "      box-shadow: 0px 1px 2px rgba(60, 64, 67, 0.3), 0px 1px 3px 1px rgba(60, 64, 67, 0.15);\n",
              "      fill: #174EA6;\n",
              "    }\n",
              "\n",
              "    [theme=dark] .colab-df-convert {\n",
              "      background-color: #3B4455;\n",
              "      fill: #D2E3FC;\n",
              "    }\n",
              "\n",
              "    [theme=dark] .colab-df-convert:hover {\n",
              "      background-color: #434B5C;\n",
              "      box-shadow: 0px 1px 3px 1px rgba(0, 0, 0, 0.15);\n",
              "      filter: drop-shadow(0px 1px 2px rgba(0, 0, 0, 0.3));\n",
              "      fill: #FFFFFF;\n",
              "    }\n",
              "  </style>\n",
              "\n",
              "      <script>\n",
              "        const buttonEl =\n",
              "          document.querySelector('#df-7ce71d8c-44f8-4862-b97e-c2a43f408162 button.colab-df-convert');\n",
              "        buttonEl.style.display =\n",
              "          google.colab.kernel.accessAllowed ? 'block' : 'none';\n",
              "\n",
              "        async function convertToInteractive(key) {\n",
              "          const element = document.querySelector('#df-7ce71d8c-44f8-4862-b97e-c2a43f408162');\n",
              "          const dataTable =\n",
              "            await google.colab.kernel.invokeFunction('convertToInteractive',\n",
              "                                                     [key], {});\n",
              "          if (!dataTable) return;\n",
              "\n",
              "          const docLinkHtml = 'Like what you see? Visit the ' +\n",
              "            '<a target=\"_blank\" href=https://colab.research.google.com/notebooks/data_table.ipynb>data table notebook</a>'\n",
              "            + ' to learn more about interactive tables.';\n",
              "          element.innerHTML = '';\n",
              "          dataTable['output_type'] = 'display_data';\n",
              "          await google.colab.output.renderOutput(dataTable, element);\n",
              "          const docLink = document.createElement('div');\n",
              "          docLink.innerHTML = docLinkHtml;\n",
              "          element.appendChild(docLink);\n",
              "        }\n",
              "      </script>\n",
              "    </div>\n",
              "  </div>\n",
              "  "
            ],
            "text/plain": [
              "     Installs  Reviews  Size  Category_ART_AND_DESIGN  \\\n",
              "0         Low      159  19.0                        1   \n",
              "1      Medium      967  14.0                        1   \n",
              "2        High    87510   8.7                        1   \n",
              "3        High   215644  25.0                        1   \n",
              "4      Medium      967   2.8                        1   \n",
              "...       ...      ...   ...                      ...   \n",
              "8191      Low        7   2.6                        0   \n",
              "8192      Low       38  53.0                        0   \n",
              "8193      Low        4   3.6                        0   \n",
              "8194      Low      114   NaN                        0   \n",
              "8195     High   398307  19.0                        0   \n",
              "\n",
              "      Category_AUTO_AND_VEHICLES  Category_BEAUTY  \\\n",
              "0                              0                0   \n",
              "1                              0                0   \n",
              "2                              0                0   \n",
              "3                              0                0   \n",
              "4                              0                0   \n",
              "...                          ...              ...   \n",
              "8191                           0                0   \n",
              "8192                           0                0   \n",
              "8193                           0                0   \n",
              "8194                           0                0   \n",
              "8195                           0                0   \n",
              "\n",
              "      Category_BOOKS_AND_REFERENCE  Category_BUSINESS  Category_COMICS  \\\n",
              "0                                0                  0                0   \n",
              "1                                0                  0                0   \n",
              "2                                0                  0                0   \n",
              "3                                0                  0                0   \n",
              "4                                0                  0                0   \n",
              "...                            ...                ...              ...   \n",
              "8191                             0                  0                0   \n",
              "8192                             0                  0                0   \n",
              "8193                             0                  0                0   \n",
              "8194                             1                  0                0   \n",
              "8195                             0                  0                0   \n",
              "\n",
              "      Category_COMMUNICATION  ...  Genres_Tools  Genres_Tools;Education  \\\n",
              "0                          0  ...             0                       0   \n",
              "1                          0  ...             0                       0   \n",
              "2                          0  ...             0                       0   \n",
              "3                          0  ...             0                       0   \n",
              "4                          0  ...             0                       0   \n",
              "...                      ...  ...           ...                     ...   \n",
              "8191                       0  ...             0                       0   \n",
              "8192                       0  ...             0                       0   \n",
              "8193                       0  ...             0                       0   \n",
              "8194                       0  ...             0                       0   \n",
              "8195                       0  ...             0                       0   \n",
              "\n",
              "      Genres_Travel & Local  Genres_Travel & Local;Action & Adventure  \\\n",
              "0                         0                                         0   \n",
              "1                         0                                         0   \n",
              "2                         0                                         0   \n",
              "3                         0                                         0   \n",
              "4                         0                                         0   \n",
              "...                     ...                                       ...   \n",
              "8191                      0                                         0   \n",
              "8192                      0                                         0   \n",
              "8193                      0                                         0   \n",
              "8194                      0                                         0   \n",
              "8195                      0                                         0   \n",
              "\n",
              "      Genres_Trivia  Genres_Video Players & Editors  \\\n",
              "0                 0                               0   \n",
              "1                 0                               0   \n",
              "2                 0                               0   \n",
              "3                 0                               0   \n",
              "4                 0                               0   \n",
              "...             ...                             ...   \n",
              "8191              0                               0   \n",
              "8192              0                               0   \n",
              "8193              0                               0   \n",
              "8194              0                               0   \n",
              "8195              0                               0   \n",
              "\n",
              "      Genres_Video Players & Editors;Creativity  \\\n",
              "0                                             0   \n",
              "1                                             0   \n",
              "2                                             0   \n",
              "3                                             0   \n",
              "4                                             0   \n",
              "...                                         ...   \n",
              "8191                                          0   \n",
              "8192                                          0   \n",
              "8193                                          0   \n",
              "8194                                          0   \n",
              "8195                                          0   \n",
              "\n",
              "      Genres_Video Players & Editors;Music & Video  Genres_Weather  \\\n",
              "0                                                0               0   \n",
              "1                                                0               0   \n",
              "2                                                0               0   \n",
              "3                                                0               0   \n",
              "4                                                0               0   \n",
              "...                                            ...             ...   \n",
              "8191                                             0               0   \n",
              "8192                                             0               0   \n",
              "8193                                             0               0   \n",
              "8194                                             0               0   \n",
              "8195                                             0               0   \n",
              "\n",
              "      Genres_Word  \n",
              "0               0  \n",
              "1               0  \n",
              "2               0  \n",
              "3               0  \n",
              "4               0  \n",
              "...           ...  \n",
              "8191            0  \n",
              "8192            0  \n",
              "8193            0  \n",
              "8194            0  \n",
              "8195            0  \n",
              "\n",
              "[8196 rows x 158 columns]"
            ]
          },
          "execution_count": 40,
          "metadata": {},
          "output_type": "execute_result"
        }
      ],
      "source": [
        "logistic_df"
      ]
    },
    {
      "cell_type": "code",
      "execution_count": null,
      "metadata": {
        "id": "oAcz3LdGJZzC"
      },
      "outputs": [],
      "source": [
        "logistic_df = logistic_df.dropna(subset=['Size'])"
      ]
    },
    {
      "cell_type": "code",
      "execution_count": null,
      "metadata": {
        "id": "DE3FtqomJZzC"
      },
      "outputs": [],
      "source": [
        "X=logistic_df.drop('Installs',axis=1)\n",
        "y=logistic_df['Installs'].values\n",
        "y=y.astype('str')"
      ]
    },
    {
      "cell_type": "code",
      "execution_count": null,
      "metadata": {
        "id": "O0iOqVRYJZzD"
      },
      "outputs": [],
      "source": [
        "from sklearn.model_selection import train_test_split\n",
        "X_train, X_test, y_train, y_test = train_test_split(X, y, test_size = 0.2, random_state=0)"
      ]
    },
    {
      "cell_type": "code",
      "execution_count": null,
      "metadata": {
        "id": "ZiLXETEGJZzD"
      },
      "outputs": [],
      "source": [
        "from sklearn.preprocessing import StandardScaler\n",
        "sc_X=StandardScaler()\n",
        "X_train=sc_X.fit_transform(X_train)\n",
        "X_test=sc_X.transform(X_test)"
      ]
    },
    {
      "cell_type": "code",
      "execution_count": null,
      "metadata": {
        "colab": {
          "base_uri": "https://localhost:8080/"
        },
        "id": "RRR8mYfpJZzD",
        "outputId": "87ccc9aa-58f2-453d-d2a4-f092af748d0d"
      },
      "outputs": [
        {
          "name": "stdout",
          "output_type": "stream",
          "text": [
            "LogisticRegression_accuracy: 0.6749644381223329\n"
          ]
        }
      ],
      "source": [
        "from sklearn.linear_model import LogisticRegression\n",
        "from sklearn.metrics import accuracy_score\n",
        "from sklearn.metrics import confusion_matrix\n",
        "lr_c=LogisticRegression(random_state=0)\n",
        "lr_c.fit(X_train,y_train)\n",
        "lr_pred=lr_c.predict(X_test)\n",
        "lr_cm=confusion_matrix(y_test,lr_pred)\n",
        "lr_ac=accuracy_score(y_test, lr_pred)\n",
        "print('LogisticRegression_accuracy:',lr_ac)\n"
      ]
    },
    {
      "cell_type": "markdown",
      "metadata": {
        "id": "GhaX3xuMJZzD"
      },
      "source": [
        "<H1> Logistic Regression Confusion Matrix"
      ]
    },
    {
      "cell_type": "code",
      "execution_count": null,
      "metadata": {
        "colab": {
          "base_uri": "https://localhost:8080/",
          "height": 849
        },
        "id": "HXebIJ0kJZzD",
        "outputId": "872cdc30-8e03-4502-90c4-1523d075bcec"
      },
      "outputs": [
        {
          "data": {
            "text/plain": [
              "<matplotlib.axes._subplots.AxesSubplot at 0x7fcfb5e3b450>"
            ]
          },
          "execution_count": 47,
          "metadata": {},
          "output_type": "execute_result"
        },
        {
          "data": {
            "image/png": "[encoded data removed]",
            "text/plain": [
              "<Figure size 1800x1080 with 2 Axes>"
            ]
          },
          "metadata": {},
          "output_type": "display_data"
        }
      ],
      "source": [
        "import seaborn as sns\n",
        "sns.set(font_scale=2)\n",
        "plt.suptitle('Logistic Regression Confusion Matrix', fontsize=14)\n",
        "sns.heatmap(lr_cm,xticklabels=[\"Low\",\"Medium\",\"High\"],yticklabels=[\"Low\",\"Medium\",\"High\"],annot=True,cmap=\"Reds\",fmt=\"d\")"
      ]
    },
    {
      "cell_type": "markdown",
      "metadata": {
        "id": "S-til_xJJZzE"
      },
      "source": [
        "<H5> Predicting Installs using Random Forest"
      ]
    },
    {
      "cell_type": "code",
      "execution_count": null,
      "metadata": {
        "id": "5WzxnHPxJZzE"
      },
      "outputs": [],
      "source": [
        "from sklearn.ensemble import RandomForestClassifier"
      ]
    },
    {
      "cell_type": "code",
      "execution_count": null,
      "metadata": {
        "id": "saufdKj7JZzE"
      },
      "outputs": [],
      "source": [
        "random_df=logistic_df"
      ]
    },
    {
      "cell_type": "code",
      "execution_count": null,
      "metadata": {
        "colab": {
          "base_uri": "https://localhost:8080/"
        },
        "id": "JYUBqQ2CJZzE",
        "outputId": "14b906e2-b5c7-46eb-d7f7-15fb19b23336"
      },
      "outputs": [
        {
          "data": {
            "text/plain": [
              "Index(['Installs', 'Reviews', 'Size', 'Category_ART_AND_DESIGN',\n",
              "       'Category_AUTO_AND_VEHICLES', 'Category_BEAUTY',\n",
              "       'Category_BOOKS_AND_REFERENCE', 'Category_BUSINESS', 'Category_COMICS',\n",
              "       'Category_COMMUNICATION',\n",
              "       ...\n",
              "       'Genres_Tools', 'Genres_Tools;Education', 'Genres_Travel & Local',\n",
              "       'Genres_Travel & Local;Action & Adventure', 'Genres_Trivia',\n",
              "       'Genres_Video Players & Editors',\n",
              "       'Genres_Video Players & Editors;Creativity',\n",
              "       'Genres_Video Players & Editors;Music & Video', 'Genres_Weather',\n",
              "       'Genres_Word'],\n",
              "      dtype='object', length=158)"
            ]
          },
          "execution_count": 50,
          "metadata": {},
          "output_type": "execute_result"
        }
      ],
      "source": [
        "random_df.columns"
      ]
    },
    {
      "cell_type": "code",
      "execution_count": null,
      "metadata": {
        "id": "WKAtlSjJJZzF"
      },
      "outputs": [],
      "source": [
        "rdf_c=RandomForestClassifier(n_estimators=10,criterion='entropy',random_state=0)\n",
        "rdf_c.fit(X_train,y_train)\n",
        "rdf_pred=rdf_c.predict(X_test)\n",
        "rdf_cm=confusion_matrix(y_test,rdf_pred)\n",
        "rdf_ac=accuracy_score(rdf_pred,y_test)"
      ]
    },
    {
      "cell_type": "code",
      "execution_count": null,
      "metadata": {
        "colab": {
          "base_uri": "https://localhost:8080/"
        },
        "id": "DJvGsn5xJZzF",
        "outputId": "2f1d5e66-161d-468a-e77d-fa4f25d9efb7"
      },
      "outputs": [
        {
          "data": {
            "text/plain": [
              "0.8648648648648649"
            ]
          },
          "execution_count": 52,
          "metadata": {},
          "output_type": "execute_result"
        }
      ],
      "source": [
        "rdf_ac"
      ]
    },
    {
      "cell_type": "markdown",
      "metadata": {
        "id": "qSxT7emtJZzF"
      },
      "source": [
        "<H1> Random Forest without the tuning Confusion Matrix"
      ]
    },
    {
      "cell_type": "code",
      "execution_count": null,
      "metadata": {
        "colab": {
          "base_uri": "https://localhost:8080/",
          "height": 849
        },
        "id": "OjDDmotSJZzF",
        "outputId": "ef25084a-9e6c-4de3-fc1f-5b6338363085"
      },
      "outputs": [
        {
          "data": {
            "text/plain": [
              "<matplotlib.axes._subplots.AxesSubplot at 0x7fcfb3931290>"
            ]
          },
          "execution_count": 53,
          "metadata": {},
          "output_type": "execute_result"
        },
        {
          "data": {
            "image/png": "[encoded data removed]",
            "text/plain": [
              "<Figure size 1800x1080 with 2 Axes>"
            ]
          },
          "metadata": {},
          "output_type": "display_data"
        }
      ],
      "source": [
        "import seaborn as sns\n",
        "sns.set(font_scale=2)\n",
        "plt.suptitle('Random Forest Confusion Matrix', fontsize=14)\n",
        "sns.heatmap(rdf_cm,xticklabels=[\"Low\",\"Medium\",\"High\"],yticklabels=[\"Low\",\"Medium\",\"High\"],annot=True,cmap=\"Blues\",fmt=\"d\")"
      ]
    },
    {
      "cell_type": "code",
      "execution_count": null,
      "metadata": {
        "colab": {
          "base_uri": "https://localhost:8080/"
        },
        "id": "JGrtEPBiJZzG",
        "outputId": "3e86c51e-0203-45df-ecff-3e23377a0151"
      },
      "outputs": [
        {
          "name": "stdout",
          "output_type": "stream",
          "text": [
            "{'n_estimators': [200, 400, 600, 800, 1000, 1200, 1400, 1600, 1800, 2000], 'max_features': ['auto', 'sqrt'], 'max_depth': [10, 20, 30, 40, 50, 60, 70, 80, 90, 100, 110, None], 'min_samples_split': [2, 5, 10], 'min_samples_leaf': [1, 2, 4], 'bootstrap': [True, False]}\n"
          ]
        }
      ],
      "source": [
        "from sklearn.model_selection import RandomizedSearchCV\n",
        "\n",
        "\n",
        "# Number of trees in random forest\n",
        "n_estimators = [int(x) for x in np.linspace(start = 200, stop = 2000, num = 10)]\n",
        "# Number of features to consider at every split\n",
        "max_features = ['auto', 'sqrt']\n",
        "# Maximum number of levels in tree\n",
        "max_depth = [int(x) for x in np.linspace(10, 110, num = 11)]\n",
        "max_depth.append(None)\n",
        "# Minimum number of samples required to split a node\n",
        "min_samples_split = [2, 5, 10]\n",
        "# Minimum number of samples required at each leaf node\n",
        "min_samples_leaf = [1, 2, 4]\n",
        "# Method of selecting samples for training each tree\n",
        "bootstrap = [True, False]\n",
        "# Create the random grid\n",
        "random_grid = {'n_estimators': n_estimators,\n",
        "               'max_features': max_features,\n",
        "               'max_depth': max_depth,\n",
        "               'min_samples_split': min_samples_split,\n",
        "               'min_samples_leaf': min_samples_leaf,\n",
        "               'bootstrap': bootstrap}\n",
        "print(random_grid)"
      ]
    },
    {
      "cell_type": "code",
      "execution_count": null,
      "metadata": {
        "colab": {
          "background_save": true,
          "base_uri": "https://localhost:8080/"
        },
        "id": "JF0_6gPVJZzG",
        "scrolled": true,
        "outputId": "820ca978-90a5-4963-e272-3bf5658d467d"
      },
      "outputs": [
        {
          "name": "stdout",
          "output_type": "stream",
          "text": [
            "Fitting 3 folds for each of 100 candidates, totalling 300 fits\n"
          ]
        },
        {
          "data": {
            "text/plain": [
              "RandomizedSearchCV(cv=3, estimator=RandomForestClassifier(), n_iter=100,\n",
              "                   n_jobs=-1,\n",
              "                   param_distributions={'bootstrap': [True, False],\n",
              "                                        'max_depth': [10, 20, 30, 40, 50, 60,\n",
              "                                                      70, 80, 90, 100, 110,\n",
              "                                                      None],\n",
              "                                        'max_features': ['auto', 'sqrt'],\n",
              "                                        'min_samples_leaf': [1, 2, 4],\n",
              "                                        'min_samples_split': [2, 5, 10],\n",
              "                                        'n_estimators': [200, 400, 600, 800,\n",
              "                                                         1000, 1200, 1400, 1600,\n",
              "                                                         1800, 2000]},\n",
              "                   random_state=42, verbose=2)"
            ]
          },
          "execution_count": null,
          "metadata": {},
          "output_type": "execute_result"
        }
      ],
      "source": [
        "# Use the random grid to search for best hyperparameters\n",
        "# First create the base model to tune\n",
        "rf = RandomForestClassifier()\n",
        "# Random search of parameters, using 3 fold cross validation, \n",
        "# search across 100 different combinations, and use all available cores\n",
        "rf_random = RandomizedSearchCV(estimator = rf, param_distributions = random_grid, n_iter = 100, cv = 3, verbose=2, random_state=42, n_jobs = -1)\n",
        "# Fit the random search model\n",
        "rf_random.fit(X_train,y_train)"
      ]
    },
    {
      "cell_type": "code",
      "execution_count": null,
      "metadata": {
        "colab": {
          "background_save": true,
          "base_uri": "https://localhost:8080/"
        },
        "id": "chLb0vgHJZzG",
        "scrolled": true,
        "outputId": "33a170bd-b866-4775-93e6-4bbbc2915063"
      },
      "outputs": [
        {
          "data": {
            "text/plain": [
              "{'bootstrap': True,\n",
              " 'max_depth': 110,\n",
              " 'max_features': 'sqrt',\n",
              " 'min_samples_leaf': 1,\n",
              " 'min_samples_split': 10,\n",
              " 'n_estimators': 600}"
            ]
          },
          "execution_count": null,
          "metadata": {},
          "output_type": "execute_result"
        }
      ],
      "source": [
        "rf_random.best_params_"
      ]
    },
    {
      "cell_type": "code",
      "execution_count": null,
      "metadata": {
        "colab": {
          "background_save": true
        },
        "id": "35gXuA8pJZzH"
      },
      "outputs": [],
      "source": [
        ""
      ]
    },
    {
      "cell_type": "code",
      "execution_count": null,
      "metadata": {
        "id": "mFhDJlHdJZzH"
      },
      "outputs": [],
      "source": [
        "rdf_c=RandomForestClassifier(n_estimators=1200,criterion='entropy',random_state=0,max_depth=20, min_samples_leaf= 2,min_samples_split=5,max_features='sqrt')\n",
        "rdf_c.fit(X_train,y_train)\n",
        "rdf_pred=rdf_c.predict(X_test)\n",
        "rdf_cm=confusion_matrix(y_test,rdf_pred)\n",
        "\n",
        "\n",
        "\n",
        "\n",
        "rdf_ac=accuracy_score(rdf_pred,y_test)"
      ]
    },
    {
      "cell_type": "code",
      "execution_count": null,
      "metadata": {
        "id": "5166x4GSJZzH"
      },
      "outputs": [],
      "source": [
        "rdf_ac"
      ]
    },
    {
      "cell_type": "markdown",
      "metadata": {
        "id": "zVeCedNBJZzH"
      },
      "source": [
        "<H1> Random Forest confusion matrix after parameter tuning"
      ]
    },
    {
      "cell_type": "code",
      "execution_count": null,
      "metadata": {
        "id": "ncRXaCZvJZzH",
        "scrolled": true
      },
      "outputs": [],
      "source": [
        "import seaborn as sns\n",
        "sns.set(font_scale=2)\n",
        "plt.suptitle('Random Forest Confusion Matrix with Tuning', fontsize=14)\n",
        "sns.heatmap(rdf_cm,xticklabels=[\"Low\",\"Medium\",\"High\"],yticklabels=[\"Low\",\"Medium\",\"High\"],annot=True,cmap=\"YlGn\",fmt=\"d\")"
      ]
    },
    {
      "cell_type": "code",
      "execution_count": null,
      "metadata": {
        "id": "Tai1l79PJZzI"
      },
      "outputs": [],
      "source": [
        "X.loc[:1:].columns"
      ]
    },
    {
      "cell_type": "code",
      "execution_count": null,
      "metadata": {
        "id": "WWlObX6DJZzI",
        "scrolled": true
      },
      "outputs": [],
      "source": [
        "import pandas as pd\n",
        "feature_importances = pd.DataFrame(rdf_c.feature_importances_,\n",
        "                                   index = X.loc[:1:].columns,\n",
        "                                    columns=['importance']).sort_values('importance',ascending=False)"
      ]
    },
    {
      "cell_type": "code",
      "execution_count": null,
      "metadata": {
        "id": "KHmhCvBJJZzI"
      },
      "outputs": [],
      "source": [
        "feature_importances.reset_index(inplace=True)"
      ]
    },
    {
      "cell_type": "code",
      "execution_count": null,
      "metadata": {
        "id": "g0V46s2NJZzI"
      },
      "outputs": [],
      "source": [
        "feature_importances.columns=['Features','Importance']"
      ]
    },
    {
      "cell_type": "code",
      "execution_count": null,
      "metadata": {
        "id": "RFzTAwwHJZzI"
      },
      "outputs": [],
      "source": [
        "feature_importances.to_csv(\"Feature_Imp.csv\",header=True)"
      ]
    },
    {
      "cell_type": "markdown",
      "metadata": {
        "id": "LmwmdzLwJZzJ"
      },
      "source": [
        "<H5> Predicting Ratings using Decision Tree"
      ]
    },
    {
      "cell_type": "code",
      "execution_count": null,
      "metadata": {
        "id": "gltlC9N1JZzJ"
      },
      "outputs": [],
      "source": [
        "from sklearn.tree import DecisionTreeClassifier\n",
        "dtree_c=DecisionTreeClassifier(criterion='entropy',random_state=0)\n",
        "dtree_c.fit(X_train,y_train)\n",
        "dtree_pred=dtree_c.predict(X_test)\n",
        "dtree_cm=confusion_matrix(y_test,dtree_pred)\n",
        "accuracy_score(dtree_pred,y_test)\n"
      ]
    },
    {
      "cell_type": "markdown",
      "metadata": {
        "id": "FWfnBq8EJZzJ"
      },
      "source": [
        "<H1> Decision Tree Confusion Matrix"
      ]
    },
    {
      "cell_type": "code",
      "execution_count": null,
      "metadata": {
        "id": "xaV62pSlJZzJ"
      },
      "outputs": [],
      "source": [
        "import seaborn as sns\n",
        "sns.set(font_scale=2)\n",
        "plt.suptitle('Decision Tree Confusion Matrix', fontsize=14)\n",
        "sns.heatmap(dtree_cm,xticklabels=[\"Low\",\"Medium\",\"High\"],yticklabels=[\"Low\",\"Medium\",\"High\"],annot=True,cmap=\"YlOrRd\",fmt=\"d\")"
      ]
    },
    {
      "cell_type": "markdown",
      "metadata": {
        "id": "1nc5qKSyJZzK"
      },
      "source": [
        "<H5> Predicting Ratings using Logistic Regression"
      ]
    },
    {
      "cell_type": "code",
      "execution_count": null,
      "metadata": {
        "id": "3qdCZfYUJZzK"
      },
      "outputs": [],
      "source": [
        "logistic_data=play_store_df[['Rating','Reviews','Category','Content Rating','Type','Genres']]"
      ]
    },
    {
      "cell_type": "code",
      "execution_count": null,
      "metadata": {
        "id": "vJHunsfpJZzK"
      },
      "outputs": [],
      "source": [
        "logistic_data=pd.get_dummies(logistic_data)"
      ]
    },
    {
      "cell_type": "code",
      "execution_count": null,
      "metadata": {
        "id": "5sHxTumeJZzK"
      },
      "outputs": [],
      "source": [
        "X=logistic_data.drop('Rating',axis=1)\n",
        "y=logistic_data['Rating'].values\n",
        "y=y.astype('int')"
      ]
    },
    {
      "cell_type": "code",
      "execution_count": null,
      "metadata": {
        "id": "-KBIuYXMJZzK"
      },
      "outputs": [],
      "source": [
        "from sklearn.model_selection import train_test_split\n",
        "X_train, X_test, y_train, y_test = train_test_split(X, y, test_size = 0.2, random_state=0)"
      ]
    },
    {
      "cell_type": "code",
      "execution_count": null,
      "metadata": {
        "id": "taiw7jP1JZzK"
      },
      "outputs": [],
      "source": [
        "from sklearn.preprocessing import StandardScaler\n",
        "sc_X=StandardScaler()\n",
        "X_train=sc_X.fit_transform(X_train)\n",
        "X_test=sc_X.transform(X_test)"
      ]
    },
    {
      "cell_type": "code",
      "execution_count": null,
      "metadata": {
        "id": "dLvbaPIUJZzL"
      },
      "outputs": [],
      "source": [
        "from sklearn.linear_model import LogisticRegression\n",
        "from sklearn.metrics import accuracy_score\n",
        "lr_c=LogisticRegression(random_state=0)\n",
        "lr_c.fit(X_train,y_train)\n",
        "lr_pred=lr_c.predict(X_test)\n",
        "#lr_cm=confusion_matrix(y_test,lr_pred)\n",
        "lr_ac=accuracy_score(y_test, lr_pred)\n",
        "print('LogisticRegression_accuracy:',lr_ac)"
      ]
    },
    {
      "cell_type": "code",
      "execution_count": null,
      "metadata": {
        "id": "zJP_7O7IJZzL",
        "scrolled": true
      },
      "outputs": [],
      "source": [
        "# play_store_df_model=pd.get_dummies(play_store_df_model)#,columns=columns)\n",
        "# play_store_df_model.head(10)"
      ]
    },
    {
      "cell_type": "code",
      "execution_count": null,
      "metadata": {
        "id": "hvDgdw73RAr0"
      },
      "outputs": [],
      "source": [
        ""
      ]
    }
  ],
  "metadata": {
    "colab": {
      "name": "Google PlayStore Models.ipynb",
      "provenance": []
    },
    "kernelspec": {
      "display_name": "Python 3",
      "language": "python",
      "name": "python3"
    },
    "language_info": {
      "codemirror_mode": {
        "name": "ipython",
        "version": 3
      },
      "file_extension": ".py",
      "mimetype": "text/x-python",
      "name": "python",
      "nbconvert_exporter": "python",
      "pygments_lexer": "ipython3",
      "version": "3.7.3"
    }
  },
  "nbformat": 4,
  "nbformat_minor": 0
}